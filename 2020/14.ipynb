{
 "cells": [
  {
   "cell_type": "markdown",
   "metadata": {},
   "source": [
    "# Part 1 "
   ]
  },
  {
   "cell_type": "code",
   "execution_count": null,
   "metadata": {},
   "outputs": [],
   "source": [
    "with open(\"/home/bchatillon/Documents/Advent-of-Code/2020/14_data.txt\") as f:\n",
    "    data = f.read().splitlines()"
   ]
  },
  {
   "cell_type": "code",
   "execution_count": null,
   "metadata": {},
   "outputs": [],
   "source": [
    "data"
   ]
  },
  {
   "cell_type": "code",
   "execution_count": null,
   "metadata": {},
   "outputs": [],
   "source": [
    "import re\n",
    "pattern_mask = re.compile(r\"mask = (?P<mask>[01X]+)\")\n",
    "pattern_memory = re.compile(r\"mem\\[(?P<index>\\d+)\\] = (?P<value>\\d+)\")\n",
    "\n",
    "def parse_value(mask: str, value: str) -> int:\n",
    "    value = f\"{value:036b}\"\n",
    "    \n",
    "    final_val = []\n",
    "    \n",
    "    for bit, bit_mask in zip(value, mask):\n",
    "        final_val.append(bit if bit_mask == \"X\" else bit_mask)\n",
    "    \n",
    "    return int(\"\".join(final_val), 2)\n",
    "    \n",
    "memory = {}\n",
    "for line in data:\n",
    "    if match := pattern_mask.match(line):\n",
    "        mask = match.group(\"mask\")\n",
    "        continue\n",
    "    \n",
    "    d = pattern_memory.match(line).groupdict()\n",
    "    memory[d[\"index\"]] = parse_value(mask, int(d[\"value\"]))\n"
   ]
  },
  {
   "cell_type": "code",
   "execution_count": null,
   "metadata": {},
   "outputs": [],
   "source": [
    "print(sum(memory.values()))"
   ]
  },
  {
   "cell_type": "markdown",
   "metadata": {},
   "source": [
    "# part 2"
   ]
  },
  {
   "cell_type": "code",
   "execution_count": null,
   "metadata": {},
   "outputs": [],
   "source": [
    "with open(\"/home/bchatillon/Documents/Advent-of-Code/2020/14_data.txt\") as f:\n",
    "    data = f.read().splitlines()"
   ]
  },
  {
   "cell_type": "code",
   "execution_count": null,
   "metadata": {},
   "outputs": [],
   "source": [
    "data"
   ]
  },
  {
   "cell_type": "code",
   "execution_count": null,
   "metadata": {},
   "outputs": [],
   "source": [
    "import re\n",
    "import itertools\n",
    "pattern_mask = re.compile(r\"mask = (?P<mask>[01X]+)\")\n",
    "pattern_memory = re.compile(r\"mem\\[(?P<index>\\d+)\\] = (?P<value>\\d+)\")\n",
    "\n",
    "def parse_index(mask, index):\n",
    "    index = f\"{index:036b}\"\n",
    "    \n",
    "    final_val = []\n",
    "    \n",
    "    for bit, bit_mask in zip(index, mask):\n",
    "        final_val.append(bit if bit_mask == \"0\" else bit_mask)\n",
    "    \n",
    "    x_indexes = [index for index, elem in enumerate(final_val) if elem == \"X\"]\n",
    "        \n",
    "    for combination in itertools.product(\"01\", repeat=len(x_indexes)):\n",
    "        for x_index, combination_val in zip(x_indexes, combination):\n",
    "            final_val[x_index] = combination_val\n",
    "        \n",
    "        yield \"\".join(final_val)\n",
    "        \n",
    "    \n",
    "memory = {}\n",
    "for line in data:\n",
    "    if match := pattern_mask.match(line):\n",
    "        mask = match.group(\"mask\")\n",
    "        continue\n",
    "    \n",
    "    d = pattern_memory.match(line).groupdict()\n",
    "    for index in parse_index(mask, int(d[\"index\"])):\n",
    "        memory[index] = int(d[\"value\"])"
   ]
  },
  {
   "cell_type": "code",
   "execution_count": null,
   "metadata": {},
   "outputs": [],
   "source": [
    "print(sum(memory.values()))"
   ]
  }
 ],
 "metadata": {
  "language_info": {
   "name": "python",
   "pygments_lexer": "ipython3"
  }
 },
 "nbformat": 4,
 "nbformat_minor": 2
}
