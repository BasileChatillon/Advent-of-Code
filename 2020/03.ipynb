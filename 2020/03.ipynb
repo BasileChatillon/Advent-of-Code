{
 "cells": [
  {
   "cell_type": "markdown",
   "metadata": {},
   "source": [
    "# Part 1 "
   ]
  },
  {
   "cell_type": "code",
   "execution_count": null,
   "metadata": {},
   "outputs": [],
   "source": [
    "with open(\"/home/bchatillon/Documents/Advent-of-Code/2020/03_data.txt\") as f:\n",
    "    data = [list(line) for line in f.read().splitlines()]\n",
    "            \n",
    "            "
   ]
  },
  {
   "cell_type": "code",
   "execution_count": null,
   "metadata": {},
   "outputs": [],
   "source": [
    "data"
   ]
  },
  {
   "cell_type": "code",
   "execution_count": null,
   "metadata": {},
   "outputs": [],
   "source": [
    "def pos_gen(right, down, data):\n",
    "    l_x, l_y = len(data), len(data[0])\n",
    "    cur_x, cur_y = 0, 0\n",
    "    while cur_x + down <= l_x:\n",
    "        yield cur_x, cur_y\n",
    "        cur_x += down\n",
    "        cur_y = (cur_y + right) % l_y\n",
    "    \n",
    "def travel(right, down, empty='.', tree=\"#\"):\n",
    "    return len([(x, y) for x, y in pos_gen(right, down, data) if data[x][y] == tree])"
   ]
  },
  {
   "cell_type": "code",
   "execution_count": null,
   "metadata": {},
   "outputs": [],
   "source": [
    "travel(3, 1, data)"
   ]
  },
  {
   "cell_type": "markdown",
   "metadata": {},
   "source": [
    "# Part 2"
   ]
  },
  {
   "cell_type": "code",
   "execution_count": null,
   "metadata": {},
   "outputs": [],
   "source": [
    "import math"
   ]
  },
  {
   "cell_type": "code",
   "execution_count": null,
   "metadata": {},
   "outputs": [],
   "source": [
    "paths = [(1, 1), (3, 1), (5, 1), (7, 1), (1, 2)]\n",
    "math.prod([travel(*path) for path in paths])"
   ]
  }
 ],
 "metadata": {
  "language_info": {
   "name": "python",
   "pygments_lexer": "ipython3"
  }
 },
 "nbformat": 4,
 "nbformat_minor": 2
}
