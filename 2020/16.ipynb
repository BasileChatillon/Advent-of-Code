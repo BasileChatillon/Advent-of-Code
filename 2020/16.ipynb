{
 "cells": [
  {
   "cell_type": "code",
   "execution_count": null,
   "metadata": {},
   "outputs": [],
   "source": [
    "data_o = [0,1,5,10,3,12,19]"
   ]
  },
  {
   "cell_type": "markdown",
   "metadata": {},
   "source": [
    "# Part 1 "
   ]
  },
  {
   "cell_type": "code",
   "execution_count": null,
   "metadata": {},
   "outputs": [],
   "source": [
    "with open(\"/home/bchatillon/Documents/Advent-of-Code/2020/16_data.txt\") as f:\n",
    "    data = f.read().splitlines()"
   ]
  },
  {
   "cell_type": "code",
   "execution_count": null,
   "metadata": {},
   "outputs": [],
   "source": [
    "import re\n",
    "pattern_rules = re.compile(\"[\\w\\s]+: (\\d{1,3})-(\\d{1,3}) or (\\d{1,3})-(\\d{1,3})\")"
   ]
  },
  {
   "cell_type": "code",
   "execution_count": null,
   "metadata": {},
   "outputs": [],
   "source": [
    "rules_raw = []\n",
    "fields = []\n",
    "my_ticket = None\n",
    "tickets = []\n",
    "part = 0\n",
    "\n",
    "for idx, line in enumerate(data):\n",
    "    if line == \"\":\n",
    "        part += 1\n",
    "        continue\n",
    "    \n",
    "    if \"ticket\" in line:\n",
    "        continue\n",
    "    \n",
    "    if part == 0:\n",
    "        a, b, c, d = map(int, pattern_rules.match(line).groups())\n",
    "        rules_raw.append(((a, b), (c, d)))\n",
    "        if \"departure\" in line:\n",
    "            fields.append(idx)\n",
    "        \n",
    "    elif part == 1:\n",
    "        my_ticket = list(map(int, line.split(\",\")))\n",
    "    \n",
    "    elif part == 2:\n",
    "        tickets.append(list(map(int, line.split(\",\"))))"
   ]
  },
  {
   "cell_type": "code",
   "execution_count": null,
   "metadata": {},
   "outputs": [],
   "source": [
    "tot = 0\n",
    "for ticket in tickets:\n",
    "    for val in ticket:\n",
    "        for rule in rules_raw:\n",
    "            for a, b in rule:\n",
    "                if a <= val <= b:\n",
    "                    break\n",
    "            else:\n",
    "                continue\n",
    "            break\n",
    "        else:\n",
    "            tot += val"
   ]
  },
  {
   "cell_type": "code",
   "execution_count": null,
   "metadata": {},
   "outputs": [],
   "source": [
    "tot"
   ]
  },
  {
   "cell_type": "code",
   "execution_count": null,
   "metadata": {},
   "outputs": [],
   "source": [
    "tot = 0\n",
    "for ticket in tickets:\n",
    "    for val in ticket:\n",
    "        if not any(a <= val <= b for rule in rules_raw for a, b in rule):\n",
    "            tot += val"
   ]
  },
  {
   "cell_type": "code",
   "execution_count": null,
   "metadata": {},
   "outputs": [],
   "source": [
    "tot"
   ]
  },
  {
   "cell_type": "markdown",
   "metadata": {},
   "source": [
    "## Part 2"
   ]
  },
  {
   "cell_type": "code",
   "execution_count": null,
   "metadata": {},
   "outputs": [],
   "source": [
    "valid_tickets = []\n",
    "for ticket in tickets:\n",
    "    for val in ticket:\n",
    "        if not any(a <= val <= b for rule in rules_raw for a, b in rule):\n",
    "            break\n",
    "    else:\n",
    "        valid_tickets.append(ticket)"
   ]
  },
  {
   "cell_type": "code",
   "execution_count": null,
   "metadata": {},
   "outputs": [],
   "source": [
    "possible_rules = [set(range(len(rules_raw))) for _ in tickets[0]]"
   ]
  },
  {
   "cell_type": "code",
   "execution_count": null,
   "metadata": {},
   "outputs": [],
   "source": [
    "for ticket in valid_tickets:\n",
    "    for all_rules, val in zip(possible_rules,  ticket):\n",
    "        possible_rule = set()\n",
    "        for index, rule in enumerate(rules_raw):\n",
    "            for a, b in rule:\n",
    "                if a <= val <= b:\n",
    "                    possible_rule.add(index)\n",
    "                    break\n",
    "        all_rules &= possible_rule"
   ]
  },
  {
   "cell_type": "code",
   "execution_count": null,
   "metadata": {},
   "outputs": [],
   "source": [
    "possible_rules"
   ]
  },
  {
   "cell_type": "code",
   "execution_count": null,
   "metadata": {},
   "outputs": [],
   "source": [
    "from copy import deepcopy\n",
    "from pprint import pprint\n",
    "used = set()\n",
    "final_rules = [None for _ in tickets[0]]\n",
    "\n",
    "while any(r for r in possible_rules):\n",
    "    pprint(possible_rules)\n",
    "    print()\n",
    "    for index, rules in enumerate(possible_rules):\n",
    "        if len(rules) == 1:\n",
    "            final_rules[index] = rules.pop()\n",
    "\n",
    "    r_copy = deepcopy(possible_rules)\n",
    "    for index, rules in enumerate(possible_rules):\n",
    "        r_copy[index] = rules - set(final_rules)\n",
    "\n",
    "    possible_rules = r_copy          "
   ]
  },
  {
   "cell_type": "code",
   "execution_count": null,
   "metadata": {},
   "outputs": [],
   "source": [
    "final_rules"
   ]
  },
  {
   "cell_type": "code",
   "execution_count": null,
   "metadata": {},
   "outputs": [],
   "source": [
    "import math\n",
    "math.prod([val for val, r_id in zip(my_ticket, final_rules) if r_id in fields])"
   ]
  }
 ],
 "metadata": {
  "language_info": {
   "name": "python",
   "pygments_lexer": "ipython3"
  }
 },
 "nbformat": 4,
 "nbformat_minor": 2
}
