{
 "cells": [
  {
   "cell_type": "markdown",
   "metadata": {},
   "source": [
    "# Part 1 "
   ]
  },
  {
   "cell_type": "code",
   "execution_count": null,
   "metadata": {},
   "outputs": [],
   "source": [
    "with open(\"/home/bchatillon/Documents/Advent-of-Code/2020/04_data.txt\") as f:\n",
    "    data = [line for line in f.read().splitlines()]\n",
    "            "
   ]
  },
  {
   "cell_type": "code",
   "execution_count": null,
   "metadata": {},
   "outputs": [],
   "source": [
    "data"
   ]
  },
  {
   "cell_type": "code",
   "execution_count": null,
   "metadata": {},
   "outputs": [],
   "source": [
    "class Passport:\n",
    "    @classmethod\n",
    "    def create(cls, **data: dict[str, str]) -> Passport:\n",
    "        if {\"byr\", \"iyr\", \"eyr\", \"hgt\", \"hcl\", \"ecl\", \"pid\"} <= data.keys():\n",
    "            return cls(**data)\n",
    "        \n",
    "        return None\n",
    "               \n",
    "    def __init__(self, byr: str, iyr: str, eyr: str, hgt: str, hcl: str, ecl: str, pid: str, cid: str = None) -> None:\n",
    "        self.byr = int(byr)\n",
    "        self.iyr = int(iyr)\n",
    "        self.eyr = int(eyr)\n",
    "        self.hgt = hgt\n",
    "        self.hcl = hcl\n",
    "        self.ecl = ecl\n",
    "        self.pid = pid\n",
    "        self.cid = cid\n",
    "    \n",
    "    @property\n",
    "    def valid(self) -> bool:\n",
    "        return self.validate_byr() and self.validate_iyr() and self.validate_eyr() and self.validate_hgt() and self.validate_hcl() and self.validate_ecl() and self.validate_pid() and self.validate_pid\n",
    "        \n",
    "    @staticmethod\n",
    "    def _validate_year(year: int, min_year: int, max_year: int) -> bool:\n",
    "        return len(str(year)) == 4 and min_year <= year <= max_year\n",
    "        \n",
    "    def validate_byr(self) -> bool:\n",
    "        return self._validate_year(self.byr, 1920, 2002)\n",
    "    \n",
    "    def validate_iyr(self) -> bool:\n",
    "        return self._validate_year(self.iyr, 2010, 2020)\n",
    "            \n",
    "    def validate_eyr(self) -> bool:\n",
    "        return self._validate_year(self.eyr, 2020, 2030)\n",
    "                \n",
    "    def validate_hgt(self) -> bool:\n",
    "        value, unit = self.hgt[:-2], self.hgt[-2:]\n",
    "        \n",
    "        if not value:\n",
    "            return False\n",
    "        else:\n",
    "            value = int(value)\n",
    "        \n",
    "        if unit == \"cm\":\n",
    "            return 150 <= value <= 193\n",
    "        elif unit == \"in\":\n",
    "            return 59 <= value <= 76\n",
    "        \n",
    "        return False\n",
    "    \n",
    "    def validate_hcl(self) -> bool:\n",
    "        if self.hcl[0] != \"#\":\n",
    "            return False\n",
    "        \n",
    "        try:\n",
    "            int(self.hcl[1:], 16)\n",
    "            return True\n",
    "        except ValueError:\n",
    "            return False\n",
    "        \n",
    "    def validate_ecl(self) -> bool:\n",
    "        return self.ecl in {\"amb\", \"blu\", \"brn\", \"gry\", \"grn\", \"hzl\", \"oth\"}\n",
    "    \n",
    "    def validate_pid(self) -> bool:\n",
    "        return len(self.pid) == 9\n",
    "        \n",
    "    def validate_cid(self) -> bool:\n",
    "        return True\n",
    "            \n",
    "        "
   ]
  },
  {
   "cell_type": "code",
   "execution_count": null,
   "metadata": {},
   "outputs": [],
   "source": [
    "from itertools import groupby\n",
    "\n",
    "passports = []\n",
    "\n",
    "for valid, passport_data in groupby(data, bool):\n",
    "    if not valid:\n",
    "        continue \n",
    "        \n",
    "    passport_d = {}\n",
    "    \n",
    "    for line in list(passport_data):\n",
    "        for elem in line.split(\" \"):\n",
    "            [key, val] = elem.split(\":\")\n",
    "            passport_d[key] = val\n",
    "            \n",
    "    if passport := Passport.create(**passport_d):\n",
    "        passports.append(passport)\n",
    "        \n",
    "    \n",
    "print(len(passports))"
   ]
  },
  {
   "cell_type": "markdown",
   "metadata": {},
   "source": [
    "# part 2"
   ]
  },
  {
   "cell_type": "code",
   "execution_count": null,
   "metadata": {},
   "outputs": [],
   "source": [
    "valid_passports = [passport for passport in passports if passport.valid]\n",
    "print(len(valid_passports))"
   ]
  }
 ],
 "metadata": {
  "language_info": {
   "name": "python",
   "pygments_lexer": "ipython3"
  }
 },
 "nbformat": 4,
 "nbformat_minor": 2
}
