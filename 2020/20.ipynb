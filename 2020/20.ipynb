{
 "cells": [
  {
   "cell_type": "markdown",
   "metadata": {},
   "source": [
    "# Part 1 "
   ]
  },
  {
   "cell_type": "code",
   "execution_count": null,
   "metadata": {},
   "outputs": [],
   "source": [
    "with open(\"/home/bchatillon/Documents/Advent-of-Code/2020/20_data.txt\") as f:\n",
    "    data = f.read().splitlines()"
   ]
  },
  {
   "cell_type": "code",
   "execution_count": null,
   "metadata": {},
   "outputs": [],
   "source": [
    "def get_adj(pos):\n",
    "    return [tuple(map(sum, zip(pos, vector))) for vector in [(-1, 0), (0, 1), (1, 0), (0, -1)]]\n",
    "\n",
    "def get_border_representation(pos, image):\n",
    "    vectors = get_adj(pos)\n",
    "    tile_repre = []\n",
    "    for idx, vector in enumerate(vectors):\n",
    "        face = None\n",
    "        if vector in image:\n",
    "            tab = image[vector][0]\n",
    "            borders = get_border(tab)\n",
    "            face = borders[(idx + 2) % 4][::-1]\n",
    "        tile_repre.append(face)\n",
    "    \n",
    "    return tile_repre\n",
    "        \n",
    "def possible_places(image):\n",
    "    places = set(image.keys())\n",
    "    possible_places = set(adj for pos in places for adj in get_adj(pos))\n",
    "    return possible_places - places\n",
    "\n",
    "def flip(tab):\n",
    "    return tab[::-1]\n",
    "\n",
    "def rotate(tab):\n",
    "    return list(map(list, zip(*tab[::-1])))\n",
    "\n",
    "def get_border(tab):\n",
    "    return [tab[0], list(map(lambda l: l[-1], tab)), tab[-1][::-1], list(map(lambda l: l[0], tab))[::-1]]\n",
    "\n",
    "def all_rotation(tab):\n",
    "    yield tab\n",
    "    for _ in range(3):\n",
    "        tab = rotate(tab)\n",
    "        yield tab\n",
    "\n",
    "def all_possibilities(tab):\n",
    "    yield from all_rotation(tab)\n",
    "    tab = flip(tab)\n",
    "    yield from all_rotation(tab)"
   ]
  },
  {
   "cell_type": "code",
   "execution_count": null,
   "metadata": {},
   "outputs": [],
   "source": [
    "def find_place(tile_id, image, tiles):\n",
    "    if tile_id in list(map(lambda t: t[1], image.values())):\n",
    "        return None\n",
    "    if not image:\n",
    "        image[(0, 0)] = (tiles[tile_id], tile_id)\n",
    "        return None\n",
    "    \n",
    "    all_borders = [(tab, get_border(tab)) for tab in all_possibilities(tiles[tile_id])]\n",
    "    \n",
    "    for possible_place in possible_places(image):\n",
    "        rerp_borders = get_border_representation(possible_place, image)\n",
    "        \n",
    "        for tab, borders in all_borders:\n",
    "            if all(repr_border is None or repr_border == border for repr_border, border in zip(rerp_borders, borders)):\n",
    "                image[possible_place] = (tab, tile_id)\n",
    "                return None\n",
    "    return tile_id"
   ]
  },
  {
   "cell_type": "code",
   "execution_count": null,
   "metadata": {},
   "outputs": [],
   "source": [
    "import regex as re\n",
    "import itertools\n",
    "pattern = re.compile(r\"Tile (\\d+):\")\n",
    "\n",
    "image = {}\n",
    "tiles = {}\n",
    "ids_not_place = []\n",
    "for b, group in itertools.groupby(data, key=bool):\n",
    "    if not b:\n",
    "        continue\n",
    "    \n",
    "    group = list(group)\n",
    "    key = pattern.match(group[0]).group(1)\n",
    "    tab = [list(line) for line in group[1:]]\n",
    "    tiles[key] = tab\n",
    "    \n",
    "    if (id_not_place := find_place(key, image, tiles)) is not None:\n",
    "        ids_not_place.append(id_not_place)\n",
    "    else:\n",
    "        id_copy = ids_not_place.copy()\n",
    "        for id_not_place in ids_not_place:\n",
    "            if find_place(id_not_place, image, tiles) is None:\n",
    "                id_copy.remove(id_not_place)\n",
    "        ids_not_place = id_copy"
   ]
  },
  {
   "cell_type": "code",
   "execution_count": null,
   "metadata": {},
   "outputs": [],
   "source": [
    "ids_not_place"
   ]
  },
  {
   "cell_type": "code",
   "execution_count": null,
   "metadata": {},
   "outputs": [],
   "source": [
    "image"
   ]
  },
  {
   "cell_type": "code",
   "execution_count": null,
   "metadata": {},
   "outputs": [],
   "source": [
    "while len(image) != len(tiles):\n",
    "    id_copy = ids_not_place.copy()\n",
    "    for id_not_place in ids_not_place:\n",
    "        if find_place(id_not_place, image, tiles) is None:\n",
    "            id_copy.remove(id_not_place)\n",
    "    if len(ids_not_place) == len(id_copy):\n",
    "        raise ValueError(\"Can not reduce list\")\n",
    "    ids_not_place = id_copy        \n"
   ]
  },
  {
   "cell_type": "code",
   "execution_count": null,
   "metadata": {},
   "outputs": [],
   "source": [
    "min_x, max_x = min(image, key=lambda t : t[0])[0], max(image, key=lambda t : t[0])[0]\n",
    "min_y, max_y = min(image, key=lambda t : t[1])[1], max(image, key=lambda t : t[1])[1]\n",
    "\n",
    "coords = [(min_x, min_y), (min_x, max_y), (max_x, min_y), (max_x, max_y)]\n",
    "print(coords)"
   ]
  },
  {
   "cell_type": "code",
   "execution_count": null,
   "metadata": {},
   "outputs": [],
   "source": [
    "import math\n",
    "\n",
    "math.prod(int(image[coord][1]) for coord in coords)"
   ]
  },
  {
   "cell_type": "markdown",
   "metadata": {},
   "source": [
    "## Part 2"
   ]
  },
  {
   "cell_type": "code",
   "execution_count": null,
   "metadata": {},
   "outputs": [],
   "source": [
    "import numpy as np\n",
    "scale = len(image[(0, 0)][0]) - 2 \n",
    "len_tot_x = scale*(1 + max_x - min_x)\n",
    "array = np.empty((len_tot_x, scale*(1 + max_y - min_y)), dtype=str)\n",
    "\n",
    "x_offset = abs(min_x) if min_x < 0 else 0\n",
    "y_offset = abs(min_y) if min_y < 0 else 0\n",
    "\n",
    "for coord, (tab, _) in image.items():\n",
    "    x, y = coord\n",
    "    x += x_offset\n",
    "    y += y_offset\n",
    "    xmax, ymax = (x+1)*scale, (y+1)*scale\n",
    "    xmin, ymin = x*scale, y*scale\n",
    "    np_tab = np.array(tab)[1:-1, 1:-1]\n",
    "    array[xmin:xmax, ymin:ymax] = np_tab"
   ]
  },
  {
   "cell_type": "code",
   "execution_count": null,
   "metadata": {},
   "outputs": [],
   "source": [
    "sum(val == \"#\" for line in array for val in line)"
   ]
  },
  {
   "cell_type": "code",
   "execution_count": null,
   "metadata": {},
   "outputs": [],
   "source": [
    "monster =[\"                  # \", \"#    ##    ##    ###\", \" #  #  #  #  #  #   \"]\n",
    "monster_size = len(monster[0])"
   ]
  },
  {
   "cell_type": "code",
   "execution_count": null,
   "metadata": {},
   "outputs": [],
   "source": [
    "for elem in monster:\n",
    "    print(elem)"
   ]
  },
  {
   "cell_type": "code",
   "execution_count": null,
   "metadata": {},
   "outputs": [],
   "source": [
    "monster_padded = monster.copy()\n",
    "monster_padded[0] = monster_padded[0].ljust(len_tot_x, \".\").lstrip().replace(\" \", \".\")\n",
    "monster_padded[1] = monster_padded[1].ljust(len_tot_x, \".\").replace(\" \", \".\")\n",
    "monster_padded[2] = monster_padded[2].rstrip().replace(\" \", \".\")"
   ]
  },
  {
   "cell_type": "code",
   "execution_count": null,
   "metadata": {},
   "outputs": [],
   "source": [
    "for elem in monster_padded:\n",
    "    print(elem)"
   ]
  },
  {
   "cell_type": "code",
   "execution_count": null,
   "metadata": {},
   "outputs": [],
   "source": [
    "flat_monster = \"\".join(monster_padded).replace(\" \", \".\")\n",
    "pattern_monster = re.compile(flat_monster)"
   ]
  },
  {
   "cell_type": "code",
   "execution_count": null,
   "metadata": {},
   "outputs": [],
   "source": [
    "def pos_to_coord(pos):\n",
    "    return pos // len_tot_x, pos % len_tot_x "
   ]
  },
  {
   "cell_type": "code",
   "execution_count": null,
   "metadata": {},
   "outputs": [],
   "source": [
    "from copy import deepcopy\n",
    "for tab in all_possibilities(array):\n",
    "    tab_copy = deepcopy(tab)\n",
    "    flat_tab = \"\".join(\"\".join(l) for l in tab_copy)\n",
    "    matches =  list(pattern_monster.finditer(flat_tab, overlapped=True))\n",
    "    for match in matches:\n",
    "        print(match)\n",
    "        start, end = match.span()\n",
    "        \n",
    "        if pos_to_coord(start + len(monster_padded[0]) + len(monster[1]))[0] != pos_to_coord(start + len(monster_padded[0]))[0]:\n",
    "            print(\"multiyline..\")\n",
    "        \n",
    "        for i, pos in enumerate(range(start, end)):\n",
    "            if flat_monster[i] == \"#\":\n",
    "                x, y = pos_to_coord(pos)\n",
    "                tab_copy[x][y] = \"0\"\n",
    "    print(sum(val == \"#\" for line in tab_copy for val in line))\n",
    "    print()\n",
    "    if matches:\n",
    "        break"
   ]
  }
 ],
 "metadata": {
  "language_info": {
   "name": "python",
   "pygments_lexer": "ipython3"
  }
 },
 "nbformat": 4,
 "nbformat_minor": 2
}
