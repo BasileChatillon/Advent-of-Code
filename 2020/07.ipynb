{
 "cells": [
  {
   "cell_type": "markdown",
   "metadata": {},
   "source": [
    "# Part 1 "
   ]
  },
  {
   "cell_type": "code",
   "execution_count": null,
   "metadata": {},
   "outputs": [],
   "source": [
    "with open(\"/home/bchatillon/Documents/Advent-of-Code/2020/07_data.txt\") as f:\n",
    "    data = [line for line in f.read().splitlines()]\n",
    "            "
   ]
  },
  {
   "cell_type": "code",
   "execution_count": null,
   "metadata": {},
   "outputs": [],
   "source": [
    "data"
   ]
  },
  {
   "cell_type": "code",
   "execution_count": null,
   "metadata": {},
   "outputs": [],
   "source": [
    "mapping = {}\n",
    "\n",
    "for line in data:\n",
    "    [key, vals] = line.split(\"contain\")\n",
    "    key = key.strip().split(\" \")\n",
    "    color = \" \".join(key[:2])\n",
    "    \n",
    "    sub_dict = {}\n",
    "    \n",
    "    for val in vals.split(\",\"):\n",
    "        val = val.strip()\n",
    "        val = val.split(\" \")\n",
    "        \n",
    "        number = val[0]\n",
    "        if number != \"no\":\n",
    "            number  = int(number)\n",
    "        \n",
    "        sub_color = \" \".join(val[1:3])\n",
    "        sub_dict[sub_color] = number\n",
    "        \n",
    "    mapping[color] = sub_dict\n",
    "        "
   ]
  },
  {
   "cell_type": "code",
   "execution_count": null,
   "metadata": {},
   "outputs": [],
   "source": [
    "mapping"
   ]
  },
  {
   "cell_type": "code",
   "execution_count": null,
   "metadata": {},
   "outputs": [],
   "source": [
    "from collections import defaultdict\n",
    "reverse_mapping = defaultdict(set)\n",
    "\n",
    "for key, val in mapping.items():\n",
    "    for sub_key in val:\n",
    "        reverse_mapping[sub_key].add(key)"
   ]
  },
  {
   "cell_type": "code",
   "execution_count": null,
   "metadata": {},
   "outputs": [],
   "source": [
    "reverse_mapping"
   ]
  },
  {
   "cell_type": "code",
   "execution_count": null,
   "metadata": {},
   "outputs": [],
   "source": [
    "def get_all_upper_bag(color):\n",
    "    upper_colors = reverse_mapping.get(color, set())\n",
    "\n",
    "    add_color = set()\n",
    "\n",
    "    for upper_color in upper_colors:\n",
    "        add_color |= get_all_upper_bag(upper_color)\n",
    "\n",
    "    return upper_colors | add_color\n"
   ]
  },
  {
   "cell_type": "code",
   "execution_count": null,
   "metadata": {},
   "outputs": [],
   "source": [
    "len(get_all_upper_bag(\"shiny gold\"))"
   ]
  },
  {
   "cell_type": "markdown",
   "metadata": {},
   "source": [
    "# part 2"
   ]
  },
  {
   "cell_type": "code",
   "execution_count": null,
   "metadata": {},
   "outputs": [],
   "source": [
    "def get_lower_bag_count(color):\n",
    "    \n",
    "    if \"no\" in list(mapping[color].values()):\n",
    "        return 1\n",
    "\n",
    "    return sum(number * get_lower_bag_count(sub_color) for sub_color, number in mapping[color].items()) + 1\n",
    "    \n"
   ]
  },
  {
   "cell_type": "code",
   "execution_count": null,
   "metadata": {},
   "outputs": [],
   "source": [
    "get_lower_bag_count(\"shiny gold\") - 1"
   ]
  }
 ],
 "metadata": {
  "language_info": {
   "name": "python",
   "pygments_lexer": "ipython3"
  }
 },
 "nbformat": 4,
 "nbformat_minor": 2
}
