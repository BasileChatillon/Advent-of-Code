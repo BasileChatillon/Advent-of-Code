{
 "cells": [
  {
   "cell_type": "markdown",
   "metadata": {},
   "source": [
    "# Part 1 "
   ]
  },
  {
   "cell_type": "code",
   "execution_count": null,
   "metadata": {},
   "outputs": [],
   "source": [
    "from collections import defaultdict\n",
    "with open(\"/home/bchatillon/Documents/Advent-of-Code/2020/17_data.txt\") as f:\n",
    "    grid = {(idx, idy, 0): val for idx, line in enumerate(f.read().splitlines()) for idy, val in enumerate(line) if val == \"#\"}"
   ]
  },
  {
   "cell_type": "code",
   "execution_count": null,
   "metadata": {},
   "outputs": [],
   "source": [
    "from itertools import product\n",
    "\n",
    "def cycle(grid):\n",
    "    grid_copy = dict(grid)\n",
    "    \n",
    "    x_coords = list(map(lambda t: t[0], grid))\n",
    "    x_min, x_max = min(x_coords) - 1, max(x_coords) + 1\n",
    "    \n",
    "    y_coords = list(map(lambda t: t[1], grid))\n",
    "    y_min, y_max = min(y_coords) - 1, max(y_coords) + 1\n",
    "    \n",
    "    z_coords = list(map(lambda t: t[2], grid))\n",
    "    z_min, z_max = min(z_coords) - 1, max(z_coords) + 1\n",
    "    \n",
    "    for idx in range(x_min, x_max + 1):\n",
    "        for idy in range(y_min, y_max + 1):\n",
    "            for idz in range(z_min, z_max + 1):\n",
    "                \n",
    "                pos = (idx, idy, idz)\n",
    "                val = grid.get(pos, \".\")\n",
    "                \n",
    "                nb_active_adj = sum(grid.get((adj_pos), \".\") == \"#\" for adj_pos in get_adj(pos))\n",
    "                if val == \"#\" and not nb_active_adj in {2, 3}:\n",
    "                    grid_copy[pos] = \".\"\n",
    "                elif val == \".\" and nb_active_adj == 3:\n",
    "                    grid_copy[pos] = \"#\"\n",
    "    return grid_copy\n",
    "\n",
    "from itertools import product\n",
    "\n",
    "def cycle_dim(grid, dim):\n",
    "    grid_copy = dict(grid)\n",
    "    axis_range = get_range(grid, dim)\n",
    "    for pos in product(*[range(ax_min, ax_max + 1) for ax_min, ax_max in axis_range]):                \n",
    "        val = grid.get(pos, \".\")\n",
    "\n",
    "        nb_active_adj = sum(grid.get((adj_pos), \".\") == \"#\" for adj_pos in get_adj(pos, dim))\n",
    "        if val == \"#\" and not nb_active_adj in {2, 3}:\n",
    "            del grid_copy[pos]\n",
    "        elif val == \".\" and nb_active_adj == 3:\n",
    "            grid_copy[pos] = \"#\"\n",
    "    return grid_copy\n",
    "\n",
    "def get_range(grid, dim=3):\n",
    "    for ax in range(dim):\n",
    "        ax_coords = list(map(lambda t: t[ax], grid))\n",
    "        yield min(ax_coords) - 1, max(ax_coords) + 1\n",
    "\n",
    "def get_adj(pos, dim=3):\n",
    "    for vector in product([-1, 0, 1], repeat=dim):\n",
    "        if all(val == 0 for val in vector):\n",
    "            continue\n",
    "            \n",
    "        yield tuple(map(sum, zip(pos, vector)))"
   ]
  },
  {
   "cell_type": "code",
   "execution_count": null,
   "metadata": {},
   "outputs": [],
   "source": [
    "def print_grid(grid):\n",
    "    x_coords = list(map(lambda t: t[0], grid))\n",
    "    x_min, x_max = min(x_coords), max(x_coords) + 1\n",
    "    \n",
    "    y_coords = list(map(lambda t: t[1], grid))\n",
    "    y_min, y_max = min(y_coords), max(y_coords) + 1\n",
    "    \n",
    "    z_coords = list(map(lambda t: t[2], grid))\n",
    "    z_min, z_max = min(z_coords), max(z_coords) + 1\n",
    "    \n",
    "    for idz in range(z_min, z_max):\n",
    "        print(\"z = \", idz)\n",
    "        for idx in range(x_min, x_max):\n",
    "            print(\" \".join(grid.get((idx, idy, idz), \".\") for idy in range(y_min, y_max)))\n",
    "        print()\n"
   ]
  },
  {
   "cell_type": "code",
   "execution_count": null,
   "metadata": {},
   "outputs": [],
   "source": [
    "nb_cylce = 6\n",
    "grid1 = dict(grid)\n",
    "for i in range(nb_cylce):\n",
    "    grid1 = cycle(grid1)"
   ]
  },
  {
   "cell_type": "code",
   "execution_count": null,
   "metadata": {},
   "outputs": [],
   "source": [
    "sum(val == \"#\" for val in grid1.values())"
   ]
  },
  {
   "cell_type": "markdown",
   "metadata": {},
   "source": [
    "## Part 2"
   ]
  },
  {
   "cell_type": "code",
   "execution_count": null,
   "metadata": {},
   "outputs": [],
   "source": [
    "from collections import defaultdict\n",
    "with open(\"/home/bchatillon/Documents/Advent-of-Code/2020/17_data.txt\") as f:\n",
    "    grid4d = {(idx, idy, 0, 0): val for idx, line in enumerate(f.read().splitlines()) for idy, val in enumerate(line) if val == \"#\"}"
   ]
  },
  {
   "cell_type": "code",
   "execution_count": null,
   "metadata": {},
   "outputs": [],
   "source": [
    "nb_cylce = 6\n",
    "grid2 = dict(grid4d)\n",
    "for _ in range(nb_cylce):\n",
    "    grid2 = cycle_dim(grid2, 4)"
   ]
  },
  {
   "cell_type": "code",
   "execution_count": null,
   "metadata": {},
   "outputs": [],
   "source": [
    "sum(val == \"#\" for val in grid2.values())"
   ]
  }
 ],
 "metadata": {
  "language_info": {
   "name": "python",
   "pygments_lexer": "ipython3"
  }
 },
 "nbformat": 4,
 "nbformat_minor": 2
}
