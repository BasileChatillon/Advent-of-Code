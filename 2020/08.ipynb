{
 "cells": [
  {
   "cell_type": "markdown",
   "metadata": {},
   "source": [
    "# Part 1 "
   ]
  },
  {
   "cell_type": "code",
   "execution_count": null,
   "metadata": {},
   "outputs": [],
   "source": [
    "with open(\"/home/bchatillon/Documents/Advent-of-Code/2020/08_data.txt\") as f:\n",
    "    data = [(idx, line) for idx, line in enumerate(f.read().splitlines())]\n"
   ]
  },
  {
   "cell_type": "code",
   "execution_count": null,
   "metadata": {},
   "outputs": [],
   "source": [
    "data"
   ]
  },
  {
   "cell_type": "code",
   "execution_count": null,
   "metadata": {},
   "outputs": [],
   "source": [
    "def parse_opp(opp):\n",
    "    [instru, param1] = opp.strip().split(\" \")\n",
    "    return instru, int(param1)\n",
    "\n"
   ]
  },
  {
   "cell_type": "code",
   "execution_count": null,
   "metadata": {},
   "outputs": [],
   "source": [
    "def parse_data(data):\n",
    "    acc = 0\n",
    "    seen = set()\n",
    "    index = 0\n",
    "\n",
    "    while((curr_opp := data[index]) not in seen):\n",
    "        seen.add(curr_opp)\n",
    "        instru, param1 = parse_opp(curr_opp[1])\n",
    "        if instru == \"nop\":\n",
    "            index += 1\n",
    "        elif instru == \"acc\":\n",
    "            index += 1\n",
    "            acc += param1\n",
    "        elif instru == \"jmp\" :\n",
    "            index += param1\n",
    "        else:\n",
    "            raise ValueError(f\"Unkwnow instru... ({instru=})\")\n",
    "        \n",
    "    return acc\n"
   ]
  },
  {
   "cell_type": "code",
   "execution_count": null,
   "metadata": {},
   "outputs": [],
   "source": [
    "parse_data(data)"
   ]
  },
  {
   "cell_type": "markdown",
   "metadata": {},
   "source": [
    "# part 2"
   ]
  },
  {
   "cell_type": "code",
   "execution_count": null,
   "metadata": {},
   "outputs": [],
   "source": [
    "def parse_data2(data):\n",
    "        acc = 0\n",
    "        seen = set()\n",
    "        index = 0\n",
    "\n",
    "        while((curr_opp := data[index]) not in seen):\n",
    "            seen.add(curr_opp)\n",
    "            instru, param1 = parse_opp(curr_opp[1])\n",
    "            if instru == \"nop\":\n",
    "                index += 1\n",
    "            elif instru == \"acc\":\n",
    "                index += 1\n",
    "                acc += param1\n",
    "            elif instru == \"jmp\" :\n",
    "                index += param1\n",
    "            else:\n",
    "                raise ValueError(f\"Unkwnow instru... ({instru=})\")\n",
    "            \n",
    "            if len(data) == index:\n",
    "                return acc\n",
    "        \n",
    "        return None"
   ]
  },
  {
   "cell_type": "code",
   "execution_count": null,
   "metadata": {},
   "outputs": [],
   "source": [
    "def brute_force_lol(data):\n",
    "    for idx, operation in data:\n",
    "        instru, param1 = parse_opp(operation)\n",
    "            \n",
    "        if instru == \"acc\":\n",
    "            continue\n",
    "        # Switch line opp\n",
    "        elif instru == \"nop\":\n",
    "            new_operation = operation.replace(\"nop\", \"jmp\")\n",
    "        elif instru == \"jmp\":\n",
    "            new_operation = operation.replace(\"jmp\", \"nop\")\n",
    "        else:\n",
    "            raise ValueError(f\"Unkwnow instru... ({instru=})\")\n",
    "        \n",
    "        data_copy = data.copy()\n",
    "        data_copy[idx] = (idx, new_operation)  \n",
    "        \n",
    "        # Try the new data\n",
    "        if (acc := parse_data2(data_copy)) is not None:\n",
    "            return acc"
   ]
  },
  {
   "cell_type": "code",
   "execution_count": null,
   "metadata": {},
   "outputs": [],
   "source": [
    "brute_force_lol(data)"
   ]
  }
 ],
 "metadata": {
  "language_info": {
   "name": "python",
   "pygments_lexer": "ipython3"
  }
 },
 "nbformat": 4,
 "nbformat_minor": 2
}
