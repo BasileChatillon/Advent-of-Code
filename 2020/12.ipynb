{
 "cells": [
  {
   "cell_type": "markdown",
   "metadata": {},
   "source": [
    "# Part 1 "
   ]
  },
  {
   "cell_type": "code",
   "execution_count": null,
   "metadata": {},
   "outputs": [],
   "source": [
    "with open(\"/home/bchatillon/Documents/Advent-of-Code/2020/12_data.txt\") as f:\n",
    "    data = [(line[0], int(line[1:])) for line in f.read().splitlines()]"
   ]
  },
  {
   "cell_type": "code",
   "execution_count": null,
   "metadata": {},
   "outputs": [],
   "source": [
    "data"
   ]
  },
  {
   "cell_type": "code",
   "execution_count": null,
   "metadata": {},
   "outputs": [],
   "source": [
    "direction = {\"W\": 0, \"N\":1, \"E\":2, \"S\":3}\n",
    "reverse_direction = {v: k for k, v in direction.items()}\n",
    "from collections import Counter\n",
    "traveled = Counter()\n",
    "facing = \"E\""
   ]
  },
  {
   "cell_type": "code",
   "execution_count": null,
   "metadata": {},
   "outputs": [],
   "source": [
    "for instruction, value in data:\n",
    "    if instruction in direction:\n",
    "        traveled.update({instruction: value})\n",
    "        \n",
    "    elif instruction == \"F\":\n",
    "        traveled.update({facing: value})\n",
    "        \n",
    "    elif instruction in {\"R\", \"L\"}:\n",
    "        \n",
    "        rotate = value // 90\n",
    "        if instruction == \"L\":\n",
    "            rotate = -rotate\n",
    "        \n",
    "        new_direction = direction[facing] + rotate\n",
    "        facing = reverse_direction[new_direction % 4]\n",
    "        \n",
    "    else:\n",
    "        print(f\"Unkwnow direction {instruction=}\")\n",
    "    \n",
    "    print(traveled)"
   ]
  },
  {
   "cell_type": "code",
   "execution_count": null,
   "metadata": {},
   "outputs": [],
   "source": [
    "traveled\n"
   ]
  },
  {
   "cell_type": "code",
   "execution_count": null,
   "metadata": {},
   "outputs": [],
   "source": [
    "def manathan(counter):\n",
    "    return abs(traveled[\"E\"] - traveled[\"W\"]) + abs(traveled[\"S\"] - traveled[\"N\"])\n",
    "\n"
   ]
  },
  {
   "cell_type": "code",
   "execution_count": null,
   "metadata": {},
   "outputs": [],
   "source": [
    "manathan(traveled)"
   ]
  },
  {
   "cell_type": "markdown",
   "metadata": {},
   "source": [
    "# part 2"
   ]
  },
  {
   "cell_type": "code",
   "execution_count": null,
   "metadata": {},
   "outputs": [],
   "source": [
    "with open(\"/home/bchatillon/Documents/Advent-of-Code/2020/12_data.txt\") as f:\n",
    "    data = [(line[0], int(line[1:])) for line in f.read().splitlines()]"
   ]
  },
  {
   "cell_type": "code",
   "execution_count": null,
   "metadata": {},
   "outputs": [],
   "source": [
    "from collections import Counter\n",
    "\n",
    "direction = {\"W\": 0, \"N\":1, \"E\":2, \"S\":3}\n",
    "waypoint = Counter({\"E\":10, \"N\":1})\n",
    "reverse_direction = {v: k for k, v in direction.items()}\n",
    "traveled = Counter()"
   ]
  },
  {
   "cell_type": "code",
   "execution_count": null,
   "metadata": {},
   "outputs": [],
   "source": [
    "for instruction, value in data:\n",
    "    if instruction in direction:\n",
    "        waypoint.update({instruction: value})\n",
    "        \n",
    "    elif instruction == \"F\":\n",
    "        traveled.update({orientation: val*value for orientation, val in waypoint.items()})\n",
    "        \n",
    "    elif instruction in {\"R\", \"L\"}:\n",
    "        \n",
    "        rotate = value // 90\n",
    "        if instruction == \"L\":\n",
    "            rotate = -rotate\n",
    "            \n",
    "        new_waypoint = Counter()\n",
    "        \n",
    "        for orientation, val in waypoint.items():\n",
    "            new_direction = (direction[orientation] + rotate) % 4\n",
    "            new_waypoint[reverse_direction[new_direction]] = val\n",
    "\n",
    "        waypoint = new_waypoint\n",
    "        \n",
    "    else:\n",
    "        print(f\"Unkwnow direction {instruction=}\")"
   ]
  },
  {
   "cell_type": "code",
   "execution_count": null,
   "metadata": {},
   "outputs": [],
   "source": [
    "manathan(traveled)"
   ]
  }
 ],
 "metadata": {
  "language_info": {
   "name": "python",
   "pygments_lexer": "ipython3"
  }
 },
 "nbformat": 4,
 "nbformat_minor": 2
}
