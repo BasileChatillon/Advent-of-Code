{
 "cells": [
  {
   "cell_type": "markdown",
   "metadata": {},
   "source": [
    "# Part 1 "
   ]
  },
  {
   "cell_type": "code",
   "execution_count": null,
   "metadata": {},
   "outputs": [],
   "source": [
    "with open(\"/home/bchatillon/Documents/Advent-of-Code/2020/09_data.txt\") as f:\n",
    "    data = [int(line) for line in f.read().splitlines()]\n"
   ]
  },
  {
   "cell_type": "code",
   "execution_count": null,
   "metadata": {},
   "outputs": [],
   "source": [
    "data"
   ]
  },
  {
   "cell_type": "code",
   "execution_count": null,
   "metadata": {},
   "outputs": [],
   "source": [
    "from itertools import combinations\n",
    "def get_error(data, nb_to_go):\n",
    "    \n",
    "    parsed = data[:nb_to_go]\n",
    "    \n",
    "    for idx, number in enumerate(data[nb_to_go:]):\n",
    "        for n1, n2 in combinations(parsed, 2):\n",
    "            if n1 == n2:\n",
    "                continue\n",
    "            \n",
    "            if n1 + n2 == number:\n",
    "                parsed.pop(0)\n",
    "                parsed.append(number)\n",
    "                break\n",
    "        else:\n",
    "            return idx + nb_to_go, number\n",
    "            \n",
    "    return None"
   ]
  },
  {
   "cell_type": "code",
   "execution_count": null,
   "metadata": {},
   "outputs": [],
   "source": [
    "pos, final = get_error(data, 25)"
   ]
  },
  {
   "cell_type": "code",
   "execution_count": null,
   "metadata": {},
   "outputs": [],
   "source": [
    "final"
   ]
  },
  {
   "cell_type": "markdown",
   "metadata": {},
   "source": [
    "# part 2"
   ]
  },
  {
   "cell_type": "code",
   "execution_count": null,
   "metadata": {},
   "outputs": [],
   "source": [
    "def part_2(data, pos, final):\n",
    "    \n",
    "    for idx1 in range(pos):\n",
    "        for idx2 in range(idx1, pos):\n",
    "            \n",
    "            elems = data[idx1:idx2]\n",
    "            tot = sum(set(elems))\n",
    "            \n",
    "            if tot > final:\n",
    "                break\n",
    "            elif tot == final:\n",
    "                return min(elems) + max(elems)"
   ]
  },
  {
   "cell_type": "code",
   "execution_count": null,
   "metadata": {},
   "outputs": [],
   "source": [
    "part_2(data, pos, final)"
   ]
  }
 ],
 "metadata": {
  "language_info": {
   "name": "python",
   "pygments_lexer": "ipython3"
  }
 },
 "nbformat": 4,
 "nbformat_minor": 2
}
