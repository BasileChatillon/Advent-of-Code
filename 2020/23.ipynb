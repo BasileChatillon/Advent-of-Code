{
 "cells": [
  {
   "cell_type": "markdown",
   "metadata": {},
   "source": [
    "# Part 1 "
   ]
  },
  {
   "cell_type": "code",
   "execution_count": null,
   "metadata": {},
   "outputs": [],
   "source": [
    "def iteration1(data, current, current_pos):\n",
    "    \n",
    "    next_current_pos = (current_pos + 4) % 9 \n",
    "    next_current = data[next_current_pos]\n",
    "    \n",
    "    if (diff := current_pos + 4 - len(data)) > 0:\n",
    "        extract = data[current_pos+1:] + data[:diff]\n",
    "        data = data[diff:current_pos+1]    \n",
    "    else:\n",
    "        extract = data[current_pos + 1 : current_pos + 4]\n",
    "        data = data[:current_pos+1] + data[current_pos + 4:]\n",
    "    \n",
    "    target = current\n",
    "    for _ in range(4):\n",
    "        target -= 1\n",
    "        if target == 0:\n",
    "            target = 9\n",
    "        \n",
    "        if target not in extract:\n",
    "            break\n",
    "    \n",
    "    target_pos = data.index(target)\n",
    "    \n",
    "    new_data = data[:target_pos+1] + extract + data[target_pos+1:]\n",
    "    \n",
    "    next_current_pos = new_data.index(next_current)\n",
    "    \n",
    "    return new_data, next_current, next_current_pos\n",
    "    "
   ]
  },
  {
   "cell_type": "code",
   "execution_count": null,
   "metadata": {},
   "outputs": [],
   "source": [
    "data = list(map(int, list(\"712643589\")))\n",
    "current, current_pos = data[0], 0"
   ]
  },
  {
   "cell_type": "code",
   "execution_count": null,
   "metadata": {},
   "outputs": [],
   "source": [
    "for i in range(100):\n",
    "    print(f\"-- MOVE {i+1} --\")\n",
    "    print(data, current, current_pos)\n",
    "    data, current, current_pos = iteration1(data, current, current_pos)\n",
    "    print()"
   ]
  },
  {
   "cell_type": "code",
   "execution_count": null,
   "metadata": {},
   "outputs": [],
   "source": [
    "idx = data.index(1)\n",
    "\n",
    "print(data[idx + 1:] + data[: idx])"
   ]
  },
  {
   "cell_type": "markdown",
   "metadata": {},
   "source": [
    "# Part 2"
   ]
  },
  {
   "cell_type": "code",
   "execution_count": null,
   "metadata": {},
   "outputs": [],
   "source": [
    "def iteration2(data, current):\n",
    "    after1 = data[current]\n",
    "    after2 = data[after1]\n",
    "    after3 = data[after2]\n",
    "    next_current = data[after3]\n",
    "    \n",
    "    target = current\n",
    "    l_d = len(data)\n",
    "    \n",
    "    for _ in range(4):\n",
    "        target -= 1\n",
    "        if target == 0:\n",
    "            target = l_d\n",
    "            \n",
    "        if target not in [after1, after2, after3]:\n",
    "            break\n",
    "    \n",
    "    data[current] = next_current\n",
    "    data[after3] = data[target]\n",
    "    data[target] = after1\n",
    "    \n",
    "    return data, next_current    "
   ]
  },
  {
   "cell_type": "code",
   "execution_count": null,
   "metadata": {},
   "outputs": [],
   "source": [
    "data = list(map(int, \"712643589\")) + list(range(10, 1000001))\n",
    "                                         \n",
    "data = {a: b for a, b in zip(data, data[1:] + data)}\n",
    "current = 7\n"
   ]
  },
  {
   "cell_type": "code",
   "execution_count": null,
   "metadata": {},
   "outputs": [],
   "source": [
    "from tqdm import tqdm\n",
    "for i in tqdm(range(10000000)):\n",
    "    data, current = iteration2(data, current)"
   ]
  },
  {
   "cell_type": "code",
   "execution_count": null,
   "metadata": {},
   "outputs": [],
   "source": [
    "data[1] * data[data[1]]"
   ]
  },
  {
   "cell_type": "code",
   "execution_count": null,
   "metadata": {},
   "outputs": [],
   "source": [
    "def print_data(data):\n",
    "    elem = next(iter(data))\n",
    "    pp = f\"{elem}\"\n",
    "    for _ in range(len(data) - 1):\n",
    "        elem = data[elem]\n",
    "        pp = f\"{pp}, {elem}\"\n",
    "    \n",
    "    print(pp)"
   ]
  }
 ],
 "metadata": {
  "language_info": {
   "name": "python",
   "pygments_lexer": "ipython3"
  }
 },
 "nbformat": 4,
 "nbformat_minor": 2
}
