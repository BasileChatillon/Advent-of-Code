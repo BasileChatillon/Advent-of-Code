{
 "cells": [
  {
   "cell_type": "markdown",
   "metadata": {},
   "source": [
    "# Part 1 "
   ]
  },
  {
   "cell_type": "code",
   "execution_count": null,
   "metadata": {},
   "outputs": [],
   "source": [
    "with open(\"/home/bchatillon/Documents/Advent-of-Code/2020/19_data.txt\") as f:\n",
    "    data = f.read().splitlines()"
   ]
  },
  {
   "cell_type": "code",
   "execution_count": null,
   "metadata": {},
   "outputs": [],
   "source": [
    "all_rules = {}\n",
    "messages = []\n",
    "is_message = False\n",
    "\n",
    "for line in data:\n",
    "    if line == \"\":\n",
    "        is_message = True\n",
    "        continue\n",
    "        \n",
    "    if not is_message:\n",
    "        [key, rule_parts] = line.split(\":\")\n",
    "        key = key.strip()\n",
    "        rule_parts = [tuple(rule_part.strip().split(\" \")) for rule_part in rule_parts.strip().split(\"|\")]\n",
    "        if \"a\" in rule_parts[0][0]:\n",
    "            rule_parts[0] = (\"a\", )\n",
    "        if \"b\" in rule_parts[0][0]:\n",
    "            rule_parts[0] = (\"b\", )\n",
    "        all_rules[key] = rule_parts\n",
    "    else:\n",
    "        messages.append(line)"
   ]
  },
  {
   "cell_type": "code",
   "execution_count": null,
   "metadata": {},
   "outputs": [],
   "source": [
    "all_rules"
   ]
  },
  {
   "cell_type": "code",
   "execution_count": null,
   "metadata": {},
   "outputs": [],
   "source": [
    "def parse_rule(rules, all_rules):    \n",
    "    keys = set(r for rule in rules for r in rule)\n",
    "    if keys == set(\"ab\"):\n",
    "        return [\"\".join(rule) for rule in rules]\n",
    "    \n",
    "    for key in keys:\n",
    "        if key in {\"a\", \"b\"}:\n",
    "            continue\n",
    "        \n",
    "        new_rules = set() \n",
    "        for part in all_rules[key]:\n",
    "            for rule in rules:\n",
    "                if key in rule:\n",
    "                    index = rule.index(key)\n",
    "                    new_rule = list(rule)\n",
    "                    new_rule[index : index + 1] = list(part)\n",
    "                    new_rules.add(tuple(new_rule))\n",
    "                else:\n",
    "                    new_rules.add(rule)\n",
    "                    \n",
    "        rules = new_rules\n",
    "                              \n",
    "    return parse_rule(rules, all_rules)"
   ]
  },
  {
   "cell_type": "code",
   "execution_count": null,
   "metadata": {},
   "outputs": [],
   "source": [
    "# all_combination = parse_rule(all_rules[\"0\"], all_rules)\n",
    "# sum(message in all_combination for message in messages)"
   ]
  },
  {
   "cell_type": "markdown",
   "metadata": {},
   "source": [
    "Damn ça prend trop de temps"
   ]
  },
  {
   "cell_type": "markdown",
   "metadata": {},
   "source": [
    "## Part 2"
   ]
  },
  {
   "cell_type": "markdown",
   "metadata": {},
   "source": [
    "idée  de faire DFS chelou:\n",
    "fonction itérative\n",
    "on rempalace toujours la première valeur par  sa règle et on déscend\n",
    "si la première règée est une lettre\n",
    "- on vérifie que la lettre et la même que la séquence\n",
    "  - Oui -> on enlève la première lettre du message et élément de la règle et on itère\n",
    "  - Non -> return false\n",
    "si on est sur une valeur\n",
    "- on récupère la correspondance dans le dict de règle\n",
    "- pour toutes les sous règles, on crée la nouvel règle et on refait un dfs\n",
    "- condition d'arrêt, au moins une des sous règle sois valide -> any\n",
    "\n",
    "condition de fin si le message est vide ou que la règle est vide:\n",
    "- return vrai seulement si les deux sont vides (un message ne peut que être de la même longeur que la règle)"
   ]
  },
  {
   "cell_type": "code",
   "execution_count": null,
   "metadata": {},
   "outputs": [],
   "source": [
    "def dfs(message, current_rule, all_rules):\n",
    "    if not message or not current_rule:\n",
    "        return not message and not current_rule\n",
    "    \n",
    "    if (val := current_rule[0]) in {\"a\", \"b\"}:\n",
    "        if val != message[0]:\n",
    "            return False\n",
    "        \n",
    "        return dfs(message[1:], current_rule[1:], all_rules)\n",
    "    \n",
    "    sub_rules = all_rules[current_rule[0]]\n",
    "    return any(dfs(message, list(sub_rule) + current_rule[1:], all_rules) for sub_rule in sub_rules)\n",
    "        "
   ]
  },
  {
   "cell_type": "code",
   "execution_count": null,
   "metadata": {},
   "outputs": [],
   "source": [
    "sum(int(dfs(message, [\"0\"], all_rules)) for message in messages)"
   ]
  },
  {
   "cell_type": "markdown",
   "metadata": {},
   "source": [
    "mieux que la part 1 aha"
   ]
  },
  {
   "cell_type": "code",
   "execution_count": null,
   "metadata": {},
   "outputs": [],
   "source": [
    "all_rules.update({\"8\": [(\"42\", ), (\"42\", \"8\")], \"11\": [(\"42\", \"31\"), (\"42\", \"11\", \"31\")]})\n",
    "sum(int(dfs(message, [\"0\"], all_rules)) for message in messages)"
   ]
  }
 ],
 "metadata": {
  "language_info": {
   "name": "python",
   "pygments_lexer": "ipython3"
  }
 },
 "nbformat": 4,
 "nbformat_minor": 2
}
