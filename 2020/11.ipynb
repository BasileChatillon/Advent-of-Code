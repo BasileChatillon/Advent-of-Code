{
 "cells": [
  {
   "cell_type": "markdown",
   "metadata": {},
   "source": [
    "# Part 1 "
   ]
  },
  {
   "cell_type": "code",
   "execution_count": null,
   "metadata": {},
   "outputs": [],
   "source": [
    "from pprint import pprint"
   ]
  },
  {
   "cell_type": "code",
   "execution_count": null,
   "metadata": {},
   "outputs": [],
   "source": [
    "with open(\"/home/bchatillon/Documents/Advent-of-Code/2020/11_data.txt\") as f:\n",
    "    data_o = [list(line) for line in f.read().splitlines()]"
   ]
  },
  {
   "cell_type": "code",
   "execution_count": null,
   "metadata": {},
   "outputs": [],
   "source": [
    "from copy import deepcopy\n",
    "def iterate1(data, occup):\n",
    "    data_copy = deepcopy(data)\n",
    "    \n",
    "    for i, line in enumerate(data):\n",
    "        for j, elem in enumerate(line):\n",
    "            if elem == \".\":\n",
    "                continue\n",
    "\n",
    "            if occup:\n",
    "                if elem == \"L\" and not any(adj == \"#\" for adj in get_adj1(data, i, j)):\n",
    "                    data_copy[i][j] = \"#\"\n",
    "            else:\n",
    "                if elem == \"#\" and sum(int(adj == \"#\") for adj in get_adj1(data, i, j)) >= 4:\n",
    "                    data_copy[i][j] = \"L\"\n",
    "    \n",
    "    return data_copy\n",
    " \n",
    "                \n",
    "def get_adj1(data, i, j):\n",
    "    max_i, max_j = len(data), len(data[0])\n",
    "    \n",
    "    for new_i in range(i-1, i+2):\n",
    "        if not 0 <= new_i < max_i:\n",
    "                continue\n",
    "            \n",
    "        for new_j in range(j-1, j+2):\n",
    "            if new_i == i and new_j == j or not 0 <= new_j < max_j or new_i == i and new_j == j:\n",
    "                continue\n",
    "                \n",
    "            yield data[new_i][new_j]\n",
    "                \n"
   ]
  },
  {
   "cell_type": "code",
   "execution_count": null,
   "metadata": {},
   "outputs": [],
   "source": [
    "data = deepcopy(data_o)\n",
    "while True:\n",
    "        data_copy = iterate1(data, True)\n",
    "        if data == data_copy:\n",
    "            break\n",
    "            \n",
    "        data = data_copy\n",
    "        data_copy = iterate1(data, False)\n",
    "        if data == data_copy:\n",
    "            break\n",
    "            \n",
    "        data = data_copy"
   ]
  },
  {
   "cell_type": "code",
   "execution_count": null,
   "metadata": {},
   "outputs": [],
   "source": [
    "print(sum(int(elem == \"#\") for line in data for elem in line))"
   ]
  },
  {
   "cell_type": "markdown",
   "metadata": {},
   "source": [
    "# part 2"
   ]
  },
  {
   "cell_type": "code",
   "execution_count": null,
   "metadata": {},
   "outputs": [],
   "source": [
    "directions = [(x, y) for x in range(-1, 2) for y in range(-1, 2) if (x, y) != (0, 0)]\n"
   ]
  },
  {
   "cell_type": "code",
   "execution_count": null,
   "metadata": {},
   "outputs": [],
   "source": [
    "from copy import deepcopy\n",
    "def iterate2(data, occup):\n",
    "    data_copy = deepcopy(data)\n",
    "    \n",
    "    for i, line in enumerate(data):\n",
    "        for j, elem in enumerate(line):\n",
    "            if elem == \".\":\n",
    "                continue\n",
    "\n",
    "            if occup:\n",
    "                if elem == \"L\":\n",
    "                    if not any(get_adj2(data, i, j, direction) == \"#\" for direction in directions):\n",
    "                        data_copy[i][j] = \"#\"    \n",
    "            else:\n",
    "                if elem == \"#\":\n",
    "                    if sum(int(get_adj2(data, i, j, direction) == \"#\") for direction in directions) >= 5:\n",
    "                        data_copy[i][j] = \"L\"\n",
    "    \n",
    "    return data_copy\n",
    " \n",
    "from collections import Counter                \n",
    "def get_adj2(data, i, j, direction):\n",
    "    count = Counter()\n",
    "    max_i, max_j = len(data), len(data[0])\n",
    "    i_dir, j_dir = direction\n",
    "    \n",
    "    while True:\n",
    "        i += i_dir\n",
    "        j += j_dir\n",
    "        \n",
    "        if not 0 <= i < max_i or not 0 <= j < max_j:\n",
    "            return \".\"\n",
    "\n",
    "        elem = data[i][j]\n",
    "        if elem in {\"#\", \"L\"}:\n",
    "            return elem"
   ]
  },
  {
   "cell_type": "code",
   "execution_count": null,
   "metadata": {},
   "outputs": [],
   "source": [
    "data_copy = None\n",
    "data = deepcopy(data_o)\n",
    "while True:\n",
    "        data_copy = iterate2(data, True)\n",
    "        \n",
    "        if data == data_copy:\n",
    "            break\n",
    "        \n",
    "        data = data_copy\n",
    "        data_copy = iterate2(data, False)\n",
    "        \n",
    "        if data == data_copy:\n",
    "            break\n",
    "            \n",
    "        data = data_copy"
   ]
  },
  {
   "cell_type": "code",
   "execution_count": null,
   "metadata": {},
   "outputs": [],
   "source": [
    "print(sum(int(elem == \"#\") for line in data for elem in line))"
   ]
  }
 ],
 "metadata": {
  "language_info": {
   "name": "python",
   "pygments_lexer": "ipython3"
  }
 },
 "nbformat": 4,
 "nbformat_minor": 2
}
