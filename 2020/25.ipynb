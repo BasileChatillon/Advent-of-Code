{
 "cells": [
  {
   "cell_type": "markdown",
   "metadata": {},
   "source": [
    "# Part 1 "
   ]
  },
  {
   "cell_type": "code",
   "execution_count": null,
   "metadata": {},
   "outputs": [],
   "source": [
    "mod = 20201227\n",
    "door_number = 7\n",
    "\n",
    "card_public_key = 8252394\n",
    "door_public_key = 6269621\n",
    "\n",
    "\n",
    "card_loop = None\n",
    "door_loop = None\n",
    "\n",
    "\n",
    "res = 1\n",
    "i = 0\n",
    "while True:\n",
    "    i += 1\n",
    "    if card_loop is not None and door_loop is not None:\n",
    "        break\n",
    "        \n",
    "    res = (res * door_number) % mod\n",
    "    \n",
    "    if card_loop is None and res == card_public_key:\n",
    "        card_loop = i\n",
    "    if door_loop is None and res == door_public_key:\n",
    "        door_loop = i\n",
    "    "
   ]
  },
  {
   "cell_type": "code",
   "execution_count": null,
   "metadata": {},
   "outputs": [],
   "source": [
    "def oui(number, nb_iteration):\n",
    "    \n",
    "    mod = 20201227\n",
    "    res = 1\n",
    "\n",
    "    for _ in range(nb_iteration):\n",
    "        res = (res * number) % mod\n",
    "    return res"
   ]
  },
  {
   "cell_type": "code",
   "execution_count": null,
   "metadata": {},
   "outputs": [],
   "source": [
    "card_encryption_key = oui(card_public_key, door_loop)\n",
    "door_encryption_key = oui(door_public_key, card_loop)"
   ]
  },
  {
   "cell_type": "code",
   "execution_count": null,
   "metadata": {},
   "outputs": [],
   "source": [
    "card_encryption_key"
   ]
  },
  {
   "cell_type": "code",
   "execution_count": null,
   "metadata": {},
   "outputs": [],
   "source": [
    "door_encryption_key"
   ]
  }
 ],
 "metadata": {
  "language_info": {
   "name": "python",
   "pygments_lexer": "ipython3"
  }
 },
 "nbformat": 4,
 "nbformat_minor": 2
}
