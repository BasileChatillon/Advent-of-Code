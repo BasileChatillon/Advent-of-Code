{
 "cells": [
  {
   "cell_type": "markdown",
   "metadata": {},
   "source": [
    "# Part 1 "
   ]
  },
  {
   "cell_type": "code",
   "execution_count": null,
   "metadata": {},
   "outputs": [],
   "source": [
    "with open(\"/home/bchatillon/Documents/Advent-of-Code/2020/18_data.txt\") as f:\n",
    "    data = f.read().splitlines()"
   ]
  },
  {
   "cell_type": "code",
   "execution_count": null,
   "metadata": {},
   "outputs": [],
   "source": [
    "def parse_line(line):\n",
    "    line = line.replace(\" \", \"\")\n",
    "    tot = 0\n",
    "    operation = add\n",
    "    i = 0\n",
    "    while True:\n",
    "        c = line[i]\n",
    "        i += 1\n",
    "        if c.isnumeric():\n",
    "            tot = operation(tot, int(c))\n",
    "        elif c == \"+\":\n",
    "            operation = add\n",
    "        elif c == \"*\":\n",
    "            operation = mult\n",
    "        elif c == \"(\":\n",
    "            res, jump = parse_line(line[i:])\n",
    "            i += jump \n",
    "            tot = operation(tot, res)\n",
    "        \n",
    "        if c == \")\" or i >= len(line):\n",
    "            return tot, i\n",
    "            \n",
    "def add(a, b):\n",
    "    return a + b\n",
    "\n",
    "def mult(a, b):\n",
    "    return a * b"
   ]
  },
  {
   "cell_type": "code",
   "execution_count": null,
   "metadata": {},
   "outputs": [],
   "source": [
    "sum(parse_line(line)[0] for line in data)"
   ]
  },
  {
   "cell_type": "markdown",
   "metadata": {},
   "source": [
    "## Part 2"
   ]
  },
  {
   "cell_type": "markdown",
   "metadata": {},
   "source": [
    "no time but well, it works"
   ]
  },
  {
   "cell_type": "code",
   "execution_count": null,
   "metadata": {},
   "outputs": [],
   "source": [
    "class CustomNumber(int):\n",
    "    \n",
    "    def __add__(self, other):\n",
    "        return CustomNumber(int(self) * other)\n",
    "\n",
    "    def __mul__(self, other):\n",
    "        return CustomNumber(int(self) + other)\n",
    "    \n",
    "translation = {ord(\"+\"): ord(\"*\"), ord(\"*\"): ord(\"+\")}"
   ]
  },
  {
   "cell_type": "code",
   "execution_count": null,
   "metadata": {},
   "outputs": [],
   "source": [
    "import re\n",
    "pattern = re.compile(r\"(\\d{1,2})\")"
   ]
  },
  {
   "cell_type": "code",
   "execution_count": null,
   "metadata": {},
   "outputs": [],
   "source": [
    "sum(eval(pattern.sub(r\"CustomNumber(\\1)\", line).translate(translation)) for line in data)"
   ]
  }
 ],
 "metadata": {
  "language_info": {
   "name": "python",
   "pygments_lexer": "ipython3"
  }
 },
 "nbformat": 4,
 "nbformat_minor": 2
}
