{
 "cells": [
  {
   "cell_type": "markdown",
   "metadata": {},
   "source": [
    "# Part 1 "
   ]
  },
  {
   "cell_type": "code",
   "execution_count": null,
   "metadata": {},
   "outputs": [],
   "source": [
    "import re"
   ]
  },
  {
   "cell_type": "code",
   "execution_count": null,
   "metadata": {},
   "outputs": [],
   "source": [
    "pattern = re.compile(r\"(?P<min>\\d{1,3})-(?P<max>\\d{1,3}) (?P<char>[a-zA-Z0-9]): (?P<password>[a-zA-Z0-9]+)\")"
   ]
  },
  {
   "cell_type": "code",
   "execution_count": null,
   "metadata": {},
   "outputs": [],
   "source": [
    "data = []\n",
    "with open(\"/home/bchatillon/Documents/Advent-of-Code/2020/02_data.txt\") as f:\n",
    "    for line in f.read().splitlines():\n",
    "        if line and (match := pattern.match(line)):\n",
    "            d = match.groupdict()\n",
    "            d[\"min\"] = int(d[\"min\"])\n",
    "            d[\"max\"] = int(d[\"max\"])\n",
    "            data.append(d)\n",
    "            "
   ]
  },
  {
   "cell_type": "code",
   "execution_count": null,
   "metadata": {},
   "outputs": [],
   "source": [
    "data"
   ]
  },
  {
   "cell_type": "code",
   "execution_count": null,
   "metadata": {},
   "outputs": [],
   "source": [
    "def int_wrapper(f, *args):\n",
    "    def inner(*args):\n",
    "        return int(f(*args))\n",
    "    \n",
    "    return inner\n",
    "    "
   ]
  },
  {
   "cell_type": "code",
   "execution_count": null,
   "metadata": {},
   "outputs": [],
   "source": [
    "@int_wrapper\n",
    "def validate_password1(d):\n",
    "    return d[\"min\"] <= d[\"password\"].count(d[\"char\"]) <= d[\"max\"]"
   ]
  },
  {
   "cell_type": "code",
   "execution_count": null,
   "metadata": {},
   "outputs": [],
   "source": [
    "len(list(filter(validate_password1, data)))"
   ]
  },
  {
   "cell_type": "markdown",
   "metadata": {},
   "source": [
    "# Part 2"
   ]
  },
  {
   "cell_type": "code",
   "execution_count": null,
   "metadata": {},
   "outputs": [],
   "source": [
    "@int_wrapper\n",
    "def validate_password2(d):\n",
    "    cond1 = d[\"password\"][d[\"min\"] - 1] == d[\"char\"]\n",
    "    cond2 = d[\"password\"][d[\"max\"] - 1] == d[\"char\"]\n",
    "    \n",
    "    return cond1 ^ cond2"
   ]
  },
  {
   "cell_type": "code",
   "execution_count": null,
   "metadata": {},
   "outputs": [],
   "source": [
    "len(list(filter(validate_password2, data)))"
   ]
  }
 ],
 "metadata": {
  "language_info": {
   "name": "python",
   "pygments_lexer": "ipython3"
  }
 },
 "nbformat": 4,
 "nbformat_minor": 2
}
