{
 "cells": [
  {
   "cell_type": "code",
   "execution_count": null,
   "metadata": {},
   "outputs": [],
   "source": [
    "from collections import Counter\n",
    "from copy import deepcopy"
   ]
  },
  {
   "cell_type": "markdown",
   "metadata": {},
   "source": [
    "# Part 1 "
   ]
  },
  {
   "cell_type": "code",
   "execution_count": null,
   "metadata": {},
   "outputs": [],
   "source": [
    "with open(\"/home/bchatillon/Documents/Advent-of-Code/2020/21_data.txt\") as f:\n",
    "    data = f.read().splitlines()"
   ]
  },
  {
   "cell_type": "code",
   "execution_count": null,
   "metadata": {},
   "outputs": [],
   "source": [
    "recettes = {}\n",
    "for line in data:\n",
    "    [ingredients, allergens] = line.split(\" (contains \")\n",
    "    ingredients = tuple(ingredients.strip().split(\" \"))\n",
    "    allergens = set(allergens[:-1].strip().split(\", \"))\n",
    "    recettes[ingredients]= allergens    "
   ]
  },
  {
   "cell_type": "code",
   "execution_count": null,
   "metadata": {},
   "outputs": [],
   "source": [
    "all_allergens = set(allergen for allergens in recettes.values() for allergen in allergens)\n",
    "all_ingredients = Counter(ingredient for ingredients in recettes.keys() for ingredient in ingredients)\n",
    "\n",
    "allergens_mapping = {}\n",
    "for key, val in recettes.items():\n",
    "    for allergen in val:\n",
    "        if not allergen in allergens_mapping:\n",
    "            allergens_mapping[allergen] = set(key)\n",
    "        else:\n",
    "            allergens_mapping[allergen] &= set(key)"
   ]
  },
  {
   "cell_type": "code",
   "execution_count": null,
   "metadata": {},
   "outputs": [],
   "source": [
    "for allergen in {\"soy\"}:\n",
    "    a_m_copy = deepcopy(allergens_mapping)\n",
    "    for  key, ingredient in allergens_mapping.items():\n",
    "        if key != allergen:\n",
    "            if not any(set([key, allergen]) <= val for val in recettes.values()):\n",
    "                dif = allergens_mapping[allergen].difference(ingredient)\n",
    "                a_m_copy[allergen] = dif\n",
    "                \n",
    "    allergens_mapping = a_m_copy"
   ]
  },
  {
   "cell_type": "code",
   "execution_count": null,
   "metadata": {},
   "outputs": [],
   "source": [
    "no_allergens = deepcopy(all_ingredients)\n",
    "for ingredient in set(ingredient for ingredients in allergens_mapping.values() for ingredient in ingredients):\n",
    "    del no_allergens[ingredient]"
   ]
  },
  {
   "cell_type": "code",
   "execution_count": null,
   "metadata": {},
   "outputs": [],
   "source": [
    "len(list(no_allergens.elements()))"
   ]
  },
  {
   "cell_type": "markdown",
   "metadata": {},
   "source": [
    "# Part 2"
   ]
  },
  {
   "cell_type": "code",
   "execution_count": null,
   "metadata": {},
   "outputs": [],
   "source": [
    "sorted_allergen_mapping = {k: v for k, v in sorted(allergens_mapping.items(), key=lambda item: len(item[1]))}"
   ]
  },
  {
   "cell_type": "code",
   "execution_count": null,
   "metadata": {},
   "outputs": [],
   "source": [
    "final, used = {}, set()\n",
    "for k, v in sorted_allergen_mapping.items():\n",
    "    final[k] = next(iter(v - used))\n",
    "    used.add(final[k])"
   ]
  },
  {
   "cell_type": "code",
   "execution_count": null,
   "metadata": {},
   "outputs": [],
   "source": [
    "\",\".join(v for _, v in sorted(final.items(), key=lambda item: item[0]))"
   ]
  }
 ],
 "metadata": {
  "language_info": {
   "name": "python",
   "pygments_lexer": "ipython3"
  }
 },
 "nbformat": 4,
 "nbformat_minor": 2
}
