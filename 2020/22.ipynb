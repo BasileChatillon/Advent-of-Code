{
 "cells": [
  {
   "cell_type": "code",
   "execution_count": null,
   "metadata": {},
   "outputs": [],
   "source": [
    "from collections import Counter, deque\n",
    "from copy import deepcopy"
   ]
  },
  {
   "cell_type": "markdown",
   "metadata": {},
   "source": [
    "# Part 1 "
   ]
  },
  {
   "cell_type": "code",
   "execution_count": null,
   "metadata": {},
   "outputs": [],
   "source": [
    "with open(\"/home/bchatillon/Documents/Advent-of-Code/2020/22_data.txt\") as f:\n",
    "    data = f.read().splitlines()"
   ]
  },
  {
   "cell_type": "code",
   "execution_count": null,
   "metadata": {},
   "outputs": [],
   "source": [
    "def get_player(data):\n",
    "    d = None\n",
    "    deques = []\n",
    "    for line in data:\n",
    "        if \"Player\" in line:\n",
    "            if d:\n",
    "                deques.append(d)\n",
    "            d = deque()\n",
    "        elif line:\n",
    "            d.appendleft(int(line))\n",
    "    else:\n",
    "        deques.append(d)\n",
    "\n",
    "    return deques"
   ]
  },
  {
   "cell_type": "code",
   "execution_count": null,
   "metadata": {},
   "outputs": [],
   "source": [
    "def get_score(winner):\n",
    "    return sum(mult * winner.pop() for mult in range(len(winner), 0, -1))"
   ]
  },
  {
   "cell_type": "code",
   "execution_count": null,
   "metadata": {},
   "outputs": [],
   "source": [
    "def play1(player1, player2):\n",
    "\n",
    "    while True:\n",
    "        card1 = player1.pop()\n",
    "        card2 = player2.pop()\n",
    "\n",
    "        if card1 > card2:\n",
    "            player1.extendleft([card1, card2])\n",
    "        elif card1 == card2:\n",
    "            player1.appendleft(card1)\n",
    "            player2.appendleft(card2)\n",
    "        else:\n",
    "            player2.extendleft([card2, card1])\n",
    "\n",
    "        if not player1:\n",
    "            return player2\n",
    "        if not player2:\n",
    "            return player1"
   ]
  },
  {
   "cell_type": "code",
   "execution_count": null,
   "metadata": {},
   "outputs": [],
   "source": [
    "player1, player2 = get_player(data)"
   ]
  },
  {
   "cell_type": "code",
   "execution_count": null,
   "metadata": {},
   "outputs": [],
   "source": [
    "winner = play1(player1, player2)"
   ]
  },
  {
   "cell_type": "code",
   "execution_count": null,
   "metadata": {},
   "outputs": [],
   "source": [
    "get_score(winner)"
   ]
  },
  {
   "cell_type": "markdown",
   "metadata": {},
   "source": [
    "# Part 2"
   ]
  },
  {
   "cell_type": "code",
   "execution_count": null,
   "metadata": {},
   "outputs": [],
   "source": [
    "with open(\"/home/bchatillon/Documents/Advent-of-Code/2020/22_data.txt\") as f:\n",
    "    data = f.read().splitlines()"
   ]
  },
  {
   "cell_type": "code",
   "execution_count": null,
   "metadata": {},
   "outputs": [],
   "source": [
    "def play2(player1, player2):\n",
    "    states = set()\n",
    "    i = 1\n",
    "    while True:\n",
    "        i += 1\n",
    "        state = (tuple(player1), tuple(player2))\n",
    "        \n",
    "        if state in states:\n",
    "            return player1, 1\n",
    "        \n",
    "        states.add(state)\n",
    "        \n",
    "        card1 = player1.pop()\n",
    "        card2 = player2.pop()\n",
    "        \n",
    "        if len(player1) >= card1 and len(player2) >= card2:\n",
    "            new_player1 = deque(list(player1)[-card1:])\n",
    "            new_player2 = deque(list(player2)[-card2:])\n",
    "            \n",
    "            _, winner_number = play2(new_player1, new_player2)\n",
    "            \n",
    "        else:\n",
    "            winner_number = 1 + int(card1 < card2)\n",
    "        \n",
    "        if winner_number == 1:\n",
    "            player1.extendleft([card1, card2])\n",
    "        else:\n",
    "            player2.extendleft([card2, card1])\n",
    "\n",
    "        if not player1:\n",
    "            return player2, 2\n",
    "        if not player2:\n",
    "            return player1, 1"
   ]
  },
  {
   "cell_type": "code",
   "execution_count": null,
   "metadata": {},
   "outputs": [],
   "source": [
    "player1, player2 = get_player(data)"
   ]
  },
  {
   "cell_type": "code",
   "execution_count": null,
   "metadata": {},
   "outputs": [],
   "source": [
    "winner, _ = play2(player1, player2)"
   ]
  },
  {
   "cell_type": "code",
   "execution_count": null,
   "metadata": {},
   "outputs": [],
   "source": [
    "get_score(winner)"
   ]
  }
 ],
 "metadata": {
  "language_info": {
   "name": "python",
   "pygments_lexer": "ipython3"
  }
 },
 "nbformat": 4,
 "nbformat_minor": 2
}
