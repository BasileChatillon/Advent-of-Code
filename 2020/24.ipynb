{
 "cells": [
  {
   "cell_type": "code",
   "execution_count": null,
   "metadata": {},
   "outputs": [],
   "source": [
    "from collections import defaultdict\n",
    "from copy import copy"
   ]
  },
  {
   "cell_type": "markdown",
   "metadata": {},
   "source": [
    "# Part 1 "
   ]
  },
  {
   "cell_type": "markdown",
   "metadata": {},
   "source": [
    "https://www.google.com/search?q=south&client=ubuntu&hs=rGU&channel=fs&source=lnms&tbm=isch&sa=X&ved=2ahUKEwicvfGv3ebtAhXR-aQKHcyeC2wQ_AUoAXoECAQQAw&biw=1848&bih=950#imgrc=HKbXGOMbrpqHPM\n",
    "    https://www.redblobgames.com/grids/hexagons/"
   ]
  },
  {
   "cell_type": "code",
   "execution_count": null,
   "metadata": {},
   "outputs": [],
   "source": [
    "mapping = {\"e\": (1, 0), \"se\": (0, 1), \"sw\": (-1, 1), \"w\": (-1, 0), \"nw\": (0, -1), \"ne\": (1, -1),}"
   ]
  },
  {
   "cell_type": "code",
   "execution_count": null,
   "metadata": {},
   "outputs": [],
   "source": [
    "def parse_line(line):\n",
    "    i = 0\n",
    "    res = []\n",
    "    while i < len(line):\n",
    "        c = line[i]\n",
    "        i += 1\n",
    "        if c in mapping:\n",
    "            res.append(c)\n",
    "        else:\n",
    "            s = f\"{c}{line[i]}\"\n",
    "            res.append(s)\n",
    "            i += 1\n",
    "            \n",
    "    return res\n",
    "            "
   ]
  },
  {
   "cell_type": "code",
   "execution_count": null,
   "metadata": {},
   "outputs": [],
   "source": [
    "def sum_vec(v1, v2):\n",
    "    return tuple(map(sum, zip(v1, v2)))"
   ]
  },
  {
   "cell_type": "code",
   "execution_count": null,
   "metadata": {},
   "outputs": [],
   "source": [
    "with open(\"/home/bchatillon/Documents/Advent-of-Code/2020/24_data.txt\") as f:\n",
    "    data = f.read().splitlines()"
   ]
  },
  {
   "cell_type": "code",
   "execution_count": null,
   "metadata": {},
   "outputs": [],
   "source": [
    "tiles = defaultdict(bool)\n",
    "\n",
    "for line in data:\n",
    "    pos = (0, 0)\n",
    "\n",
    "    line = parse_line(line)\n",
    "    for elem in line:\n",
    "        pos = sum_vec(pos, mapping[elem])\n",
    "    \n",
    "    tiles[pos] = not tiles[pos]"
   ]
  },
  {
   "cell_type": "code",
   "execution_count": null,
   "metadata": {},
   "outputs": [],
   "source": [
    "sum(tiles.values())"
   ]
  },
  {
   "cell_type": "markdown",
   "metadata": {},
   "source": [
    "# Part 2"
   ]
  },
  {
   "cell_type": "code",
   "execution_count": null,
   "metadata": {},
   "outputs": [],
   "source": [
    "def adj_tiles(pos):\n",
    "    return [sum_vec(vec, pos) for vec in mapping.values()]\n",
    "\n",
    "\n",
    "def day(tiles):\n",
    "    w_positions = set()\n",
    "    tiles_copy = dict(tiles)\n",
    "    \n",
    "    for b_position, val in tiles.items():\n",
    "        if not val:\n",
    "            continue\n",
    "        \n",
    "        adjs = adj_tiles(b_position)\n",
    "        white_adjs = [adj for adj in adjs if not tiles.get(adj, False)]\n",
    "        w_positions.update(white_adjs)\n",
    "            \n",
    "        nb_black = sum(tiles.get(adj, False) for adj in adjs)  \n",
    "        tiles_copy[b_position] = nb_black in {1, 2}\n",
    "        \n",
    "    for w_position in w_positions:\n",
    "        adjs = adj_tiles(w_position)\n",
    "        \n",
    "        nb_black = sum(tiles.get(adj, False) for adj in adjs)\n",
    "        tiles_copy[w_position] = nb_black == 2\n",
    "    \n",
    "    return tiles_copy"
   ]
  },
  {
   "cell_type": "code",
   "execution_count": null,
   "metadata": {},
   "outputs": [],
   "source": [
    "tiles = dict(tiles)"
   ]
  },
  {
   "cell_type": "code",
   "execution_count": null,
   "metadata": {},
   "outputs": [],
   "source": [
    "for _ in range(100):\n",
    "    tiles = day(tiles)"
   ]
  },
  {
   "cell_type": "code",
   "execution_count": null,
   "metadata": {},
   "outputs": [],
   "source": [
    "sum(tiles.values())"
   ]
  }
 ],
 "metadata": {
  "language_info": {
   "name": "python",
   "pygments_lexer": "ipython3"
  }
 },
 "nbformat": 4,
 "nbformat_minor": 2
}
