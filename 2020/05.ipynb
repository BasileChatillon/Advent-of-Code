{
 "cells": [
  {
   "cell_type": "markdown",
   "metadata": {},
   "source": [
    "# Part 1 "
   ]
  },
  {
   "cell_type": "code",
   "execution_count": null,
   "metadata": {},
   "outputs": [],
   "source": [
    "with open(\"/home/bchatillon/Documents/Advent-of-Code/2020/05_data.txt\") as f:\n",
    "    data = [line for line in f.read().splitlines()]\n",
    "            "
   ]
  },
  {
   "cell_type": "code",
   "execution_count": null,
   "metadata": {},
   "outputs": [],
   "source": [
    "data"
   ]
  },
  {
   "cell_type": "code",
   "execution_count": null,
   "metadata": {},
   "outputs": [],
   "source": [
    "def into_binary(code: str, upper: str, lower: str) -> int:\n",
    "    bin_val = code.replace(upper, \"1\").replace(lower, \"0\")\n",
    "    return int(bin_val, 2)"
   ]
  },
  {
   "cell_type": "code",
   "execution_count": null,
   "metadata": {},
   "outputs": [],
   "source": [
    "Seat = tuple[int, int]\n",
    "\n",
    "def get_seat(code: str) -> Seat:\n",
    "    row_code = code[:7]\n",
    "    column_code = code[7:]\n",
    "    \n",
    "    return into_binary(row_code, \"B\", \"F\"), into_binary(column_code, \"R\", \"L\")"
   ]
  },
  {
   "cell_type": "code",
   "execution_count": null,
   "metadata": {},
   "outputs": [],
   "source": [
    "def seat_id(seat: Seat) -> int:\n",
    "    row, column = seat\n",
    "    return row * 8 + column"
   ]
  },
  {
   "cell_type": "code",
   "execution_count": null,
   "metadata": {},
   "outputs": [],
   "source": [
    "seats = [get_seat(code) for code in data]\n",
    "seats_ids = [seat_id(seat) for seat in seats]\n",
    "\n",
    "max(seats_ids)"
   ]
  },
  {
   "cell_type": "markdown",
   "metadata": {},
   "source": [
    "# part 2"
   ]
  },
  {
   "cell_type": "code",
   "execution_count": null,
   "metadata": {},
   "outputs": [],
   "source": [
    "seats_ids.sort()"
   ]
  },
  {
   "cell_type": "code",
   "execution_count": null,
   "metadata": {},
   "outputs": [],
   "source": [
    "for seat_id1, seat_id2 in zip(seats_ids, seats_ids[1:]):\n",
    "    if (missing_seat_id := seat_id1 + 1) != seat_id2:\n",
    "        print(missing_seat_id)"
   ]
  }
 ],
 "metadata": {
  "language_info": {
   "name": "python",
   "pygments_lexer": "ipython3"
  }
 },
 "nbformat": 4,
 "nbformat_minor": 2
}
