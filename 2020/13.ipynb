{
 "cells": [
  {
   "cell_type": "markdown",
   "metadata": {},
   "source": [
    "# Part 1 "
   ]
  },
  {
   "cell_type": "code",
   "execution_count": null,
   "metadata": {},
   "outputs": [],
   "source": [
    "with open(\"/home/bchatillon/Documents/Advent-of-Code/2020/13_data.txt\") as f:\n",
    "    data = f.read().splitlines()\n",
    "    timestamp = int(data[0])\n",
    "    buses = [int(time) for time in data[1].split(',') if time != 'x']"
   ]
  },
  {
   "cell_type": "code",
   "execution_count": null,
   "metadata": {},
   "outputs": [],
   "source": [
    "time_to_wait = []\n",
    "for bus in buses:\n",
    "    time_to_wait.append((bus, (timestamp // bus + 1) * bus - timestamp))\n"
   ]
  },
  {
   "cell_type": "code",
   "execution_count": null,
   "metadata": {},
   "outputs": [],
   "source": [
    "good_bus = min(time_to_wait, key=lambda t: t[1])"
   ]
  },
  {
   "cell_type": "code",
   "execution_count": null,
   "metadata": {},
   "outputs": [],
   "source": [
    "import math\n",
    "math.prod(good_bus)"
   ]
  },
  {
   "cell_type": "markdown",
   "metadata": {},
   "source": [
    "# part 2"
   ]
  },
  {
   "cell_type": "markdown",
   "metadata": {},
   "source": [
    "pour un bus donné bi:\n",
    "    \n",
    "bi --> (t + oi) mod ci == 0 // t == temps cherché, oi == offset du bus i, ci == cycle du bus i\n",
    "(t + oi) == 0 mod ci\n",
    "t == -oi mod ci\n",
    "t == ( ci - oi ) mod ci  // pour avoir des entiers"
   ]
  },
  {
   "cell_type": "markdown",
   "metadata": {},
   "source": [
    "problèmes des restes chinois trouvé sur wiki : https://fr.wikipedia.org/wiki/Th%C3%A9or%C3%A8me_des_restes_chinois"
   ]
  },
  {
   "cell_type": "markdown",
   "metadata": {},
   "source": [
    "équations:\n",
    "x == ai mod ni \n",
    "\n",
    "n = prod(ni)\n",
    "\n",
    "^ni = n / ni\n",
    "\n",
    "inverse vi  de ^ni modulo ni --> vi * ^ni = ei == 1 mod ni\n",
    "\n",
    "ei = 1 mod (ni) et ei == 0 mod(nj) pour j != i\n",
    "\n",
    "t cherché = sum(ai * ei) \n",
    "\n",
    "x <-> t\n",
    "\n",
    "ai <-> -oi\n",
    "\n",
    "ni <-> ci"
   ]
  },
  {
   "cell_type": "code",
   "execution_count": null,
   "metadata": {},
   "outputs": [],
   "source": [
    "with open(\"/home/bchatillon/Documents/Advent-of-Code/2020/13_data.txt\") as f:\n",
    "    data = f.read().splitlines()\n",
    "    timestamp = int(data[0])\n",
    "    buses = [(int(cyle), -offset) for offset, cyle in enumerate(data[1].split(',')) if cyle != 'x']"
   ]
  },
  {
   "cell_type": "code",
   "execution_count": null,
   "metadata": {},
   "outputs": [],
   "source": [
    "buses"
   ]
  },
  {
   "cell_type": "code",
   "execution_count": null,
   "metadata": {},
   "outputs": [],
   "source": [
    "import math\n",
    "tot_pow = math.prod(map(lambda t: t[0], buses))\n",
    "print(tot_pow)\n",
    "t = 0\n",
    "\n",
    "for ni, ai in buses:\n",
    "    ni_hat = tot_pow // ni\n",
    "    \n",
    "    vi = pow(ni_hat, -1, ni)\n",
    "    ei = ni_hat * vi\n",
    "    \n",
    "    t += ai*ei\n",
    "    t %= tot_pow"
   ]
  },
  {
   "cell_type": "code",
   "execution_count": null,
   "metadata": {},
   "outputs": [],
   "source": [
    "t"
   ]
  }
 ],
 "metadata": {
  "language_info": {
   "name": "python",
   "pygments_lexer": "ipython3"
  }
 },
 "nbformat": 4,
 "nbformat_minor": 2
}
