{
 "cells": [
  {
   "cell_type": "code",
   "execution_count": null,
   "metadata": {},
   "outputs": [],
   "source": [
    "import os\n",
    "from pathlib import Path\n",
    "from aocd.models import Puzzle\n",
    "import collections\n",
    "import numpy as np\n",
    "import re\n",
    "from statistics import median, mean\n",
    "import math\n",
    "import queue\n",
    "import itertools\n",
    "import more_itertools\n",
    "infinite_defaultdict = lambda: collections.defaultdict(infinite_defaultdict)\n",
    "from copy import copy\n",
    "import functools\n",
    "import heapq\n",
    "import operator\n",
    "from tqdm.notebook import trange, tqdm\n",
    "import networkx as nx\n",
    "import pprint\n",
    "from PIL import Image, ImageDraw\n",
    "import bisect\n",
    "import scipy as sp\n",
    "import matplotlib.pyplot as plt\n",
    "import pylab\n",
    "from scipy import ndimage"
   ]
  },
  {
   "cell_type": "markdown",
   "metadata": {
    "jp-MarkdownHeadingCollapsed": true
   },
   "source": [
    "# Day 1"
   ]
  },
  {
   "cell_type": "code",
   "execution_count": null,
   "metadata": {},
   "outputs": [],
   "source": [
    "puzzle = Puzzle(2024, 1)"
   ]
  },
  {
   "cell_type": "code",
   "execution_count": null,
   "metadata": {},
   "outputs": [],
   "source": [
    "data = [list(map(int, line.split(\"   \"))) for line in puzzle.input_data.split(\"\\n\")]"
   ]
  },
  {
   "cell_type": "markdown",
   "metadata": {},
   "source": [
    "## Part 1 "
   ]
  },
  {
   "cell_type": "code",
   "execution_count": null,
   "metadata": {},
   "outputs": [],
   "source": [
    "sorted_data = [sorted(ls) for ls in zip(*data)]\n",
    "res_a = sum(abs(x - y) for x, y in zip(*sorted_data))"
   ]
  },
  {
   "cell_type": "code",
   "execution_count": null,
   "metadata": {},
   "outputs": [],
   "source": [
    "puzzle.answer_a = res_a"
   ]
  },
  {
   "cell_type": "markdown",
   "metadata": {},
   "source": [
    "## Part 2"
   ]
  },
  {
   "cell_type": "code",
   "execution_count": null,
   "metadata": {},
   "outputs": [],
   "source": [
    "x_counted = collections.Counter(x for x, _ in data)\n",
    "y_counted = collections.Counter(y for _, y in data)"
   ]
  },
  {
   "cell_type": "code",
   "execution_count": null,
   "metadata": {},
   "outputs": [],
   "source": [
    "res_b = sum(xk * xv * y_counted[xk] for xk, xv in x_counted.items())"
   ]
  },
  {
   "cell_type": "code",
   "execution_count": null,
   "metadata": {},
   "outputs": [],
   "source": [
    "puzzle.answer_b = res_b"
   ]
  },
  {
   "cell_type": "markdown",
   "metadata": {
    "jp-MarkdownHeadingCollapsed": true
   },
   "source": [
    "# Day 2"
   ]
  },
  {
   "cell_type": "code",
   "execution_count": null,
   "metadata": {},
   "outputs": [],
   "source": [
    "puzzle = Puzzle(2024, 2)"
   ]
  },
  {
   "cell_type": "code",
   "execution_count": null,
   "metadata": {},
   "outputs": [],
   "source": [
    "data = [list(map(int, line.split(\" \"))) for line in puzzle.input_data.split(\"\\n\")]"
   ]
  },
  {
   "cell_type": "code",
   "execution_count": null,
   "metadata": {},
   "outputs": [],
   "source": [
    "data_test = \"\"\"7 6 4 2 1\n",
    "1 2 7 8 9\n",
    "9 7 6 2 1\n",
    "1 3 2 4 5\n",
    "8 6 4 4 1\n",
    "1 3 6 7 9\"\"\""
   ]
  },
  {
   "cell_type": "code",
   "execution_count": null,
   "metadata": {},
   "outputs": [],
   "source": [
    "data_test = [list(map(int, line.split(\" \"))) for line in data_test.split(\"\\n\")]"
   ]
  },
  {
   "cell_type": "code",
   "execution_count": null,
   "metadata": {},
   "outputs": [],
   "source": [
    "data_test"
   ]
  },
  {
   "cell_type": "markdown",
   "metadata": {},
   "source": [
    "## Part 1 "
   ]
  },
  {
   "cell_type": "code",
   "execution_count": null,
   "metadata": {},
   "outputs": [],
   "source": [
    "def valid_ascend(seq):\n",
    "    return all(a < b < a + 4 for a, b in itertools.pairwise(seq))\n",
    "\n",
    "def valid_descend(seq):\n",
    "    return all(a > b > a - 4 for a, b in itertools.pairwise(seq))\n",
    "    \n",
    "def valid_sequence(seq):\n",
    "    return valid_ascend(seq) or valid_descend(seq)\n"
   ]
  },
  {
   "cell_type": "code",
   "execution_count": null,
   "metadata": {},
   "outputs": [],
   "source": [
    "res_a = sum(valid_sequence(sequence) for  sequence in data)\n",
    "res_a"
   ]
  },
  {
   "cell_type": "code",
   "execution_count": null,
   "metadata": {},
   "outputs": [],
   "source": [
    "puzzle.answer_a = res_a"
   ]
  },
  {
   "cell_type": "markdown",
   "metadata": {},
   "source": [
    "## Part 2"
   ]
  },
  {
   "cell_type": "code",
   "execution_count": null,
   "metadata": {},
   "outputs": [],
   "source": [
    "def valid_ascend_b(seq):\n",
    "    for i, (a, b) in enumerate(itertools.pairwise(seq)):\n",
    "        if not (a < b < a + 4):\n",
    "            return False, i\n",
    "    return True, len(seq)\n",
    "            \n",
    "\n",
    "def valid_descend_b(seq):\n",
    "    for i, (a, b) in enumerate(itertools.pairwise(seq)):\n",
    "        if not (a > b > a - 4):\n",
    "            return False, i\n",
    "    return True, len(seq)\n",
    "\n",
    "def valid_sequence_b(sequence):\n",
    "    valid, i = valid_ascend_b(sequence)\n",
    "    if valid:\n",
    "        return True\n",
    "\n",
    "    for offset in range(2):\n",
    "        valid, _ = valid_ascend_b(sequence[i - 1 + offset: i + offset] + sequence[i + 1 + offset:])\n",
    "        if valid:\n",
    "            return True\n",
    "\n",
    "    valid, i = valid_descend_b(sequence)\n",
    "    if valid:\n",
    "        return True\n",
    "        \n",
    "    for offset in range(2):\n",
    "        valid, _ = valid_descend_b(sequence[i - 1 + offset: i + offset] + sequence[i + 1 + offset:])\n",
    "        if valid:\n",
    "            return True\n",
    "            \n",
    "    return False\n",
    "    "
   ]
  },
  {
   "cell_type": "code",
   "execution_count": null,
   "metadata": {},
   "outputs": [],
   "source": [
    "res_b = sum(valid_sequence_b(sequence) for sequence in data)\n",
    "res_b"
   ]
  },
  {
   "cell_type": "code",
   "execution_count": null,
   "metadata": {},
   "outputs": [],
   "source": [
    "puzzle.answer_b = res_b"
   ]
  },
  {
   "cell_type": "markdown",
   "metadata": {
    "jp-MarkdownHeadingCollapsed": true
   },
   "source": [
    "# Day 3"
   ]
  },
  {
   "cell_type": "code",
   "execution_count": null,
   "metadata": {},
   "outputs": [],
   "source": [
    "puzzle = Puzzle(2024, 3)"
   ]
  },
  {
   "cell_type": "code",
   "execution_count": null,
   "metadata": {},
   "outputs": [],
   "source": [
    "data_test = \"xmul(2,4)%&mul[3,7]!@^do_not_mul(5,5)+mul(32,64]then(mul(11,8)mul(8,5))\""
   ]
  },
  {
   "cell_type": "markdown",
   "metadata": {},
   "source": [
    "## Part 1 "
   ]
  },
  {
   "cell_type": "code",
   "execution_count": null,
   "metadata": {},
   "outputs": [],
   "source": [
    "mul_regex = re.compile(\"mul\\((?P<X>\\d{1,3}),(?P<Y>\\d{1,3})\\)\")\n",
    "def parse_mul(data):\n",
    "    return sum(int(m[\"X\"])*int(m[\"Y\"]) for m in re.finditer(mul_regex, data))"
   ]
  },
  {
   "cell_type": "code",
   "execution_count": null,
   "metadata": {},
   "outputs": [],
   "source": [
    "res_a = parse_mul(puzzle.input_data)\n",
    "res_a"
   ]
  },
  {
   "cell_type": "code",
   "execution_count": null,
   "metadata": {},
   "outputs": [],
   "source": [
    "puzzle.answer_a = res_a"
   ]
  },
  {
   "cell_type": "markdown",
   "metadata": {},
   "source": [
    "## Part 2"
   ]
  },
  {
   "cell_type": "code",
   "execution_count": null,
   "metadata": {},
   "outputs": [],
   "source": [
    "remove_dont_regex = re.compile(r\"don't\\(\\).*?(?=(do(n't)?\\(\\)|$))\", re.S)"
   ]
  },
  {
   "cell_type": "code",
   "execution_count": null,
   "metadata": {},
   "outputs": [],
   "source": [
    "re.match(re.compile(\".*\"), \"\\n\")"
   ]
  },
  {
   "cell_type": "code",
   "execution_count": null,
   "metadata": {},
   "outputs": [],
   "source": [
    "data_test = \"don't()don't()bdon't()cdo()adon't()\\ndo()ddodon't()d\""
   ]
  },
  {
   "cell_type": "code",
   "execution_count": null,
   "metadata": {},
   "outputs": [],
   "source": [
    "for m in re.finditer(remove_dont_regex, data_test):\n",
    "    print(m.group())\n",
    "    print()"
   ]
  },
  {
   "cell_type": "code",
   "execution_count": null,
   "metadata": {},
   "outputs": [],
   "source": [
    "data_do = re.sub(remove_dont_regex, \"\", puzzle.input_data)"
   ]
  },
  {
   "cell_type": "code",
   "execution_count": null,
   "metadata": {},
   "outputs": [],
   "source": [
    "answer_b = parse_mul(data_do)\n",
    "answer_b"
   ]
  },
  {
   "cell_type": "code",
   "execution_count": null,
   "metadata": {},
   "outputs": [],
   "source": [
    "puzzle.answer_b = answer_b"
   ]
  },
  {
   "cell_type": "markdown",
   "metadata": {
    "jp-MarkdownHeadingCollapsed": true
   },
   "source": [
    "# Day 4"
   ]
  },
  {
   "cell_type": "code",
   "execution_count": null,
   "metadata": {},
   "outputs": [],
   "source": [
    "puzzle = Puzzle(2024, 4)"
   ]
  },
  {
   "cell_type": "code",
   "execution_count": null,
   "metadata": {},
   "outputs": [],
   "source": [
    "data_test = \"\"\"MMMSXXMASM\n",
    "MSAMXMSMSA\n",
    "AMXSXMAAMM\n",
    "MSAMASMSMX\n",
    "XMASAMXAMM\n",
    "XXAMMXXAMA\n",
    "SMSMSASXSS\n",
    "SAXAMASAAA\n",
    "MAMMMXMMMM\n",
    "MXMXAXMASX\"\"\"\n",
    "grid_test = np.array([list(line) for line in data_test.split(\"\\n\")])\n",
    "grid = np.array([list(line) for line in puzzle.input_data.split(\"\\n\")])"
   ]
  },
  {
   "cell_type": "markdown",
   "metadata": {},
   "source": [
    "## Part 1 "
   ]
  },
  {
   "cell_type": "code",
   "execution_count": null,
   "metadata": {},
   "outputs": [],
   "source": [
    "def count_occurence(lst: list[str], word: str) -> int:\n",
    "    lst_str = \"\".join(lst)\n",
    "    # print(f\"{lst_str:10} -> {word}: {lst_str.count(word)} {word[::-1]}: {lst_str.count(word[::-1])}\")\n",
    "    return lst_str.count(word) + lst_str.count(word[::-1])"
   ]
  },
  {
   "cell_type": "code",
   "execution_count": null,
   "metadata": {},
   "outputs": [],
   "source": [
    "def get_all_word_occurence(grid, word):\n",
    "    occurences = 0\n",
    "    x, y = grid.shape\n",
    "    gird_sym = np.fliplr(grid)\n",
    "    \n",
    "    for xi in range(x):\n",
    "        occurences += count_occurence(grid[xi, :], word)\n",
    "    \n",
    "    for yi in range(y):\n",
    "        occurences += count_occurence(grid[:, yi], word)\n",
    "    \n",
    "    for di in range(-x + 1, y):\n",
    "        occurences += count_occurence(grid.diagonal(di), word)\n",
    "        occurences += count_occurence(gird_sym.diagonal(di), word)\n",
    "\n",
    "    return occurences\n",
    "        "
   ]
  },
  {
   "cell_type": "code",
   "execution_count": null,
   "metadata": {},
   "outputs": [],
   "source": [
    "get_all_word_occurence(grid_test, word)"
   ]
  },
  {
   "cell_type": "code",
   "execution_count": null,
   "metadata": {},
   "outputs": [],
   "source": [
    "answer_a = get_all_word_occurence(grid, word)\n",
    "answer_a"
   ]
  },
  {
   "cell_type": "code",
   "execution_count": null,
   "metadata": {},
   "outputs": [],
   "source": [
    "puzzle.answer_a = answer_a"
   ]
  },
  {
   "cell_type": "markdown",
   "metadata": {},
   "source": [
    "## Part 2"
   ]
  },
  {
   "cell_type": "code",
   "execution_count": null,
   "metadata": {},
   "outputs": [],
   "source": [
    "def get_x_mas_occurences(grid):\n",
    "    occurences = 0\n",
    "    x, y = grid.shape\n",
    "    for xi in range(1, x - 1):\n",
    "        for yi in range(1, y - 1):\n",
    "            if grid[xi, yi] != \"A\":\n",
    "                continue\n",
    "            corner = f\"{grid[xi-1, yi-1]}{grid[xi-1, yi+1]}{grid[xi+1, yi+1]}{grid[xi+1, yi-1]}\"\n",
    "            occurences += corner in [\"SSMM\", \"SMMS\", \"MMSS\", \"MSSM\"]\n",
    "\n",
    "    return occurences"
   ]
  },
  {
   "cell_type": "code",
   "execution_count": null,
   "metadata": {},
   "outputs": [],
   "source": [
    "get_x_mas_occurences(grid_test)"
   ]
  },
  {
   "cell_type": "code",
   "execution_count": null,
   "metadata": {},
   "outputs": [],
   "source": [
    "answer_b = get_x_mas_occurences(grid)\n",
    "answer_b"
   ]
  },
  {
   "cell_type": "code",
   "execution_count": null,
   "metadata": {},
   "outputs": [],
   "source": [
    "puzzle.answer_b = answer_b"
   ]
  },
  {
   "cell_type": "markdown",
   "metadata": {
    "jp-MarkdownHeadingCollapsed": true
   },
   "source": [
    "# Day 5"
   ]
  },
  {
   "cell_type": "code",
   "execution_count": null,
   "metadata": {},
   "outputs": [],
   "source": [
    "puzzle = Puzzle(2024, 5)"
   ]
  },
  {
   "cell_type": "code",
   "execution_count": null,
   "metadata": {},
   "outputs": [],
   "source": [
    "constraints, data = puzzle.input_data.split(\"\\n\\n\")"
   ]
  },
  {
   "cell_type": "code",
   "execution_count": null,
   "metadata": {},
   "outputs": [],
   "source": [
    "input_data_test = \"\"\"47|53\n",
    "97|13\n",
    "97|61\n",
    "97|47\n",
    "75|29\n",
    "61|13\n",
    "75|53\n",
    "29|13\n",
    "97|29\n",
    "53|29\n",
    "61|53\n",
    "97|53\n",
    "61|29\n",
    "47|13\n",
    "75|47\n",
    "97|75\n",
    "47|61\n",
    "75|61\n",
    "47|29\n",
    "75|13\n",
    "53|13\n",
    "\n",
    "75,47,61,53,29\n",
    "97,61,53,29,13\n",
    "75,29,13\n",
    "75,97,47,61,53\n",
    "61,13,29\n",
    "97,13,75,29,47\n",
    "\"\"\""
   ]
  },
  {
   "cell_type": "markdown",
   "metadata": {},
   "source": [
    "## Part 1 "
   ]
  },
  {
   "cell_type": "code",
   "execution_count": null,
   "metadata": {},
   "outputs": [],
   "source": [
    "def parse_data_a(data_input):\n",
    "    constraints, updates = data_input.split(\"\\n\\n\")\n",
    "    \n",
    "    before_constraints = collections.defaultdict(set)\n",
    "    \n",
    "    for constraint in constraints.split():\n",
    "        X, Y = map(int, constraint.split(\"|\"))\n",
    "        before_constraints[Y].add(X)\n",
    "\n",
    "    counter_a = 0\n",
    "    for update in updates.split():\n",
    "        update_pages = list(map(int, update.split(\",\")))\n",
    "        invalid_pages = set()\n",
    "        for i, page in enumerate(update_pages):\n",
    "            if page in invalid_pages:\n",
    "                break\n",
    "                \n",
    "            invalid_pages.update(before_constraints[page])\n",
    "        else:\n",
    "            mid_element = update_pages[(len(update_pages) - 1)//2]\n",
    "            counter_a += mid_element\n",
    "\n",
    "    return counter_a"
   ]
  },
  {
   "cell_type": "code",
   "execution_count": null,
   "metadata": {},
   "outputs": [],
   "source": [
    "parse_data_a(input_data_test)"
   ]
  },
  {
   "cell_type": "code",
   "execution_count": null,
   "metadata": {},
   "outputs": [],
   "source": [
    "answer_a = parse_data_a(puzzle.input_data)\n",
    "answer_a"
   ]
  },
  {
   "cell_type": "code",
   "execution_count": null,
   "metadata": {},
   "outputs": [],
   "source": [
    "puzzle.answer_a = answer_a"
   ]
  },
  {
   "cell_type": "markdown",
   "metadata": {},
   "source": [
    "## Part 2"
   ]
  },
  {
   "cell_type": "code",
   "execution_count": null,
   "metadata": {},
   "outputs": [],
   "source": [
    "def parse_data_b(data_input):\n",
    "    constraints, updates = data_input.split(\"\\n\\n\")\n",
    "    \n",
    "    before_constraints = collections.defaultdict(set)\n",
    "    after_constraints = collections.defaultdict(set)\n",
    "    \n",
    "    for constraint in constraints.split():\n",
    "        X, Y = map(int, constraint.split(\"|\"))\n",
    "        before_constraints[Y].add(X)\n",
    "        after_constraints[X].add(Y)\n",
    "\n",
    "    invalid_updates = []\n",
    "    for update in updates.split():\n",
    "        update_pages = list(map(int, update.split(\",\")))\n",
    "        invalid_pages = set()\n",
    "        for i, page in enumerate(update_pages):\n",
    "            if page in invalid_pages:\n",
    "                invalid_updates.append(update_pages)\n",
    "                break\n",
    "                \n",
    "            invalid_pages.update(before_constraints[page])\n",
    "    \n",
    "    counter_b = 0\n",
    "    while invalid_updates:\n",
    "        invalid_update = invalid_updates.pop()\n",
    "        invalid_pages = set()\n",
    "        for i, page in enumerate(invalid_update):\n",
    "            if page in invalid_pages:\n",
    "                for j, before_page in enumerate(invalid_update[:i]):\n",
    "                    if before_page in after_constraints[page]:\n",
    "                        new_update = invalid_update[:j] + [page] + invalid_update[j:i] + invalid_update[i+1:]\n",
    "                        invalid_updates.append(new_update)\n",
    "                        break\n",
    "                break\n",
    "\n",
    "            invalid_pages.update(before_constraints[page])\n",
    "        else:\n",
    "            mid_element = invalid_update[(len(invalid_update) - 1)//2]\n",
    "            counter_b += mid_element\n",
    "        \n",
    "    return counter_b        "
   ]
  },
  {
   "cell_type": "code",
   "execution_count": null,
   "metadata": {},
   "outputs": [],
   "source": [
    "parse_data_b(input_data_test)"
   ]
  },
  {
   "cell_type": "code",
   "execution_count": null,
   "metadata": {},
   "outputs": [],
   "source": [
    "answer_b = parse_data_b(puzzle.input_data)\n",
    "answer_b"
   ]
  },
  {
   "cell_type": "code",
   "execution_count": null,
   "metadata": {},
   "outputs": [],
   "source": [
    "puzzle.answer_b = answer_b"
   ]
  },
  {
   "cell_type": "markdown",
   "metadata": {
    "jp-MarkdownHeadingCollapsed": true
   },
   "source": [
    "# Day 6"
   ]
  },
  {
   "cell_type": "code",
   "execution_count": null,
   "metadata": {},
   "outputs": [],
   "source": [
    "puzzle = Puzzle(2024, 6)"
   ]
  },
  {
   "cell_type": "code",
   "execution_count": null,
   "metadata": {},
   "outputs": [],
   "source": [
    "data_test = \"\"\"....#.....\n",
    ".........#\n",
    "..........\n",
    "..#.......\n",
    ".......#..\n",
    "..........\n",
    ".#..^.....\n",
    "........#.\n",
    "#.........\n",
    "......#...\"\"\""
   ]
  },
  {
   "cell_type": "code",
   "execution_count": null,
   "metadata": {},
   "outputs": [],
   "source": [
    "class Patrol:\n",
    "    def __init__(self, input_data, time_parardox_position=None):\n",
    "        self.obstruction_symbol = \"#\"\n",
    "        self.visited_symbol = \"X\"\n",
    "        self.time_parardox_symbol = \"O\"\n",
    "        self.input_data = input_data\n",
    "        self.time_parardox_position = time_parardox_position    \n",
    "        self.data_map = self.init_data()\n",
    "        if time_parardox_position is not None:\n",
    "            self.data_map[time_parardox_position] = self.obstruction_symbol\n",
    "        \n",
    "        self.direction_map = self.data_map.copy()\n",
    "        self.directions_mapping = {\n",
    "            \"<\": (0, -1),\n",
    "            \"^\": (-1, 0),\n",
    "            \">\": (0, 1),\n",
    "            \"V\": (1, 0)\n",
    "        }\n",
    "        self.directions = [*self.directions_mapping]\n",
    "        self.guard_direction = None\n",
    "        self.guard_position = None\n",
    "\n",
    "        self.starting_guard_position = self.find_guard_position()\n",
    "        self.valid_time_paradox = self.move_guard()\n",
    "        if time_parardox_position:\n",
    "            self.data_map[time_parardox_position] = self.time_parardox_symbol\n",
    "\n",
    "    def init_data(self):\n",
    "        return np.array(list(map(list, self.input_data.split(\"\\n\"))))\n",
    "\n",
    "    def find_guard_position(self):\n",
    "        for direction in self.directions_mapping:\n",
    "            if coord := (np.argwhere(self.data_map == direction).tolist()):\n",
    "                guard_position = tuple(coord[0])\n",
    "                self.guard_position = guard_position\n",
    "                self.guard_direction  = self.data_map[guard_position]\n",
    "                return guard_position\n",
    "\n",
    "    def move_guard(self):\n",
    "        hold = False\n",
    "\n",
    "        while True :\n",
    "            self.data_map[self.guard_position] = self.visited_symbol\n",
    "            if not hold:\n",
    "                # whenever a guard hit a obstuction, we want to keep the way he hit it instead of writing his next move\n",
    "                self.direction_map[self.guard_position] = self.guard_direction\n",
    "            else:\n",
    "                hold = False\n",
    "            \n",
    "            next_guard_position = self.new_position(self.guard_position, self.guard_direction)\n",
    "            \n",
    "            # Out of bound end part a\n",
    "            if not self.position_in_map(next_guard_position):\n",
    "                return False\n",
    "\n",
    "            # Already visited position with same direction part b\n",
    "            if self.direction_map[next_guard_position] == self.guard_direction:\n",
    "                return True\n",
    "\n",
    "            if self.data_map[next_guard_position] == self.obstruction_symbol:\n",
    "                self.rotate_guard()\n",
    "                hold = True\n",
    "            else:\n",
    "                self.guard_position = next_guard_position\n",
    "                self.data_map[self.guard_position] = self.guard_direction\n",
    "\n",
    "    def new_position(self, position, direction):\n",
    "        return tuple(g_p + d for g_p, d in zip(position, self.directions_mapping[direction]))\n",
    "\n",
    "    def rotate_guard(self):\n",
    "        self.guard_direction = self.next_direction()\n",
    "        self.data_map[self.guard_position] = self.guard_direction\n",
    "    \n",
    "    def next_direction(self):\n",
    "        return self.directions[(self.directions.index(self.guard_direction) + 1) % len(self.directions)]\n",
    "\n",
    "    def position_in_map(self, position):\n",
    "        x, y = position\n",
    "        shape_x, shape_y = self.data_map.shape\n",
    "        return 0 <= x < shape_x and 0 <= y < shape_y\n",
    "\n",
    "    def part_a(self):\n",
    "        pprint.pp(self.data_map)\n",
    "        return collections.Counter(self.data_map.flatten())[self.visited_symbol]\n",
    "    \n",
    "    def part_b(self):\n",
    "        data_input = self.data_map.copy()\n",
    "        valid_time_paradox = 0\n",
    "        time_paradoxes = set(map(tuple, np.argwhere(self.data_map == \"X\").tolist()))\n",
    "        \n",
    "        for coord in tqdm(time_paradoxes - {self.starting_guard_position}):\n",
    "            patrol = self.__class__(self.input_data, coord)\n",
    "            if patrol.valid_time_paradox:\n",
    "                valid_time_paradox += 1\n",
    "                self.data_map[coord] = self.time_parardox_symbol\n",
    "\n",
    "        pprint.pp(self.data_map)\n",
    "        return valid_time_paradox"
   ]
  },
  {
   "cell_type": "code",
   "execution_count": null,
   "metadata": {},
   "outputs": [],
   "source": [
    "patrol_test = Patrol(data_test)"
   ]
  },
  {
   "cell_type": "code",
   "execution_count": null,
   "metadata": {},
   "outputs": [],
   "source": [
    "patrol = Patrol(puzzle.input_data)"
   ]
  },
  {
   "cell_type": "markdown",
   "metadata": {},
   "source": [
    "## Part 1 "
   ]
  },
  {
   "cell_type": "code",
   "execution_count": null,
   "metadata": {},
   "outputs": [],
   "source": [
    "patrol_test.part_a()"
   ]
  },
  {
   "cell_type": "code",
   "execution_count": null,
   "metadata": {},
   "outputs": [],
   "source": [
    "answer_a = patrol.part_a()\n",
    "answer_a"
   ]
  },
  {
   "cell_type": "code",
   "execution_count": null,
   "metadata": {},
   "outputs": [],
   "source": [
    "puzzle.answer_a = answer_a"
   ]
  },
  {
   "cell_type": "markdown",
   "metadata": {},
   "source": [
    "## Part 2"
   ]
  },
  {
   "cell_type": "code",
   "execution_count": null,
   "metadata": {},
   "outputs": [],
   "source": [
    "patrol_test.part_b()"
   ]
  },
  {
   "cell_type": "code",
   "execution_count": null,
   "metadata": {},
   "outputs": [],
   "source": [
    "answer_b = patrol.part_b()\n",
    "answer_b"
   ]
  },
  {
   "cell_type": "code",
   "execution_count": null,
   "metadata": {},
   "outputs": [],
   "source": [
    "puzzle.answer_b = answer_b"
   ]
  },
  {
   "cell_type": "markdown",
   "metadata": {
    "jp-MarkdownHeadingCollapsed": true
   },
   "source": [
    "# Day 7"
   ]
  },
  {
   "cell_type": "code",
   "execution_count": null,
   "metadata": {},
   "outputs": [],
   "source": [
    "puzzle = Puzzle(2024, 7)"
   ]
  },
  {
   "cell_type": "code",
   "execution_count": null,
   "metadata": {},
   "outputs": [],
   "source": [
    "data = puzzle.input_data.split(\"\\n\")"
   ]
  },
  {
   "cell_type": "code",
   "execution_count": null,
   "metadata": {},
   "outputs": [],
   "source": [
    "data_test = \"\"\"190: 10 19\n",
    "3267: 81 40 27\n",
    "83: 17 5\n",
    "156: 15 6\n",
    "7290: 6 8 6 15\n",
    "161011: 16 10 13\n",
    "192: 17 8 14\n",
    "21037: 9 7 18 13\n",
    "292: 11 6 16 20\"\"\""
   ]
  },
  {
   "cell_type": "code",
   "execution_count": null,
   "metadata": {},
   "outputs": [],
   "source": [
    "class TruthValue:\n",
    "    def __init__(self, input_data_line, debug=False):\n",
    "        self.total, self.numbers = self.parse_input(input_data_line)\n",
    "        self.__valid_a = None\n",
    "        self.__valid_b = None\n",
    "        self.debug = debug\n",
    "\n",
    "    def parse_input(self, input_data_line):\n",
    "            total, numbers = input_data_line.split(\":\")\n",
    "            return int(total), list(map(int, numbers.strip().split(\" \")))\n",
    "\n",
    "    @property\n",
    "    def valid_a(self):\n",
    "        if self.__valid_a is None:\n",
    "            self.__valid_a = self._parse(self.numbers[0], self.numbers[1:], f\"{self.numbers[0]}\", part=\"a\")\n",
    "        \n",
    "        return self.__valid_a\n",
    "\n",
    "    @property\n",
    "    def valid_b(self):\n",
    "        if self.__valid_b is None:\n",
    "            self.__valid_b = self._parse(self.numbers[0], self.numbers[1:], f\"{self.numbers[0]}\", part=\"b\")\n",
    "        \n",
    "        return self.__valid_b\n",
    "\n",
    "    def _parse(self, total, numbers, tracking, part):\n",
    "        if self.debug:\n",
    "            print(f\"{self.total} -> {total} = {tracking}\")\n",
    "        if not numbers:\n",
    "            return self.total == total\n",
    "        # Early break\n",
    "        if total > self.total:\n",
    "            return False\n",
    "            \n",
    "        first_n = numbers.pop(0)\n",
    "\n",
    "        if part == \"b\":\n",
    "            valid = self._parse(int(f\"{total}{first_n}\"), numbers[:], f\"{tracking} || {first_n}\", part)\n",
    "            # Early break b\n",
    "            if valid:\n",
    "                return valid\n",
    "                \n",
    "        valid = self._parse(total + first_n, numbers[:], f\"{tracking} + {first_n}\", part)\n",
    "        # Early break 2\n",
    "        if valid:\n",
    "            return valid\n",
    "        \n",
    "        valid = self._parse(total * first_n, numbers[:], f\"{tracking} * {first_n}\", part)\n",
    "        return valid        \n",
    "        "
   ]
  },
  {
   "cell_type": "code",
   "execution_count": null,
   "metadata": {},
   "outputs": [],
   "source": [
    "tvs_test = [TruthValue(line, debug=True) for line in data_test.split(\"\\n\")]\n",
    "tvs = [TruthValue(line) for line in puzzle.input_data.split(\"\\n\")]"
   ]
  },
  {
   "cell_type": "markdown",
   "metadata": {},
   "source": [
    "## Part 1 "
   ]
  },
  {
   "cell_type": "code",
   "execution_count": null,
   "metadata": {},
   "outputs": [],
   "source": [
    "sum(tv_test.total for tv_test in tvs_test if tv_test.valid_a)"
   ]
  },
  {
   "cell_type": "code",
   "execution_count": null,
   "metadata": {},
   "outputs": [],
   "source": [
    "answer_b = 0\n",
    "for tv in tqdm(tvs):\n",
    "    if tv.valid_a:\n",
    "        answer_a += tv.total\n",
    "answer_a"
   ]
  },
  {
   "cell_type": "code",
   "execution_count": null,
   "metadata": {},
   "outputs": [],
   "source": [
    "puzzle.answer_a = answer_a"
   ]
  },
  {
   "cell_type": "markdown",
   "metadata": {},
   "source": [
    "## Part 2"
   ]
  },
  {
   "cell_type": "code",
   "execution_count": null,
   "metadata": {},
   "outputs": [],
   "source": [
    "sum(tv_test.total for tv_test in tvs_test if tv_test.valid_b)"
   ]
  },
  {
   "cell_type": "code",
   "execution_count": null,
   "metadata": {
    "scrolled": true
   },
   "outputs": [],
   "source": [
    "answer_b = 0\n",
    "for tv in tqdm(tvs):\n",
    "    if tv.valid_b:\n",
    "        answer_b += tv.total\n",
    "answer_b"
   ]
  },
  {
   "cell_type": "code",
   "execution_count": null,
   "metadata": {},
   "outputs": [],
   "source": [
    "puzzle.answer_b = answer_b"
   ]
  },
  {
   "cell_type": "markdown",
   "metadata": {
    "jp-MarkdownHeadingCollapsed": true
   },
   "source": [
    "# Day 8"
   ]
  },
  {
   "cell_type": "code",
   "execution_count": null,
   "metadata": {},
   "outputs": [],
   "source": [
    "puzzle = Puzzle(2024, 8)"
   ]
  },
  {
   "cell_type": "code",
   "execution_count": null,
   "metadata": {},
   "outputs": [],
   "source": [
    "input_test = \"\"\"............\n",
    "........0...\n",
    ".....0......\n",
    ".......0....\n",
    "....0.......\n",
    "......A.....\n",
    "............\n",
    "............\n",
    "........A...\n",
    ".........A..\n",
    "............\n",
    "............\"\"\""
   ]
  },
  {
   "cell_type": "code",
   "execution_count": null,
   "metadata": {},
   "outputs": [],
   "source": [
    "def parse_data(data):\n",
    "    storage = collections.defaultdict(set)\n",
    "    for x, line in enumerate(data.split(\"\\n\")):\n",
    "        for y, char in enumerate(line):\n",
    "            if char != \".\":\n",
    "                storage[char].add((x, y))\n",
    "\n",
    "    return storage, x + 1, y + 1\n",
    "        "
   ]
  },
  {
   "cell_type": "markdown",
   "metadata": {},
   "source": [
    "## Part 1 "
   ]
  },
  {
   "cell_type": "code",
   "execution_count": null,
   "metadata": {},
   "outputs": [],
   "source": [
    "def part_a(data):\n",
    "    \n",
    "    data_storage, x_max, y_max = parse_data(data)\n",
    "    \n",
    "    antinodes = set()\n",
    "    for signal, values in data_storage.items():\n",
    "        for combination in itertools.combinations(values, r=2):\n",
    "            p1, p2 = combination\n",
    "            diff = tuple(p2_i - p1_i for p1_i, p2_i in zip(p1, p2))\n",
    "            p1_antinode = tuple(p1_i - diff_i for p1_i, diff_i in zip(p1, diff))\n",
    "            p2_antinode = tuple(p2_i + diff_i for p2_i, diff_i in zip(p2, diff))\n",
    "            \n",
    "            for new_antinode in [p1_antinode, p2_antinode]:\n",
    "                new_antinode_x, new_antinode_y = new_antinode\n",
    "                \n",
    "                if 0 <= new_antinode_x < x_max and 0 <= new_antinode_y < y_max:\n",
    "                    antinodes.add(new_antinode)\n",
    "\n",
    "    debug = np.full((x_max, y_max), \".\")\n",
    "\n",
    "    for antinode in antinodes:\n",
    "        debug[antinode] = \"#\"\n",
    "    \n",
    "    for signal, values in data_storage.items():\n",
    "        for v in values:\n",
    "            debug[v] = signal\n",
    "                    \n",
    "    return len(antinodes), debug"
   ]
  },
  {
   "cell_type": "code",
   "execution_count": null,
   "metadata": {},
   "outputs": [],
   "source": [
    "antinodes_test, debug_test = part_a(input_test)"
   ]
  },
  {
   "cell_type": "code",
   "execution_count": null,
   "metadata": {
    "scrolled": true
   },
   "outputs": [],
   "source": [
    "antinodes_test"
   ]
  },
  {
   "cell_type": "code",
   "execution_count": null,
   "metadata": {},
   "outputs": [],
   "source": [
    "pprint.pp(debug_test)"
   ]
  },
  {
   "cell_type": "code",
   "execution_count": null,
   "metadata": {},
   "outputs": [],
   "source": [
    "answer_a, _ = part_a(puzzle.input_data)\n",
    "answer_a"
   ]
  },
  {
   "cell_type": "code",
   "execution_count": null,
   "metadata": {},
   "outputs": [],
   "source": [
    "puzzle.answer_a = answer_a"
   ]
  },
  {
   "cell_type": "markdown",
   "metadata": {},
   "source": [
    "## Part 2"
   ]
  },
  {
   "cell_type": "code",
   "execution_count": null,
   "metadata": {},
   "outputs": [],
   "source": [
    "def part_b(data):\n",
    "    \n",
    "    data_storage, x_max, y_max = parse_data(data)\n",
    "    \n",
    "    antinodes = set()\n",
    "    for signal, values in data_storage.items():\n",
    "        for combination in itertools.combinations(values, r=2):\n",
    "            p1, p2 = combination\n",
    "            antinodes.update([p1, p2])\n",
    "            \n",
    "            diff = tuple(p2_i - p1_i for p1_i, p2_i in zip(p1, p2))\n",
    "            \n",
    "            antinode = p1\n",
    "            while(True):\n",
    "                antinode = tuple(a_i - diff_i for a_i, diff_i  in zip(antinode, diff))\n",
    "                antinode_x, antinode_y = antinode\n",
    "                if not 0 <= antinode_x < x_max or not 0 <= antinode_y < y_max:\n",
    "                    break\n",
    "                    \n",
    "                antinodes.add(antinode)\n",
    "\n",
    "            antinode = p2\n",
    "            while(True):\n",
    "                antinode = tuple(a_i + diff_i for a_i, diff_i in zip(antinode, diff))\n",
    "                antinode_x, antinode_y = antinode\n",
    "                if not (0 <= antinode_x < x_max) or not (0 <= antinode_y < y_max):\n",
    "                    break\n",
    "                    \n",
    "                antinodes.add(antinode)\n",
    "\n",
    "    debug = np.full((x_max, y_max), \".\")\n",
    "\n",
    "    for antinode in antinodes:\n",
    "        debug[antinode] = \"#\"\n",
    "    \n",
    "    for signal, values in data_storage.items():\n",
    "        for v in values:\n",
    "            debug[v] = signal\n",
    "                    \n",
    "    return len(antinodes), debug"
   ]
  },
  {
   "cell_type": "code",
   "execution_count": null,
   "metadata": {},
   "outputs": [],
   "source": [
    "antinodes_test_b, debug_test_b = part_b(input_test)"
   ]
  },
  {
   "cell_type": "code",
   "execution_count": null,
   "metadata": {},
   "outputs": [],
   "source": [
    "antinodes_test_b"
   ]
  },
  {
   "cell_type": "code",
   "execution_count": null,
   "metadata": {},
   "outputs": [],
   "source": [
    "debug_test_b"
   ]
  },
  {
   "cell_type": "code",
   "execution_count": null,
   "metadata": {},
   "outputs": [],
   "source": [
    "answer_b, _ = part_b(puzzle.input_data)\n",
    "answer_b"
   ]
  },
  {
   "cell_type": "code",
   "execution_count": null,
   "metadata": {},
   "outputs": [],
   "source": [
    "puzzle.answer_b = answer_b"
   ]
  },
  {
   "cell_type": "markdown",
   "metadata": {
    "jp-MarkdownHeadingCollapsed": true
   },
   "source": [
    "# Day 9"
   ]
  },
  {
   "cell_type": "code",
   "execution_count": null,
   "metadata": {},
   "outputs": [],
   "source": [
    "puzzle = Puzzle(2024, 9)"
   ]
  },
  {
   "cell_type": "code",
   "execution_count": null,
   "metadata": {},
   "outputs": [],
   "source": [
    "data = puzzle.input_data"
   ]
  },
  {
   "cell_type": "code",
   "execution_count": null,
   "metadata": {},
   "outputs": [],
   "source": [
    "data_test = \"2333133121414131402\""
   ]
  },
  {
   "cell_type": "markdown",
   "metadata": {},
   "source": [
    "## Part 1 "
   ]
  },
  {
   "cell_type": "code",
   "execution_count": null,
   "metadata": {},
   "outputs": [],
   "source": [
    "def part_a(data, debug=False):\n",
    "    mapping = {}\n",
    "    position = 0\n",
    "    for ID, element in enumerate(list(data)):\n",
    "        for _ in range(int(element)):\n",
    "            mapping[position] = ID // 2 if ID % 2 == 0 else \".\"\n",
    "            position += 1\n",
    "            \n",
    "    start, end = 0, len(mapping) - 1\n",
    "    while True:\n",
    "        if debug:\n",
    "            print(\"\".join(str(mapping[i]) for i in range(len(mapping))))\n",
    "        while mapping[start] != \".\":\n",
    "            start += 1\n",
    "        while mapping[end] == \".\":\n",
    "            end -= 1\n",
    "\n",
    "        if start >= end: \n",
    "            break\n",
    "        \n",
    "        mapping[start] = mapping[end]\n",
    "        mapping[end] = \".\"\n",
    "    \n",
    "    return sum(k * v for k, v in mapping.items() if v != \".\")"
   ]
  },
  {
   "cell_type": "code",
   "execution_count": null,
   "metadata": {},
   "outputs": [],
   "source": [
    "part_a(data_test, True)"
   ]
  },
  {
   "cell_type": "code",
   "execution_count": null,
   "metadata": {},
   "outputs": [],
   "source": [
    "answer_a = part_a(data)\n",
    "answer_a"
   ]
  },
  {
   "cell_type": "code",
   "execution_count": null,
   "metadata": {},
   "outputs": [],
   "source": [
    "puzzle.answer_a = answer_a"
   ]
  },
  {
   "cell_type": "markdown",
   "metadata": {},
   "source": [
    "## Part 2"
   ]
  },
  {
   "cell_type": "code",
   "execution_count": null,
   "metadata": {},
   "outputs": [],
   "source": [
    "Chunk = collections.namedtuple('Chunk', ['ID', 'size'])"
   ]
  },
  {
   "cell_type": "code",
   "execution_count": null,
   "metadata": {},
   "outputs": [],
   "source": [
    "def part_b(data, debug=False):\n",
    "    empty_spaces_mapping = {}\n",
    "    mapping = {}\n",
    "    position = 0\n",
    "    for ID, element in enumerate(list(data)):\n",
    "        size = int(element)\n",
    "        if size and ID % 2 == 0:\n",
    "            chunk_ID =  ID // 2\n",
    "            mapping[position] = Chunk(chunk_ID, size)\n",
    "        else:\n",
    "            empty_spaces_mapping[position] = size\n",
    "        \n",
    "        position += size\n",
    "\n",
    "    max_position = position\n",
    "    \n",
    "    for end in tqdm(range(max_position - 1, -1, -1)):\n",
    "        if end not in mapping:\n",
    "            continue\n",
    "        \n",
    "        if debug:\n",
    "            line = [\".\" for _ in range(max_position)]\n",
    "            for k, chunk in mapping.items():\n",
    "                for i in range(chunk.size):\n",
    "                    line[k + i] = str(chunk.ID)\n",
    "            print(\"\".join(line))\n",
    "            \n",
    "        chunk = mapping[end]\n",
    "        \n",
    "        if chunk.ID > chunk_ID:\n",
    "            continue\n",
    "            \n",
    "        chunk_ID = chunk.ID\n",
    "\n",
    "        for position in range(end):\n",
    "            if position in empty_spaces_mapping:\n",
    "                if chunk.size <= empty_spaces_mapping[position]:\n",
    "                    empty_chunk_size = empty_spaces_mapping.pop(position)\n",
    "                    mapping[position] = chunk\n",
    "                    if empty_chunk_size - chunk.size > 0:\n",
    "                        empty_spaces_mapping[position + chunk.size] = empty_chunk_size - chunk.size\n",
    "\n",
    "                    del mapping[end]\n",
    "                    break\n",
    "\n",
    "    line = [\".\" for _ in range(max_position)]\n",
    "    for k, chunk in mapping.items():\n",
    "        for i in range(chunk.size):\n",
    "            line[k + i] = str(chunk.ID)\n",
    "    \n",
    "    return sum((k + i) * chunk.ID for k, chunk in mapping.items() for i in range(chunk.size))"
   ]
  },
  {
   "cell_type": "code",
   "execution_count": null,
   "metadata": {},
   "outputs": [],
   "source": [
    "def part_b_faster(data, debug=False):\n",
    "    empty_sapces_sizes = collections.defaultdict(list)\n",
    "    empty_sapces_mapping = {}\n",
    "    max_empty_size = 9\n",
    "    mapping = {}\n",
    "    position = 0\n",
    "    for ID, element in enumerate(list(data)):\n",
    "        size = int(element)\n",
    "        if size and ID % 2 == 0:\n",
    "            chunk_ID =  ID // 2\n",
    "            mapping[position] = Chunk(chunk_ID, size)\n",
    "        else:\n",
    "            for i in range(1, size + 1):\n",
    "                empty_sapces_sizes[i].append(position)\n",
    "        \n",
    "        position += size\n",
    "\n",
    "    max_position = position\n",
    "    \n",
    "    for end in tqdm(range(max_position - 1, -1, -1)):\n",
    "        if end not in mapping:\n",
    "            continue\n",
    "        \n",
    "        if debug:\n",
    "            line = [\".\" for _ in range(max_position)]\n",
    "            for k, chunk in mapping.items():\n",
    "                for i in range(chunk.size):\n",
    "                    line[k + i] = str(chunk.ID)\n",
    "            print(\"\".join(line))\n",
    "            \n",
    "        chunk = mapping[end]\n",
    "        \n",
    "        if chunk.ID > chunk_ID:\n",
    "            continue\n",
    "        chunk_ID = chunk.ID\n",
    "\n",
    "        for wanted_size in range(chunk.size, max_empty_size + 1):\n",
    "            if not empty_sapces_sizes[wanted_size]:\n",
    "                continue\n",
    "            empty_space_position = empty_sapces_sizes[wanted_size][0]\n",
    "            if empty_space_position >= end:\n",
    "                break\n",
    "                \n",
    "            for j in range(1, max_empty_size + 1):\n",
    "                try:\n",
    "                    empty_sapces_sizes[j].remove(empty_space_position)\n",
    "                    max_space = j\n",
    "                except ValueError:\n",
    "                    break\n",
    "                    \n",
    "            new_empty_space_position = empty_space_position + chunk.size\n",
    "            for j in range(1, max_space + 1 - chunk.size):\n",
    "                bisect.insort_left(empty_sapces_sizes[j], new_empty_space_position)\n",
    "\n",
    "            mapping[empty_space_position] = chunk\n",
    "            del mapping[end]\n",
    "            break\n",
    "            \n",
    "    return sum((k + i) * chunk.ID for k, chunk in mapping.items() for i in range(chunk.size))"
   ]
  },
  {
   "cell_type": "code",
   "execution_count": null,
   "metadata": {},
   "outputs": [],
   "source": [
    "part_b(data_test, True)"
   ]
  },
  {
   "cell_type": "code",
   "execution_count": null,
   "metadata": {},
   "outputs": [],
   "source": [
    "part_b_faster(data_test, True)"
   ]
  },
  {
   "cell_type": "code",
   "execution_count": null,
   "metadata": {},
   "outputs": [],
   "source": [
    "answer_b = part_b(data)\n",
    "answer_b"
   ]
  },
  {
   "cell_type": "code",
   "execution_count": null,
   "metadata": {},
   "outputs": [],
   "source": [
    "answer_b_faster = part_b_faster(data)\n",
    "answer_b_faster"
   ]
  },
  {
   "cell_type": "markdown",
   "metadata": {
    "jp-MarkdownHeadingCollapsed": true
   },
   "source": [
    "# Day 10"
   ]
  },
  {
   "cell_type": "code",
   "execution_count": null,
   "metadata": {},
   "outputs": [],
   "source": [
    "puzzle = Puzzle(2024, 10)"
   ]
  },
  {
   "cell_type": "code",
   "execution_count": null,
   "metadata": {},
   "outputs": [],
   "source": [
    "data_test = \"\"\"89010123\n",
    "78121874\n",
    "87430965\n",
    "96549874\n",
    "45678903\n",
    "32019012\n",
    "01329801\n",
    "10456732\"\"\""
   ]
  },
  {
   "cell_type": "code",
   "execution_count": null,
   "metadata": {},
   "outputs": [],
   "source": [
    "def get_graph(data):\n",
    "    data = np.array(list(map(list, data.split(\"\\n\"))))\n",
    "    graph = nx.grid_2d_graph(*data.shape, create_using=nx.DiGraph)\n",
    "    starting_nodes = set()\n",
    "    end_nodes = set()\n",
    "    \n",
    "    for node, value in np.ndenumerate(data):\n",
    "        graph.nodes[node][\"value\"] = int(value) if value != \".\" else value\n",
    "        if value != \".\":\n",
    "            if int(value) == 0:\n",
    "                starting_nodes.add(node)\n",
    "            elif int(value) == 9:\n",
    "                end_nodes.add(node)\n",
    "        \n",
    "    for n1, n2 in list(graph.edges):\n",
    "        if graph.nodes[n1][\"value\"] == \".\" or graph.nodes[n2][\"value\"] == \".\" or graph.nodes[n2][\"value\"] - graph.nodes[n1][\"value\"] != 1:\n",
    "            graph.remove_edge(n1, n2)\n",
    "    \n",
    "    return graph, starting_nodes, end_nodes"
   ]
  },
  {
   "cell_type": "code",
   "execution_count": null,
   "metadata": {},
   "outputs": [],
   "source": [
    "def plot_graph(graph):\n",
    "    pos = {(x, y):(y, -x) for x, y in graph.nodes}\n",
    "    labels = nx.get_node_attributes(graph, 'value')\n",
    "    nx.draw(graph, labels=labels, pos=pos, with_labels=True)\n",
    "    \n",
    "    plt.show()"
   ]
  },
  {
   "cell_type": "code",
   "execution_count": null,
   "metadata": {},
   "outputs": [],
   "source": [
    "def manhattan_distance(n1, n2):\n",
    "    x1, y1 = n1\n",
    "    x2, y2 = n1\n",
    "    \n",
    "    return abs(x1 - x2) + abs(y1 - y2)"
   ]
  },
  {
   "cell_type": "markdown",
   "metadata": {
    "jp-MarkdownHeadingCollapsed": true
   },
   "source": [
    "## Part 1 "
   ]
  },
  {
   "cell_type": "code",
   "execution_count": null,
   "metadata": {},
   "outputs": [],
   "source": [
    "graph, starting_nodes, end_nodes = get_graph(data_test)"
   ]
  },
  {
   "cell_type": "code",
   "execution_count": null,
   "metadata": {},
   "outputs": [],
   "source": [
    "plot_graph(graph)"
   ]
  },
  {
   "cell_type": "code",
   "execution_count": null,
   "metadata": {},
   "outputs": [],
   "source": [
    "starting_nodes"
   ]
  },
  {
   "cell_type": "code",
   "execution_count": null,
   "metadata": {},
   "outputs": [],
   "source": [
    "end_nodes\n"
   ]
  },
  {
   "cell_type": "code",
   "execution_count": null,
   "metadata": {},
   "outputs": [],
   "source": [
    "def part_a(data):\n",
    "    graph, starting_nodes, end_nodes = get_graph(data)\n",
    "    \n",
    "    \n",
    "    nb_path = 0\n",
    "    for start, end in tqdm(itertools.product(starting_nodes, end_nodes), total=len(starting_nodes)*len(end_nodes)):\n",
    "        if manhattan_distance(start, end) > 9:\n",
    "            continue\n",
    "            \n",
    "        nb_path += nx.has_path(graph, start, end)\n",
    "            \n",
    "    return nb_path"
   ]
  },
  {
   "cell_type": "code",
   "execution_count": null,
   "metadata": {},
   "outputs": [],
   "source": [
    "part_a(data_test)"
   ]
  },
  {
   "cell_type": "code",
   "execution_count": null,
   "metadata": {},
   "outputs": [],
   "source": [
    "answer_a = part_a(puzzle.input_data)\n",
    "answer_a"
   ]
  },
  {
   "cell_type": "code",
   "execution_count": null,
   "metadata": {},
   "outputs": [],
   "source": [
    "puzzle.answer_a = answer_a"
   ]
  },
  {
   "cell_type": "markdown",
   "metadata": {},
   "source": [
    "## Part 2"
   ]
  },
  {
   "cell_type": "code",
   "execution_count": null,
   "metadata": {},
   "outputs": [],
   "source": [
    "def part_b(data):\n",
    "    graph, starting_nodes, end_nodes = get_graph(data)\n",
    "    nb_path = 0\n",
    "    for start, end in tqdm(itertools.product(starting_nodes, end_nodes), total=len(starting_nodes)*len(end_nodes)):\n",
    "        if manhattan_distance(start, end) > 9:\n",
    "            continue\n",
    "            \n",
    "        try:\n",
    "            paths = nx.all_simple_paths(graph, start, end, cutoff=9)\n",
    "            nb_path += len(list(paths))\n",
    "        except nx.NetworkXNoPath:\n",
    "            pass\n",
    "            \n",
    "    return nb_path"
   ]
  },
  {
   "cell_type": "code",
   "execution_count": null,
   "metadata": {},
   "outputs": [],
   "source": [
    "answer_b = part_b(puzzle.input_data)\n",
    "answer_b"
   ]
  },
  {
   "cell_type": "code",
   "execution_count": null,
   "metadata": {},
   "outputs": [],
   "source": [
    "puzzle.answer_b = answer_b"
   ]
  },
  {
   "cell_type": "markdown",
   "metadata": {
    "jp-MarkdownHeadingCollapsed": true
   },
   "source": [
    "# Day 11"
   ]
  },
  {
   "cell_type": "code",
   "execution_count": null,
   "metadata": {},
   "outputs": [],
   "source": [
    "puzzle = Puzzle(2024, 11)"
   ]
  },
  {
   "cell_type": "code",
   "execution_count": null,
   "metadata": {},
   "outputs": [],
   "source": [
    "data_test = \"125 17\""
   ]
  },
  {
   "cell_type": "code",
   "execution_count": null,
   "metadata": {},
   "outputs": [],
   "source": [
    "class StoneA:\n",
    "    def __init__(self, value, next_stone=None):\n",
    "        self.value = value\n",
    "        self.next_stone = next_stone\n",
    "\n",
    "    def update(self):\n",
    "        nb_digit = len(str(self.value))\n",
    "        next_stone = self.next_stone\n",
    "        \n",
    "        if self.value == 0:\n",
    "            self.value = 1\n",
    "            \n",
    "        elif nb_digit % 2 == 0:\n",
    "            n1 = int(str(self.value)[:nb_digit//2])\n",
    "            n2 = int(str(self.value)[nb_digit//2:])\n",
    "            self.value = n1\n",
    "            new_stone = self.__class__(n2, self.next_stone)\n",
    "            self.next_stone = new_stone\n",
    "            \n",
    "        else:\n",
    "            self.value *= 2024\n",
    "\n",
    "        return next_stone\n"
   ]
  },
  {
   "cell_type": "code",
   "execution_count": null,
   "metadata": {},
   "outputs": [],
   "source": [
    "class StonesA:\n",
    "    def __init__(self, data, nb_blink=25):\n",
    "        self.data = data\n",
    "        stones = [StoneA(number) for number in map(int, data.split(\" \"))]\n",
    "        for s1, s2 in itertools.pairwise(stones):\n",
    "            s1.next_stone = s2\n",
    "            s2.previous_stone = s1\n",
    "        self.head = stones[0]\n",
    "\n",
    "        self.nb_blink = nb_blink\n",
    "\n",
    "    def part_a(self, debug=False):\n",
    "        for _ in tqdm(range(self.nb_blink)):\n",
    "            stone = self.head\n",
    "            while(stone):\n",
    "                stone = stone.update()\n",
    "            \n",
    "            if debug:\n",
    "                print(self.length)\n",
    "\n",
    "        return self.length\n",
    "    \n",
    "    @property\n",
    "    def length(self):\n",
    "        stone = self.head\n",
    "        nb_stone = 0\n",
    "        while(stone):\n",
    "            nb_stone += 1\n",
    "            stone = stone.next_stone\n",
    "\n",
    "        return nb_stone\n",
    "            "
   ]
  },
  {
   "cell_type": "markdown",
   "metadata": {},
   "source": [
    "## Part 1 "
   ]
  },
  {
   "cell_type": "code",
   "execution_count": null,
   "metadata": {},
   "outputs": [],
   "source": [
    "answer_a = StonesA(puzzle.input_data).part_a()\n",
    "answer_a"
   ]
  },
  {
   "cell_type": "code",
   "execution_count": null,
   "metadata": {},
   "outputs": [],
   "source": [
    "puzzle.answer_a = answer_a"
   ]
  },
  {
   "cell_type": "markdown",
   "metadata": {},
   "source": [
    "## Part 2"
   ]
  },
  {
   "cell_type": "code",
   "execution_count": null,
   "metadata": {},
   "outputs": [],
   "source": [
    "class StonesB:\n",
    "    def __init__(self, data, nb_blink=75):\n",
    "        self.data = data\n",
    "        self.nb_blink = nb_blink\n",
    "        self.stones = collections.Counter(map(int, data.split(\" \")))\n",
    "\n",
    "\n",
    "    def update(self, stone):\n",
    "        nb_digit = len(str(stone))\n",
    "        \n",
    "        if stone == 0:\n",
    "            return [1]\n",
    "        elif nb_digit % 2 == 0:\n",
    "            n1 = int(str(stone)[:nb_digit//2])\n",
    "            n2 = int(str(stone)[nb_digit//2:])\n",
    "            return [n1, n2            ]\n",
    "        else:\n",
    "            return [stone * 2024]\n",
    "        \n",
    "    def process(self):\n",
    "        stones = self.stones\n",
    "        \n",
    "        for _ in range(self.nb_blink):\n",
    "            new_stones = collections.Counter()\n",
    "            for stone, val in stones.items():\n",
    "                for new_stone in self.update(stone):\n",
    "                    new_stones[new_stone] += val\n",
    "                                      \n",
    "            stones = new_stones\n",
    "        \n",
    "        return sum(stones.values())\n",
    "            "
   ]
  },
  {
   "cell_type": "code",
   "execution_count": null,
   "metadata": {},
   "outputs": [],
   "source": [
    "StonesB(puzzle.input_data, nb_blink=25).process()"
   ]
  },
  {
   "cell_type": "code",
   "execution_count": null,
   "metadata": {},
   "outputs": [],
   "source": [
    "answer_b = StonesB(puzzle.input_data, nb_blink=75).process()\n",
    "answer_b"
   ]
  },
  {
   "cell_type": "code",
   "execution_count": null,
   "metadata": {},
   "outputs": [],
   "source": [
    "puzzle.answer_b = answer_b"
   ]
  },
  {
   "cell_type": "markdown",
   "metadata": {
    "jp-MarkdownHeadingCollapsed": true
   },
   "source": [
    "# Day 12"
   ]
  },
  {
   "cell_type": "code",
   "execution_count": null,
   "metadata": {},
   "outputs": [],
   "source": [
    "puzzle = Puzzle(2024, 12)"
   ]
  },
  {
   "cell_type": "code",
   "execution_count": null,
   "metadata": {},
   "outputs": [],
   "source": [
    "data_test = \"\"\"AAAA\n",
    "BBCD\n",
    "BBCC\n",
    "EEEC\"\"\""
   ]
  },
  {
   "cell_type": "code",
   "execution_count": null,
   "metadata": {},
   "outputs": [],
   "source": [
    "data_test2 = \"\"\"EEEEE\n",
    "EXXXX\n",
    "EEEEE\n",
    "EXXXX\n",
    "EEEEE\"\"\""
   ]
  },
  {
   "cell_type": "code",
   "execution_count": null,
   "metadata": {},
   "outputs": [],
   "source": [
    "data_test3 = \"\"\"RRRRIICCFF\n",
    "RRRRIICCCF\n",
    "VVRRRCCFFF\n",
    "VVRCCCJFFF\n",
    "VVVVCJJCFE\n",
    "VVIVCCJJEE\n",
    "VVIIICJJEE\n",
    "MIIIIIJJEE\n",
    "MIIISIJEEE\n",
    "MMMISSJEEE\"\"\""
   ]
  },
  {
   "cell_type": "code",
   "execution_count": null,
   "metadata": {},
   "outputs": [],
   "source": [
    "def get_graph(data):\n",
    "    data = np.array(list(map(list, data.split(\"\\n\"))))\n",
    "    data = np.pad(data, ((1, 1), (1, 1)), \"constant\", constant_values=\".\")\n",
    "    graph = nx.grid_2d_graph(*data.shape)\n",
    "\n",
    "    \n",
    "    for node, value in np.ndenumerate(data):\n",
    "        graph.nodes[node][\"value\"] = value\n",
    "    \n",
    "    for n1, n2 in list(graph.edges):\n",
    "        if graph.nodes[n1][\"value\"] == graph.nodes[n2][\"value\"]:\n",
    "            graph[n1][n2][\"inner\"] = True\n",
    "        else:\n",
    "            graph[n1][n2][\"inner\"] = False\n",
    "    \n",
    "    return graph"
   ]
  },
  {
   "cell_type": "code",
   "execution_count": null,
   "metadata": {},
   "outputs": [],
   "source": [
    "def get_node_color(node_data):\n",
    "    return (ord(node_data[\"value\"]) - ord(\".\")) / (ord(\"Z\") - ord(\".\"))\n"
   ]
  },
  {
   "cell_type": "code",
   "execution_count": null,
   "metadata": {},
   "outputs": [],
   "source": [
    "def get_edge_color(graph, n1, n2, data):\n",
    "    if graph.nodes[n1][\"value\"] == \".\" and graph.nodes[n2][\"value\"] == \".\":\n",
    "        return \"white\"\n",
    "    if data[\"inner\"]:\n",
    "        return \"blue\"\n",
    "    return \"red\"\n",
    "    "
   ]
  },
  {
   "cell_type": "code",
   "execution_count": null,
   "metadata": {},
   "outputs": [],
   "source": [
    "def plot_graph(graph):\n",
    "    pos = {(x, y):(y, -x) for x, y in graph.nodes}\n",
    "    labels = nx.get_node_attributes(graph, 'value')\n",
    "    edges_color = [get_edge_color(graph, *edge) for edge in graph.edges(data=True)]\n",
    "    node_color = [get_node_color(data) for _, data in graph.nodes(data=True)]\n",
    "    nx.draw(graph, labels=labels, node_color=node_color, edge_color=edges_color, pos=pos, with_labels=True)\n",
    "    \n",
    "    plt.show()"
   ]
  },
  {
   "cell_type": "code",
   "execution_count": null,
   "metadata": {},
   "outputs": [],
   "source": [
    "def get_fence_color(graph, fences, n1, n2, data):\n",
    "    if data[\"inner\"]:\n",
    "        return \"blue\"\n",
    "    for fence in fences:\n",
    "        if n1 in set(fence) and n2 in set(fence):\n",
    "            return \"pink\"\n",
    "    return \"white\"\n",
    "    "
   ]
  },
  {
   "cell_type": "code",
   "execution_count": null,
   "metadata": {},
   "outputs": [],
   "source": [
    "def plot_fence(graph, fences):\n",
    "    pos = {(x, y):(y, -x) for x, y in graph.nodes}\n",
    "    labels = nx.get_node_attributes(graph, 'value')\n",
    "    edges_color = [get_fence_color(graph, fences, *edge)  for edge in graph.edges(data=True)]\n",
    "    node_color = [get_node_color(data) for _, data in graph.nodes(data=True)]\n",
    "    nx.draw(graph, labels=labels, node_color=node_color, edge_color=edges_color, pos=pos, with_labels=True)\n",
    "    \n",
    "    plt.show()"
   ]
  },
  {
   "cell_type": "code",
   "execution_count": null,
   "metadata": {},
   "outputs": [],
   "source": [
    "def get_sub_graph_view(graph):\n",
    "    def filter_edge(n1, n2):\n",
    "        return graph[n1][n2][\"inner\"]\n",
    "        \n",
    "    return nx.subgraph_view(graph, filter_edge=filter_edge)"
   ]
  },
  {
   "cell_type": "markdown",
   "metadata": {},
   "source": [
    "## Part 1 "
   ]
  },
  {
   "cell_type": "code",
   "execution_count": null,
   "metadata": {},
   "outputs": [],
   "source": [
    "test_graph = get_graph(data_test)\n",
    "plot_graph(test_graph)"
   ]
  },
  {
   "cell_type": "code",
   "execution_count": null,
   "metadata": {},
   "outputs": [],
   "source": [
    "plot_graph(get_sub_graph_view(test_graph))"
   ]
  },
  {
   "cell_type": "code",
   "execution_count": null,
   "metadata": {},
   "outputs": [],
   "source": [
    "def part_a(data, debug=False):\n",
    "    graph = get_graph(data)\n",
    "    sub_graph = get_sub_graph_view(graph) \n",
    "    \n",
    "    seen = set()\n",
    "    fence_mapping = {}\n",
    "    for node, data in graph.nodes(data=True):\n",
    "        if data[\"value\"] == \".\" or node in seen:\n",
    "            continue\n",
    "    \n",
    "        nodes = set(nx.bfs_tree(sub_graph, node).nodes)\n",
    "        seen.update(nodes)\n",
    "        fences = set((node, neighbor) for node in nodes for neighbor in graph[node] if neighbor not in nodes)\n",
    "\n",
    "        fence_mapping[frozenset(nodes)] = fences\n",
    "\n",
    "        if debug:\n",
    "            plot_fence(graph, fences)\n",
    "            print(f\"{graph.nodes[next(iter(nodes))]['value']} - size: {len(nodes)} / fence: {len(fences)}\")\n",
    "            \n",
    "    \n",
    "    return sum(len(k) * len(v) for k, v in fence_mapping.items())\n",
    "    "
   ]
  },
  {
   "cell_type": "code",
   "execution_count": null,
   "metadata": {},
   "outputs": [],
   "source": [
    "part_a(data_test, True)"
   ]
  },
  {
   "cell_type": "code",
   "execution_count": null,
   "metadata": {},
   "outputs": [],
   "source": [
    "part_a(data_test2)"
   ]
  },
  {
   "cell_type": "code",
   "execution_count": null,
   "metadata": {},
   "outputs": [],
   "source": [
    "answer_a = part_a(puzzle.input_data)\n",
    "answer_a"
   ]
  },
  {
   "cell_type": "code",
   "execution_count": null,
   "metadata": {},
   "outputs": [],
   "source": [
    "puzzle.answer_a = answer_a"
   ]
  },
  {
   "cell_type": "markdown",
   "metadata": {},
   "source": [
    "## Part 2"
   ]
  },
  {
   "cell_type": "code",
   "execution_count": null,
   "metadata": {},
   "outputs": [],
   "source": [
    "def part_b(data, debug=False):\n",
    "    graph = get_graph(data)\n",
    "    sub_graph = get_sub_graph_view(graph) \n",
    "    seen = set()\n",
    "    fence_mapping = {}\n",
    "    for node, data in graph.nodes(data=True):\n",
    "        if data[\"value\"] == \".\" or node in seen:\n",
    "            continue\n",
    "    \n",
    "        nodes = set(nx.bfs_tree(sub_graph, node).nodes)\n",
    "        seen.update(nodes)\n",
    "        \n",
    "        fences = set()\n",
    "        all_edges = set()\n",
    "\n",
    "        for node in sorted(nodes):\n",
    "            for neighbor in graph[node]:\n",
    "                if neighbor not in nodes:\n",
    "                    all_edges.add((node, neighbor))\n",
    "                    n_x, n_y = node\n",
    "                    ng_x, ng_y = neighbor\n",
    "                    \n",
    "                    if (\n",
    "                        n_x == ng_x\n",
    "                        and ((n_x + 1, n_y), (ng_x + 1, ng_y)) not in all_edges \n",
    "                        and ((n_x - 1, n_y), (ng_x - 1, ng_y)) not in all_edges\n",
    "                        or n_y == ng_y\n",
    "                        and ((n_x, n_y + 1), (ng_x, ng_y + 1)) not in all_edges\n",
    "                        and ((n_x, n_y - 1), (ng_x, ng_y - 1)) not in all_edges\n",
    "                    ):\n",
    "                        fences.add((node, neighbor))\n",
    "                    \n",
    "\n",
    "        \n",
    "        if debug:\n",
    "            plot_fence(graph, fences)\n",
    "            print(f\"{graph.nodes[next(iter(nodes))]['value']} - size: {len(nodes)} / fence: {len(fences)}\")\n",
    "        \n",
    "        fence_mapping[frozenset(nodes)] = fences\n",
    "    \n",
    "    return sum(len(k) * len(v) for k, v in fence_mapping.items())\n",
    "    "
   ]
  },
  {
   "cell_type": "code",
   "execution_count": null,
   "metadata": {},
   "outputs": [],
   "source": [
    "part_b(data_test, True)"
   ]
  },
  {
   "cell_type": "code",
   "execution_count": null,
   "metadata": {},
   "outputs": [],
   "source": [
    "part_b(data_test2)"
   ]
  },
  {
   "cell_type": "code",
   "execution_count": null,
   "metadata": {},
   "outputs": [],
   "source": [
    "part_b(data_test3)"
   ]
  },
  {
   "cell_type": "code",
   "execution_count": null,
   "metadata": {},
   "outputs": [],
   "source": [
    "answer_b = part_b(puzzle.input_data)\n",
    "answer_b"
   ]
  },
  {
   "cell_type": "code",
   "execution_count": null,
   "metadata": {},
   "outputs": [],
   "source": [
    "puzzle.answer_b = answer_b"
   ]
  },
  {
   "cell_type": "markdown",
   "metadata": {
    "jp-MarkdownHeadingCollapsed": true
   },
   "source": [
    "# Day 13"
   ]
  },
  {
   "cell_type": "code",
   "execution_count": null,
   "metadata": {},
   "outputs": [],
   "source": [
    "puzzle = Puzzle(2024, 13)"
   ]
  },
  {
   "cell_type": "code",
   "execution_count": null,
   "metadata": {},
   "outputs": [],
   "source": [
    "data_test = \"\"\"Button A: X+94, Y+34\n",
    "Button B: X+22, Y+67\n",
    "Prize: X=8400, Y=5400\n",
    "\n",
    "Button A: X+26, Y+66\n",
    "Button B: X+67, Y+21\n",
    "Prize: X=12748, Y=12176\n",
    "\n",
    "Button A: X+17, Y+86\n",
    "Button B: X+84, Y+37\n",
    "Prize: X=7870, Y=6450\n",
    "\n",
    "Button A: X+69, Y+23\n",
    "Button B: X+27, Y+71\n",
    "Prize: X=18641, Y=10279\"\"\""
   ]
  },
  {
   "cell_type": "code",
   "execution_count": null,
   "metadata": {},
   "outputs": [],
   "source": [
    "regex_line = re.compile(r\"Button A: X\\+(?P<x1>\\d+), Y\\+(?P<y1>\\d+)\\nButton B: X\\+(?P<x2>\\d+), Y\\+(?P<y2>\\d+)\\nPrize: X=(?P<xs>\\d+), Y=(?P<ys>\\d+)\")\n",
    "def parse_data(data):\n",
    "    for lines in data.split(\"\\n\\n\"):\n",
    "        test = regex_line.match(lines)\n",
    "        gd = test.groupdict()\n",
    "        a = np.array([[gd[\"x1\"], gd[\"x2\"]], [gd[\"y1\"], gd[\"y2\"]]], dtype=int)\n",
    "        b = np.array([gd[\"xs\"], gd[\"ys\"]], dtype=int)\n",
    "        yield a, b\n"
   ]
  },
  {
   "cell_type": "code",
   "execution_count": null,
   "metadata": {},
   "outputs": [],
   "source": [
    "def compute(data, part=\"a\"):\n",
    "    total = 0\n",
    "    for a, b in parse_data(data):\n",
    "        if part == \"b\":\n",
    "            b += 10000000000000\n",
    "\n",
    "        x = np.linalg.solve(a, b)\n",
    "        x = np.round(x).astype(int) # fucking float\n",
    "\n",
    "        if all(a @ x == b) and (part == \"a\" and all(x <= 100) or part == \"b\"):\n",
    "            res = x @ [3, 1]\n",
    "            total += int(res)\n",
    "            \n",
    "    return total\n"
   ]
  },
  {
   "cell_type": "code",
   "execution_count": null,
   "metadata": {},
   "outputs": [],
   "source": [
    "def compute_scipy(data, part=\"a\"):\n",
    "    optimization = np.array([3, 1])\n",
    "    total = 0\n",
    "    for a, b in parse_data(data):\n",
    "        if part == \"a\":\n",
    "            bounds = [(0, 100), (0, 100)]\n",
    "        else:\n",
    "            b += 10000000000000\n",
    "            bounds = [(0, None), (0, None)]\n",
    "\n",
    "        res = sp.optimize.linprog([3, 1], A_eq=a, b_eq=b, bounds=bounds, method=\"highs\", integrality=[1, 1])\n",
    "            \n",
    "        if res.success:\n",
    "            total += int(res.fun)\n",
    "            \n",
    "    return total"
   ]
  },
  {
   "cell_type": "markdown",
   "metadata": {},
   "source": [
    "## Part 1 "
   ]
  },
  {
   "cell_type": "code",
   "execution_count": null,
   "metadata": {},
   "outputs": [],
   "source": [
    "compute(data_test)"
   ]
  },
  {
   "cell_type": "code",
   "execution_count": null,
   "metadata": {},
   "outputs": [],
   "source": [
    "compute_scipy(data_test)"
   ]
  },
  {
   "cell_type": "code",
   "execution_count": null,
   "metadata": {},
   "outputs": [],
   "source": [
    "compute(puzzle.input_data)"
   ]
  },
  {
   "cell_type": "code",
   "execution_count": null,
   "metadata": {},
   "outputs": [],
   "source": [
    "answer_a = compute_scipy(puzzle.input_data)\n",
    "answer_a"
   ]
  },
  {
   "cell_type": "code",
   "execution_count": null,
   "metadata": {},
   "outputs": [],
   "source": [
    "puzzle.answer_a = answer_a"
   ]
  },
  {
   "cell_type": "markdown",
   "metadata": {},
   "source": [
    "## Part 2"
   ]
  },
  {
   "cell_type": "code",
   "execution_count": null,
   "metadata": {},
   "outputs": [],
   "source": [
    "compute(data_test, part=\"b\")"
   ]
  },
  {
   "cell_type": "code",
   "execution_count": null,
   "metadata": {},
   "outputs": [],
   "source": [
    "compute_scipy(data_test, part=\"b\")"
   ]
  },
  {
   "cell_type": "code",
   "execution_count": null,
   "metadata": {},
   "outputs": [],
   "source": [
    "answer_b = compute(puzzle.input_data, part=\"b\")\n",
    "answer_b "
   ]
  },
  {
   "cell_type": "code",
   "execution_count": null,
   "metadata": {},
   "outputs": [],
   "source": [
    "compute_scipy(puzzle.input_data, part=\"b\") # Marche pas flemme triste"
   ]
  },
  {
   "cell_type": "code",
   "execution_count": null,
   "metadata": {},
   "outputs": [],
   "source": [
    "puzzle.answer_b = answer_b"
   ]
  },
  {
   "cell_type": "markdown",
   "metadata": {
    "jp-MarkdownHeadingCollapsed": true
   },
   "source": [
    "# Day 14"
   ]
  },
  {
   "cell_type": "code",
   "execution_count": null,
   "metadata": {},
   "outputs": [],
   "source": [
    "puzzle = Puzzle(2024, 14)\n",
    "limit = Point(101, 103)"
   ]
  },
  {
   "cell_type": "code",
   "execution_count": null,
   "metadata": {},
   "outputs": [],
   "source": [
    "data_test = \"\"\"p=0,4 v=3,-3\n",
    "p=6,3 v=-1,-3\n",
    "p=10,3 v=-1,2\n",
    "p=2,0 v=2,-1\n",
    "p=0,0 v=1,3\n",
    "p=3,0 v=-2,-2\n",
    "p=7,6 v=-1,-3\n",
    "p=3,0 v=-1,-2\n",
    "p=9,3 v=2,3\n",
    "p=7,3 v=-1,2\n",
    "p=2,4 v=2,-3\n",
    "p=9,5 v=-3,-3\"\"\"\n",
    "limit_test = Point(11, 7)"
   ]
  },
  {
   "cell_type": "code",
   "execution_count": null,
   "metadata": {},
   "outputs": [],
   "source": [
    "class Point:\n",
    "    def __init__(self, x, y):\n",
    "        self.x = x\n",
    "        self.y = y\n",
    "        \n",
    "    @property\n",
    "    def as_tuple(self):\n",
    "        return self.x, self.y\n",
    "    \n",
    "    @classmethod\n",
    "    def from_tuple(cls, coord):\n",
    "        return Point(*coord)\n",
    "      \n",
    "    def manathan_distance(self, other_point):\n",
    "        return abs(self.x - other_point.x) + abs(self.y - other_point.y)\n",
    "    \n",
    "    def det(self, point):\n",
    "        return self.x * point.y - self.y * point.x\n",
    "    \n",
    "    def __sub__(self, other_point):\n",
    "        return Point(self.x - other_point.x, self.y - other_point.y)\n",
    "    \n",
    "    def __isub__(self, other_point):\n",
    "        return self - other_point\n",
    "\n",
    "    def __mul__(self, other_point):\n",
    "        if isinstance(other_point, self.__class__):\n",
    "            return Point(self.x - other_point.x, self.y - other_point.y)\n",
    "        if isinstance(other_point, int):\n",
    "            return Point(self.x * other_point, self.y * other_point)\n",
    "    \n",
    "    def __isub__(self, other_point):\n",
    "        return self - other_point\n",
    "    \n",
    "    def __neg__(self):\n",
    "        return Point(-self.x, -self.y)\n",
    "\n",
    "    def __mod__(self, point):\n",
    "        return Point(self.x % point.x, self.y % point.y)\n",
    "    \n",
    "    def __add__(self, other):\n",
    "        return Point(self.x + other.x, self.y + other.y)\n",
    "    \n",
    "    def __iadd__(self, other_point):\n",
    "        return self + other_point\n",
    "    \n",
    "    def __str__(self):\n",
    "        return f\"({self.x}, {self.y})\"\n",
    "    \n",
    "    def __repr__(self):\n",
    "        return f\"Point{self}\""
   ]
  },
  {
   "cell_type": "code",
   "execution_count": null,
   "metadata": {},
   "outputs": [],
   "source": [
    "class Robot:\n",
    "    def __init__(self, position, direction, terrain_limit):\n",
    "        self.starting_position = position\n",
    "        self.position = position\n",
    "        self.direction = direction\n",
    "        self.terrain_limit = terrain_limit\n",
    "\n",
    "    def move(self, seconds):\n",
    "        self.position = (self.position + self.direction * seconds) % self.terrain_limit\n",
    "\n",
    "    @property\n",
    "    def get_quadrant(self):\n",
    "        half_x, half_y = self.terrain_limit.x // 2, self.terrain_limit.y // 2\n",
    "        \n",
    "        if 0 <= self.position.x < half_x:\n",
    "            if 0 <= self.position.y < half_y:\n",
    "                return 1\n",
    "            elif half_y + (self.terrain_limit.y % 2) <= self.position.y < self.terrain_limit.y:\n",
    "                return 3\n",
    "        if half_x + (self.terrain_limit.x % 2) <= self.position.x < self.terrain_limit.x:\n",
    "            if 0 <= self.position.y < half_y:\n",
    "                return 2\n",
    "            elif half_y + (self.terrain_limit.y % 2) <= self.position.y < self.terrain_limit.y:\n",
    "                return 4\n",
    "                \n",
    "        return None"
   ]
  },
  {
   "cell_type": "code",
   "execution_count": null,
   "metadata": {},
   "outputs": [],
   "source": [
    "regex_robot = re.compile(r\"p=(?P<px>\\d+),(?P<py>\\d+) v=(?P<vx>-?\\d+),(?P<vy>-?\\d+)\")\n",
    "\n",
    "class Restroom:\n",
    "    def __init__(self, data, limit):\n",
    "        self.terrain_limit = limit\n",
    "        self.robots = []\n",
    "        for line in data.split(\"\\n\"):\n",
    "            gd = regex_robot.match(line).groupdict()\n",
    "            robot = Robot(Point(int(gd[\"px\"]), int(gd[\"py\"])), Point(int(gd[\"vx\"]), int(gd[\"vy\"])), self.terrain_limit)\n",
    "            self.robots.append(robot)\n",
    "\n",
    "    def move_robots(self, seconds=100):\n",
    "        for robot in self.robots:\n",
    "            robot.move(seconds)\n",
    "\n",
    "    def part_a(self):\n",
    "        c = collections.Counter(map(operator.attrgetter(\"get_quadrant\"), self.robots))\n",
    "        return c[1] * c[2] * c[3] * c[4]\n",
    "\n",
    "    def part_b_nul(self):\n",
    "        for i in range(20001):\n",
    "            directory = f\"oui{1000 * (i // 1000)}\"\n",
    "            if i % 1000 == 0 and not os.path.exists(directory):\n",
    "                os.makedirs(directory)\n",
    "                \n",
    "            matrix = np.full(self.terrain_limit.as_tuple, 0, dtype=np.uint8)\n",
    "            for robot in self.robots:\n",
    "                matrix[robot.position.as_tuple] = 255\n",
    "            \n",
    "            img = Image.fromarray(matrix)\n",
    "            img.save(f\"{directory}/{i}.jpg\")\n",
    "            self.move_robots(1)\n",
    "\n",
    "    def print(self):\n",
    "        matrix = np.full(self.terrain_limit.as_tuple, \".\")\n",
    "        c = collections.Counter(robot.position.as_tuple for robot in self.robots)\n",
    "        for k, v in c.items():\n",
    "            if v is not None:\n",
    "                matrix[k] = v\n",
    "        \n",
    "        print(matrix.T)\n",
    "            "
   ]
  },
  {
   "cell_type": "code",
   "execution_count": null,
   "metadata": {},
   "outputs": [],
   "source": [
    "restroom = Restroom(data_test, limit_test)"
   ]
  },
  {
   "cell_type": "code",
   "execution_count": null,
   "metadata": {},
   "outputs": [],
   "source": [
    "restroom.print()"
   ]
  },
  {
   "cell_type": "code",
   "execution_count": null,
   "metadata": {},
   "outputs": [],
   "source": [
    "restroom.move_robots(100)"
   ]
  },
  {
   "cell_type": "code",
   "execution_count": null,
   "metadata": {},
   "outputs": [],
   "source": [
    "restroom.print()"
   ]
  },
  {
   "cell_type": "code",
   "execution_count": null,
   "metadata": {},
   "outputs": [],
   "source": [
    "c = collections.Counter(map(operator.attrgetter(\"get_quadrant\"), restroom.robots))\n",
    "c"
   ]
  },
  {
   "cell_type": "code",
   "execution_count": null,
   "metadata": {},
   "outputs": [],
   "source": [
    "restroom.part_a()"
   ]
  },
  {
   "cell_type": "markdown",
   "metadata": {},
   "source": [
    "## Part 1"
   ]
  },
  {
   "cell_type": "code",
   "execution_count": null,
   "metadata": {},
   "outputs": [],
   "source": [
    "restroom_a = Restroom(puzzle.input_data, limit)\n",
    "restroom_a.move_robots(100)"
   ]
  },
  {
   "cell_type": "code",
   "execution_count": null,
   "metadata": {
    "scrolled": true
   },
   "outputs": [],
   "source": [
    "answer_a = restroom_a.part_a()\n",
    "answer_a"
   ]
  },
  {
   "cell_type": "code",
   "execution_count": null,
   "metadata": {},
   "outputs": [],
   "source": [
    "puzzle.answer_a = answer_a"
   ]
  },
  {
   "cell_type": "markdown",
   "metadata": {},
   "source": [
    "## Part 2"
   ]
  },
  {
   "cell_type": "code",
   "execution_count": null,
   "metadata": {},
   "outputs": [],
   "source": [
    "restroom_b = Restroom(puzzle.input_data, limit)"
   ]
  },
  {
   "cell_type": "code",
   "execution_count": null,
   "metadata": {},
   "outputs": [],
   "source": [
    "puzzle.answer_b = answer_b"
   ]
  },
  {
   "cell_type": "markdown",
   "metadata": {
    "jp-MarkdownHeadingCollapsed": true
   },
   "source": [
    "# Day 15"
   ]
  },
  {
   "cell_type": "code",
   "execution_count": null,
   "metadata": {},
   "outputs": [],
   "source": [
    "puzzle = Puzzle(2024, 15)"
   ]
  },
  {
   "cell_type": "code",
   "execution_count": null,
   "metadata": {},
   "outputs": [],
   "source": [
    "data_test = \"\"\"##########\n",
    "#..O..O.O#\n",
    "#......O.#\n",
    "#.OO..O.O#\n",
    "#..O@..O.#\n",
    "#O#..O...#\n",
    "#O..O..O.#\n",
    "#.OO.O.OO#\n",
    "#....O...#\n",
    "##########\n",
    "\n",
    "<vv>^<v^>v>^vv^v>v<>v^v<v<^vv<<<^><<><>>v<vvv<>^v^>^<<<><<v<<<v^vv^v>^\n",
    "vvv<<^>^v^^><<>>><>^<<><^vv^^<>vvv<>><^^v>^>vv<>v<<<<v<^v>^<^^>>>^<v<v\n",
    "><>vv>v^v^<>><>>>><^^>vv>v<^^^>>v^v^<^^>v^^>v^<^v>v<>>v^v^<v>v^^<^^vv<\n",
    "<<v<^>>^^^^>>>v^<>vvv^><v<<<>^^^vv^<vvv>^>v<^^^^v<>^>vvvv><>>v^<<^^^^^\n",
    "^><^><>>><>^^<<^^v>>><^<v>^<vv>>v>>>^v><>^v><<<<v>>v<v<v>vvv>^<><<>^><\n",
    "^>><>^v<><^vvv<^^<><v<<<<<><^v<<<><<<^^<v<^^^><^>>^<v^><<<^>>^v<v^v<v^\n",
    ">^>>^v>vv>^<<^v<>><<><<v<<v><>v<^vv<<<>^^v^>^^>>><<^v>>v^v><^^>>^<>vv^\n",
    "<><^^>^^^<><vvvvv^v<v<<>^v<v>v<<^><<><<><<<^^<<<^<<>><<><^^^>^^<>^>v<>\n",
    "^^>vv<^v^v<vv>^<><v<^v>^^^>>>^^vvv^>vvv<>>>^<^>>>>>^<<^v>^vvv<>^<><<v>\n",
    "v^^>>><<^^<>>^v^<v^vv<>v^<<>^<^v^v><^<<<><<^<v><v<>vv>>v><v^<vv<>v^<<^\"\"\""
   ]
  },
  {
   "cell_type": "code",
   "execution_count": null,
   "metadata": {},
   "outputs": [],
   "source": [
    "data_test2 = \"\"\"########\n",
    "#..O.O.#\n",
    "##@.O..#\n",
    "#...O..#\n",
    "#.#.O..#\n",
    "#...O..#\n",
    "#......#\n",
    "########\n",
    "\n",
    "<^^>>>vv<v>>v<<\"\"\""
   ]
  },
  {
   "cell_type": "code",
   "execution_count": null,
   "metadata": {},
   "outputs": [],
   "source": [
    "data_test3 = \"\"\"#######\n",
    "#...#.#\n",
    "#.....#\n",
    "#..OO@#\n",
    "#..O..#\n",
    "#.....#\n",
    "#######\n",
    "\n",
    "<vv<<^^<<^^\"\"\""
   ]
  },
  {
   "cell_type": "markdown",
   "metadata": {},
   "source": [
    "## Part 1"
   ]
  },
  {
   "cell_type": "code",
   "execution_count": null,
   "metadata": {},
   "outputs": [],
   "source": [
    "class Robot_A:\n",
    "    def __init__(self, input_data):\n",
    "        self.symbol_wall = \"#\"\n",
    "        self.symbol_box = \"O\"\n",
    "        self.symbol_empty = \".\"\n",
    "        self.symbol_robot = \"@\"\n",
    "        self.data_map, self.moves = self.init_data(input_data)\n",
    "\n",
    "        self.directions_mapping = {\n",
    "            \"<\": (0, -1),\n",
    "            \"^\": (-1, 0),\n",
    "            \">\": (0, 1),\n",
    "            \"v\": (1, 0)\n",
    "        }\n",
    "        self.position = next(zip(*np.where(self.data_map == self.symbol_robot)))\n",
    "\n",
    "    def init_data(self, input_data):\n",
    "        data_map, moves = input_data.split(\"\\n\\n\")\n",
    "\n",
    "        data_map = np.array(list(map(list, data_map.split(\"\\n\"))))\n",
    "        moves = [move for moves_line in moves.split(\"\\n\") for move in list(moves_line)]\n",
    "        return data_map, moves\n",
    "\n",
    "    def move(self, direction):\n",
    "        next_position = self.new_position(self.position, direction)\n",
    "        if self.data_map[next_position] == self.symbol_wall or self.data_map[next_position] == self.symbol_box and not self.move_box(next_position, direction):\n",
    "            return\n",
    "                    \n",
    "        self.data_map[self.position] = self.symbol_empty\n",
    "        self.data_map[next_position] = self.symbol_robot\n",
    "        self.position = next_position\n",
    "\n",
    "    def new_position(self, position, direction):\n",
    "        return tuple(g_p + d for g_p, d in zip(position, self.directions_mapping[direction]))\n",
    "\n",
    "    def move_box(self, position, direction):\n",
    "        starting_position = position\n",
    "        \n",
    "        while(True):\n",
    "            next_position = self.new_position(position, direction)\n",
    "            match self.data_map[next_position]:\n",
    "                case self.symbol_empty:\n",
    "                    self.data_map[next_position] = self.symbol_box\n",
    "                    self.data_map[starting_position] = self.symbol_empty\n",
    "                    return True\n",
    "                case self.symbol_wall:\n",
    "                    return False\n",
    "                case self.symbol_box:\n",
    "                    position = next_position\n",
    "                    \n",
    "    def run(self, debug = False):\n",
    "        if debug:\n",
    "            print(\"init\")\n",
    "            self.pp_print_map()\n",
    "            \n",
    "        for move in tqdm(self.moves):\n",
    "            self.move(move)\n",
    "\n",
    "        if debug:\n",
    "            print(\"final\")\n",
    "            self.pp_print_map()\n",
    "            \n",
    "        return sum(y + x * 100 for (x, y), val in np.ndenumerate(self.data_map) if val == self.symbol_box)\n",
    "        \n",
    "    def pp_print_map(self):\n",
    "        for i in range(self.data_map.shape[0]):\n",
    "            print(' '.join(map(str, self.data_map[i,:])))"
   ]
  },
  {
   "cell_type": "code",
   "execution_count": null,
   "metadata": {},
   "outputs": [],
   "source": [
    "robot = Robot_A(data_test2)\n",
    "print(robot.data_map)\n",
    "robot.run(debug=True)"
   ]
  },
  {
   "cell_type": "code",
   "execution_count": null,
   "metadata": {},
   "outputs": [],
   "source": [
    "robot = Robot_A(puzzle.input_data)\n",
    "answer_a = robot.run(debug=True)"
   ]
  },
  {
   "cell_type": "code",
   "execution_count": null,
   "metadata": {},
   "outputs": [],
   "source": [
    "puzzle.answer_a = answer_a"
   ]
  },
  {
   "cell_type": "markdown",
   "metadata": {},
   "source": [
    "## Part 2"
   ]
  },
  {
   "cell_type": "code",
   "execution_count": 276,
   "metadata": {},
   "outputs": [],
   "source": [
    "class Robot_B:\n",
    "    def __init__(self, input_data):\n",
    "        self.symbol_wall = \"#\"\n",
    "        self.symbol_box = \"O\"\n",
    "        self.symbol_big_box = [\"[\", \"]\"]\n",
    "        self.symbol_empty = \".\"\n",
    "        self.symbol_robot = \"@\"\n",
    "        self.data_map, self.moves = self.init_data(input_data)\n",
    "\n",
    "        self.directions_mapping = {\n",
    "            \"<\": (0, -1),\n",
    "            \"^\": (-1, 0),\n",
    "            \">\": (0, 1),\n",
    "            \"v\": (1, 0)\n",
    "        }\n",
    "        self.position = next(zip(*np.where(self.data_map == self.symbol_robot)))\n",
    "\n",
    "    def init_data(self, input_data):\n",
    "        data, moves = input_data.split(\"\\n\\n\")\n",
    "        data_map = []\n",
    "        for line in data.split(\"\\n\"):\n",
    "            data_line = []\n",
    "            for char in list(line):\n",
    "                match char:\n",
    "                    case self.symbol_box:\n",
    "                        data_line.extend(self.symbol_big_box)\n",
    "                    case self.symbol_robot:\n",
    "                        data_line.extend([char, self.symbol_empty])\n",
    "                    case _:\n",
    "                        data_line.extend([char, char])\n",
    "                        \n",
    "            data_map.append(data_line)\n",
    "        \n",
    "            \n",
    "        moves = [move for moves_line in moves.split(\"\\n\") for move in list(moves_line)]\n",
    "        return np.array(data_map), moves\n",
    "\n",
    "    def move(self, direction):\n",
    "        next_position = self.new_position(self.position, direction)\n",
    "        if self.data_map[next_position] == self.symbol_wall or self.data_map[next_position] in self.symbol_big_box and not self.move_boxes(set([next_position]), direction):\n",
    "            return\n",
    "                    \n",
    "        self.data_map[self.position] = self.symbol_empty\n",
    "        self.data_map[next_position] = self.symbol_robot\n",
    "        self.position = next_position\n",
    "\n",
    "    def new_position(self, position, direction):\n",
    "        return tuple(g_p + d for g_p, d in zip(position, self.directions_mapping[direction]))\n",
    "\n",
    "    def move_boxes(self, positions, direction):\n",
    "        positions = set(filter(lambda position : self.data_map[position] != self.symbol_empty, positions))\n",
    "        if not positions:\n",
    "            return True\n",
    "            \n",
    "        if direction in [\"^\", \"v\"]:\n",
    "            for position in set(positions):\n",
    "                if self.data_map[position] == self.symbol_big_box[0]: \n",
    "                    positions.add((position[0], position[1] + 1))\n",
    "                else:  \n",
    "                    positions.add((position[0], position[1] - 1))\n",
    "\n",
    "        next_positions = {}\n",
    "        \n",
    "        for position in positions:\n",
    "            new_position = self.new_position(position, direction)\n",
    "            match self.data_map[new_position]:\n",
    "                case self.symbol_empty:\n",
    "                    next_positions[new_position] = position\n",
    "                case self.symbol_wall:\n",
    "                    return False\n",
    "                case symbole if symbole in self.symbol_big_box:\n",
    "                    next_positions[new_position] = position\n",
    "                    \n",
    "        can_move_box = self.move_boxes(set(next_positions.keys()), direction)\n",
    "        if can_move_box:\n",
    "            for new_pos, pos in next_positions.items():\n",
    "                self.data_map[new_pos] = self.data_map[pos]\n",
    "                self.data_map[pos] = self.symbol_empty\n",
    "                \n",
    "        return can_move_box\n",
    "                    \n",
    "    def run(self, debug = False):\n",
    "        if debug:\n",
    "            print(\"init\")\n",
    "            self.pp_print_map()\n",
    "            \n",
    "        for move in tqdm(self.moves):\n",
    "            if debug:\n",
    "                self.pp_print_map()\n",
    "            self.move(move)\n",
    "\n",
    "        if debug:\n",
    "            print()\n",
    "            print(\"final\")\n",
    "            self.pp_print_map()\n",
    "            \n",
    "        return sum(y + x * 100 for (x, y), val in np.ndenumerate(self.data_map) if val == self.symbol_big_box[0])\n",
    "    \n",
    "    def pp_print_map(self):\n",
    "        for i in range(self.data_map.shape[0]):\n",
    "            print(' '.join(map(str, self.data_map[i,:])))"
   ]
  },
  {
   "cell_type": "code",
   "execution_count": 277,
   "metadata": {},
   "outputs": [
    {
     "name": "stdout",
     "output_type": "stream",
     "text": [
      "init\n",
      "# # # # # # # # # # # # # #\n",
      "# # . . . . . . # # . . # #\n",
      "# # . . . . . . . . . . # #\n",
      "# # . . . . [ ] [ ] @ . # #\n",
      "# # . . . . [ ] . . . . # #\n",
      "# # . . . . . . . . . . # #\n",
      "# # # # # # # # # # # # # #\n"
     ]
    },
    {
     "data": {
      "application/vnd.jupyter.widget-view+json": {
       "model_id": "bce70477d6004033b9de1ca2901e0ccc",
       "version_major": 2,
       "version_minor": 0
      },
      "text/plain": [
       "  0%|          | 0/11 [00:00<?, ?it/s]"
      ]
     },
     "metadata": {},
     "output_type": "display_data"
    },
    {
     "name": "stdout",
     "output_type": "stream",
     "text": [
      "# # # # # # # # # # # # # #\n",
      "# # . . . . . . # # . . # #\n",
      "# # . . . . . . . . . . # #\n",
      "# # . . . . [ ] [ ] @ . # #\n",
      "# # . . . . [ ] . . . . # #\n",
      "# # . . . . . . . . . . # #\n",
      "# # # # # # # # # # # # # #\n",
      "# # # # # # # # # # # # # #\n",
      "# # . . . . . . # # . . # #\n",
      "# # . . . . . . . . . . # #\n",
      "# # . . . [ ] [ ] @ . . # #\n",
      "# # . . . . [ ] . . . . # #\n",
      "# # . . . . . . . . . . # #\n",
      "# # # # # # # # # # # # # #\n",
      "# # # # # # # # # # # # # #\n",
      "# # . . . . . . # # . . # #\n",
      "# # . . . . . . . . . . # #\n",
      "# # . . . [ ] [ ] . . . # #\n",
      "# # . . . . [ ] . @ . . # #\n",
      "# # . . . . . . . . . . # #\n",
      "# # # # # # # # # # # # # #\n",
      "# # # # # # # # # # # # # #\n",
      "# # . . . . . . # # . . # #\n",
      "# # . . . . . . . . . . # #\n",
      "# # . . . [ ] [ ] . . . # #\n",
      "# # . . . . [ ] . . . . # #\n",
      "# # . . . . . . . @ . . # #\n",
      "# # # # # # # # # # # # # #\n",
      "# # # # # # # # # # # # # #\n",
      "# # . . . . . . # # . . # #\n",
      "# # . . . . . . . . . . # #\n",
      "# # . . . [ ] [ ] . . . # #\n",
      "# # . . . . [ ] . . . . # #\n",
      "# # . . . . . . @ . . . # #\n",
      "# # # # # # # # # # # # # #\n",
      "# # # # # # # # # # # # # #\n",
      "# # . . . . . . # # . . # #\n",
      "# # . . . . . . . . . . # #\n",
      "# # . . . [ ] [ ] . . . # #\n",
      "# # . . . . [ ] . . . . # #\n",
      "# # . . . . . @ . . . . # #\n",
      "# # # # # # # # # # # # # #\n",
      "# # # # # # # # # # # # # #\n",
      "# # . . . . . . # # . . # #\n",
      "# # . . . [ ] [ ] . . . # #\n",
      "# # . . . . [ ] . . . . # #\n",
      "# # . . . . . @ . . . . # #\n",
      "# # . . . . . . . . . . # #\n",
      "# # # # # # # # # # # # # #\n",
      "# # # # # # # # # # # # # #\n",
      "# # . . . . . . # # . . # #\n",
      "# # . . . [ ] [ ] . . . # #\n",
      "# # . . . . [ ] . . . . # #\n",
      "# # . . . . . @ . . . . # #\n",
      "# # . . . . . . . . . . # #\n",
      "# # # # # # # # # # # # # #\n",
      "# # # # # # # # # # # # # #\n",
      "# # . . . . . . # # . . # #\n",
      "# # . . . [ ] [ ] . . . # #\n",
      "# # . . . . [ ] . . . . # #\n",
      "# # . . . . @ . . . . . # #\n",
      "# # . . . . . . . . . . # #\n",
      "# # # # # # # # # # # # # #\n",
      "# # # # # # # # # # # # # #\n",
      "# # . . . . . . # # . . # #\n",
      "# # . . . [ ] [ ] . . . # #\n",
      "# # . . . . [ ] . . . . # #\n",
      "# # . . . @ . . . . . . # #\n",
      "# # . . . . . . . . . . # #\n",
      "# # # # # # # # # # # # # #\n",
      "# # # # # # # # # # # # # #\n",
      "# # . . . . . . # # . . # #\n",
      "# # . . . [ ] [ ] . . . # #\n",
      "# # . . . @ [ ] . . . . # #\n",
      "# # . . . . . . . . . . # #\n",
      "# # . . . . . . . . . . # #\n",
      "# # # # # # # # # # # # # #\n",
      "\n",
      "final\n",
      "# # # # # # # # # # # # # #\n",
      "# # . . . [ ] . # # . . # #\n",
      "# # . . . @ . [ ] . . . # #\n",
      "# # . . . . [ ] . . . . # #\n",
      "# # . . . . . . . . . . # #\n",
      "# # . . . . . . . . . . # #\n",
      "# # # # # # # # # # # # # #\n"
     ]
    },
    {
     "data": {
      "text/plain": [
       "618"
      ]
     },
     "execution_count": 277,
     "metadata": {},
     "output_type": "execute_result"
    }
   ],
   "source": [
    "robot = Robot_B(data_test3)\n",
    "robot.run(debug=True)"
   ]
  },
  {
   "cell_type": "code",
   "execution_count": 278,
   "metadata": {},
   "outputs": [
    {
     "data": {
      "application/vnd.jupyter.widget-view+json": {
       "model_id": "5adedfbdde7340f78de59fa741319155",
       "version_major": 2,
       "version_minor": 0
      },
      "text/plain": [
       "  0%|          | 0/700 [00:00<?, ?it/s]"
      ]
     },
     "metadata": {},
     "output_type": "display_data"
    },
    {
     "data": {
      "text/plain": [
       "9021"
      ]
     },
     "execution_count": 278,
     "metadata": {},
     "output_type": "execute_result"
    }
   ],
   "source": [
    "robot = Robot_B(data_test)\n",
    "robot.run()"
   ]
  },
  {
   "cell_type": "code",
   "execution_count": 279,
   "metadata": {},
   "outputs": [
    {
     "data": {
      "application/vnd.jupyter.widget-view+json": {
       "model_id": "1de8793498b44c9c99024ce9264d7507",
       "version_major": 2,
       "version_minor": 0
      },
      "text/plain": [
       "  0%|          | 0/20000 [00:00<?, ?it/s]"
      ]
     },
     "metadata": {},
     "output_type": "display_data"
    },
    {
     "data": {
      "text/plain": [
       "1392847"
      ]
     },
     "execution_count": 279,
     "metadata": {},
     "output_type": "execute_result"
    }
   ],
   "source": [
    "robot = Robot_B(puzzle.input_data)\n",
    "answer_b = robot.run()\n",
    "answer_b"
   ]
  },
  {
   "cell_type": "code",
   "execution_count": 280,
   "metadata": {},
   "outputs": [],
   "source": [
    "puzzle.answer_b = answer_b"
   ]
  }
 ],
 "metadata": {
  "kernelspec": {
   "display_name": "Python 3 (ipykernel)",
   "language": "python",
   "name": "python3"
  },
  "language_info": {
   "codemirror_mode": {
    "name": "ipython",
    "version": 3
   },
   "file_extension": ".py",
   "mimetype": "text/x-python",
   "name": "python",
   "nbconvert_exporter": "python",
   "pygments_lexer": "ipython3",
   "version": "3.10.12"
  }
 },
 "nbformat": 4,
 "nbformat_minor": 4
}
