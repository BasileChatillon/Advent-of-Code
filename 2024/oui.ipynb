{
 "cells": [
  {
   "cell_type": "code",
   "execution_count": 1,
   "metadata": {},
   "outputs": [],
   "source": [
    "import os\n",
    "from pathlib import Path\n",
    "from aocd.models import Puzzle\n",
    "import collections\n",
    "import numpy as np\n",
    "import re\n",
    "from statistics import median, mean\n",
    "import math\n",
    "import queue\n",
    "import itertools\n",
    "import more_itertools\n",
    "infinite_defaultdict = lambda: collections.defaultdict(infinite_defaultdict)\n",
    "from copy import copy\n",
    "import functools\n",
    "import heapq\n",
    "import operator\n",
    "from tqdm.notebook import trange, tqdm\n",
    "import networkx as nx\n",
    "import pprint\n",
    "from PIL import Image, ImageDraw\n",
    "import bisect\n",
    "import matplotlib.pyplot as plt\n",
    "\n"
   ]
  },
  {
   "cell_type": "markdown",
   "metadata": {
    "jp-MarkdownHeadingCollapsed": true
   },
   "source": [
    "# Day 1"
   ]
  },
  {
   "cell_type": "code",
   "execution_count": 2,
   "metadata": {},
   "outputs": [],
   "source": [
    "puzzle = Puzzle(2024, 1)"
   ]
  },
  {
   "cell_type": "code",
   "execution_count": 3,
   "metadata": {},
   "outputs": [],
   "source": [
    "data = [list(map(int, line.split(\"   \"))) for line in puzzle.input_data.split(\"\\n\")]"
   ]
  },
  {
   "cell_type": "markdown",
   "metadata": {},
   "source": [
    "## Part 1 "
   ]
  },
  {
   "cell_type": "code",
   "execution_count": 4,
   "metadata": {},
   "outputs": [],
   "source": [
    "sorted_data = [sorted(ls) for ls in zip(*data)]\n",
    "res_a = sum(abs(x - y) for x, y in zip(*sorted_data))"
   ]
  },
  {
   "cell_type": "code",
   "execution_count": 5,
   "metadata": {},
   "outputs": [],
   "source": [
    "puzzle.answer_a = res_a"
   ]
  },
  {
   "cell_type": "markdown",
   "metadata": {},
   "source": [
    "## Part 2"
   ]
  },
  {
   "cell_type": "code",
   "execution_count": 6,
   "metadata": {},
   "outputs": [],
   "source": [
    "x_counted = collections.Counter(x for x, _ in data)\n",
    "y_counted = collections.Counter(y for _, y in data)"
   ]
  },
  {
   "cell_type": "code",
   "execution_count": 7,
   "metadata": {},
   "outputs": [],
   "source": [
    "res_b = sum(xk * xv * y_counted[xk] for xk, xv in x_counted.items())"
   ]
  },
  {
   "cell_type": "code",
   "execution_count": 8,
   "metadata": {},
   "outputs": [],
   "source": [
    "puzzle.answer_b = res_b"
   ]
  },
  {
   "cell_type": "markdown",
   "metadata": {
    "jp-MarkdownHeadingCollapsed": true
   },
   "source": [
    "# Day 2"
   ]
  },
  {
   "cell_type": "code",
   "execution_count": 9,
   "metadata": {},
   "outputs": [],
   "source": [
    "puzzle = Puzzle(2024, 2)"
   ]
  },
  {
   "cell_type": "code",
   "execution_count": 10,
   "metadata": {},
   "outputs": [],
   "source": [
    "data = [list(map(int, line.split(\" \"))) for line in puzzle.input_data.split(\"\\n\")]"
   ]
  },
  {
   "cell_type": "code",
   "execution_count": 11,
   "metadata": {},
   "outputs": [],
   "source": [
    "data_test = \"\"\"7 6 4 2 1\n",
    "1 2 7 8 9\n",
    "9 7 6 2 1\n",
    "1 3 2 4 5\n",
    "8 6 4 4 1\n",
    "1 3 6 7 9\"\"\""
   ]
  },
  {
   "cell_type": "code",
   "execution_count": 12,
   "metadata": {},
   "outputs": [],
   "source": [
    "data_test = [list(map(int, line.split(\" \"))) for line in data_test.split(\"\\n\")]"
   ]
  },
  {
   "cell_type": "code",
   "execution_count": 13,
   "metadata": {},
   "outputs": [
    {
     "data": {
      "text/plain": [
       "[[7, 6, 4, 2, 1],\n",
       " [1, 2, 7, 8, 9],\n",
       " [9, 7, 6, 2, 1],\n",
       " [1, 3, 2, 4, 5],\n",
       " [8, 6, 4, 4, 1],\n",
       " [1, 3, 6, 7, 9]]"
      ]
     },
     "execution_count": 13,
     "metadata": {},
     "output_type": "execute_result"
    }
   ],
   "source": [
    "data_test"
   ]
  },
  {
   "cell_type": "markdown",
   "metadata": {},
   "source": [
    "## Part 1 "
   ]
  },
  {
   "cell_type": "code",
   "execution_count": 14,
   "metadata": {},
   "outputs": [],
   "source": [
    "def valid_ascend(seq):\n",
    "    return all(a < b < a + 4 for a, b in itertools.pairwise(seq))\n",
    "\n",
    "def valid_descend(seq):\n",
    "    return all(a > b > a - 4 for a, b in itertools.pairwise(seq))\n",
    "    \n",
    "def valid_sequence(seq):\n",
    "    return valid_ascend(seq) or valid_descend(seq)\n"
   ]
  },
  {
   "cell_type": "code",
   "execution_count": 15,
   "metadata": {},
   "outputs": [
    {
     "data": {
      "text/plain": [
       "564"
      ]
     },
     "execution_count": 15,
     "metadata": {},
     "output_type": "execute_result"
    }
   ],
   "source": [
    "res_a = sum(valid_sequence(sequence) for  sequence in data)\n",
    "res_a"
   ]
  },
  {
   "cell_type": "code",
   "execution_count": 16,
   "metadata": {},
   "outputs": [],
   "source": [
    "puzzle.answer_a = res_a"
   ]
  },
  {
   "cell_type": "markdown",
   "metadata": {},
   "source": [
    "## Part 2"
   ]
  },
  {
   "cell_type": "code",
   "execution_count": 17,
   "metadata": {},
   "outputs": [],
   "source": [
    "def valid_ascend_b(seq):\n",
    "    for i, (a, b) in enumerate(itertools.pairwise(seq)):\n",
    "        if not (a < b < a + 4):\n",
    "            return False, i\n",
    "    return True, len(seq)\n",
    "            \n",
    "\n",
    "def valid_descend_b(seq):\n",
    "    for i, (a, b) in enumerate(itertools.pairwise(seq)):\n",
    "        if not (a > b > a - 4):\n",
    "            return False, i\n",
    "    return True, len(seq)\n",
    "\n",
    "def valid_sequence_b(sequence):\n",
    "    valid, i = valid_ascend_b(sequence)\n",
    "    if valid:\n",
    "        return True\n",
    "\n",
    "    for offset in range(2):\n",
    "        valid, _ = valid_ascend_b(sequence[i - 1 + offset: i + offset] + sequence[i + 1 + offset:])\n",
    "        if valid:\n",
    "            return True\n",
    "\n",
    "    valid, i = valid_descend_b(sequence)\n",
    "    if valid:\n",
    "        return True\n",
    "        \n",
    "    for offset in range(2):\n",
    "        valid, _ = valid_descend_b(sequence[i - 1 + offset: i + offset] + sequence[i + 1 + offset:])\n",
    "        if valid:\n",
    "            return True\n",
    "            \n",
    "    return False\n",
    "    "
   ]
  },
  {
   "cell_type": "code",
   "execution_count": 18,
   "metadata": {},
   "outputs": [
    {
     "data": {
      "text/plain": [
       "604"
      ]
     },
     "execution_count": 18,
     "metadata": {},
     "output_type": "execute_result"
    }
   ],
   "source": [
    "res_b = sum(valid_sequence_b(sequence) for sequence in data)\n",
    "res_b"
   ]
  },
  {
   "cell_type": "code",
   "execution_count": 19,
   "metadata": {},
   "outputs": [],
   "source": [
    "puzzle.answer_b = res_b"
   ]
  },
  {
   "cell_type": "markdown",
   "metadata": {
    "jp-MarkdownHeadingCollapsed": true
   },
   "source": [
    "# Day 3"
   ]
  },
  {
   "cell_type": "code",
   "execution_count": 20,
   "metadata": {},
   "outputs": [],
   "source": [
    "puzzle = Puzzle(2024, 3)"
   ]
  },
  {
   "cell_type": "code",
   "execution_count": 21,
   "metadata": {},
   "outputs": [],
   "source": [
    "data_test = \"xmul(2,4)%&mul[3,7]!@^do_not_mul(5,5)+mul(32,64]then(mul(11,8)mul(8,5))\""
   ]
  },
  {
   "cell_type": "markdown",
   "metadata": {},
   "source": [
    "## Part 1 "
   ]
  },
  {
   "cell_type": "code",
   "execution_count": 22,
   "metadata": {},
   "outputs": [],
   "source": [
    "mul_regex = re.compile(\"mul\\((?P<X>\\d{1,3}),(?P<Y>\\d{1,3})\\)\")\n",
    "def parse_mul(data):\n",
    "    return sum(int(m[\"X\"])*int(m[\"Y\"]) for m in re.finditer(mul_regex, data))"
   ]
  },
  {
   "cell_type": "code",
   "execution_count": 23,
   "metadata": {},
   "outputs": [
    {
     "data": {
      "text/plain": [
       "175700056"
      ]
     },
     "execution_count": 23,
     "metadata": {},
     "output_type": "execute_result"
    }
   ],
   "source": [
    "res_a = parse_mul(puzzle.input_data)\n",
    "res_a"
   ]
  },
  {
   "cell_type": "code",
   "execution_count": 24,
   "metadata": {},
   "outputs": [],
   "source": [
    "puzzle.answer_a = res_a"
   ]
  },
  {
   "cell_type": "markdown",
   "metadata": {},
   "source": [
    "## Part 2"
   ]
  },
  {
   "cell_type": "code",
   "execution_count": 25,
   "metadata": {},
   "outputs": [],
   "source": [
    "remove_dont_regex = re.compile(r\"don't\\(\\).*?(?=(do(n't)?\\(\\)|$))\", re.S)"
   ]
  },
  {
   "cell_type": "code",
   "execution_count": 26,
   "metadata": {},
   "outputs": [
    {
     "data": {
      "text/plain": [
       "<re.Match object; span=(0, 0), match=''>"
      ]
     },
     "execution_count": 26,
     "metadata": {},
     "output_type": "execute_result"
    }
   ],
   "source": [
    "re.match(re.compile(\".*\"), \"\\n\")"
   ]
  },
  {
   "cell_type": "code",
   "execution_count": 27,
   "metadata": {},
   "outputs": [],
   "source": [
    "data_test = \"don't()don't()bdon't()cdo()adon't()\\ndo()ddodon't()d\""
   ]
  },
  {
   "cell_type": "code",
   "execution_count": 28,
   "metadata": {},
   "outputs": [
    {
     "name": "stdout",
     "output_type": "stream",
     "text": [
      "don't()\n",
      "\n",
      "don't()b\n",
      "\n",
      "don't()c\n",
      "\n",
      "don't()\n",
      "\n",
      "\n",
      "don't()d\n",
      "\n"
     ]
    }
   ],
   "source": [
    "for m in re.finditer(remove_dont_regex, data_test):\n",
    "    print(m.group())\n",
    "    print()"
   ]
  },
  {
   "cell_type": "code",
   "execution_count": 29,
   "metadata": {},
   "outputs": [],
   "source": [
    "data_do = re.sub(remove_dont_regex, \"\", puzzle.input_data)"
   ]
  },
  {
   "cell_type": "code",
   "execution_count": 30,
   "metadata": {},
   "outputs": [
    {
     "data": {
      "text/plain": [
       "71668682"
      ]
     },
     "execution_count": 30,
     "metadata": {},
     "output_type": "execute_result"
    }
   ],
   "source": [
    "answer_b = parse_mul(data_do)\n",
    "answer_b"
   ]
  },
  {
   "cell_type": "code",
   "execution_count": 31,
   "metadata": {},
   "outputs": [],
   "source": [
    "puzzle.answer_b = answer_b"
   ]
  },
  {
   "cell_type": "markdown",
   "metadata": {
    "jp-MarkdownHeadingCollapsed": true
   },
   "source": [
    "# Day 4"
   ]
  },
  {
   "cell_type": "code",
   "execution_count": 32,
   "metadata": {},
   "outputs": [],
   "source": [
    "puzzle = Puzzle(2024, 4)"
   ]
  },
  {
   "cell_type": "code",
   "execution_count": 33,
   "metadata": {},
   "outputs": [],
   "source": [
    "data_test = \"\"\"MMMSXXMASM\n",
    "MSAMXMSMSA\n",
    "AMXSXMAAMM\n",
    "MSAMASMSMX\n",
    "XMASAMXAMM\n",
    "XXAMMXXAMA\n",
    "SMSMSASXSS\n",
    "SAXAMASAAA\n",
    "MAMMMXMMMM\n",
    "MXMXAXMASX\"\"\"\n",
    "grid_test = np.array([list(line) for line in data_test.split(\"\\n\")])\n",
    "grid = np.array([list(line) for line in puzzle.input_data.split(\"\\n\")])"
   ]
  },
  {
   "cell_type": "markdown",
   "metadata": {},
   "source": [
    "## Part 1 "
   ]
  },
  {
   "cell_type": "code",
   "execution_count": 34,
   "metadata": {},
   "outputs": [],
   "source": [
    "def count_occurence(lst: list[str], word: str) -> int:\n",
    "    lst_str = \"\".join(lst)\n",
    "    # print(f\"{lst_str:10} -> {word}: {lst_str.count(word)} {word[::-1]}: {lst_str.count(word[::-1])}\")\n",
    "    return lst_str.count(word) + lst_str.count(word[::-1])"
   ]
  },
  {
   "cell_type": "code",
   "execution_count": 35,
   "metadata": {},
   "outputs": [],
   "source": [
    "def get_all_word_occurence(grid, word):\n",
    "    occurences = 0\n",
    "    x, y = grid.shape\n",
    "    gird_sym = np.fliplr(grid)\n",
    "    \n",
    "    for xi in range(x):\n",
    "        occurences += count_occurence(grid[xi, :], word)\n",
    "    \n",
    "    for yi in range(y):\n",
    "        occurences += count_occurence(grid[:, yi], word)\n",
    "    \n",
    "    for di in range(-x + 1, y):\n",
    "        occurences += count_occurence(grid.diagonal(di), word)\n",
    "        occurences += count_occurence(gird_sym.diagonal(di), word)\n",
    "\n",
    "    return occurences\n",
    "        "
   ]
  },
  {
   "cell_type": "code",
   "execution_count": 36,
   "metadata": {},
   "outputs": [
    {
     "ename": "NameError",
     "evalue": "name 'word' is not defined",
     "output_type": "error",
     "traceback": [
      "\u001b[0;31m---------------------------------------------------------------------------\u001b[0m",
      "\u001b[0;31mNameError\u001b[0m                                 Traceback (most recent call last)",
      "Cell \u001b[0;32mIn[36], line 1\u001b[0m\n\u001b[0;32m----> 1\u001b[0m get_all_word_occurence(grid_test, \u001b[43mword\u001b[49m)\n",
      "\u001b[0;31mNameError\u001b[0m: name 'word' is not defined"
     ]
    }
   ],
   "source": [
    "get_all_word_occurence(grid_test, word)"
   ]
  },
  {
   "cell_type": "code",
   "execution_count": null,
   "metadata": {},
   "outputs": [],
   "source": [
    "answer_a = get_all_word_occurence(grid, word)\n",
    "answer_a"
   ]
  },
  {
   "cell_type": "code",
   "execution_count": null,
   "metadata": {},
   "outputs": [],
   "source": [
    "puzzle.answer_a = answer_a"
   ]
  },
  {
   "cell_type": "markdown",
   "metadata": {},
   "source": [
    "## Part 2"
   ]
  },
  {
   "cell_type": "code",
   "execution_count": null,
   "metadata": {},
   "outputs": [],
   "source": [
    "def get_x_mas_occurences(grid):\n",
    "    occurences = 0\n",
    "    x, y = grid.shape\n",
    "    for xi in range(1, x - 1):\n",
    "        for yi in range(1, y - 1):\n",
    "            if grid[xi, yi] != \"A\":\n",
    "                continue\n",
    "            corner = f\"{grid[xi-1, yi-1]}{grid[xi-1, yi+1]}{grid[xi+1, yi+1]}{grid[xi+1, yi-1]}\"\n",
    "            occurences += corner in [\"SSMM\", \"SMMS\", \"MMSS\", \"MSSM\"]\n",
    "\n",
    "    return occurences"
   ]
  },
  {
   "cell_type": "code",
   "execution_count": null,
   "metadata": {},
   "outputs": [],
   "source": [
    "get_x_mas_occurences(grid_test)"
   ]
  },
  {
   "cell_type": "code",
   "execution_count": null,
   "metadata": {},
   "outputs": [],
   "source": [
    "answer_b = get_x_mas_occurences(grid)\n",
    "answer_b"
   ]
  },
  {
   "cell_type": "code",
   "execution_count": null,
   "metadata": {},
   "outputs": [],
   "source": [
    "puzzle.answer_b = answer_b"
   ]
  },
  {
   "cell_type": "markdown",
   "metadata": {
    "jp-MarkdownHeadingCollapsed": true
   },
   "source": [
    "# Day 5"
   ]
  },
  {
   "cell_type": "code",
   "execution_count": 38,
   "metadata": {},
   "outputs": [],
   "source": [
    "puzzle = Puzzle(2024, 5)"
   ]
  },
  {
   "cell_type": "code",
   "execution_count": 39,
   "metadata": {},
   "outputs": [],
   "source": [
    "constraints, data = puzzle.input_data.split(\"\\n\\n\")"
   ]
  },
  {
   "cell_type": "code",
   "execution_count": 40,
   "metadata": {},
   "outputs": [],
   "source": [
    "input_data_test = \"\"\"47|53\n",
    "97|13\n",
    "97|61\n",
    "97|47\n",
    "75|29\n",
    "61|13\n",
    "75|53\n",
    "29|13\n",
    "97|29\n",
    "53|29\n",
    "61|53\n",
    "97|53\n",
    "61|29\n",
    "47|13\n",
    "75|47\n",
    "97|75\n",
    "47|61\n",
    "75|61\n",
    "47|29\n",
    "75|13\n",
    "53|13\n",
    "\n",
    "75,47,61,53,29\n",
    "97,61,53,29,13\n",
    "75,29,13\n",
    "75,97,47,61,53\n",
    "61,13,29\n",
    "97,13,75,29,47\n",
    "\"\"\""
   ]
  },
  {
   "cell_type": "markdown",
   "metadata": {},
   "source": [
    "## Part 1 "
   ]
  },
  {
   "cell_type": "code",
   "execution_count": 65,
   "metadata": {},
   "outputs": [],
   "source": [
    "def parse_data_a(data_input):\n",
    "    constraints, updates = data_input.split(\"\\n\\n\")\n",
    "    \n",
    "    before_constraints = collections.defaultdict(set)\n",
    "    \n",
    "    for constraint in constraints.split():\n",
    "        X, Y = map(int, constraint.split(\"|\"))\n",
    "        before_constraints[Y].add(X)\n",
    "\n",
    "    counter_a = 0\n",
    "    for update in updates.split():\n",
    "        update_pages = list(map(int, update.split(\",\")))\n",
    "        invalid_pages = set()\n",
    "        for i, page in enumerate(update_pages):\n",
    "            if page in invalid_pages:\n",
    "                break\n",
    "                \n",
    "            invalid_pages.update(before_constraints[page])\n",
    "        else:\n",
    "            mid_element = update_pages[(len(update_pages) - 1)//2]\n",
    "            counter_a += mid_element\n",
    "\n",
    "    return counter_a"
   ]
  },
  {
   "cell_type": "code",
   "execution_count": 63,
   "metadata": {},
   "outputs": [
    {
     "data": {
      "text/plain": [
       "143"
      ]
     },
     "execution_count": 63,
     "metadata": {},
     "output_type": "execute_result"
    }
   ],
   "source": [
    "parse_data_a(input_data_test)"
   ]
  },
  {
   "cell_type": "code",
   "execution_count": 64,
   "metadata": {},
   "outputs": [
    {
     "data": {
      "text/plain": [
       "4135"
      ]
     },
     "execution_count": 64,
     "metadata": {},
     "output_type": "execute_result"
    }
   ],
   "source": [
    "answer_a = parse_data_a(puzzle.input_data)\n",
    "answer_a"
   ]
  },
  {
   "cell_type": "code",
   "execution_count": null,
   "metadata": {},
   "outputs": [],
   "source": [
    "puzzle.answer_a = answer_a"
   ]
  },
  {
   "cell_type": "markdown",
   "metadata": {},
   "source": [
    "## Part 2"
   ]
  },
  {
   "cell_type": "code",
   "execution_count": 70,
   "metadata": {},
   "outputs": [],
   "source": [
    "def parse_data_b(data_input):\n",
    "    constraints, updates = data_input.split(\"\\n\\n\")\n",
    "    \n",
    "    before_constraints = collections.defaultdict(set)\n",
    "    after_constraints = collections.defaultdict(set)\n",
    "    \n",
    "    for constraint in constraints.split():\n",
    "        X, Y = map(int, constraint.split(\"|\"))\n",
    "        before_constraints[Y].add(X)\n",
    "        after_constraints[X].add(Y)\n",
    "\n",
    "    invalid_updates = []\n",
    "    for update in updates.split():\n",
    "        update_pages = list(map(int, update.split(\",\")))\n",
    "        invalid_pages = set()\n",
    "        for i, page in enumerate(update_pages):\n",
    "            if page in invalid_pages:\n",
    "                invalid_updates.append(update_pages)\n",
    "                break\n",
    "                \n",
    "            invalid_pages.update(before_constraints[page])\n",
    "    \n",
    "    counter_b = 0\n",
    "    while invalid_updates:\n",
    "        invalid_update = invalid_updates.pop()\n",
    "        invalid_pages = set()\n",
    "        for i, page in enumerate(invalid_update):\n",
    "            if page in invalid_pages:\n",
    "                for j, before_page in enumerate(invalid_update[:i]):\n",
    "                    if before_page in after_constraints[page]:\n",
    "                        new_update = invalid_update[:j] + [page] + invalid_update[j:i] + invalid_update[i+1:]\n",
    "                        invalid_updates.append(new_update)\n",
    "                        break\n",
    "                break\n",
    "\n",
    "            invalid_pages.update(before_constraints[page])\n",
    "        else:\n",
    "            mid_element = invalid_update[(len(invalid_update) - 1)//2]\n",
    "            counter_b += mid_element\n",
    "        \n",
    "    return counter_b        "
   ]
  },
  {
   "cell_type": "code",
   "execution_count": 72,
   "metadata": {},
   "outputs": [
    {
     "data": {
      "text/plain": [
       "123"
      ]
     },
     "execution_count": 72,
     "metadata": {},
     "output_type": "execute_result"
    }
   ],
   "source": [
    "parse_data_b(input_data_test)"
   ]
  },
  {
   "cell_type": "code",
   "execution_count": 73,
   "metadata": {},
   "outputs": [
    {
     "data": {
      "text/plain": [
       "5285"
      ]
     },
     "execution_count": 73,
     "metadata": {},
     "output_type": "execute_result"
    }
   ],
   "source": [
    "answer_b = parse_data_b(puzzle.input_data)\n",
    "answer_b"
   ]
  },
  {
   "cell_type": "code",
   "execution_count": 58,
   "metadata": {},
   "outputs": [
    {
     "name": "stdout",
     "output_type": "stream",
     "text": [
      "\u001b[32mThat's the right answer!  You are one gold star closer to finding the Chief Historian.You have completed Day 5! You can [Shareon\n",
      "  Bluesky\n",
      "Twitter\n",
      "Mastodon] this victory or [Return to Your Advent Calendar].\u001b[0m\n"
     ]
    }
   ],
   "source": [
    "puzzle.answer_b = answer_b"
   ]
  },
  {
   "cell_type": "markdown",
   "metadata": {
    "jp-MarkdownHeadingCollapsed": true
   },
   "source": [
    "# Day 6"
   ]
  },
  {
   "cell_type": "code",
   "execution_count": 2,
   "metadata": {},
   "outputs": [],
   "source": [
    "puzzle = Puzzle(2024, 6)"
   ]
  },
  {
   "cell_type": "code",
   "execution_count": 3,
   "metadata": {},
   "outputs": [],
   "source": [
    "data_test = \"\"\"....#.....\n",
    ".........#\n",
    "..........\n",
    "..#.......\n",
    ".......#..\n",
    "..........\n",
    ".#..^.....\n",
    "........#.\n",
    "#.........\n",
    "......#...\"\"\""
   ]
  },
  {
   "cell_type": "code",
   "execution_count": 4,
   "metadata": {},
   "outputs": [],
   "source": [
    "class Patrol:\n",
    "    def __init__(self, input_data, time_parardox_position=None):\n",
    "        self.obstruction_symbol = \"#\"\n",
    "        self.visited_symbol = \"X\"\n",
    "        self.time_parardox_symbol = \"O\"\n",
    "        self.input_data = input_data\n",
    "        self.time_parardox_position = time_parardox_position    \n",
    "        self.data_map = self.init_data()\n",
    "        if time_parardox_position is not None:\n",
    "            self.data_map[time_parardox_position] = self.obstruction_symbol\n",
    "        \n",
    "        self.direction_map = self.data_map.copy()\n",
    "        self.directions_mapping = {\n",
    "            \"<\": (0, -1),\n",
    "            \"^\": (-1, 0),\n",
    "            \">\": (0, 1),\n",
    "            \"V\": (1, 0)\n",
    "        }\n",
    "        self.directions = [*self.directions_mapping]\n",
    "        self.guard_direction = None\n",
    "        self.guard_position = None\n",
    "\n",
    "        self.starting_guard_position = self.find_guard_position()\n",
    "        self.valid_time_paradox = self.move_guard()\n",
    "        if time_parardox_position:\n",
    "            self.data_map[time_parardox_position] = self.time_parardox_symbol\n",
    "\n",
    "    def init_data(self):\n",
    "        return np.array(list(map(list, self.input_data.split(\"\\n\"))))\n",
    "\n",
    "    def find_guard_position(self):\n",
    "        for direction in self.directions_mapping:\n",
    "            if coord := (np.argwhere(self.data_map == direction).tolist()):\n",
    "                guard_position = tuple(coord[0])\n",
    "                self.guard_position = guard_position\n",
    "                self.guard_direction  = self.data_map[guard_position]\n",
    "                return guard_position\n",
    "\n",
    "    def move_guard(self):\n",
    "        hold = False\n",
    "\n",
    "        while True :\n",
    "            self.data_map[self.guard_position] = self.visited_symbol\n",
    "            if not hold:\n",
    "                # whenever a guard hit a obstuction, we want to keep the way he hit it instead of writing his next move\n",
    "                self.direction_map[self.guard_position] = self.guard_direction\n",
    "            else:\n",
    "                hold = False\n",
    "            \n",
    "            next_guard_position = self.new_position(self.guard_position, self.guard_direction)\n",
    "            \n",
    "            # Out of bound end part a\n",
    "            if not self.position_in_map(next_guard_position):\n",
    "                return False\n",
    "\n",
    "            # Already visited position with same direction part b\n",
    "            if self.direction_map[next_guard_position] == self.guard_direction:\n",
    "                return True\n",
    "\n",
    "            if self.data_map[next_guard_position] == self.obstruction_symbol:\n",
    "                self.rotate_guard()\n",
    "                hold = True\n",
    "            else:\n",
    "                self.guard_position = next_guard_position\n",
    "                self.data_map[self.guard_position] = self.guard_direction\n",
    "\n",
    "    def new_position(self, position, direction):\n",
    "        return tuple(g_p + d for g_p, d in zip(position, self.directions_mapping[direction]))\n",
    "\n",
    "    def rotate_guard(self):\n",
    "        self.guard_direction = self.next_direction()\n",
    "        self.data_map[self.guard_position] = self.guard_direction\n",
    "    \n",
    "    def next_direction(self):\n",
    "        return self.directions[(self.directions.index(self.guard_direction) + 1) % len(self.directions)]\n",
    "\n",
    "    def position_in_map(self, position):\n",
    "        x, y = position\n",
    "        shape_x, shape_y = self.data_map.shape\n",
    "        return 0 <= x < shape_x and 0 <= y < shape_y\n",
    "\n",
    "    def part_a(self):\n",
    "        pprint.pp(self.data_map)\n",
    "        return collections.Counter(self.data_map.flatten())[self.visited_symbol]\n",
    "    \n",
    "    def part_b(self):\n",
    "        data_input = self.data_map.copy()\n",
    "        valid_time_paradox = 0\n",
    "        time_paradoxes = set(map(tuple, np.argwhere(self.data_map == \"X\").tolist()))\n",
    "        \n",
    "        for coord in tqdm(time_paradoxes - {self.starting_guard_position}):\n",
    "            patrol = self.__class__(self.input_data, coord)\n",
    "            if patrol.valid_time_paradox:\n",
    "                valid_time_paradox += 1\n",
    "                self.data_map[coord] = self.time_parardox_symbol\n",
    "\n",
    "        pprint.pp(self.data_map)\n",
    "        return valid_time_paradox"
   ]
  },
  {
   "cell_type": "code",
   "execution_count": 5,
   "metadata": {},
   "outputs": [],
   "source": [
    "patrol_test = Patrol(data_test)"
   ]
  },
  {
   "cell_type": "code",
   "execution_count": 6,
   "metadata": {},
   "outputs": [],
   "source": [
    "patrol = Patrol(puzzle.input_data)"
   ]
  },
  {
   "cell_type": "markdown",
   "metadata": {},
   "source": [
    "## Part 1 "
   ]
  },
  {
   "cell_type": "code",
   "execution_count": 7,
   "metadata": {},
   "outputs": [
    {
     "name": "stdout",
     "output_type": "stream",
     "text": [
      "array([['.', '.', '.', '.', '#', '.', '.', '.', '.', '.'],\n",
      "       ['.', '.', '.', '.', 'X', 'X', 'X', 'X', 'X', '#'],\n",
      "       ['.', '.', '.', '.', 'X', '.', '.', '.', 'X', '.'],\n",
      "       ['.', '.', '#', '.', 'X', '.', '.', '.', 'X', '.'],\n",
      "       ['.', '.', 'X', 'X', 'X', 'X', 'X', '#', 'X', '.'],\n",
      "       ['.', '.', 'X', '.', 'X', '.', 'X', '.', 'X', '.'],\n",
      "       ['.', '#', 'X', 'X', 'X', 'X', 'X', 'X', 'X', '.'],\n",
      "       ['.', 'X', 'X', 'X', 'X', 'X', 'X', 'X', '#', '.'],\n",
      "       ['#', 'X', 'X', 'X', 'X', 'X', 'X', 'X', '.', '.'],\n",
      "       ['.', '.', '.', '.', '.', '.', '#', 'X', '.', '.']], dtype='<U1')\n"
     ]
    },
    {
     "data": {
      "text/plain": [
       "41"
      ]
     },
     "execution_count": 7,
     "metadata": {},
     "output_type": "execute_result"
    }
   ],
   "source": [
    "patrol_test.part_a()"
   ]
  },
  {
   "cell_type": "code",
   "execution_count": 8,
   "metadata": {},
   "outputs": [
    {
     "name": "stdout",
     "output_type": "stream",
     "text": [
      "array([['.', '.', '.', ..., '.', '.', '.'],\n",
      "       ['.', '.', '.', ..., '.', '.', '.'],\n",
      "       ['.', '.', '.', ..., '.', '.', '.'],\n",
      "       ...,\n",
      "       ['.', '.', '.', ..., '.', '.', '.'],\n",
      "       ['.', '.', '.', ..., '.', '.', '.'],\n",
      "       ['.', '.', '.', ..., '.', '.', '.']], dtype='<U1')\n"
     ]
    },
    {
     "data": {
      "text/plain": [
       "4602"
      ]
     },
     "execution_count": 8,
     "metadata": {},
     "output_type": "execute_result"
    }
   ],
   "source": [
    "answer_a = patrol.part_a()\n",
    "answer_a"
   ]
  },
  {
   "cell_type": "code",
   "execution_count": 9,
   "metadata": {},
   "outputs": [],
   "source": [
    "puzzle.answer_a = answer_a"
   ]
  },
  {
   "cell_type": "markdown",
   "metadata": {},
   "source": [
    "## Part 2"
   ]
  },
  {
   "cell_type": "code",
   "execution_count": 10,
   "metadata": {},
   "outputs": [
    {
     "data": {
      "application/vnd.jupyter.widget-view+json": {
       "model_id": "5274756977994d9491a46271800d9844",
       "version_major": 2,
       "version_minor": 0
      },
      "text/plain": [
       "  0%|          | 0/40 [00:00<?, ?it/s]"
      ]
     },
     "metadata": {},
     "output_type": "display_data"
    },
    {
     "name": "stdout",
     "output_type": "stream",
     "text": [
      "array([['.', '.', '.', '.', '#', '.', '.', '.', '.', '.'],\n",
      "       ['.', '.', '.', '.', 'X', 'X', 'X', 'X', 'X', '#'],\n",
      "       ['.', '.', '.', '.', 'X', '.', '.', '.', 'X', '.'],\n",
      "       ['.', '.', '#', '.', 'X', '.', '.', '.', 'X', '.'],\n",
      "       ['.', '.', 'X', 'X', 'X', 'X', 'X', '#', 'X', '.'],\n",
      "       ['.', '.', 'X', '.', 'X', '.', 'X', '.', 'X', '.'],\n",
      "       ['.', '#', 'X', 'O', 'X', 'X', 'X', 'X', 'X', '.'],\n",
      "       ['.', 'X', 'X', 'X', 'X', 'X', 'O', 'O', '#', '.'],\n",
      "       ['#', 'O', 'X', 'O', 'X', 'X', 'X', 'X', '.', '.'],\n",
      "       ['.', '.', '.', '.', '.', '.', '#', 'O', '.', '.']], dtype='<U1')\n"
     ]
    },
    {
     "data": {
      "text/plain": [
       "6"
      ]
     },
     "execution_count": 10,
     "metadata": {},
     "output_type": "execute_result"
    }
   ],
   "source": [
    "patrol_test.part_b()"
   ]
  },
  {
   "cell_type": "code",
   "execution_count": 11,
   "metadata": {},
   "outputs": [
    {
     "data": {
      "application/vnd.jupyter.widget-view+json": {
       "model_id": "5820a3e9e38e4031af3f52fc4069bd4e",
       "version_major": 2,
       "version_minor": 0
      },
      "text/plain": [
       "  0%|          | 0/4601 [00:00<?, ?it/s]"
      ]
     },
     "metadata": {},
     "output_type": "display_data"
    },
    {
     "name": "stdout",
     "output_type": "stream",
     "text": [
      "array([['.', '.', '.', ..., '.', '.', '.'],\n",
      "       ['.', '.', '.', ..., '.', '.', '.'],\n",
      "       ['.', '.', '.', ..., '.', '.', '.'],\n",
      "       ...,\n",
      "       ['.', '.', '.', ..., '.', '.', '.'],\n",
      "       ['.', '.', '.', ..., '.', '.', '.'],\n",
      "       ['.', '.', '.', ..., '.', '.', '.']], dtype='<U1')\n"
     ]
    },
    {
     "data": {
      "text/plain": [
       "1703"
      ]
     },
     "execution_count": 11,
     "metadata": {},
     "output_type": "execute_result"
    }
   ],
   "source": [
    "answer_b = patrol.part_b()\n",
    "answer_b"
   ]
  },
  {
   "cell_type": "code",
   "execution_count": 12,
   "metadata": {},
   "outputs": [],
   "source": [
    "puzzle.answer_b = answer_b"
   ]
  },
  {
   "cell_type": "markdown",
   "metadata": {
    "jp-MarkdownHeadingCollapsed": true
   },
   "source": [
    "# Day 7"
   ]
  },
  {
   "cell_type": "code",
   "execution_count": 78,
   "metadata": {},
   "outputs": [],
   "source": [
    "puzzle = Puzzle(2024, 7)"
   ]
  },
  {
   "cell_type": "code",
   "execution_count": 79,
   "metadata": {},
   "outputs": [],
   "source": [
    "data = puzzle.input_data.split(\"\\n\")"
   ]
  },
  {
   "cell_type": "code",
   "execution_count": 80,
   "metadata": {},
   "outputs": [],
   "source": [
    "data_test = \"\"\"190: 10 19\n",
    "3267: 81 40 27\n",
    "83: 17 5\n",
    "156: 15 6\n",
    "7290: 6 8 6 15\n",
    "161011: 16 10 13\n",
    "192: 17 8 14\n",
    "21037: 9 7 18 13\n",
    "292: 11 6 16 20\"\"\""
   ]
  },
  {
   "cell_type": "code",
   "execution_count": 81,
   "metadata": {},
   "outputs": [],
   "source": [
    "class TruthValue:\n",
    "    def __init__(self, input_data_line, debug=False):\n",
    "        self.total, self.numbers = self.parse_input(input_data_line)\n",
    "        self.__valid_a = None\n",
    "        self.__valid_b = None\n",
    "        self.debug = debug\n",
    "\n",
    "    def parse_input(self, input_data_line):\n",
    "            total, numbers = input_data_line.split(\":\")\n",
    "            return int(total), list(map(int, numbers.strip().split(\" \")))\n",
    "\n",
    "    @property\n",
    "    def valid_a(self):\n",
    "        if self.__valid_a is None:\n",
    "            self.__valid_a = self._parse(self.numbers[0], self.numbers[1:], f\"{self.numbers[0]}\", part=\"a\")\n",
    "        \n",
    "        return self.__valid_a\n",
    "\n",
    "    @property\n",
    "    def valid_b(self):\n",
    "        if self.__valid_b is None:\n",
    "            self.__valid_b = self._parse(self.numbers[0], self.numbers[1:], f\"{self.numbers[0]}\", part=\"b\")\n",
    "        \n",
    "        return self.__valid_b\n",
    "\n",
    "    def _parse(self, total, numbers, tracking, part):\n",
    "        if self.debug:\n",
    "            print(f\"{self.total} -> {total} = {tracking}\")\n",
    "        if not numbers:\n",
    "            return self.total == total\n",
    "        # Early break\n",
    "        if total > self.total:\n",
    "            return False\n",
    "            \n",
    "        first_n = numbers.pop(0)\n",
    "\n",
    "        if part == \"b\":\n",
    "            valid = self._parse(int(f\"{total}{first_n}\"), numbers[:], f\"{tracking} || {first_n}\", part)\n",
    "            # Early break b\n",
    "            if valid:\n",
    "                return valid\n",
    "                \n",
    "        valid = self._parse(total + first_n, numbers[:], f\"{tracking} + {first_n}\", part)\n",
    "        # Early break 2\n",
    "        if valid:\n",
    "            return valid\n",
    "        \n",
    "        valid = self._parse(total * first_n, numbers[:], f\"{tracking} * {first_n}\", part)\n",
    "        return valid        \n",
    "        "
   ]
  },
  {
   "cell_type": "code",
   "execution_count": 82,
   "metadata": {},
   "outputs": [],
   "source": [
    "tvs_test = [TruthValue(line, debug=True) for line in data_test.split(\"\\n\")]\n",
    "tvs = [TruthValue(line) for line in puzzle.input_data.split(\"\\n\")]"
   ]
  },
  {
   "cell_type": "markdown",
   "metadata": {},
   "source": [
    "## Part 1 "
   ]
  },
  {
   "cell_type": "code",
   "execution_count": 83,
   "metadata": {},
   "outputs": [
    {
     "name": "stdout",
     "output_type": "stream",
     "text": [
      "190 -> 10 = 10\n",
      "190 -> 29 = 10 + 19\n",
      "190 -> 190 = 10 * 19\n",
      "3267 -> 81 = 81\n",
      "3267 -> 121 = 81 + 40\n",
      "3267 -> 148 = 81 + 40 + 27\n",
      "3267 -> 3267 = 81 + 40 * 27\n",
      "83 -> 17 = 17\n",
      "83 -> 22 = 17 + 5\n",
      "83 -> 85 = 17 * 5\n",
      "156 -> 15 = 15\n",
      "156 -> 21 = 15 + 6\n",
      "156 -> 90 = 15 * 6\n",
      "7290 -> 6 = 6\n",
      "7290 -> 14 = 6 + 8\n",
      "7290 -> 20 = 6 + 8 + 6\n",
      "7290 -> 35 = 6 + 8 + 6 + 15\n",
      "7290 -> 300 = 6 + 8 + 6 * 15\n",
      "7290 -> 84 = 6 + 8 * 6\n",
      "7290 -> 99 = 6 + 8 * 6 + 15\n",
      "7290 -> 1260 = 6 + 8 * 6 * 15\n",
      "7290 -> 48 = 6 * 8\n",
      "7290 -> 54 = 6 * 8 + 6\n",
      "7290 -> 69 = 6 * 8 + 6 + 15\n",
      "7290 -> 810 = 6 * 8 + 6 * 15\n",
      "7290 -> 288 = 6 * 8 * 6\n",
      "7290 -> 303 = 6 * 8 * 6 + 15\n",
      "7290 -> 4320 = 6 * 8 * 6 * 15\n",
      "161011 -> 16 = 16\n",
      "161011 -> 26 = 16 + 10\n",
      "161011 -> 39 = 16 + 10 + 13\n",
      "161011 -> 338 = 16 + 10 * 13\n",
      "161011 -> 160 = 16 * 10\n",
      "161011 -> 173 = 16 * 10 + 13\n",
      "161011 -> 2080 = 16 * 10 * 13\n",
      "192 -> 17 = 17\n",
      "192 -> 25 = 17 + 8\n",
      "192 -> 39 = 17 + 8 + 14\n",
      "192 -> 350 = 17 + 8 * 14\n",
      "192 -> 136 = 17 * 8\n",
      "192 -> 150 = 17 * 8 + 14\n",
      "192 -> 1904 = 17 * 8 * 14\n",
      "21037 -> 9 = 9\n",
      "21037 -> 16 = 9 + 7\n",
      "21037 -> 34 = 9 + 7 + 18\n",
      "21037 -> 47 = 9 + 7 + 18 + 13\n",
      "21037 -> 442 = 9 + 7 + 18 * 13\n",
      "21037 -> 288 = 9 + 7 * 18\n",
      "21037 -> 301 = 9 + 7 * 18 + 13\n",
      "21037 -> 3744 = 9 + 7 * 18 * 13\n",
      "21037 -> 63 = 9 * 7\n",
      "21037 -> 81 = 9 * 7 + 18\n",
      "21037 -> 94 = 9 * 7 + 18 + 13\n",
      "21037 -> 1053 = 9 * 7 + 18 * 13\n",
      "21037 -> 1134 = 9 * 7 * 18\n",
      "21037 -> 1147 = 9 * 7 * 18 + 13\n",
      "21037 -> 14742 = 9 * 7 * 18 * 13\n",
      "292 -> 11 = 11\n",
      "292 -> 17 = 11 + 6\n",
      "292 -> 33 = 11 + 6 + 16\n",
      "292 -> 53 = 11 + 6 + 16 + 20\n",
      "292 -> 660 = 11 + 6 + 16 * 20\n",
      "292 -> 272 = 11 + 6 * 16\n",
      "292 -> 292 = 11 + 6 * 16 + 20\n"
     ]
    },
    {
     "data": {
      "text/plain": [
       "3749"
      ]
     },
     "execution_count": 83,
     "metadata": {},
     "output_type": "execute_result"
    }
   ],
   "source": [
    "sum(tv_test.total for tv_test in tvs_test if tv_test.valid_a)"
   ]
  },
  {
   "cell_type": "code",
   "execution_count": 84,
   "metadata": {},
   "outputs": [
    {
     "data": {
      "application/vnd.jupyter.widget-view+json": {
       "model_id": "817c9f3841f740af800e5d74446298d6",
       "version_major": 2,
       "version_minor": 0
      },
      "text/plain": [
       "  0%|          | 0/850 [00:00<?, ?it/s]"
      ]
     },
     "metadata": {},
     "output_type": "display_data"
    },
    {
     "data": {
      "text/plain": [
       "7234112074324"
      ]
     },
     "execution_count": 84,
     "metadata": {},
     "output_type": "execute_result"
    }
   ],
   "source": [
    "answer_b = 0\n",
    "for tv in tqdm(tvs):\n",
    "    if tv.valid_a:\n",
    "        answer_a += tv.total\n",
    "answer_a"
   ]
  },
  {
   "cell_type": "code",
   "execution_count": 85,
   "metadata": {},
   "outputs": [
    {
     "name": "stdout",
     "output_type": "stream",
     "text": [
      "aocd will not submit that answer. At 2024-12-07 05:09:12.745108-05:00 you've previously submitted 945512582195 and the server responded with:\n",
      "\u001b[32mThat's the right answer!  You are one gold star closer to finding the Chief Historian. [Continue to Part Two]\u001b[0m\n",
      "It is certain that '7234112074324' is incorrect, because '7234112074324' != '945512582195'.\n"
     ]
    }
   ],
   "source": [
    "puzzle.answer_a = answer_a"
   ]
  },
  {
   "cell_type": "markdown",
   "metadata": {},
   "source": [
    "## Part 2"
   ]
  },
  {
   "cell_type": "code",
   "execution_count": 86,
   "metadata": {},
   "outputs": [
    {
     "name": "stdout",
     "output_type": "stream",
     "text": [
      "190 -> 10 = 10\n",
      "190 -> 1019 = 10 || 19\n",
      "190 -> 29 = 10 + 19\n",
      "190 -> 190 = 10 * 19\n",
      "3267 -> 81 = 81\n",
      "3267 -> 8140 = 81 || 40\n",
      "3267 -> 121 = 81 + 40\n",
      "3267 -> 12127 = 81 + 40 || 27\n",
      "3267 -> 148 = 81 + 40 + 27\n",
      "3267 -> 3267 = 81 + 40 * 27\n",
      "83 -> 17 = 17\n",
      "83 -> 175 = 17 || 5\n",
      "83 -> 22 = 17 + 5\n",
      "83 -> 85 = 17 * 5\n",
      "156 -> 15 = 15\n",
      "156 -> 156 = 15 || 6\n",
      "7290 -> 6 = 6\n",
      "7290 -> 68 = 6 || 8\n",
      "7290 -> 686 = 6 || 8 || 6\n",
      "7290 -> 68615 = 6 || 8 || 6 || 15\n",
      "7290 -> 701 = 6 || 8 || 6 + 15\n",
      "7290 -> 10290 = 6 || 8 || 6 * 15\n",
      "7290 -> 74 = 6 || 8 + 6\n",
      "7290 -> 7415 = 6 || 8 + 6 || 15\n",
      "7290 -> 89 = 6 || 8 + 6 + 15\n",
      "7290 -> 1110 = 6 || 8 + 6 * 15\n",
      "7290 -> 408 = 6 || 8 * 6\n",
      "7290 -> 40815 = 6 || 8 * 6 || 15\n",
      "7290 -> 423 = 6 || 8 * 6 + 15\n",
      "7290 -> 6120 = 6 || 8 * 6 * 15\n",
      "7290 -> 14 = 6 + 8\n",
      "7290 -> 146 = 6 + 8 || 6\n",
      "7290 -> 14615 = 6 + 8 || 6 || 15\n",
      "7290 -> 161 = 6 + 8 || 6 + 15\n",
      "7290 -> 2190 = 6 + 8 || 6 * 15\n",
      "7290 -> 20 = 6 + 8 + 6\n",
      "7290 -> 2015 = 6 + 8 + 6 || 15\n",
      "7290 -> 35 = 6 + 8 + 6 + 15\n",
      "7290 -> 300 = 6 + 8 + 6 * 15\n",
      "7290 -> 84 = 6 + 8 * 6\n",
      "7290 -> 8415 = 6 + 8 * 6 || 15\n",
      "7290 -> 99 = 6 + 8 * 6 + 15\n",
      "7290 -> 1260 = 6 + 8 * 6 * 15\n",
      "7290 -> 48 = 6 * 8\n",
      "7290 -> 486 = 6 * 8 || 6\n",
      "7290 -> 48615 = 6 * 8 || 6 || 15\n",
      "7290 -> 501 = 6 * 8 || 6 + 15\n",
      "7290 -> 7290 = 6 * 8 || 6 * 15\n",
      "161011 -> 16 = 16\n",
      "161011 -> 1610 = 16 || 10\n",
      "161011 -> 161013 = 16 || 10 || 13\n",
      "161011 -> 1623 = 16 || 10 + 13\n",
      "161011 -> 20930 = 16 || 10 * 13\n",
      "161011 -> 26 = 16 + 10\n",
      "161011 -> 2613 = 16 + 10 || 13\n",
      "161011 -> 39 = 16 + 10 + 13\n",
      "161011 -> 338 = 16 + 10 * 13\n",
      "161011 -> 160 = 16 * 10\n",
      "161011 -> 16013 = 16 * 10 || 13\n",
      "161011 -> 173 = 16 * 10 + 13\n",
      "161011 -> 2080 = 16 * 10 * 13\n",
      "192 -> 17 = 17\n",
      "192 -> 178 = 17 || 8\n",
      "192 -> 17814 = 17 || 8 || 14\n",
      "192 -> 192 = 17 || 8 + 14\n",
      "21037 -> 9 = 9\n",
      "21037 -> 97 = 9 || 7\n",
      "21037 -> 9718 = 9 || 7 || 18\n",
      "21037 -> 971813 = 9 || 7 || 18 || 13\n",
      "21037 -> 9731 = 9 || 7 || 18 + 13\n",
      "21037 -> 126334 = 9 || 7 || 18 * 13\n",
      "21037 -> 115 = 9 || 7 + 18\n",
      "21037 -> 11513 = 9 || 7 + 18 || 13\n",
      "21037 -> 128 = 9 || 7 + 18 + 13\n",
      "21037 -> 1495 = 9 || 7 + 18 * 13\n",
      "21037 -> 1746 = 9 || 7 * 18\n",
      "21037 -> 174613 = 9 || 7 * 18 || 13\n",
      "21037 -> 1759 = 9 || 7 * 18 + 13\n",
      "21037 -> 22698 = 9 || 7 * 18 * 13\n",
      "21037 -> 16 = 9 + 7\n",
      "21037 -> 1618 = 9 + 7 || 18\n",
      "21037 -> 161813 = 9 + 7 || 18 || 13\n",
      "21037 -> 1631 = 9 + 7 || 18 + 13\n",
      "21037 -> 21034 = 9 + 7 || 18 * 13\n",
      "21037 -> 34 = 9 + 7 + 18\n",
      "21037 -> 3413 = 9 + 7 + 18 || 13\n",
      "21037 -> 47 = 9 + 7 + 18 + 13\n",
      "21037 -> 442 = 9 + 7 + 18 * 13\n",
      "21037 -> 288 = 9 + 7 * 18\n",
      "21037 -> 28813 = 9 + 7 * 18 || 13\n",
      "21037 -> 301 = 9 + 7 * 18 + 13\n",
      "21037 -> 3744 = 9 + 7 * 18 * 13\n",
      "21037 -> 63 = 9 * 7\n",
      "21037 -> 6318 = 9 * 7 || 18\n",
      "21037 -> 631813 = 9 * 7 || 18 || 13\n",
      "21037 -> 6331 = 9 * 7 || 18 + 13\n",
      "21037 -> 82134 = 9 * 7 || 18 * 13\n",
      "21037 -> 81 = 9 * 7 + 18\n",
      "21037 -> 8113 = 9 * 7 + 18 || 13\n",
      "21037 -> 94 = 9 * 7 + 18 + 13\n",
      "21037 -> 1053 = 9 * 7 + 18 * 13\n",
      "21037 -> 1134 = 9 * 7 * 18\n",
      "21037 -> 113413 = 9 * 7 * 18 || 13\n",
      "21037 -> 1147 = 9 * 7 * 18 + 13\n",
      "21037 -> 14742 = 9 * 7 * 18 * 13\n",
      "292 -> 11 = 11\n",
      "292 -> 116 = 11 || 6\n",
      "292 -> 11616 = 11 || 6 || 16\n",
      "292 -> 132 = 11 || 6 + 16\n",
      "292 -> 13220 = 11 || 6 + 16 || 20\n",
      "292 -> 152 = 11 || 6 + 16 + 20\n",
      "292 -> 2640 = 11 || 6 + 16 * 20\n",
      "292 -> 1856 = 11 || 6 * 16\n",
      "292 -> 17 = 11 + 6\n",
      "292 -> 1716 = 11 + 6 || 16\n",
      "292 -> 33 = 11 + 6 + 16\n",
      "292 -> 3320 = 11 + 6 + 16 || 20\n",
      "292 -> 53 = 11 + 6 + 16 + 20\n",
      "292 -> 660 = 11 + 6 + 16 * 20\n",
      "292 -> 272 = 11 + 6 * 16\n",
      "292 -> 27220 = 11 + 6 * 16 || 20\n",
      "292 -> 292 = 11 + 6 * 16 + 20\n"
     ]
    },
    {
     "data": {
      "text/plain": [
       "11387"
      ]
     },
     "execution_count": 86,
     "metadata": {},
     "output_type": "execute_result"
    }
   ],
   "source": [
    "sum(tv_test.total for tv_test in tvs_test if tv_test.valid_b)"
   ]
  },
  {
   "cell_type": "code",
   "execution_count": 87,
   "metadata": {
    "scrolled": true
   },
   "outputs": [
    {
     "data": {
      "application/vnd.jupyter.widget-view+json": {
       "model_id": "acf67c0b65054a21949396ebbad223c2",
       "version_major": 2,
       "version_minor": 0
      },
      "text/plain": [
       "  0%|          | 0/850 [00:00<?, ?it/s]"
      ]
     },
     "metadata": {},
     "output_type": "display_data"
    },
    {
     "data": {
      "text/plain": [
       "271691107779347"
      ]
     },
     "execution_count": 87,
     "metadata": {},
     "output_type": "execute_result"
    }
   ],
   "source": [
    "answer_b = 0\n",
    "for tv in tqdm(tvs):\n",
    "    if tv.valid_b:\n",
    "        answer_b += tv.total\n",
    "answer_b"
   ]
  },
  {
   "cell_type": "code",
   "execution_count": 24,
   "metadata": {},
   "outputs": [],
   "source": [
    "puzzle.answer_b = answer_b"
   ]
  },
  {
   "cell_type": "markdown",
   "metadata": {
    "jp-MarkdownHeadingCollapsed": true
   },
   "source": [
    "# Day 8"
   ]
  },
  {
   "cell_type": "code",
   "execution_count": 94,
   "metadata": {},
   "outputs": [],
   "source": [
    "puzzle = Puzzle(2024, 8)"
   ]
  },
  {
   "cell_type": "code",
   "execution_count": 86,
   "metadata": {},
   "outputs": [],
   "source": [
    "input_test = \"\"\"............\n",
    "........0...\n",
    ".....0......\n",
    ".......0....\n",
    "....0.......\n",
    "......A.....\n",
    "............\n",
    "............\n",
    "........A...\n",
    ".........A..\n",
    "............\n",
    "............\"\"\""
   ]
  },
  {
   "cell_type": "code",
   "execution_count": 126,
   "metadata": {},
   "outputs": [],
   "source": [
    "def parse_data(data):\n",
    "    storage = collections.defaultdict(set)\n",
    "    for x, line in enumerate(data.split(\"\\n\")):\n",
    "        for y, char in enumerate(line):\n",
    "            if char != \".\":\n",
    "                storage[char].add((x, y))\n",
    "\n",
    "    return storage, x + 1, y + 1\n",
    "        "
   ]
  },
  {
   "cell_type": "markdown",
   "metadata": {},
   "source": [
    "## Part 1 "
   ]
  },
  {
   "cell_type": "code",
   "execution_count": 127,
   "metadata": {},
   "outputs": [],
   "source": [
    "def part_a(data):\n",
    "    \n",
    "    data_storage, x_max, y_max = parse_data(data)\n",
    "    \n",
    "    antinodes = set()\n",
    "    for signal, values in data_storage.items():\n",
    "        for combination in itertools.combinations(values, r=2):\n",
    "            p1, p2 = combination\n",
    "            diff = tuple(p2_i - p1_i for p1_i, p2_i in zip(p1, p2))\n",
    "            p1_antinode = tuple(p1_i - diff_i for p1_i, diff_i in zip(p1, diff))\n",
    "            p2_antinode = tuple(p2_i + diff_i for p2_i, diff_i in zip(p2, diff))\n",
    "            \n",
    "            for new_antinode in [p1_antinode, p2_antinode]:\n",
    "                new_antinode_x, new_antinode_y = new_antinode\n",
    "                \n",
    "                if 0 <= new_antinode_x < x_max and 0 <= new_antinode_y < y_max:\n",
    "                    antinodes.add(new_antinode)\n",
    "\n",
    "    debug = np.full((x_max, y_max), \".\")\n",
    "\n",
    "    for antinode in antinodes:\n",
    "        debug[antinode] = \"#\"\n",
    "    \n",
    "    for signal, values in data_storage.items():\n",
    "        for v in values:\n",
    "            debug[v] = signal\n",
    "                    \n",
    "    return len(antinodes), debug"
   ]
  },
  {
   "cell_type": "code",
   "execution_count": 128,
   "metadata": {},
   "outputs": [],
   "source": [
    "antinodes_test, debug_test = part_a(input_test)"
   ]
  },
  {
   "cell_type": "code",
   "execution_count": 130,
   "metadata": {
    "scrolled": true
   },
   "outputs": [
    {
     "data": {
      "text/plain": [
       "14"
      ]
     },
     "execution_count": 130,
     "metadata": {},
     "output_type": "execute_result"
    }
   ],
   "source": [
    "antinodes_test"
   ]
  },
  {
   "cell_type": "code",
   "execution_count": 131,
   "metadata": {},
   "outputs": [
    {
     "name": "stdout",
     "output_type": "stream",
     "text": [
      "array([['.', '.', '.', '.', '.', '.', '#', '.', '.', '.', '.', '#'],\n",
      "       ['.', '.', '.', '#', '.', '.', '.', '.', '0', '.', '.', '.'],\n",
      "       ['.', '.', '.', '.', '#', '0', '.', '.', '.', '.', '#', '.'],\n",
      "       ['.', '.', '#', '.', '.', '.', '.', '0', '.', '.', '.', '.'],\n",
      "       ['.', '.', '.', '.', '0', '.', '.', '.', '.', '#', '.', '.'],\n",
      "       ['.', '#', '.', '.', '.', '.', 'A', '.', '.', '.', '.', '.'],\n",
      "       ['.', '.', '.', '#', '.', '.', '.', '.', '.', '.', '.', '.'],\n",
      "       ['#', '.', '.', '.', '.', '.', '.', '#', '.', '.', '.', '.'],\n",
      "       ['.', '.', '.', '.', '.', '.', '.', '.', 'A', '.', '.', '.'],\n",
      "       ['.', '.', '.', '.', '.', '.', '.', '.', '.', 'A', '.', '.'],\n",
      "       ['.', '.', '.', '.', '.', '.', '.', '.', '.', '.', '#', '.'],\n",
      "       ['.', '.', '.', '.', '.', '.', '.', '.', '.', '.', '#', '.']],\n",
      "      dtype='<U1')\n"
     ]
    }
   ],
   "source": [
    "pprint.pp(debug_test)"
   ]
  },
  {
   "cell_type": "code",
   "execution_count": 133,
   "metadata": {},
   "outputs": [
    {
     "data": {
      "text/plain": [
       "423"
      ]
     },
     "execution_count": 133,
     "metadata": {},
     "output_type": "execute_result"
    }
   ],
   "source": [
    "answer_a, _ = part_a(puzzle.input_data)\n",
    "answer_a"
   ]
  },
  {
   "cell_type": "code",
   "execution_count": 97,
   "metadata": {},
   "outputs": [
    {
     "name": "stdout",
     "output_type": "stream",
     "text": [
      "\u001b[32mThat's the right answer!  You are one gold star closer to finding the Chief Historian. [Continue to Part Two]\u001b[0m\n"
     ]
    }
   ],
   "source": [
    "puzzle.answer_a = answer_a"
   ]
  },
  {
   "cell_type": "markdown",
   "metadata": {},
   "source": [
    "## Part 2"
   ]
  },
  {
   "cell_type": "code",
   "execution_count": 151,
   "metadata": {},
   "outputs": [],
   "source": [
    "def part_b(data):\n",
    "    \n",
    "    data_storage, x_max, y_max = parse_data(data)\n",
    "    \n",
    "    antinodes = set()\n",
    "    for signal, values in data_storage.items():\n",
    "        for combination in itertools.combinations(values, r=2):\n",
    "            p1, p2 = combination\n",
    "            antinodes.update([p1, p2])\n",
    "            \n",
    "            diff = tuple(p2_i - p1_i for p1_i, p2_i in zip(p1, p2))\n",
    "            \n",
    "            antinode = p1\n",
    "            while(True):\n",
    "                antinode = tuple(a_i - diff_i for a_i, diff_i  in zip(antinode, diff))\n",
    "                antinode_x, antinode_y = antinode\n",
    "                if not 0 <= antinode_x < x_max or not 0 <= antinode_y < y_max:\n",
    "                    break\n",
    "                    \n",
    "                antinodes.add(antinode)\n",
    "\n",
    "            antinode = p2\n",
    "            while(True):\n",
    "                antinode = tuple(a_i + diff_i for a_i, diff_i in zip(antinode, diff))\n",
    "                antinode_x, antinode_y = antinode\n",
    "                if not (0 <= antinode_x < x_max) or not (0 <= antinode_y < y_max):\n",
    "                    break\n",
    "                    \n",
    "                antinodes.add(antinode)\n",
    "\n",
    "    debug = np.full((x_max, y_max), \".\")\n",
    "\n",
    "    for antinode in antinodes:\n",
    "        debug[antinode] = \"#\"\n",
    "    \n",
    "    for signal, values in data_storage.items():\n",
    "        for v in values:\n",
    "            debug[v] = signal\n",
    "                    \n",
    "    return len(antinodes), debug"
   ]
  },
  {
   "cell_type": "code",
   "execution_count": 152,
   "metadata": {},
   "outputs": [],
   "source": [
    "antinodes_test_b, debug_test_b = part_b(input_test)"
   ]
  },
  {
   "cell_type": "code",
   "execution_count": 153,
   "metadata": {},
   "outputs": [
    {
     "data": {
      "text/plain": [
       "34"
      ]
     },
     "execution_count": 153,
     "metadata": {},
     "output_type": "execute_result"
    }
   ],
   "source": [
    "antinodes_test_b"
   ]
  },
  {
   "cell_type": "code",
   "execution_count": 154,
   "metadata": {},
   "outputs": [
    {
     "data": {
      "text/plain": [
       "array([['#', '#', '.', '.', '.', '.', '#', '.', '.', '.', '.', '#'],\n",
       "       ['.', '#', '.', '#', '.', '.', '.', '.', '0', '.', '.', '.'],\n",
       "       ['.', '.', '#', '.', '#', '0', '.', '.', '.', '.', '#', '.'],\n",
       "       ['.', '.', '#', '#', '.', '.', '.', '0', '.', '.', '.', '.'],\n",
       "       ['.', '.', '.', '.', '0', '.', '.', '.', '.', '#', '.', '.'],\n",
       "       ['.', '#', '.', '.', '.', '#', 'A', '.', '.', '.', '.', '#'],\n",
       "       ['.', '.', '.', '#', '.', '.', '#', '.', '.', '.', '.', '.'],\n",
       "       ['#', '.', '.', '.', '.', '#', '.', '#', '.', '.', '.', '.'],\n",
       "       ['.', '.', '#', '.', '.', '.', '.', '.', 'A', '.', '.', '.'],\n",
       "       ['.', '.', '.', '.', '#', '.', '.', '.', '.', 'A', '.', '.'],\n",
       "       ['.', '#', '.', '.', '.', '.', '.', '.', '.', '.', '#', '.'],\n",
       "       ['.', '.', '.', '#', '.', '.', '.', '.', '.', '.', '#', '#']],\n",
       "      dtype='<U1')"
      ]
     },
     "execution_count": 154,
     "metadata": {},
     "output_type": "execute_result"
    }
   ],
   "source": [
    "debug_test_b"
   ]
  },
  {
   "cell_type": "code",
   "execution_count": 149,
   "metadata": {},
   "outputs": [
    {
     "data": {
      "text/plain": [
       "1287"
      ]
     },
     "execution_count": 149,
     "metadata": {},
     "output_type": "execute_result"
    }
   ],
   "source": [
    "answer_b, _ = part_b(puzzle.input_data)\n",
    "answer_b"
   ]
  },
  {
   "cell_type": "code",
   "execution_count": 150,
   "metadata": {},
   "outputs": [
    {
     "name": "stdout",
     "output_type": "stream",
     "text": [
      "\u001b[32mThat's the right answer!  You are one gold star closer to finding the Chief Historian.You have completed Day 8! You can [Shareon\n",
      "  Bluesky\n",
      "Twitter\n",
      "Mastodon] this victory or [Return to Your Advent Calendar].\u001b[0m\n"
     ]
    }
   ],
   "source": [
    "puzzle.answer_b = answer_b"
   ]
  },
  {
   "cell_type": "markdown",
   "metadata": {
    "jp-MarkdownHeadingCollapsed": true
   },
   "source": [
    "# Day 9"
   ]
  },
  {
   "cell_type": "code",
   "execution_count": 13,
   "metadata": {},
   "outputs": [],
   "source": [
    "puzzle = Puzzle(2024, 9)"
   ]
  },
  {
   "cell_type": "code",
   "execution_count": 14,
   "metadata": {},
   "outputs": [],
   "source": [
    "data = puzzle.input_data"
   ]
  },
  {
   "cell_type": "code",
   "execution_count": 73,
   "metadata": {},
   "outputs": [],
   "source": [
    "data_test = \"2333133121414131402\""
   ]
  },
  {
   "cell_type": "markdown",
   "metadata": {},
   "source": [
    "## Part 1 "
   ]
  },
  {
   "cell_type": "code",
   "execution_count": 88,
   "metadata": {},
   "outputs": [],
   "source": [
    "def part_a(data, debug=False):\n",
    "    mapping = {}\n",
    "    position = 0\n",
    "    for ID, element in enumerate(list(data)):\n",
    "        for _ in range(int(element)):\n",
    "            mapping[position] = ID // 2 if ID % 2 == 0 else \".\"\n",
    "            position += 1\n",
    "            \n",
    "    start, end = 0, len(mapping) - 1\n",
    "    while True:\n",
    "        if debug:\n",
    "            print(\"\".join(str(mapping[i]) for i in range(len(mapping))))\n",
    "        while mapping[start] != \".\":\n",
    "            start += 1\n",
    "        while mapping[end] == \".\":\n",
    "            end -= 1\n",
    "\n",
    "        if start >= end: \n",
    "            break\n",
    "        \n",
    "        mapping[start] = mapping[end]\n",
    "        mapping[end] = \".\"\n",
    "    \n",
    "    return sum(k * v for k, v in mapping.items() if v != \".\")"
   ]
  },
  {
   "cell_type": "code",
   "execution_count": 6,
   "metadata": {},
   "outputs": [
    {
     "name": "stdout",
     "output_type": "stream",
     "text": [
      "00...111...2...333.44.5555.6666.777.888899\n",
      "009..111...2...333.44.5555.6666.777.88889.\n",
      "0099.111...2...333.44.5555.6666.777.8888..\n",
      "00998111...2...333.44.5555.6666.777.888...\n",
      "009981118..2...333.44.5555.6666.777.88....\n",
      "0099811188.2...333.44.5555.6666.777.8.....\n",
      "009981118882...333.44.5555.6666.777.......\n",
      "0099811188827..333.44.5555.6666.77........\n",
      "00998111888277.333.44.5555.6666.7.........\n",
      "009981118882777333.44.5555.6666...........\n",
      "009981118882777333644.5555.666............\n",
      "00998111888277733364465555.66.............\n",
      "0099811188827773336446555566..............\n"
     ]
    },
    {
     "data": {
      "text/plain": [
       "1928"
      ]
     },
     "execution_count": 6,
     "metadata": {},
     "output_type": "execute_result"
    }
   ],
   "source": [
    "part_a(data_test, True)"
   ]
  },
  {
   "cell_type": "code",
   "execution_count": 7,
   "metadata": {},
   "outputs": [
    {
     "data": {
      "text/plain": [
       "6288599492129"
      ]
     },
     "execution_count": 7,
     "metadata": {},
     "output_type": "execute_result"
    }
   ],
   "source": [
    "answer_a = part_a(data)\n",
    "answer_a"
   ]
  },
  {
   "cell_type": "code",
   "execution_count": 8,
   "metadata": {},
   "outputs": [],
   "source": [
    "puzzle.answer_a = answer_a"
   ]
  },
  {
   "cell_type": "markdown",
   "metadata": {},
   "source": [
    "## Part 2"
   ]
  },
  {
   "cell_type": "code",
   "execution_count": 3,
   "metadata": {},
   "outputs": [],
   "source": [
    "Chunk = collections.namedtuple('Chunk', ['ID', 'size'])"
   ]
  },
  {
   "cell_type": "code",
   "execution_count": 65,
   "metadata": {},
   "outputs": [],
   "source": [
    "def part_b(data, debug=False):\n",
    "    empty_spaces_mapping = {}\n",
    "    mapping = {}\n",
    "    position = 0\n",
    "    for ID, element in enumerate(list(data)):\n",
    "        size = int(element)\n",
    "        if size and ID % 2 == 0:\n",
    "            chunk_ID =  ID // 2\n",
    "            mapping[position] = Chunk(chunk_ID, size)\n",
    "        else:\n",
    "            empty_spaces_mapping[position] = size\n",
    "        \n",
    "        position += size\n",
    "\n",
    "    max_position = position\n",
    "    \n",
    "    for end in tqdm(range(max_position - 1, -1, -1)):\n",
    "        if end not in mapping:\n",
    "            continue\n",
    "        \n",
    "        if debug:\n",
    "            line = [\".\" for _ in range(max_position)]\n",
    "            for k, chunk in mapping.items():\n",
    "                for i in range(chunk.size):\n",
    "                    line[k + i] = str(chunk.ID)\n",
    "            print(\"\".join(line))\n",
    "            \n",
    "        chunk = mapping[end]\n",
    "        \n",
    "        if chunk.ID > chunk_ID:\n",
    "            continue\n",
    "            \n",
    "        chunk_ID = chunk.ID\n",
    "\n",
    "        for position in range(end):\n",
    "            if position in empty_spaces_mapping:\n",
    "                if chunk.size <= empty_spaces_mapping[position]:\n",
    "                    empty_chunk_size = empty_spaces_mapping.pop(position)\n",
    "                    mapping[position] = chunk\n",
    "                    if empty_chunk_size - chunk.size > 0:\n",
    "                        empty_spaces_mapping[position + chunk.size] = empty_chunk_size - chunk.size\n",
    "\n",
    "                    del mapping[end]\n",
    "                    break\n",
    "\n",
    "    line = [\".\" for _ in range(max_position)]\n",
    "    for k, chunk in mapping.items():\n",
    "        for i in range(chunk.size):\n",
    "            line[k + i] = str(chunk.ID)\n",
    "    \n",
    "    return sum((k + i) * chunk.ID for k, chunk in mapping.items() for i in range(chunk.size))"
   ]
  },
  {
   "cell_type": "code",
   "execution_count": 109,
   "metadata": {},
   "outputs": [],
   "source": [
    "def part_b_faster(data, debug=False):\n",
    "    empty_sapces_sizes = collections.defaultdict(list)\n",
    "    empty_sapces_mapping = {}\n",
    "    max_empty_size = 9\n",
    "    mapping = {}\n",
    "    position = 0\n",
    "    for ID, element in enumerate(list(data)):\n",
    "        size = int(element)\n",
    "        if size and ID % 2 == 0:\n",
    "            chunk_ID =  ID // 2\n",
    "            mapping[position] = Chunk(chunk_ID, size)\n",
    "        else:\n",
    "            for i in range(1, size + 1):\n",
    "                empty_sapces_sizes[i].append(position)\n",
    "        \n",
    "        position += size\n",
    "\n",
    "    max_position = position\n",
    "    \n",
    "    for end in tqdm(range(max_position - 1, -1, -1)):\n",
    "        if end not in mapping:\n",
    "            continue\n",
    "        \n",
    "        if debug:\n",
    "            line = [\".\" for _ in range(max_position)]\n",
    "            for k, chunk in mapping.items():\n",
    "                for i in range(chunk.size):\n",
    "                    line[k + i] = str(chunk.ID)\n",
    "            print(\"\".join(line))\n",
    "            \n",
    "        chunk = mapping[end]\n",
    "        \n",
    "        if chunk.ID > chunk_ID:\n",
    "            continue\n",
    "        chunk_ID = chunk.ID\n",
    "\n",
    "        for wanted_size in range(chunk.size, max_empty_size + 1):\n",
    "            if not empty_sapces_sizes[wanted_size]:\n",
    "                continue\n",
    "            empty_space_position = empty_sapces_sizes[wanted_size][0]\n",
    "            if empty_space_position >= end:\n",
    "                break\n",
    "                \n",
    "            for j in range(1, max_empty_size + 1):\n",
    "                try:\n",
    "                    empty_sapces_sizes[j].remove(empty_space_position)\n",
    "                    max_space = j\n",
    "                except ValueError:\n",
    "                    break\n",
    "                    \n",
    "            new_empty_space_position = empty_space_position + chunk.size\n",
    "            for j in range(1, max_space + 1 - chunk.size):\n",
    "                bisect.insort_left(empty_sapces_sizes[j], new_empty_space_position)\n",
    "\n",
    "            mapping[empty_space_position] = chunk\n",
    "            del mapping[end]\n",
    "            break\n",
    "            \n",
    "    return sum((k + i) * chunk.ID for k, chunk in mapping.items() for i in range(chunk.size))"
   ]
  },
  {
   "cell_type": "code",
   "execution_count": 110,
   "metadata": {},
   "outputs": [
    {
     "data": {
      "application/vnd.jupyter.widget-view+json": {
       "model_id": "1106373fa0924bf78fe72b6cf5acc5a6",
       "version_major": 2,
       "version_minor": 0
      },
      "text/plain": [
       "  0%|          | 0/42 [00:00<?, ?it/s]"
      ]
     },
     "metadata": {},
     "output_type": "display_data"
    },
    {
     "name": "stdout",
     "output_type": "stream",
     "text": [
      "00...111...2...333.44.5555.6666.777.888899\n",
      "0099.111...2...333.44.5555.6666.777.8888..\n",
      "0099.111...2...333.44.5555.6666.777.8888..\n",
      "0099.1117772...333.44.5555.6666.....8888..\n",
      "0099.1117772...333.44.5555.6666.....8888..\n",
      "0099.1117772...333.44.5555.6666.....8888..\n",
      "0099.111777244.333....5555.6666.....8888..\n",
      "0099.111777244.333....5555.6666.....8888..\n",
      "0099.111777244.333....5555.6666.....8888..\n",
      "00992111777.44.333....5555.6666.....8888..\n",
      "00992111777.44.333....5555.6666.....8888..\n",
      "00992111777.44.333....5555.6666.....8888..\n",
      "00992111777.44.333....5555.6666.....8888..\n",
      "00992111777.44.333....5555.6666.....8888..\n"
     ]
    },
    {
     "data": {
      "text/plain": [
       "2858"
      ]
     },
     "execution_count": 110,
     "metadata": {},
     "output_type": "execute_result"
    }
   ],
   "source": [
    "part_b(data_test, True)"
   ]
  },
  {
   "cell_type": "code",
   "execution_count": 111,
   "metadata": {},
   "outputs": [
    {
     "data": {
      "application/vnd.jupyter.widget-view+json": {
       "model_id": "4dce8a91a2234694937cd0ff49fb1cdd",
       "version_major": 2,
       "version_minor": 0
      },
      "text/plain": [
       "  0%|          | 0/42 [00:00<?, ?it/s]"
      ]
     },
     "metadata": {},
     "output_type": "display_data"
    },
    {
     "name": "stdout",
     "output_type": "stream",
     "text": [
      "00...111...2...333.44.5555.6666.777.888899\n",
      "0099.111...2...333.44.5555.6666.777.8888..\n",
      "0099.111...2...333.44.5555.6666.777.8888..\n",
      "0099.1117772...333.44.5555.6666.....8888..\n",
      "0099.1117772...333.44.5555.6666.....8888..\n",
      "0099.1117772...333.44.5555.6666.....8888..\n",
      "0099.111777244.333....5555.6666.....8888..\n",
      "0099.111777244.333....5555.6666.....8888..\n",
      "0099.111777244.333....5555.6666.....8888..\n",
      "00992111777.44.333....5555.6666.....8888..\n",
      "00992111777.44.333....5555.6666.....8888..\n",
      "00992111777.44.333....5555.6666.....8888..\n",
      "00992111777.44.333....5555.6666.....8888..\n",
      "00992111777.44.333....5555.6666.....8888..\n"
     ]
    },
    {
     "data": {
      "text/plain": [
       "2858"
      ]
     },
     "execution_count": 111,
     "metadata": {},
     "output_type": "execute_result"
    }
   ],
   "source": [
    "part_b_faster(data_test, True)"
   ]
  },
  {
   "cell_type": "code",
   "execution_count": 107,
   "metadata": {},
   "outputs": [
    {
     "data": {
      "application/vnd.jupyter.widget-view+json": {
       "model_id": "c38963861eb44a11ae751aa82b46a36d",
       "version_major": 2,
       "version_minor": 0
      },
      "text/plain": [
       "  0%|          | 0/94798 [00:00<?, ?it/s]"
      ]
     },
     "metadata": {},
     "output_type": "display_data"
    },
    {
     "data": {
      "text/plain": [
       "6321896265143"
      ]
     },
     "execution_count": 107,
     "metadata": {},
     "output_type": "execute_result"
    }
   ],
   "source": [
    "answer_b = part_b(data)\n",
    "answer_b"
   ]
  },
  {
   "cell_type": "code",
   "execution_count": 108,
   "metadata": {},
   "outputs": [
    {
     "data": {
      "application/vnd.jupyter.widget-view+json": {
       "model_id": "d30666895dfa4f05aa0afbe5db02c5f9",
       "version_major": 2,
       "version_minor": 0
      },
      "text/plain": [
       "  0%|          | 0/94798 [00:00<?, ?it/s]"
      ]
     },
     "metadata": {},
     "output_type": "display_data"
    },
    {
     "data": {
      "text/plain": [
       "6321896265143"
      ]
     },
     "execution_count": 108,
     "metadata": {},
     "output_type": "execute_result"
    }
   ],
   "source": [
    "answer_b_faster = part_b_faster(data)\n",
    "answer_b_faster"
   ]
  },
  {
   "cell_type": "markdown",
   "metadata": {
    "jp-MarkdownHeadingCollapsed": true
   },
   "source": [
    "# Day 10"
   ]
  },
  {
   "cell_type": "code",
   "execution_count": 2,
   "metadata": {},
   "outputs": [],
   "source": [
    "puzzle = Puzzle(2024, 10)"
   ]
  },
  {
   "cell_type": "code",
   "execution_count": 46,
   "metadata": {},
   "outputs": [],
   "source": [
    "data_test = \"\"\"89010123\n",
    "78121874\n",
    "87430965\n",
    "96549874\n",
    "45678903\n",
    "32019012\n",
    "01329801\n",
    "10456732\"\"\""
   ]
  },
  {
   "cell_type": "code",
   "execution_count": 80,
   "metadata": {},
   "outputs": [],
   "source": [
    "def get_graph(data):\n",
    "    data = np.array(list(map(list, data.split(\"\\n\"))))\n",
    "    graph = nx.grid_2d_graph(*data.shape, create_using=nx.DiGraph)\n",
    "    starting_nodes = set()\n",
    "    end_nodes = set()\n",
    "    \n",
    "    for node, value in np.ndenumerate(data):\n",
    "        graph.nodes[node][\"value\"] = int(value) if value != \".\" else value\n",
    "        if value != \".\":\n",
    "            if int(value) == 0:\n",
    "                starting_nodes.add(node)\n",
    "            elif int(value) == 9:\n",
    "                end_nodes.add(node)\n",
    "        \n",
    "    for n1, n2 in list(graph.edges):\n",
    "        if graph.nodes[n1][\"value\"] == \".\" or graph.nodes[n2][\"value\"] == \".\" or graph.nodes[n2][\"value\"] - graph.nodes[n1][\"value\"] != 1:\n",
    "            graph.remove_edge(n1, n2)\n",
    "    \n",
    "    return graph, starting_nodes, end_nodes"
   ]
  },
  {
   "cell_type": "code",
   "execution_count": 81,
   "metadata": {},
   "outputs": [],
   "source": [
    "def plot_graph(graph):\n",
    "    pos = {(x, y):(y, -x) for x, y in graph.nodes}\n",
    "    labels = nx.get_node_attributes(graph, 'value')\n",
    "    nx.draw(graph, labels=labels, pos=pos, with_labels=True)\n",
    "    \n",
    "    plt.show()"
   ]
  },
  {
   "cell_type": "code",
   "execution_count": 82,
   "metadata": {},
   "outputs": [],
   "source": [
    "def manhattan_distance(n1, n2):\n",
    "    x1, y1 = n1\n",
    "    x2, y2 = n1\n",
    "    \n",
    "    return abs(x1 - x2) + abs(y1 - y2)"
   ]
  },
  {
   "cell_type": "markdown",
   "metadata": {},
   "source": [
    "## Part 1 "
   ]
  },
  {
   "cell_type": "code",
   "execution_count": 83,
   "metadata": {},
   "outputs": [],
   "source": [
    "graph, starting_nodes, end_nodes = get_graph(data_test)"
   ]
  },
  {
   "cell_type": "code",
   "execution_count": 84,
   "metadata": {},
   "outputs": [
    {
     "data": {
      "image/png": "[encoded data removed]",
      "text/plain": [
       "<Figure size 640x480 with 1 Axes>"
      ]
     },
     "metadata": {},
     "output_type": "display_data"
    }
   ],
   "source": [
    "plot_graph(graph)"
   ]
  },
  {
   "cell_type": "code",
   "execution_count": 85,
   "metadata": {},
   "outputs": [
    {
     "data": {
      "text/plain": [
       "{(0, 2), (0, 4), (2, 4), (4, 6), (5, 2), (5, 5), (6, 0), (6, 6), (7, 1)}"
      ]
     },
     "execution_count": 85,
     "metadata": {},
     "output_type": "execute_result"
    }
   ],
   "source": [
    "starting_nodes"
   ]
  },
  {
   "cell_type": "code",
   "execution_count": 86,
   "metadata": {},
   "outputs": [
    {
     "data": {
      "text/plain": [
       "{(0, 1), (2, 5), (3, 0), (3, 4), (4, 5), (5, 4), (6, 4)}"
      ]
     },
     "execution_count": 86,
     "metadata": {},
     "output_type": "execute_result"
    }
   ],
   "source": [
    "end_nodes\n"
   ]
  },
  {
   "cell_type": "code",
   "execution_count": 92,
   "metadata": {},
   "outputs": [],
   "source": [
    "def part_a(data):\n",
    "    graph, starting_nodes, end_nodes = get_graph(data)\n",
    "    \n",
    "    \n",
    "    nb_path = 0\n",
    "    for start, end in tqdm(itertools.product(starting_nodes, end_nodes), total=len(starting_nodes)*len(end_nodes)):\n",
    "        if manhattan_distance(start, end) > 9:\n",
    "            continue\n",
    "            \n",
    "        nb_path += nx.has_path(graph, start, end)\n",
    "            \n",
    "    return nb_path"
   ]
  },
  {
   "cell_type": "code",
   "execution_count": 93,
   "metadata": {},
   "outputs": [
    {
     "data": {
      "application/vnd.jupyter.widget-view+json": {
       "model_id": "05035bd2f4d54e4ebd833426fef2e400",
       "version_major": 2,
       "version_minor": 0
      },
      "text/plain": [
       "  0%|          | 0/63 [00:00<?, ?it/s]"
      ]
     },
     "metadata": {},
     "output_type": "display_data"
    },
    {
     "data": {
      "text/plain": [
       "36"
      ]
     },
     "execution_count": 93,
     "metadata": {},
     "output_type": "execute_result"
    }
   ],
   "source": [
    "part_a(data_test)"
   ]
  },
  {
   "cell_type": "code",
   "execution_count": 94,
   "metadata": {},
   "outputs": [
    {
     "data": {
      "application/vnd.jupyter.widget-view+json": {
       "model_id": "a9399361cfef4487a4300119630001ef",
       "version_major": 2,
       "version_minor": 0
      },
      "text/plain": [
       "  0%|          | 0/56445 [00:00<?, ?it/s]"
      ]
     },
     "metadata": {},
     "output_type": "display_data"
    },
    {
     "data": {
      "text/plain": [
       "652"
      ]
     },
     "execution_count": 94,
     "metadata": {},
     "output_type": "execute_result"
    }
   ],
   "source": [
    "answer_a = part_a(puzzle.input_data)\n",
    "answer_a"
   ]
  },
  {
   "cell_type": "code",
   "execution_count": 14,
   "metadata": {},
   "outputs": [
    {
     "name": "stdout",
     "output_type": "stream",
     "text": [
      "\u001b[32mThat's the right answer!  You are one gold star closer to finding the Chief Historian. [Continue to Part Two]\u001b[0m\n"
     ]
    }
   ],
   "source": [
    "puzzle.answer_a = answer_a"
   ]
  },
  {
   "cell_type": "markdown",
   "metadata": {},
   "source": [
    "## Part 2"
   ]
  },
  {
   "cell_type": "code",
   "execution_count": 95,
   "metadata": {},
   "outputs": [],
   "source": [
    "def part_b(data):\n",
    "    graph, starting_nodes, end_nodes = get_graph(data)\n",
    "    nb_path = 0\n",
    "    for start, end in tqdm(itertools.product(starting_nodes, end_nodes), total=len(starting_nodes)*len(end_nodes)):\n",
    "        if manhattan_distance(start, end) > 9:\n",
    "            continue\n",
    "            \n",
    "        try:\n",
    "            paths = nx.all_simple_paths(graph, start, end, cutoff=9)\n",
    "            nb_path += len(list(paths))\n",
    "        except nx.NetworkXNoPath:\n",
    "            pass\n",
    "            \n",
    "    return nb_path"
   ]
  },
  {
   "cell_type": "code",
   "execution_count": 96,
   "metadata": {},
   "outputs": [
    {
     "data": {
      "application/vnd.jupyter.widget-view+json": {
       "model_id": "85b346cf97a54d9ead48a043d96d3d72",
       "version_major": 2,
       "version_minor": 0
      },
      "text/plain": [
       "  0%|          | 0/56445 [00:00<?, ?it/s]"
      ]
     },
     "metadata": {},
     "output_type": "display_data"
    },
    {
     "data": {
      "text/plain": [
       "1432"
      ]
     },
     "execution_count": 96,
     "metadata": {},
     "output_type": "execute_result"
    }
   ],
   "source": [
    "answer_b = part_b(puzzle.input_data)\n",
    "answer_b"
   ]
  },
  {
   "cell_type": "code",
   "execution_count": 25,
   "metadata": {},
   "outputs": [
    {
     "name": "stdout",
     "output_type": "stream",
     "text": [
      "\u001b[32mThat's the right answer!  You are one gold star closer to finding the Chief Historian.You have completed Day 10! You can [Shareon\n",
      "  Bluesky\n",
      "Twitter\n",
      "Mastodon] this victory or [Return to Your Advent Calendar].\u001b[0m\n"
     ]
    }
   ],
   "source": [
    "puzzle.answer_b = answer_b"
   ]
  },
  {
   "cell_type": "markdown",
   "metadata": {},
   "source": [
    "# Day 11"
   ]
  },
  {
   "cell_type": "code",
   "execution_count": 2,
   "metadata": {},
   "outputs": [],
   "source": [
    "puzzle = Puzzle(2024, 11)"
   ]
  },
  {
   "cell_type": "code",
   "execution_count": 3,
   "metadata": {},
   "outputs": [],
   "source": [
    "data_test = \"125 17\""
   ]
  },
  {
   "cell_type": "code",
   "execution_count": 4,
   "metadata": {},
   "outputs": [],
   "source": [
    "class StoneA:\n",
    "    def __init__(self, value, next_stone=None):\n",
    "        self.value = value\n",
    "        self.next_stone = next_stone\n",
    "\n",
    "    def update(self):\n",
    "        nb_digit = len(str(self.value))\n",
    "        next_stone = self.next_stone\n",
    "        \n",
    "        if self.value == 0:\n",
    "            self.value = 1\n",
    "            \n",
    "        elif nb_digit % 2 == 0:\n",
    "            n1 = int(str(self.value)[:nb_digit//2])\n",
    "            n2 = int(str(self.value)[nb_digit//2:])\n",
    "            self.value = n1\n",
    "            new_stone = self.__class__(n2, self.next_stone)\n",
    "            self.next_stone = new_stone\n",
    "            \n",
    "        else:\n",
    "            self.value *= 2024\n",
    "\n",
    "        return next_stone\n"
   ]
  },
  {
   "cell_type": "code",
   "execution_count": 5,
   "metadata": {},
   "outputs": [],
   "source": [
    "class StonesA:\n",
    "    def __init__(self, data, nb_blink=25):\n",
    "        self.data = data\n",
    "        stones = [StoneA(number) for number in map(int, data.split(\" \"))]\n",
    "        for s1, s2 in itertools.pairwise(stones):\n",
    "            s1.next_stone = s2\n",
    "            s2.previous_stone = s1\n",
    "        self.head = stones[0]\n",
    "\n",
    "        self.nb_blink = nb_blink\n",
    "\n",
    "    def part_a(self, debug=False):\n",
    "        for _ in tqdm(range(self.nb_blink)):\n",
    "            stone = self.head\n",
    "            while(stone):\n",
    "                stone = stone.update()\n",
    "            \n",
    "            if debug:\n",
    "                print(self.length)\n",
    "\n",
    "        return self.length\n",
    "    \n",
    "    @property\n",
    "    def length(self):\n",
    "        stone = self.head\n",
    "        nb_stone = 0\n",
    "        while(stone):\n",
    "            nb_stone += 1\n",
    "            stone = stone.next_stone\n",
    "\n",
    "        return nb_stone\n",
    "            "
   ]
  },
  {
   "cell_type": "markdown",
   "metadata": {},
   "source": [
    "## Part 1 "
   ]
  },
  {
   "cell_type": "code",
   "execution_count": 6,
   "metadata": {},
   "outputs": [
    {
     "data": {
      "application/vnd.jupyter.widget-view+json": {
       "model_id": "ea928234599143ef829dad0c8883cc79",
       "version_major": 2,
       "version_minor": 0
      },
      "text/plain": [
       "  0%|          | 0/25 [00:00<?, ?it/s]"
      ]
     },
     "metadata": {},
     "output_type": "display_data"
    },
    {
     "data": {
      "text/plain": [
       "175006"
      ]
     },
     "execution_count": 6,
     "metadata": {},
     "output_type": "execute_result"
    }
   ],
   "source": [
    "answer_a = StonesA(puzzle.input_data).part_a()\n",
    "answer_a"
   ]
  },
  {
   "cell_type": "code",
   "execution_count": 7,
   "metadata": {},
   "outputs": [],
   "source": [
    "puzzle.answer_a = answer_a"
   ]
  },
  {
   "cell_type": "markdown",
   "metadata": {},
   "source": [
    "## Part 2"
   ]
  },
  {
   "cell_type": "code",
   "execution_count": 8,
   "metadata": {},
   "outputs": [],
   "source": [
    "class StonesB:\n",
    "    def __init__(self, data, nb_blink=75):\n",
    "        self.data = data\n",
    "        self.nb_blink = nb_blink\n",
    "        self.stones = collections.Counter(map(int, data.split(\" \")))\n",
    "\n",
    "\n",
    "    def update(self, stone):\n",
    "        nb_digit = len(str(stone))\n",
    "        \n",
    "        if stone == 0:\n",
    "            return [1]\n",
    "        elif nb_digit % 2 == 0:\n",
    "            n1 = int(str(stone)[:nb_digit//2])\n",
    "            n2 = int(str(stone)[nb_digit//2:])\n",
    "            return [n1, n2            ]\n",
    "        else:\n",
    "            return [stone * 2024]\n",
    "        \n",
    "    def process(self):\n",
    "        stones = self.stones\n",
    "        \n",
    "        for _ in range(self.nb_blink):\n",
    "            new_stones = collections.Counter()\n",
    "            for stone, val in stones.items():\n",
    "                for new_stone in self.update(stone):\n",
    "                    new_stones[new_stone] += val\n",
    "                                      \n",
    "            stones = new_stones\n",
    "        \n",
    "        return sum(stones.values())\n",
    "            "
   ]
  },
  {
   "cell_type": "code",
   "execution_count": 9,
   "metadata": {},
   "outputs": [
    {
     "data": {
      "text/plain": [
       "175006"
      ]
     },
     "execution_count": 9,
     "metadata": {},
     "output_type": "execute_result"
    }
   ],
   "source": [
    "StonesB(puzzle.input_data, nb_blink=25).process()"
   ]
  },
  {
   "cell_type": "code",
   "execution_count": 10,
   "metadata": {},
   "outputs": [
    {
     "data": {
      "text/plain": [
       "207961583799296"
      ]
     },
     "execution_count": 10,
     "metadata": {},
     "output_type": "execute_result"
    }
   ],
   "source": [
    "answer_b = StonesB(puzzle.input_data, nb_blink=75).process()\n",
    "answer_b"
   ]
  },
  {
   "cell_type": "code",
   "execution_count": 54,
   "metadata": {},
   "outputs": [
    {
     "name": "stdout",
     "output_type": "stream",
     "text": [
      "\u001b[32mThat's the right answer!  You are one gold star closer to finding the Chief Historian.You have completed Day 11! You can [Shareon\n",
      "  Bluesky\n",
      "Twitter\n",
      "Mastodon] this victory or [Return to Your Advent Calendar].\u001b[0m\n"
     ]
    }
   ],
   "source": [
    "puzzle.answer_b = answer_b"
   ]
  },
  {
   "cell_type": "markdown",
   "metadata": {},
   "source": [
    "# Day 12"
   ]
  },
  {
   "cell_type": "code",
   "execution_count": null,
   "metadata": {},
   "outputs": [],
   "source": [
    "puzzle = Puzzle(2022, 12)"
   ]
  },
  {
   "cell_type": "code",
   "execution_count": null,
   "metadata": {},
   "outputs": [],
   "source": [
    "data = puzzle.input_data"
   ]
  },
  {
   "cell_type": "code",
   "execution_count": null,
   "metadata": {},
   "outputs": [],
   "source": [
    "data = \"\"\"Sabqponm\n",
    "abcryxxl\n",
    "accszExk\n",
    "acctuvwj\n",
    "abdefghi\"\"\""
   ]
  },
  {
   "cell_type": "code",
   "execution_count": null,
   "metadata": {},
   "outputs": [],
   "source": [
    "def adjs(position, nodes):\n",
    "    x, y = position\n",
    "    adjs = [(x+1, y), (x-1, y), (x, y+1), (x, y-1)]\n",
    "    return [adj for adj in adjs if adj in nodes]"
   ]
  },
  {
   "cell_type": "code",
   "execution_count": null,
   "metadata": {},
   "outputs": [],
   "source": [
    "def distance(pos1, pos2, nodes_weight):\n",
    "    return nodes_weight[pos2] - nodes_weight[pos1]"
   ]
  },
  {
   "cell_type": "code",
   "execution_count": null,
   "metadata": {},
   "outputs": [],
   "source": [
    "base_nodes = np.array([[letter for letter in line] for line in data.split(\"\\n\")])\n",
    "nodes_weight = np.array([[ord(letter) - ord(\"a\") for letter in line] for line in data.split(\"\\n\")])"
   ]
  },
  {
   "cell_type": "code",
   "execution_count": null,
   "metadata": {},
   "outputs": [],
   "source": [
    "start = np.where(nodes_weight == ord(\"S\") - ord(\"a\"))\n",
    "start = next(zip(start[0], start[1]))\n",
    "nodes_weight[start] = 0"
   ]
  },
  {
   "cell_type": "code",
   "execution_count": null,
   "metadata": {},
   "outputs": [],
   "source": [
    "end = np.where(nodes_weight == ord(\"E\") - ord(\"a\"))\n",
    "end = next(zip(end[0], end[1]))\n",
    "nodes_weight[end] = ord(\"z\") - ord(\"a\")"
   ]
  },
  {
   "cell_type": "code",
   "execution_count": null,
   "metadata": {},
   "outputs": [],
   "source": [
    "nodes = list(np.ndindex(*nodes_weight.shape))"
   ]
  },
  {
   "cell_type": "code",
   "execution_count": null,
   "metadata": {},
   "outputs": [],
   "source": [
    "distances = {\n",
    "    node: {adj: 1 for adj in adjs(node, nodes) if distance(node, adj, nodes_weight) <= 1} for node in nodes\n",
    "}"
   ]
  },
  {
   "cell_type": "code",
   "execution_count": null,
   "metadata": {},
   "outputs": [],
   "source": [
    "G = nx.DiGraph()"
   ]
  },
  {
   "cell_type": "code",
   "execution_count": null,
   "metadata": {},
   "outputs": [],
   "source": [
    "G.add_nodes_from(nodes)"
   ]
  },
  {
   "cell_type": "code",
   "execution_count": null,
   "metadata": {},
   "outputs": [],
   "source": [
    "for node, adjs in distances.items():\n",
    "    for adj, dist in adjs.items():\n",
    "        G.add_edge(node, adj, weight=dist)"
   ]
  },
  {
   "cell_type": "markdown",
   "metadata": {},
   "source": [
    "## Part 1 "
   ]
  },
  {
   "cell_type": "code",
   "execution_count": null,
   "metadata": {},
   "outputs": [],
   "source": [
    "answer_a = nx.shortest_path_length(G, start, end)\n",
    "answer_a"
   ]
  },
  {
   "cell_type": "code",
   "execution_count": null,
   "metadata": {},
   "outputs": [],
   "source": [
    "puzzle.answer_a = answer_a"
   ]
  },
  {
   "cell_type": "markdown",
   "metadata": {},
   "source": [
    "## Part 2"
   ]
  },
  {
   "cell_type": "code",
   "execution_count": null,
   "metadata": {},
   "outputs": [],
   "source": [
    "starts = np.where(nodes_weight == 0)\n",
    "starts"
   ]
  },
  {
   "cell_type": "code",
   "execution_count": null,
   "metadata": {},
   "outputs": [],
   "source": [
    "dists = []\n",
    "for start in zip(starts[0], starts[1]):\n",
    "    try:\n",
    "        dist = nx.shortest_path_length(G, start, end)\n",
    "        dists.append(dist)\n",
    "    except nx.NetworkXNoPath:\n",
    "        continue\n",
    "        \n",
    "answer_b = min(dists)\n",
    "answer_b\n"
   ]
  },
  {
   "cell_type": "code",
   "execution_count": null,
   "metadata": {},
   "outputs": [],
   "source": [
    "puzzle.answer_b = answer_b"
   ]
  },
  {
   "cell_type": "markdown",
   "metadata": {},
   "source": [
    "# Day 13"
   ]
  },
  {
   "cell_type": "code",
   "execution_count": null,
   "metadata": {},
   "outputs": [],
   "source": [
    "puzzle = Puzzle(2022, 13)"
   ]
  },
  {
   "cell_type": "code",
   "execution_count": null,
   "metadata": {},
   "outputs": [],
   "source": [
    "signals_pairs = [tuple(map(eval, line.split(\"\\n\"))) for line in puzzle.input_data.split(\"\\n\\n\")]"
   ]
  },
  {
   "cell_type": "markdown",
   "metadata": {},
   "source": [
    "## Part 1 "
   ]
  },
  {
   "cell_type": "code",
   "execution_count": null,
   "metadata": {},
   "outputs": [],
   "source": [
    "def parse_pair(p1, p2):\n",
    "    \"\"\" -1 --> a > b\n",
    "    0 --> a == b\n",
    "    1 --> a < b\n",
    "    \n",
    "    \"\"\"\n",
    "    if isinstance(p1, int) and isinstance(p2, int):\n",
    "        return np.sign(p2 - p1)\n",
    "\n",
    "    for e1, e2 in zip(p1, p2):\n",
    "        match e1, e2:\n",
    "            case int(), list():\n",
    "                e1 = [e1]\n",
    "            case list(), int():\n",
    "                e2 = [e2]\n",
    "            \n",
    "        if (res := parse_pair(e1, e2)) != 0:\n",
    "            return res\n",
    "    \n",
    "    return np.sign(len(p2) - len(p1))"
   ]
  },
  {
   "cell_type": "code",
   "execution_count": null,
   "metadata": {},
   "outputs": [],
   "source": [
    "res = sum(idx + 1 for idx, pair in enumerate(signals_pairs) if parse_pair(*pair) != -1)"
   ]
  },
  {
   "cell_type": "code",
   "execution_count": null,
   "metadata": {},
   "outputs": [],
   "source": [
    "res"
   ]
  },
  {
   "cell_type": "code",
   "execution_count": null,
   "metadata": {},
   "outputs": [],
   "source": [
    "puzzle.answer_a = res"
   ]
  },
  {
   "cell_type": "markdown",
   "metadata": {},
   "source": [
    "## Part 2"
   ]
  },
  {
   "cell_type": "code",
   "execution_count": null,
   "metadata": {},
   "outputs": [],
   "source": [
    "signals = [eval(line) for line in puzzle.input_data.split(\"\\n\") if line]"
   ]
  },
  {
   "cell_type": "code",
   "execution_count": null,
   "metadata": {},
   "outputs": [],
   "source": [
    "s1 = [[2]]\n",
    "signals.append(s1)\n",
    "s2 = [[6]]\n",
    "signals.append(s2)"
   ]
  },
  {
   "cell_type": "code",
   "execution_count": null,
   "metadata": {},
   "outputs": [],
   "source": [
    "def compare(l1, l2):\n",
    "    res = parse_pair(l1, l2)\n",
    "    return -1 if res != -1 else 1"
   ]
  },
  {
   "cell_type": "code",
   "execution_count": null,
   "metadata": {},
   "outputs": [],
   "source": [
    "signals = sorted(signals, key=functools.cmp_to_key(compare))"
   ]
  },
  {
   "cell_type": "code",
   "execution_count": null,
   "metadata": {},
   "outputs": [],
   "source": [
    "filter_signals = [idx + 1 for idx, signal in enumerate(signals) if signal == s1 or signal == s2]\n",
    "tot = functools.reduce(operator.mul, filter_signals, 1)"
   ]
  },
  {
   "cell_type": "code",
   "execution_count": null,
   "metadata": {},
   "outputs": [],
   "source": [
    "tot"
   ]
  },
  {
   "cell_type": "code",
   "execution_count": null,
   "metadata": {},
   "outputs": [],
   "source": [
    "puzzle.answer_b = tot"
   ]
  },
  {
   "cell_type": "markdown",
   "metadata": {},
   "source": [
    "# Day 14"
   ]
  },
  {
   "cell_type": "code",
   "execution_count": null,
   "metadata": {},
   "outputs": [],
   "source": [
    "puzzle = Puzzle(2022, 14)"
   ]
  },
  {
   "cell_type": "code",
   "execution_count": null,
   "metadata": {},
   "outputs": [],
   "source": [
    "data = puzzle.input_data"
   ]
  },
  {
   "cell_type": "code",
   "execution_count": null,
   "metadata": {},
   "outputs": [],
   "source": [
    "data_test = \"\"\"498,4 -> 498,6 -> 496,6\n",
    "503,4 -> 502,4 -> 502,9 -> 494,9\"\"\""
   ]
  },
  {
   "cell_type": "code",
   "execution_count": null,
   "metadata": {},
   "outputs": [],
   "source": [
    "sand_entry_x, send_entry_y = sand_entry = (500, 0)"
   ]
  },
  {
   "cell_type": "code",
   "execution_count": null,
   "metadata": {},
   "outputs": [],
   "source": [
    "def get_cave_extremity(cave, p1=True):\n",
    "    y_min = send_entry_y\n",
    "    y_max = max(map(lambda t: t[1], cave)) + (0 if p1 else 2)\n",
    "    x_min = min(map(lambda t: t[0], cave))\n",
    "    x_max = max(map(lambda t: t[0], cave))\n",
    "    \n",
    "    return (x_min, x_max), (y_min, y_max)"
   ]
  },
  {
   "cell_type": "code",
   "execution_count": null,
   "metadata": {},
   "outputs": [],
   "source": [
    "def init_cave(data, p1=True):\n",
    "    coords = [[tuple(map(int, coord.split(\",\"))) for coord in line.split(\" -> \")] for line in data.split(\"\\n\")]\n",
    "    cave = collections.defaultdict(str)\n",
    "\n",
    "    def get_numbers_inside(n1, n2):\n",
    "        return range(min(n1, n2), max(n1, n2) + 1)\n",
    "\n",
    "    for coord in coords:\n",
    "\n",
    "        for (x1, y1), (x2, y2) in itertools.pairwise(coord):\n",
    "            if x1 == x2:\n",
    "                for yi in get_numbers_inside(y1, y2):\n",
    "                    cave[(x1, yi)] = \"#\"\n",
    "            # y1 == y2\n",
    "            else:\n",
    "                for xi in get_numbers_inside(x1, x2):\n",
    "                    cave[(xi, y1)] = \"#\"\n",
    "                    \n",
    "    if not p1:\n",
    "        (x_min, x_max), (y_min, y_max) = get_cave_extremity(cave, p1=p1)\n",
    "        boottom_half_lenght = y_max - y_min\n",
    "        \n",
    "        for xi in range(- boottom_half_lenght, boottom_half_lenght + 1):\n",
    "            cave[(xi + sand_entry_x, y_max)] = \"#\"\n",
    "        \n",
    "    return cave\n",
    "\n"
   ]
  },
  {
   "cell_type": "code",
   "execution_count": null,
   "metadata": {},
   "outputs": [],
   "source": [
    "np.set_printoptions(linewidth=150)\n",
    "def print_cave(cave, p1=True):\n",
    "    cave = dict(cave)\n",
    "    (x_min, x_max), (y_min, y_max) = get_cave_extremity(cave, p1=p1)\n",
    "    representation = np.chararray((x_max - x_min + 1, y_max - y_min + 1), unicode=True)\n",
    "    representation[:, :] = \".\"\n",
    "    for (x, y), value in cave.items():\n",
    "        representation[x - x_min, y] = value\n",
    "    representation[sand_entry_x - x_min, y_min] = \"x\"\n",
    "    print(representation.T)"
   ]
  },
  {
   "cell_type": "code",
   "execution_count": null,
   "metadata": {},
   "outputs": [],
   "source": [
    "cave_test = init_cave(data_test, p1=False)\n",
    "print_cave(cave_test)"
   ]
  },
  {
   "cell_type": "markdown",
   "metadata": {},
   "source": [
    "## Part 1"
   ]
  },
  {
   "cell_type": "code",
   "execution_count": null,
   "metadata": {},
   "outputs": [],
   "source": [
    "def compute(data, p1=True):\n",
    "    cave = init_cave(data, p1=p1)\n",
    "    time = -1\n",
    "    (x_min, x_max), (y_min, y_max) = get_cave_extremity(cave, p1=p1)\n",
    "    while True:\n",
    "        time += 1\n",
    "        sand_pos_x, sand_pos_y = sand_entry\n",
    "        \n",
    "        if cave[sand_entry] == \"o\":\n",
    "            return cave, time - 1\n",
    "        \n",
    "        while True:\n",
    "            under = (sand_pos_x, sand_pos_y + 1)\n",
    "\n",
    "            match cave[under]:\n",
    "                case \"#\" | \"o\":\n",
    "                    under_left  = (sand_pos_x - 1, sand_pos_y + 1)\n",
    "                    under_right = (sand_pos_x + 1, sand_pos_y + 1)\n",
    "\n",
    "                    if cave[under_left] == \"\":\n",
    "                        sand_pos_x, sand_pos_y = under_left\n",
    "                    elif cave[under_right] == \"\":\n",
    "                        sand_pos_x, sand_pos_y = under_right\n",
    "                    else:\n",
    "                        cave[(sand_pos_x, sand_pos_y)] = \"o\"\n",
    "                        break\n",
    "                case \"\":\n",
    "                    sand_pos_x, sand_pos_y = under\n",
    "\n",
    "            if sand_pos_y == y_max:\n",
    "                return cave, time"
   ]
  },
  {
   "cell_type": "code",
   "execution_count": null,
   "metadata": {},
   "outputs": [],
   "source": [
    "cave, time = compute(data_test)\n",
    "print(f\"{time=}\")\n",
    "print_cave(cave)"
   ]
  },
  {
   "cell_type": "code",
   "execution_count": null,
   "metadata": {
    "scrolled": true
   },
   "outputs": [],
   "source": [
    "_, answer_a = compute(data)\n",
    "answer_a"
   ]
  },
  {
   "cell_type": "code",
   "execution_count": null,
   "metadata": {},
   "outputs": [],
   "source": [
    "puzzle.answer_a = answer_a"
   ]
  },
  {
   "cell_type": "markdown",
   "metadata": {},
   "source": [
    "## Part 2"
   ]
  },
  {
   "cell_type": "code",
   "execution_count": null,
   "metadata": {},
   "outputs": [],
   "source": [
    "cave, time = compute(data_test, p1=False)\n",
    "print(f\"{time=}\")\n",
    "print_cave(cave, p1=False)"
   ]
  },
  {
   "cell_type": "code",
   "execution_count": null,
   "metadata": {
    "scrolled": true
   },
   "outputs": [],
   "source": [
    "_, answer_b = compute(data, p1=False)\n",
    "answer_b"
   ]
  },
  {
   "cell_type": "code",
   "execution_count": null,
   "metadata": {},
   "outputs": [],
   "source": [
    "puzzle.answer_b = answer_b"
   ]
  },
  {
   "cell_type": "markdown",
   "metadata": {},
   "source": [
    "# Day 15"
   ]
  },
  {
   "cell_type": "code",
   "execution_count": null,
   "metadata": {},
   "outputs": [],
   "source": [
    "puzzle = Puzzle(2022, 15)"
   ]
  },
  {
   "cell_type": "code",
   "execution_count": null,
   "metadata": {},
   "outputs": [],
   "source": [
    "data = puzzle.input_data"
   ]
  },
  {
   "cell_type": "code",
   "execution_count": null,
   "metadata": {},
   "outputs": [],
   "source": [
    "data_test = \"\"\"Sensor at x=2, y=18: closest beacon is at x=-2, y=15\n",
    "Sensor at x=9, y=16: closest beacon is at x=10, y=16\n",
    "Sensor at x=13, y=2: closest beacon is at x=15, y=3\n",
    "Sensor at x=12, y=14: closest beacon is at x=10, y=16\n",
    "Sensor at x=10, y=20: closest beacon is at x=10, y=16\n",
    "Sensor at x=14, y=17: closest beacon is at x=10, y=16\n",
    "Sensor at x=8, y=7: closest beacon is at x=2, y=10\n",
    "Sensor at x=2, y=0: closest beacon is at x=2, y=10\n",
    "Sensor at x=0, y=11: closest beacon is at x=2, y=10\n",
    "Sensor at x=20, y=14: closest beacon is at x=25, y=17\n",
    "Sensor at x=17, y=20: closest beacon is at x=21, y=22\n",
    "Sensor at x=16, y=7: closest beacon is at x=15, y=3\n",
    "Sensor at x=14, y=3: closest beacon is at x=15, y=3\n",
    "Sensor at x=20, y=1: closest beacon is at x=15, y=3\"\"\""
   ]
  },
  {
   "cell_type": "code",
   "execution_count": null,
   "metadata": {},
   "outputs": [],
   "source": [
    "class Point:\n",
    "    def __init__(self, x, y):\n",
    "        self.x = x\n",
    "        self.y = y\n",
    "        \n",
    "    @property\n",
    "    def as_tuple(self):\n",
    "        return self.x, self.y\n",
    "    \n",
    "    @classmethod\n",
    "    def from_tuple(cls, coord):\n",
    "        return Point(*coord)\n",
    "      \n",
    "    def manathan_distance(self, other_point):\n",
    "        return abs(self.x - other_point.x) + abs(self.y - other_point.y)\n",
    "    \n",
    "    def det(self, point):\n",
    "        return self.x * point.y - self.y * point.x\n",
    "    \n",
    "    def __sub__(self, other_point):\n",
    "        return Point(self.x - other_point.x, self.y - other_point.y)\n",
    "    \n",
    "    def __isub__(self, other_point):\n",
    "        return self - other_point\n",
    "    \n",
    "    def __neg__(self):\n",
    "        return Point(-self.x, -self.y)\n",
    "    \n",
    "    def __add__(self, other):\n",
    "        return Point(self.x + other.x, self.y + other.y)\n",
    "    \n",
    "    def __iadd__(self, other_point):\n",
    "        return self + other_point\n",
    "    \n",
    "    def __str__(self):\n",
    "        return f\"({self.x}, {self.y})\"\n",
    "    \n",
    "    def __repr__(self):\n",
    "        return f\"Point{self}\"\n",
    "    \n",
    "class Line:\n",
    "    def __init__(self, p1, p2):\n",
    "        self.p1 = p1\n",
    "        self.p2 = p2\n",
    "        \n",
    "    def det(self):\n",
    "        return self.p1.det(self.p2)\n",
    "    \n",
    "    def intersection(self, line):\n",
    "        xdiff = Point(self.p1.x - self.p2.x, line.p1.x - line.p2.x)\n",
    "        ydiff = Point(self.p1.y - self.p2.y, line.p1.y - line.p2.y)\n",
    "        \n",
    "        div = xdiff.det(ydiff)\n",
    "        if div == 0:\n",
    "            return False\n",
    "        \n",
    "        d = Point(self.det(), line.det())\n",
    "        x = d.det(xdiff) // div\n",
    "        y = d.det(ydiff) // div\n",
    "        \n",
    "        return Point(x, y)\n",
    "\n",
    "class Sensor:\n",
    "    def __init__(self, sensor, beacon):\n",
    "        self.sensor = sensor\n",
    "        self.beacon = beacon\n",
    "        self.distance = sensor.manathan_distance(beacon)\n",
    "        self.outer_distance = self.distance + 1\n",
    "        self.lines = self.possible_outer_lines()\n",
    "\n",
    "        \n",
    "    def possible_outer_points(self):\n",
    "        x, y = self.sensor.as_tuple\n",
    "        return [\n",
    "            Point(x - self.outer_distance, y),\n",
    "            Point(x, y - self.outer_distance),\n",
    "            Point(x + self.outer_distance, y),\n",
    "            Point(x, y + self.outer_distance)\n",
    "        ]\n",
    "    \n",
    "    def possible_outer_lines(self):\n",
    "        points_i = self.possible_outer_points()\n",
    "        points_j = points_i[1:] + [points_i[0]]\n",
    "        \n",
    "        return [Line(pi, pj) for (pi, pj) in zip(points_i, points_j)]\n",
    "            \n",
    "    def point_possible(self, point):\n",
    "        return self.sensor.manathan_distance(point) > self.distance\n",
    "    \n",
    "    def outer_intersections_sensor(self, other_sensor, start, end):\n",
    "        for line_i in self.lines:\n",
    "            for line_j in other_sensor.lines:\n",
    "                if (intersection := line_i.intersection(line_j)):\n",
    "                    if start <= intersection.x <= end and start <= intersection.y <= end:\n",
    "                        yield intersection       "
   ]
  },
  {
   "cell_type": "code",
   "execution_count": null,
   "metadata": {},
   "outputs": [],
   "source": [
    "number_pattern = re.compile(\"-?\\d+\")\n",
    "def parse_data(data):\n",
    "    sensors_beacons = []\n",
    "    for line in data.split(\"\\n\"):\n",
    "        s_x, s_y, b_x, b_y = map(lambda match: int(match.group()), number_pattern.finditer(line))\n",
    "        sensor, beacon = Point(s_x, s_y), Point(b_x, b_y)\n",
    "        sensors_beacons.append((sensor, beacon, sensor.manathan_distance(beacon)))\n",
    "        \n",
    "    return sensors_beacons"
   ]
  },
  {
   "cell_type": "code",
   "execution_count": null,
   "metadata": {},
   "outputs": [],
   "source": [
    "number_pattern = re.compile(\"-?\\d+\")\n",
    "def parse_data2(data):\n",
    "    sensors = []\n",
    "    for line in data.split(\"\\n\"):\n",
    "        s_x, s_y, b_x, b_y = map(lambda match: int(match.group()), number_pattern.finditer(line))\n",
    "        sensor, beacon = Point(s_x, s_y), Point(b_x, b_y)\n",
    "        sensors.append(Sensor(sensor, beacon))\n",
    "    return sensors"
   ]
  },
  {
   "cell_type": "markdown",
   "metadata": {},
   "source": [
    "## Part 1"
   ]
  },
  {
   "cell_type": "code",
   "execution_count": null,
   "metadata": {},
   "outputs": [],
   "source": [
    "def span(sensor, beacon, m_s_b, y):\n",
    "    \"\"\"\n",
    "    find x\n",
    "    sensor.manathan(x, y) = sensor.manathan(beacon)\n",
    "    abs(sx - x) + abs(sy - y) = sensor.manathan(beacon)\n",
    "    abs(sx - x) = sensor.manathan(beacon) - abs(sy - y) = z avec z < 0\n",
    "    sx - x = z AND sx - x = -z\n",
    "    x = sx -z and x = sx + z\n",
    "    \"\"\"\n",
    "    z = m_s_b - abs(sensor.y - y)\n",
    "    if z < 0:\n",
    "        return range(0)\n",
    "    \n",
    "    x1, x2 = sensor.x - z, sensor.x + z \n",
    "    \n",
    "    return range(min(x1, x2), max(x1, x2) + 1)\n",
    "\n",
    "def span_2(sensor, beacon, m_s_b, y):\n",
    "    \"\"\"\n",
    "    find x\n",
    "    sensor.manathan(x, y) = sensor.manathan(beacon)\n",
    "    abs(sx - x) + abs(sy - y) = sensor.manathan(beacon)\n",
    "    abs(sx - x) = sensor.manathan(beacon) - abs(sy - y) = z avec z < 0\n",
    "    sx - x = z AND sx - x = -z\n",
    "    x = sx -z and x = sx + z\n",
    "    \"\"\"\n",
    "    z = m_s_b - abs(sensor.y - y)\n",
    "    if z < 0:\n",
    "        return False\n",
    "    \n",
    "    x1, x2 = sensor.x - z, sensor.x + z \n",
    "    \n",
    "    return [min(x1, x2), max(x1, x2)]"
   ]
  },
  {
   "cell_type": "code",
   "execution_count": null,
   "metadata": {},
   "outputs": [],
   "source": [
    "def part_1_2(data, y):\n",
    "    line_y = []\n",
    "    b_s = set()\n",
    "    for sensor, beacon, m_s_b in parse_data(data):\n",
    "        if sensor.y == y:\n",
    "            b_s.add(sensor.x)\n",
    "        if beacon.y == y:\n",
    "            b_s.add(beacon.x)\n",
    "        if (r := span_2(sensor, beacon, m_s_b, y)):\n",
    "            line_y.append(r)\n",
    "            \n",
    "    \n",
    "    line_y.sort(key=lambda interval: interval[0])\n",
    "    merged = [line_y[0]]\n",
    "    for current in line_y:\n",
    "        previous = merged[-1]\n",
    "        if current[0] <= previous[1]:\n",
    "            previous[1] = max(previous[1], current[1])\n",
    "        else:\n",
    "            merged.append(current)\n",
    "            \n",
    "    return sum(r_e - r_s + 1 for r_s, r_e in merged) - sum(r_s <= s <= r_e for r_s, r_e in merged for s in b_s)\n"
   ]
  },
  {
   "cell_type": "code",
   "execution_count": null,
   "metadata": {},
   "outputs": [],
   "source": [
    "def part_1_1(data, y):\n",
    "    line_y = set()\n",
    "    b_s = set()\n",
    "    for sensor, beacon, m_s_b in parse_data(data):\n",
    "        if sensor.y == y:\n",
    "            b_s.add(sensor.x)\n",
    "        if beacon.y == y:\n",
    "            b_s.add(beacon.x)\n",
    "        line_y |= set(span(sensor, beacon, m_s_b, y))\n",
    "    line_y -= b_s\n",
    "    return len(line_y)"
   ]
  },
  {
   "cell_type": "code",
   "execution_count": null,
   "metadata": {},
   "outputs": [],
   "source": [
    "part_1_2(data_test, 10)"
   ]
  },
  {
   "cell_type": "code",
   "execution_count": null,
   "metadata": {},
   "outputs": [],
   "source": [
    "part_1_1(data_test, 10)"
   ]
  },
  {
   "cell_type": "code",
   "execution_count": null,
   "metadata": {},
   "outputs": [],
   "source": [
    "part_1_1(data, 2000000) == part_1_2(data, 2000000)"
   ]
  },
  {
   "cell_type": "code",
   "execution_count": null,
   "metadata": {},
   "outputs": [],
   "source": [
    "%%timeit\n",
    "part_1_1(data, 2000000)"
   ]
  },
  {
   "cell_type": "code",
   "execution_count": null,
   "metadata": {},
   "outputs": [],
   "source": [
    "%%timeit\n",
    "part_1_2(data, 2000000)"
   ]
  },
  {
   "cell_type": "code",
   "execution_count": null,
   "metadata": {},
   "outputs": [],
   "source": [
    "answer_a = part_1_2(data, 2000000)\n",
    "puzzle.answer_a = answer_a"
   ]
  },
  {
   "cell_type": "markdown",
   "metadata": {},
   "source": [
    "## Part 2"
   ]
  },
  {
   "cell_type": "code",
   "execution_count": null,
   "metadata": {},
   "outputs": [],
   "source": [
    "def find_outer_points(sensor, m_s_b):\n",
    "    outer_distance = m_s_b + 1\n",
    "    sx, sy = sensor.as_tuple\n",
    "    outers = []\n",
    "    for i in range(outer_distance):\n",
    "        yield Point(sx - outer_distance + i, sy + i)\n",
    "        yield Point(sx - outer_distance + i, sy - i)\n",
    "        yield Point(sx + i, sy + outer_distance - i)\n",
    "        yield Point(sx - i, sy + outer_distance - i)"
   ]
  },
  {
   "cell_type": "code",
   "execution_count": null,
   "metadata": {},
   "outputs": [],
   "source": [
    "def all_possible_point(sensors_beacons, start, end):\n",
    "    for sensor, _, m_s_b in sensors_beacons:\n",
    "        for point in find_outer_points(sensor, m_s_b):\n",
    "            if start <= point.x <= end and start <= point.y <= end:\n",
    "                yield point\n",
    "                \n",
    "def compute(data, start=0, end=20):\n",
    "    sensors_beacons = parse_data(data)\n",
    "    \n",
    "    for point in tqdm.tqdm(all_possible_point(sensors_beacons, start, end)):\n",
    "        for sensor, _, m_s_b in sensors_beacons:\n",
    "            if sensor.manathan_distance(point) <= m_s_b:\n",
    "                break\n",
    "        else:\n",
    "            print(point)\n",
    "            return point"
   ]
  },
  {
   "cell_type": "code",
   "execution_count": null,
   "metadata": {},
   "outputs": [],
   "source": [
    "compute(data_test, 0, 20)"
   ]
  },
  {
   "cell_type": "code",
   "execution_count": null,
   "metadata": {},
   "outputs": [],
   "source": [
    "res = compute(data, 0, 4000000)"
   ]
  },
  {
   "cell_type": "code",
   "execution_count": null,
   "metadata": {},
   "outputs": [],
   "source": [
    "answer_b = res.x*4000000 + res.y\n",
    "answer_b"
   ]
  },
  {
   "cell_type": "code",
   "execution_count": null,
   "metadata": {},
   "outputs": [],
   "source": [
    "puzzle.answer_b = answer_b"
   ]
  },
  {
   "cell_type": "code",
   "execution_count": null,
   "metadata": {},
   "outputs": [],
   "source": [
    "def all_possible_point_with_line(sensors, start, end):\n",
    "    for si, sj in itertools.combinations(sensors, 2):\n",
    "        yield from si.outer_intersections_sensor(sj, start, end)"
   ]
  },
  {
   "cell_type": "code",
   "execution_count": null,
   "metadata": {},
   "outputs": [],
   "source": [
    "def compute2(data, start=0, end=4000000):\n",
    "    sensors = parse_data2(data)\n",
    "    for point in all_possible_point_with_line(sensors, start, end):\n",
    "        for sensor in sensors:\n",
    "            if not sensor.point_possible(point):\n",
    "                break\n",
    "        else:\n",
    "            return point"
   ]
  },
  {
   "cell_type": "code",
   "execution_count": null,
   "metadata": {},
   "outputs": [],
   "source": [
    "compute2(data_test, 0, 20)"
   ]
  },
  {
   "cell_type": "code",
   "execution_count": null,
   "metadata": {},
   "outputs": [],
   "source": [
    "%%timeit\n",
    "res2 = compute2(data, 0, 4000000)"
   ]
  },
  {
   "cell_type": "code",
   "execution_count": null,
   "metadata": {},
   "outputs": [],
   "source": [
    "res2 = compute2(data, 0, 4000000)\n",
    "answer_b_2 = res2.x*4000000 + res2.y"
   ]
  },
  {
   "cell_type": "code",
   "execution_count": null,
   "metadata": {},
   "outputs": [],
   "source": [
    "answer_b_2 == answer_b"
   ]
  },
  {
   "cell_type": "code",
   "execution_count": null,
   "metadata": {},
   "outputs": [],
   "source": []
  }
 ],
 "metadata": {
  "kernelspec": {
   "display_name": "Python 3 (ipykernel)",
   "language": "python",
   "name": "python3"
  },
  "language_info": {
   "codemirror_mode": {
    "name": "ipython",
    "version": 3
   },
   "file_extension": ".py",
   "mimetype": "text/x-python",
   "name": "python",
   "nbconvert_exporter": "python",
   "pygments_lexer": "ipython3",
   "version": "3.10.12"
  }
 },
 "nbformat": 4,
 "nbformat_minor": 4
}
