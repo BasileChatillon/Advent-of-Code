{
 "cells": [
  {
   "cell_type": "code",
   "execution_count": 4,
   "metadata": {},
   "outputs": [],
   "source": [
    "import os\n",
    "from pathlib import Path\n",
    "from aocd.models import Puzzle\n",
    "import collections\n",
    "import numpy as np\n",
    "import re\n",
    "from statistics import median, mean\n",
    "import math\n",
    "import queue\n",
    "import itertools\n",
    "import more_itertools\n",
    "infinite_defaultdict = lambda: defaultdict(infinite_defaultdict)\n",
    "from copy import copy\n",
    "import functools\n",
    "import heapq\n",
    "import operator\n",
    "import tqdm\n",
    "import networkx as nx"
   ]
  },
  {
   "cell_type": "markdown",
   "metadata": {},
   "source": [
    "# Day 1"
   ]
  },
  {
   "cell_type": "code",
   "execution_count": 4,
   "metadata": {},
   "outputs": [],
   "source": [
    "puzzle = Puzzle(2024, 1)"
   ]
  },
  {
   "cell_type": "code",
   "execution_count": 7,
   "metadata": {},
   "outputs": [],
   "source": [
    "data = [list(map(int, line.split(\"   \"))) for line in puzzle.input_data.split(\"\\n\")]"
   ]
  },
  {
   "cell_type": "markdown",
   "metadata": {},
   "source": [
    "## Part 1 "
   ]
  },
  {
   "cell_type": "code",
   "execution_count": null,
   "metadata": {},
   "outputs": [],
   "source": [
    "sorted_data = [sorted(ls) for ls in zip(*data)]\n",
    "res_a = sum(abs(x - y) for x, y in zip(*sorted_data))"
   ]
  },
  {
   "cell_type": "code",
   "execution_count": null,
   "metadata": {},
   "outputs": [],
   "source": [
    "puzzle.answer_a = res_a"
   ]
  },
  {
   "cell_type": "markdown",
   "metadata": {},
   "source": [
    "## Part 2"
   ]
  },
  {
   "cell_type": "code",
   "execution_count": 2,
   "metadata": {},
   "outputs": [
    {
     "ename": "NameError",
     "evalue": "name 'collections' is not defined",
     "output_type": "error",
     "traceback": [
      "\u001b[0;31m---------------------------------------------------------------------------\u001b[0m",
      "\u001b[0;31mNameError\u001b[0m                                 Traceback (most recent call last)",
      "Cell \u001b[0;32mIn[2], line 1\u001b[0m\n\u001b[0;32m----> 1\u001b[0m x_counted \u001b[38;5;241m=\u001b[39m \u001b[43mcollections\u001b[49m\u001b[38;5;241m.\u001b[39mCounter(x \u001b[38;5;28;01mfor\u001b[39;00m x, _ \u001b[38;5;129;01min\u001b[39;00m data)\n\u001b[1;32m      2\u001b[0m y_counted \u001b[38;5;241m=\u001b[39m collections\u001b[38;5;241m.\u001b[39mCounter(y \u001b[38;5;28;01mfor\u001b[39;00m _, y \u001b[38;5;129;01min\u001b[39;00m data)\n",
      "\u001b[0;31mNameError\u001b[0m: name 'collections' is not defined"
     ]
    }
   ],
   "source": [
    "x_counted = collections.Counter(x for x, _ in data)\n",
    "y_counted = collections.Counter(y for _, y in data)"
   ]
  },
  {
   "cell_type": "code",
   "execution_count": null,
   "metadata": {},
   "outputs": [],
   "source": [
    "res_b = sum(xk * xv * y_counted[xk] for xk, xv in x_counted.items())"
   ]
  },
  {
   "cell_type": "code",
   "execution_count": null,
   "metadata": {},
   "outputs": [],
   "source": [
    "puzzle.answer_b = res_b"
   ]
  },
  {
   "cell_type": "markdown",
   "metadata": {},
   "source": [
    "# Day 2"
   ]
  },
  {
   "cell_type": "code",
   "execution_count": 17,
   "metadata": {},
   "outputs": [],
   "source": [
    "puzzle = Puzzle(2024, 2)\n"
   ]
  },
  {
   "cell_type": "code",
   "execution_count": 12,
   "metadata": {},
   "outputs": [],
   "source": [
    "data = [list(map(int, line.split(\" \"))) for line in puzzle.input_data.split(\"\\n\")]"
   ]
  },
  {
   "cell_type": "code",
   "execution_count": 21,
   "metadata": {},
   "outputs": [],
   "source": [
    "data_test = \"\"\"7 6 4 2 1\n",
    "1 2 7 8 9\n",
    "9 7 6 2 1\n",
    "1 3 2 4 5\n",
    "8 6 4 4 1\n",
    "1 3 6 7 9\"\"\""
   ]
  },
  {
   "cell_type": "code",
   "execution_count": 22,
   "metadata": {},
   "outputs": [],
   "source": [
    "data_test = [list(map(int, line.split(\" \"))) for line in data_test.split(\"\\n\")]"
   ]
  },
  {
   "cell_type": "code",
   "execution_count": 23,
   "metadata": {},
   "outputs": [
    {
     "data": {
      "text/plain": [
       "[[7, 6, 4, 2, 1],\n",
       " [1, 2, 7, 8, 9],\n",
       " [9, 7, 6, 2, 1],\n",
       " [1, 3, 2, 4, 5],\n",
       " [8, 6, 4, 4, 1],\n",
       " [1, 3, 6, 7, 9]]"
      ]
     },
     "execution_count": 23,
     "metadata": {},
     "output_type": "execute_result"
    }
   ],
   "source": [
    "data_test"
   ]
  },
  {
   "cell_type": "markdown",
   "metadata": {},
   "source": [
    "## Part 1 "
   ]
  },
  {
   "cell_type": "code",
   "execution_count": 5,
   "metadata": {},
   "outputs": [],
   "source": [
    "def valid_ascend(seq):\n",
    "    return all(a < b < a + 4 for a, b in itertools.pairwise(seq))\n",
    "\n",
    "def valid_descend(seq):\n",
    "    return all(a > b > a - 4 for a, b in itertools.pairwise(seq))\n",
    "    \n",
    "def valid_sequence(seq):\n",
    "    return valid_ascend(seq) or valid_descend(seq)\n"
   ]
  },
  {
   "cell_type": "code",
   "execution_count": 6,
   "metadata": {},
   "outputs": [
    {
     "ename": "NameError",
     "evalue": "name 'data' is not defined",
     "output_type": "error",
     "traceback": [
      "\u001b[0;31m---------------------------------------------------------------------------\u001b[0m",
      "\u001b[0;31mNameError\u001b[0m                                 Traceback (most recent call last)",
      "Cell \u001b[0;32mIn[6], line 1\u001b[0m\n\u001b[0;32m----> 1\u001b[0m res_a \u001b[38;5;241m=\u001b[39m \u001b[38;5;28msum\u001b[39m(valid_sequence(sequence) \u001b[38;5;28;01mfor\u001b[39;00m  sequence \u001b[38;5;129;01min\u001b[39;00m \u001b[43mdata\u001b[49m)\n\u001b[1;32m      2\u001b[0m res_a\n",
      "\u001b[0;31mNameError\u001b[0m: name 'data' is not defined"
     ]
    }
   ],
   "source": [
    "res_a = sum(valid_sequence(sequence) for  sequence in data)\n",
    "res_a"
   ]
  },
  {
   "cell_type": "code",
   "execution_count": 112,
   "metadata": {},
   "outputs": [],
   "source": [
    "puzzle.answer_a = res_a"
   ]
  },
  {
   "cell_type": "markdown",
   "metadata": {},
   "source": [
    "## Part 2"
   ]
  },
  {
   "cell_type": "code",
   "execution_count": 160,
   "metadata": {},
   "outputs": [],
   "source": [
    "def valid_ascend_b(seq):\n",
    "    for i, (a, b) in enumerate(itertools.pairwise(seq)):\n",
    "        if not (a < b < a + 4):\n",
    "            return False, i\n",
    "    return True, len(seq)\n",
    "            \n",
    "\n",
    "def valid_descend_b(seq):\n",
    "    for i, (a, b) in enumerate(itertools.pairwise(seq)):\n",
    "        if not (a > b > a - 4):\n",
    "            return False, i\n",
    "    return True, len(seq)\n",
    "\n",
    "def valid_sequence_b(sequence):\n",
    "    valid, i = valid_ascend_b(sequence)\n",
    "    if valid:\n",
    "        return True\n",
    "\n",
    "    for offset in range(2):\n",
    "        valid, _ = valid_ascend_b(sequence[i - 1 + offset: i + offset] + sequence[i + 1 + offset:])\n",
    "        if valid:\n",
    "            return True\n",
    "\n",
    "    valid, i = valid_descend_b(sequence)\n",
    "    if valid:\n",
    "        return True\n",
    "        \n",
    "    for offset in range(2):\n",
    "        valid, _ = valid_descend_b(sequence[i - 1 + offset: i + offset] + sequence[i + 1 + offset:])\n",
    "        if valid:\n",
    "            return True\n",
    "            \n",
    "    return False\n",
    "    "
   ]
  },
  {
   "cell_type": "code",
   "execution_count": 161,
   "metadata": {},
   "outputs": [
    {
     "data": {
      "text/plain": [
       "604"
      ]
     },
     "execution_count": 161,
     "metadata": {},
     "output_type": "execute_result"
    }
   ],
   "source": [
    "res_b = sum(valid_sequence_b(sequence) for sequence in data)\n",
    "res_b"
   ]
  },
  {
   "cell_type": "code",
   "execution_count": 139,
   "metadata": {},
   "outputs": [
    {
     "name": "stdout",
     "output_type": "stream",
     "text": [
      "\u001b[32mThat's the right answer!  You are one gold star closer to finding the Chief Historian.You have completed Day 2! You can [Shareon\n",
      "  Bluesky\n",
      "Twitter\n",
      "Mastodon] this victory or [Return to Your Advent Calendar].\u001b[0m\n"
     ]
    }
   ],
   "source": [
    "puzzle.answer_b = res_b"
   ]
  },
  {
   "cell_type": "markdown",
   "metadata": {},
   "source": [
    "# Day 3"
   ]
  },
  {
   "cell_type": "code",
   "execution_count": 76,
   "metadata": {},
   "outputs": [],
   "source": [
    "puzzle = Puzzle(2024, 3)"
   ]
  },
  {
   "cell_type": "code",
   "execution_count": 19,
   "metadata": {},
   "outputs": [],
   "source": [
    "data_test = \"xmul(2,4)%&mul[3,7]!@^do_not_mul(5,5)+mul(32,64]then(mul(11,8)mul(8,5))\""
   ]
  },
  {
   "cell_type": "markdown",
   "metadata": {},
   "source": [
    "## Part 1 "
   ]
  },
  {
   "cell_type": "code",
   "execution_count": 54,
   "metadata": {},
   "outputs": [],
   "source": [
    "mul_regex = re.compile(\"mul\\((?P<X>\\d{1,3}),(?P<Y>\\d{1,3})\\)\")\n",
    "def parse_mul(data):\n",
    "    return sum(int(m[\"X\"])*int(m[\"Y\"]) for m in re.finditer(mul_regex, data))"
   ]
  },
  {
   "cell_type": "code",
   "execution_count": 57,
   "metadata": {},
   "outputs": [
    {
     "data": {
      "text/plain": [
       "175700056"
      ]
     },
     "execution_count": 57,
     "metadata": {},
     "output_type": "execute_result"
    }
   ],
   "source": [
    "res_a = parse_mul(puzzle.input_data)\n",
    "res_a"
   ]
  },
  {
   "cell_type": "code",
   "execution_count": 52,
   "metadata": {},
   "outputs": [
    {
     "name": "stdout",
     "output_type": "stream",
     "text": [
      "\u001b[32mThat's the right answer!  You are one gold star closer to finding the Chief Historian. [Continue to Part Two]\u001b[0m\n"
     ]
    }
   ],
   "source": [
    "puzzle.answer_a = res_a"
   ]
  },
  {
   "cell_type": "markdown",
   "metadata": {},
   "source": [
    "## Part 2"
   ]
  },
  {
   "cell_type": "code",
   "execution_count": 239,
   "metadata": {},
   "outputs": [],
   "source": [
    "remove_dont_regex = re.compile(r\"don't\\(\\).*?(?=(do(n't)?\\(\\)|$))\", re.S)"
   ]
  },
  {
   "cell_type": "code",
   "execution_count": 249,
   "metadata": {},
   "outputs": [
    {
     "data": {
      "text/plain": [
       "<re.Match object; span=(0, 1), match='t'>"
      ]
     },
     "execution_count": 249,
     "metadata": {},
     "output_type": "execute_result"
    }
   ],
   "source": [
    "re.match(re.compile(\".*\"), \"\\n\")"
   ]
  },
  {
   "cell_type": "code",
   "execution_count": 250,
   "metadata": {},
   "outputs": [],
   "source": [
    "data_test = \"don't()don't()bdon't()cdo()adon't()\\ndo()ddodon't()d\""
   ]
  },
  {
   "cell_type": "code",
   "execution_count": 251,
   "metadata": {},
   "outputs": [
    {
     "name": "stdout",
     "output_type": "stream",
     "text": [
      "don't()\n",
      "\n",
      "don't()b\n",
      "\n",
      "don't()c\n",
      "\n",
      "don't()\n",
      "\n",
      "\n",
      "don't()d\n",
      "\n"
     ]
    }
   ],
   "source": [
    "for m in re.finditer(remove_dont_regex, data_test):\n",
    "    print(m.group())\n",
    "    print()"
   ]
  },
  {
   "cell_type": "code",
   "execution_count": 257,
   "metadata": {},
   "outputs": [],
   "source": [
    "data_do = re.sub(remove_dont_regex, \"\", puzzle.input_data)"
   ]
  },
  {
   "cell_type": "code",
   "execution_count": 258,
   "metadata": {},
   "outputs": [
    {
     "data": {
      "text/plain": [
       "71668682"
      ]
     },
     "execution_count": 258,
     "metadata": {},
     "output_type": "execute_result"
    }
   ],
   "source": [
    "answer_b = parse_mul(data_do)\n",
    "answer_b"
   ]
  },
  {
   "cell_type": "code",
   "execution_count": 248,
   "metadata": {},
   "outputs": [
    {
     "name": "stdout",
     "output_type": "stream",
     "text": [
      "\u001b[32mThat's the right answer!  You are one gold star closer to finding the Chief Historian.You have completed Day 3! You can [Shareon\n",
      "  Bluesky\n",
      "Twitter\n",
      "Mastodon] this victory or [Return to Your Advent Calendar].\u001b[0m\n"
     ]
    }
   ],
   "source": [
    "puzzle.answer_b = answer_b"
   ]
  },
  {
   "cell_type": "markdown",
   "metadata": {},
   "source": [
    "# Day 4"
   ]
  },
  {
   "cell_type": "code",
   "execution_count": 5,
   "metadata": {},
   "outputs": [],
   "source": [
    "puzzle = Puzzle(2024, 4)"
   ]
  },
  {
   "cell_type": "code",
   "execution_count": 85,
   "metadata": {},
   "outputs": [],
   "source": [
    "data_test = \"\"\"MMMSXXMASM\n",
    "MSAMXMSMSA\n",
    "AMXSXMAAMM\n",
    "MSAMASMSMX\n",
    "XMASAMXAMM\n",
    "XXAMMXXAMA\n",
    "SMSMSASXSS\n",
    "SAXAMASAAA\n",
    "MAMMMXMMMM\n",
    "MXMXAXMASX\"\"\"\n",
    "grid_test = np.array([list(line) for line in data_test.split(\"\\n\")])\n",
    "grid = np.array([list(line) for line in puzzle.input_data.split(\"\\n\")])"
   ]
  },
  {
   "cell_type": "markdown",
   "metadata": {},
   "source": [
    "## Part 1 "
   ]
  },
  {
   "cell_type": "code",
   "execution_count": 102,
   "metadata": {},
   "outputs": [],
   "source": [
    "def count_occurence(lst: list[str], word: str) -> int:\n",
    "    lst_str = \"\".join(lst)\n",
    "    # print(f\"{lst_str:10} -> {word}: {lst_str.count(word)} {word[::-1]}: {lst_str.count(word[::-1])}\")\n",
    "    return lst_str.count(word) + lst_str.count(word[::-1])"
   ]
  },
  {
   "cell_type": "code",
   "execution_count": 112,
   "metadata": {},
   "outputs": [],
   "source": [
    "def get_all_word_occurence(grid, word):\n",
    "    occurences = 0\n",
    "    x, y = grid.shape\n",
    "    gird_sym = np.fliplr(grid)\n",
    "    \n",
    "    for xi in range(x):\n",
    "        occurences += count_occurence(grid[xi, :], word)\n",
    "    \n",
    "    for yi in range(y):\n",
    "        occurences += count_occurence(grid[:, yi], word)\n",
    "    \n",
    "    for di in range(-x + 1, y):\n",
    "        occurences += count_occurence(grid.diagonal(di), word)\n",
    "        occurences += count_occurence(gird_sym.diagonal(di), word)\n",
    "\n",
    "    return occurences\n",
    "        "
   ]
  },
  {
   "cell_type": "code",
   "execution_count": 113,
   "metadata": {},
   "outputs": [
    {
     "data": {
      "text/plain": [
       "18"
      ]
     },
     "execution_count": 113,
     "metadata": {},
     "output_type": "execute_result"
    }
   ],
   "source": [
    "get_all_word_occurence(grid_test, word)"
   ]
  },
  {
   "cell_type": "code",
   "execution_count": 114,
   "metadata": {},
   "outputs": [
    {
     "data": {
      "text/plain": [
       "2414"
      ]
     },
     "execution_count": 114,
     "metadata": {},
     "output_type": "execute_result"
    }
   ],
   "source": [
    "answer_a = get_all_word_occurence(grid, word)\n",
    "answer_a"
   ]
  },
  {
   "cell_type": "code",
   "execution_count": 115,
   "metadata": {},
   "outputs": [
    {
     "name": "stdout",
     "output_type": "stream",
     "text": [
      "\u001b[32mThat's the right answer!  You are one gold star closer to finding the Chief Historian. [Continue to Part Two]\u001b[0m\n"
     ]
    }
   ],
   "source": [
    "puzzle.answer_a = answer_a"
   ]
  },
  {
   "cell_type": "markdown",
   "metadata": {},
   "source": [
    "## Part 2"
   ]
  },
  {
   "cell_type": "code",
   "execution_count": 125,
   "metadata": {},
   "outputs": [],
   "source": [
    "def get_x_mas_occurences(grid):\n",
    "    occurences = 0\n",
    "    x, y = grid.shape\n",
    "    for xi in range(1, x - 1):\n",
    "        for yi in range(1, y - 1):\n",
    "            if grid[xi, yi] != \"A\":\n",
    "                continue\n",
    "            corner = f\"{grid[xi-1, yi-1]}{grid[xi-1, yi+1]}{grid[xi+1, yi+1]}{grid[xi+1, yi-1]}\"\n",
    "            occurences += corner in [\"SSMM\", \"SMMS\", \"MMSS\", \"MSSM\"]\n",
    "\n",
    "    return occurences"
   ]
  },
  {
   "cell_type": "code",
   "execution_count": 126,
   "metadata": {},
   "outputs": [
    {
     "data": {
      "text/plain": [
       "9"
      ]
     },
     "execution_count": 126,
     "metadata": {},
     "output_type": "execute_result"
    }
   ],
   "source": [
    "get_x_mas_occurences(grid_test)"
   ]
  },
  {
   "cell_type": "code",
   "execution_count": 127,
   "metadata": {},
   "outputs": [
    {
     "data": {
      "text/plain": [
       "1871"
      ]
     },
     "execution_count": 127,
     "metadata": {},
     "output_type": "execute_result"
    }
   ],
   "source": [
    "answer_b = get_x_mas_occurences(grid)\n",
    "answer_b"
   ]
  },
  {
   "cell_type": "code",
   "execution_count": 128,
   "metadata": {},
   "outputs": [
    {
     "name": "stdout",
     "output_type": "stream",
     "text": [
      "\u001b[32mThat's the right answer!  You are one gold star closer to finding the Chief Historian.You have completed Day 4! You can [Shareon\n",
      "  Bluesky\n",
      "Twitter\n",
      "Mastodon] this victory or [Return to Your Advent Calendar].\u001b[0m\n"
     ]
    }
   ],
   "source": [
    "puzzle.answer_b = answer_b"
   ]
  },
  {
   "cell_type": "markdown",
   "metadata": {},
   "source": [
    "# Day 5"
   ]
  },
  {
   "cell_type": "code",
   "execution_count": 4,
   "metadata": {},
   "outputs": [],
   "source": [
    "puzzle = Puzzle(2022, 5)"
   ]
  },
  {
   "cell_type": "code",
   "execution_count": 33,
   "metadata": {},
   "outputs": [],
   "source": [
    "data = puzzle.input_data"
   ]
  },
  {
   "cell_type": "code",
   "execution_count": 102,
   "metadata": {},
   "outputs": [],
   "source": [
    "instruction_pattern = re.compile(r\"move (?P<number>\\d+) from (?P<start>\\d+) to (?P<end>\\d+)\")\n",
    "class SupplyStacks:\n",
    "    def __init__(self, data):\n",
    "        queues, instructions = data.split(\"\\n\\n\")\n",
    "        # transpose\n",
    "        queues = [''.join(s).strip() for s in zip(*queues.split(\"\\n\")) if re.match(r\"\\w+\", ''.join(s).strip())]\n",
    "        \n",
    "        self.queues = {}\n",
    "        # Create LIFO\n",
    "        for q in queues:\n",
    "            new_q = queue.LifoQueue()\n",
    "            for s in q[-2::-1]:\n",
    "                new_q.put(s)\n",
    "            self.queues[q[-1]] = new_q\n",
    "        \n",
    "        # Parse instructions\n",
    "        self.instructions = [instruction_pattern.match(instruction).groupdict() for instruction in instructions.split(\"\\n\")]\n",
    "        \n",
    "    def part_1(self):\n",
    "        for instruction in self.instructions:\n",
    "            for _ in range(int(instruction[\"number\"])):\n",
    "                self.queues[instruction[\"end\"]].put(self.queues[instruction[\"start\"]].get())\n",
    "    \n",
    "    def answer_a(self):\n",
    "        self.part_1()\n",
    "        return self._join_queues()\n",
    "    \n",
    "    def part_2(self):\n",
    "        temporary_queue = queue.LifoQueue()\n",
    "        for instruction in self.instructions:\n",
    "            for _ in range(int(instruction[\"number\"])):\n",
    "                temporary_queue.put(self.queues[instruction[\"start\"]].get())\n",
    "                \n",
    "            for _ in range(int(instruction[\"number\"])):\n",
    "                self.queues[instruction[\"end\"]].put(temporary_queue.get())\n",
    "                \n",
    "    def answer_b(self):\n",
    "        self.part_2()\n",
    "        return self._join_queues()\n",
    "    \n",
    "    def _join_queues(self):\n",
    "        return \"\".join(q.get() for q in self.queues.values())"
   ]
  },
  {
   "cell_type": "markdown",
   "metadata": {},
   "source": [
    "## Part 1 "
   ]
  },
  {
   "cell_type": "code",
   "execution_count": 96,
   "metadata": {},
   "outputs": [],
   "source": [
    "ss = SupplyStacks(data)"
   ]
  },
  {
   "cell_type": "code",
   "execution_count": 94,
   "metadata": {},
   "outputs": [
    {
     "data": {
      "text/plain": [
       "'FJSRQCFTN'"
      ]
     },
     "execution_count": 94,
     "metadata": {},
     "output_type": "execute_result"
    }
   ],
   "source": [
    "answer_a = ss.answer_a()\n",
    "answer_a"
   ]
  },
  {
   "cell_type": "code",
   "execution_count": 89,
   "metadata": {},
   "outputs": [
    {
     "name": "stdout",
     "output_type": "stream",
     "text": [
      "\u001b[32mThat's the right answer!  You are one gold star closer to collecting enough star fruit. [Continue to Part Two]\u001b[0m\n"
     ]
    }
   ],
   "source": [
    "puzzle.answer_a = answer_a"
   ]
  },
  {
   "cell_type": "markdown",
   "metadata": {},
   "source": [
    "## Part 2"
   ]
  },
  {
   "cell_type": "code",
   "execution_count": 103,
   "metadata": {},
   "outputs": [],
   "source": [
    "ss = SupplyStacks(data)"
   ]
  },
  {
   "cell_type": "code",
   "execution_count": 104,
   "metadata": {},
   "outputs": [
    {
     "data": {
      "text/plain": [
       "'CJVLJQPHS'"
      ]
     },
     "execution_count": 104,
     "metadata": {},
     "output_type": "execute_result"
    }
   ],
   "source": [
    "answer_b = ss.answer_b()\n",
    "answer_b"
   ]
  },
  {
   "cell_type": "code",
   "execution_count": 105,
   "metadata": {},
   "outputs": [
    {
     "name": "stdout",
     "output_type": "stream",
     "text": [
      "\u001b[32mThat's the right answer!  You are one gold star closer to collecting enough star fruit.You have completed Day 5! You can [Shareon\n",
      "  Twitter\n",
      "Mastodon] this victory or [Return to Your Advent Calendar].\u001b[0m\n"
     ]
    }
   ],
   "source": [
    "puzzle.answer_b = answer_b"
   ]
  },
  {
   "cell_type": "markdown",
   "metadata": {},
   "source": [
    "# Day 6"
   ]
  },
  {
   "cell_type": "code",
   "execution_count": 12,
   "metadata": {},
   "outputs": [],
   "source": [
    "puzzle = Puzzle(2022, 6)"
   ]
  },
  {
   "cell_type": "code",
   "execution_count": 13,
   "metadata": {},
   "outputs": [],
   "source": [
    "data = puzzle.input_data"
   ]
  },
  {
   "cell_type": "markdown",
   "metadata": {},
   "source": [
    "## Part 1 "
   ]
  },
  {
   "cell_type": "code",
   "execution_count": 15,
   "metadata": {},
   "outputs": [],
   "source": [
    "def get_position_message(data, length):\n",
    "    for idx, chars in enumerate(more_itertools.sliding_window(data, length)):\n",
    "        if len(set(chars)) == length:\n",
    "            return idx + length\n",
    "    \n",
    "    raise ValueError(\"should not happen\")"
   ]
  },
  {
   "cell_type": "code",
   "execution_count": 16,
   "metadata": {},
   "outputs": [
    {
     "data": {
      "text/plain": [
       "1912"
      ]
     },
     "execution_count": 16,
     "metadata": {},
     "output_type": "execute_result"
    }
   ],
   "source": [
    "answer_a = get_position_message(data, 4)\n",
    "answer_a"
   ]
  },
  {
   "cell_type": "code",
   "execution_count": 16,
   "metadata": {},
   "outputs": [
    {
     "name": "stdout",
     "output_type": "stream",
     "text": [
      "\u001b[32mThat's the right answer!  You are one gold star closer to collecting enough star fruit. [Continue to Part Two]\u001b[0m\n"
     ]
    }
   ],
   "source": [
    "puzzle.answer_a = answer_a"
   ]
  },
  {
   "cell_type": "markdown",
   "metadata": {},
   "source": [
    "## Part 2"
   ]
  },
  {
   "cell_type": "code",
   "execution_count": 17,
   "metadata": {},
   "outputs": [
    {
     "data": {
      "text/plain": [
       "2122"
      ]
     },
     "execution_count": 17,
     "metadata": {},
     "output_type": "execute_result"
    }
   ],
   "source": [
    "answer_b = get_position_message(data, 14)\n",
    "answer_b"
   ]
  },
  {
   "cell_type": "code",
   "execution_count": 18,
   "metadata": {},
   "outputs": [],
   "source": [
    "puzzle.answer_b = answer_b"
   ]
  },
  {
   "cell_type": "markdown",
   "metadata": {},
   "source": [
    "# Day 7"
   ]
  },
  {
   "cell_type": "code",
   "execution_count": 3,
   "metadata": {},
   "outputs": [],
   "source": [
    "puzzle = Puzzle(2022, 7)"
   ]
  },
  {
   "cell_type": "code",
   "execution_count": 4,
   "metadata": {},
   "outputs": [],
   "source": [
    "data = puzzle.input_data.split(\"\\n\")"
   ]
  },
  {
   "cell_type": "code",
   "execution_count": 6,
   "metadata": {},
   "outputs": [],
   "source": [
    "directrories_score = collections.defaultdict(int)\n",
    "actual_dir = collections.deque(\"/\")\n",
    "\n",
    "for line in data:\n",
    "    match line.split():\n",
    "        # commands\n",
    "        case '$', 'ls':\n",
    "            pass\n",
    "        case '$', 'cd', '/':\n",
    "            actual_dir = collections.deque(\"/\")\n",
    "        case '$', 'cd', '..':\n",
    "            actual_dir.pop()\n",
    "        case '$', 'cd', dir_name:\n",
    "            actual_dir.append(f\"{dir_name}/\")\n",
    "        # after ls\n",
    "        case 'dir', _:\n",
    "            pass\n",
    "        case size, _:\n",
    "            # Accumulate for concatening all elements of actual_dir\n",
    "            for directory in itertools.accumulate(actual_dir):\n",
    "                directrories_score[directory] += int(size)"
   ]
  },
  {
   "cell_type": "markdown",
   "metadata": {},
   "source": [
    "## Part 1 "
   ]
  },
  {
   "cell_type": "code",
   "execution_count": 8,
   "metadata": {},
   "outputs": [
    {
     "data": {
      "text/plain": [
       "1297683"
      ]
     },
     "execution_count": 8,
     "metadata": {},
     "output_type": "execute_result"
    }
   ],
   "source": [
    "answer_a = sum(val for val in directrories_score.values() if val <= 100000)\n",
    "answer_a"
   ]
  },
  {
   "cell_type": "code",
   "execution_count": 109,
   "metadata": {},
   "outputs": [
    {
     "name": "stdout",
     "output_type": "stream",
     "text": [
      "\u001b[32mThat's the right answer!  You are one gold star closer to collecting enough star fruit. [Continue to Part Two]\u001b[0m\n"
     ]
    }
   ],
   "source": [
    "puzzle.answer_a = answer_a"
   ]
  },
  {
   "cell_type": "markdown",
   "metadata": {},
   "source": [
    "## Part 2"
   ]
  },
  {
   "cell_type": "code",
   "execution_count": 9,
   "metadata": {},
   "outputs": [
    {
     "data": {
      "text/plain": [
       "5756764"
      ]
     },
     "execution_count": 9,
     "metadata": {},
     "output_type": "execute_result"
    }
   ],
   "source": [
    "answer_b = min(val for val in directrories_score.values() if 30000000 <= 70000000 - directrories_score['/'] + val)\n",
    "answer_b"
   ]
  },
  {
   "cell_type": "code",
   "execution_count": 10,
   "metadata": {
    "scrolled": true
   },
   "outputs": [
    {
     "name": "stdout",
     "output_type": "stream",
     "text": [
      "\u001b[32mThat's the right answer!  You are one gold star closer to collecting enough star fruit.You have completed Day 7! You can [Shareon\n",
      "  Twitter\n",
      "Mastodon] this victory or [Return to Your Advent Calendar].\u001b[0m\n"
     ]
    }
   ],
   "source": [
    "puzzle.answer_b = answer_b"
   ]
  },
  {
   "cell_type": "markdown",
   "metadata": {},
   "source": [
    "# Day 8"
   ]
  },
  {
   "cell_type": "code",
   "execution_count": 195,
   "metadata": {},
   "outputs": [],
   "source": [
    "puzzle = Puzzle(2022, 8)"
   ]
  },
  {
   "cell_type": "code",
   "execution_count": 122,
   "metadata": {},
   "outputs": [],
   "source": [
    "data = np.array([[int(number) for number in line] for line in puzzle.input_data.split(\"\\n\")])"
   ]
  },
  {
   "cell_type": "code",
   "execution_count": 123,
   "metadata": {},
   "outputs": [],
   "source": [
    "len_x, len_y = data.shape"
   ]
  },
  {
   "cell_type": "markdown",
   "metadata": {},
   "source": [
    "## Part 1 "
   ]
  },
  {
   "cell_type": "code",
   "execution_count": 136,
   "metadata": {},
   "outputs": [],
   "source": [
    "total_tree = np.ones((len_x,len_y), dtype=int)\n",
    "total_tree[1:-1,1:-1] = 0\n",
    "\n",
    "for x in range(1, len_x - 1):\n",
    "    for y in range(1, len_y - 1):\n",
    "        number = data[x, y]\n",
    "        if (\n",
    "            np.all(data[:x, y] < number)\n",
    "            or np.all(data[x+1:, y] < number)\n",
    "            or np.all(data[x, :y] < number)\n",
    "            or np.all(data[x, y+1:] < number)\n",
    "         ):\n",
    "            total_tree[x, y] = 1"
   ]
  },
  {
   "cell_type": "code",
   "execution_count": 137,
   "metadata": {},
   "outputs": [
    {
     "data": {
      "text/plain": [
       "1829"
      ]
     },
     "execution_count": 137,
     "metadata": {},
     "output_type": "execute_result"
    }
   ],
   "source": [
    "answer_a = np.sum(total_tree)\n",
    "answer_a"
   ]
  },
  {
   "cell_type": "code",
   "execution_count": 121,
   "metadata": {},
   "outputs": [
    {
     "name": "stdout",
     "output_type": "stream",
     "text": [
      "\u001b[32mThat's the right answer!  You are one gold star closer to collecting enough star fruit. [Continue to Part Two]\u001b[0m\n"
     ]
    }
   ],
   "source": [
    "puzzle.answer_a = answer_a"
   ]
  },
  {
   "cell_type": "markdown",
   "metadata": {},
   "source": [
    "## Part 2"
   ]
  },
  {
   "cell_type": "code",
   "execution_count": 193,
   "metadata": {},
   "outputs": [],
   "source": [
    "total_tree = np.ones((len_x,len_y), dtype=int)\n",
    "total_tree[1:-1,1:-1] = 0\n",
    "\n",
    "for x in range(1, len_x-1):\n",
    "    for y in range(1, len_y-1):\n",
    "        number = data[x, y]\n",
    "        \n",
    "        a = 0\n",
    "        for new_n in data[x-1::-1, y]:\n",
    "            a += 1\n",
    "            if new_n >= number:\n",
    "                break\n",
    "                \n",
    "        b = 0\n",
    "        for new_n in data[x+1:, y]:\n",
    "            b += 1\n",
    "            if new_n >= number:\n",
    "                break\n",
    "        \n",
    "        c = 0\n",
    "        for new_n in data[x, y-1::-1]:\n",
    "            c += 1\n",
    "            if new_n >= number:\n",
    "                break\n",
    "                \n",
    "        d = 0\n",
    "        for new_n in data[x, y+1:]:\n",
    "            d += 1\n",
    "            if new_n >= number:\n",
    "                break\n",
    "                \n",
    "        total_tree[x, y] = a * b * c * d       "
   ]
  },
  {
   "cell_type": "code",
   "execution_count": 194,
   "metadata": {},
   "outputs": [
    {
     "data": {
      "text/plain": [
       "291840"
      ]
     },
     "execution_count": 194,
     "metadata": {},
     "output_type": "execute_result"
    }
   ],
   "source": [
    "answer_b = np.max(total_tree)\n",
    "answer_b"
   ]
  },
  {
   "cell_type": "code",
   "execution_count": 192,
   "metadata": {},
   "outputs": [
    {
     "name": "stdout",
     "output_type": "stream",
     "text": [
      "\u001b[32mThat's the right answer!  You are one gold star closer to collecting enough star fruit.You have completed Day 8! You can [Shareon\n",
      "  Twitter\n",
      "Mastodon] this victory or [Return to Your Advent Calendar].\u001b[0m\n"
     ]
    }
   ],
   "source": [
    "puzzle.answer_b = answer_b"
   ]
  },
  {
   "cell_type": "markdown",
   "metadata": {},
   "source": [
    "# Day 9"
   ]
  },
  {
   "cell_type": "code",
   "execution_count": 2,
   "metadata": {},
   "outputs": [],
   "source": [
    "puzzle = Puzzle(2022, 9)"
   ]
  },
  {
   "cell_type": "code",
   "execution_count": 288,
   "metadata": {},
   "outputs": [],
   "source": [
    "data = puzzle.input_data"
   ]
  },
  {
   "cell_type": "code",
   "execution_count": 289,
   "metadata": {},
   "outputs": [],
   "source": [
    "class Point:\n",
    "    def __init__(self, x, y):\n",
    "        self.x = x\n",
    "        self.y = y\n",
    "        \n",
    "    @property\n",
    "    def as_tuple(self):\n",
    "        return self.x, self.y\n",
    "    \n",
    "    @classmethod\n",
    "    def from_tuple(cls, coord):\n",
    "        return Point(*coord)\n",
    "                   \n",
    "    @classmethod\n",
    "    def create_vector(cls, direction):\n",
    "        match direction:\n",
    "            case \"U\":\n",
    "                return cls(1, 0)\n",
    "            case \"R\":\n",
    "                return cls(0, 1)\n",
    "            case \"D\":\n",
    "                return cls(-1, 0)\n",
    "            case \"L\":\n",
    "                return cls(0, -1)\n",
    "            case \"_\":\n",
    "                raise ValueError(\"unkown direction\")\n",
    "        \n",
    "    def one_tail_near(self, other_point):\n",
    "        return abs(self.x - other_point.x) <= 1 and abs(self.y - other_point.y) <= 1\n",
    "    \n",
    "    def sign(self):\n",
    "        return Point(np.sign(self.x), np.sign(self.y))\n",
    "    \n",
    "    def __sub__(self, other_point):\n",
    "        return Point(self.x - other_point.x, self.y - other_point.y)\n",
    "    \n",
    "    def __isub__(self, other_point):\n",
    "        return self - other_point\n",
    "    \n",
    "    def __neg__(self):\n",
    "        return Point(-self.x, -self.y)\n",
    "    \n",
    "    def __add__(self, other_point):\n",
    "        return Point(self.x + other_point.x, self.y + other_point.y)\n",
    "    \n",
    "    def __iadd__(self, other_point):\n",
    "        return self + other_point\n",
    "    \n",
    "    def __str__(self):\n",
    "        return f\"({self.x}, {self.y})\"\n",
    "    \n",
    "    def __repr__(self):\n",
    "        return f\"Point{self}\""
   ]
  },
  {
   "cell_type": "code",
   "execution_count": 290,
   "metadata": {},
   "outputs": [],
   "source": [
    "class RopeGame:\n",
    "    def __init__(self, data, tail_lenght=1, start=(0,0)):\n",
    "        self.instructions = [line.split(\" \") for line in data.split(\"\\n\")]\n",
    "        self.knots = [Point.from_tuple(start) for _ in range(tail_lenght + 1)]\n",
    "        self.knots_positions = [set([start]) for _ in range(tail_lenght + 1)]\n",
    "    \n",
    "    def parse_instruction(self, instruction):\n",
    "        direction, value = instruction\n",
    "        vector = Point.create_vector(direction)\n",
    "        \n",
    "        for _ in range(int(value)):\n",
    "            self.update_knot(0, self.knots[0] + vector)\n",
    "            \n",
    "            for idx, knot in list(enumerate(self.knots))[1:]:\n",
    "                prev_knot = self.knots[idx-1]\n",
    "                if knot.one_tail_near(prev_knot):\n",
    "                    break\n",
    "                \n",
    "                deplacement = (prev_knot - knot).sign()\n",
    "                self.update_knot(idx, knot + deplacement)\n",
    "                \n",
    "    def run(self):\n",
    "        for instruction in self.instructions:\n",
    "            self.parse_instruction(instruction)\n",
    "            \n",
    "    def update_knot(self, pos, new_knot):\n",
    "        self.knots[pos] = new_knot\n",
    "        self.knots_positions[pos].add(new_knot.as_tuple)\n",
    "    \n",
    "    @property\n",
    "    def answer_a(self):\n",
    "        return len(self.knots_positions[1])\n",
    "    \n",
    "    @property\n",
    "    def answer_b(self):\n",
    "        return len(self.knots_positions[-1])\n",
    "    "
   ]
  },
  {
   "cell_type": "markdown",
   "metadata": {},
   "source": [
    "## Part 1 "
   ]
  },
  {
   "cell_type": "code",
   "execution_count": 291,
   "metadata": {},
   "outputs": [
    {
     "data": {
      "text/plain": [
       "6057"
      ]
     },
     "execution_count": 291,
     "metadata": {},
     "output_type": "execute_result"
    }
   ],
   "source": [
    "rg = RopeGame(data)\n",
    "rg.run()\n",
    "rg.answer_a"
   ]
  },
  {
   "cell_type": "code",
   "execution_count": 292,
   "metadata": {},
   "outputs": [],
   "source": [
    "puzzle.answer_a = rg.answer_a"
   ]
  },
  {
   "cell_type": "markdown",
   "metadata": {},
   "source": [
    "## Part 2"
   ]
  },
  {
   "cell_type": "code",
   "execution_count": 293,
   "metadata": {},
   "outputs": [],
   "source": [
    "rg = RopeGame(data, 9)\n",
    "rg.run()"
   ]
  },
  {
   "cell_type": "code",
   "execution_count": 294,
   "metadata": {},
   "outputs": [
    {
     "data": {
      "text/plain": [
       "6057"
      ]
     },
     "execution_count": 294,
     "metadata": {},
     "output_type": "execute_result"
    }
   ],
   "source": [
    "rg.answer_a"
   ]
  },
  {
   "cell_type": "code",
   "execution_count": 295,
   "metadata": {},
   "outputs": [
    {
     "data": {
      "text/plain": [
       "2514"
      ]
     },
     "execution_count": 295,
     "metadata": {},
     "output_type": "execute_result"
    }
   ],
   "source": [
    "rg.answer_b"
   ]
  },
  {
   "cell_type": "code",
   "execution_count": 296,
   "metadata": {},
   "outputs": [],
   "source": [
    "puzzle.answer_b = rg.answer_b"
   ]
  },
  {
   "cell_type": "markdown",
   "metadata": {},
   "source": [
    "# Day 10"
   ]
  },
  {
   "cell_type": "code",
   "execution_count": 155,
   "metadata": {},
   "outputs": [],
   "source": [
    "puzzle = Puzzle(2022, 10)"
   ]
  },
  {
   "cell_type": "code",
   "execution_count": 156,
   "metadata": {},
   "outputs": [],
   "source": [
    "data = puzzle.input_data.split(\"\\n\")"
   ]
  },
  {
   "cell_type": "code",
   "execution_count": 157,
   "metadata": {},
   "outputs": [],
   "source": [
    "def test_cycle(x, cycle):\n",
    "    if cycle in {20, 60, 100, 140, 180, 220}:\n",
    "        print(cycle, x)\n",
    "        return cycle * x\n",
    "    return 0"
   ]
  },
  {
   "cell_type": "markdown",
   "metadata": {},
   "source": [
    "## Part 1 "
   ]
  },
  {
   "cell_type": "code",
   "execution_count": 158,
   "metadata": {},
   "outputs": [
    {
     "name": "stdout",
     "output_type": "stream",
     "text": [
      "20 29\n",
      "60 17\n",
      "100 21\n",
      "140 21\n",
      "180 21\n",
      "220 17\n"
     ]
    },
    {
     "data": {
      "text/plain": [
       "14160"
      ]
     },
     "execution_count": 158,
     "metadata": {},
     "output_type": "execute_result"
    }
   ],
   "source": [
    "x = 1\n",
    "cycle = 0\n",
    "answer_a = 0\n",
    "\n",
    "for instruction in data:\n",
    "    match instruction.split(\" \"):\n",
    "        case [\"noop\"]:\n",
    "            cycle +=1\n",
    "            answer_a += test_cycle(x, cycle)\n",
    "        case \"addx\", value:\n",
    "            cycle += 1\n",
    "            answer_a += test_cycle(x, cycle)\n",
    "            cycle += 1\n",
    "            answer_a += test_cycle(x, cycle)\n",
    "            x += int(value)\n",
    "        case _:\n",
    "            print(instruction)\n",
    "            raise ValueError(\"\")\n",
    "answer_a"
   ]
  },
  {
   "cell_type": "code",
   "execution_count": 107,
   "metadata": {},
   "outputs": [
    {
     "name": "stdout",
     "output_type": "stream",
     "text": [
      "\u001b[32mThat's the right answer!  You are one gold star closer to collecting enough star fruit. [Continue to Part Two]\u001b[0m\n"
     ]
    }
   ],
   "source": [
    "puzzle.answer_a = answer_a"
   ]
  },
  {
   "cell_type": "markdown",
   "metadata": {},
   "source": [
    "## Part 2"
   ]
  },
  {
   "cell_type": "code",
   "execution_count": 159,
   "metadata": {},
   "outputs": [],
   "source": [
    "def draw(x, cycle):\n",
    "    if x <= (cycle % 40) <= x+2:\n",
    "        return \"#\"\n",
    "    return \".\""
   ]
  },
  {
   "cell_type": "code",
   "execution_count": 160,
   "metadata": {},
   "outputs": [],
   "source": [
    "def print_map(answer_b):\n",
    "    for chunk in more_itertools.batched(answer_b, 40):\n",
    "        print(\"\".join(chunk))"
   ]
  },
  {
   "cell_type": "code",
   "execution_count": 161,
   "metadata": {},
   "outputs": [],
   "source": [
    "x = 1\n",
    "cycle = 0\n",
    "answer_b = []\n",
    "\n",
    "for instruction in data:\n",
    "    match instruction.split(\" \"):\n",
    "        case [\"noop\"]:\n",
    "            cycle +=1\n",
    "            answer_b.append(draw(x, cycle))\n",
    "        case \"addx\", value:\n",
    "            cycle += 1\n",
    "            answer_b.append(draw(x, cycle))\n",
    "            cycle += 1\n",
    "            answer_b.append(draw(x, cycle))\n",
    "            x += int(value)\n",
    "        case _:\n",
    "            print(instruction)\n",
    "            raise ValueError(\"\")\n"
   ]
  },
  {
   "cell_type": "code",
   "execution_count": 162,
   "metadata": {},
   "outputs": [
    {
     "name": "stdout",
     "output_type": "stream",
     "text": [
      "###....##.####.###..###..####.####..##.#\n",
      "#..#....#.#....#..#.#..#.#....#....#..#.\n",
      "#..#....#.###..#..#.#..#.###..###..#....\n",
      "###.....#.#....###..###..#....#....#...#\n",
      "#.#..#..#.#....#.#..#....#....#....#..#.\n",
      "#..#..##..####.#..#.#....####.#.....##..\n"
     ]
    }
   ],
   "source": [
    "print_map(answer_b)"
   ]
  },
  {
   "cell_type": "code",
   "execution_count": 154,
   "metadata": {},
   "outputs": [
    {
     "name": "stdout",
     "output_type": "stream",
     "text": [
      "\u001b[32mThat's the right answer!  You are one gold star closer to collecting enough star fruit.You have completed Day 10! You can [Shareon\n",
      "  Twitter\n",
      "Mastodon] this victory or [Return to Your Advent Calendar].\u001b[0m\n"
     ]
    }
   ],
   "source": [
    "puzzle.answer_b = \"RJERPEFC\""
   ]
  },
  {
   "cell_type": "markdown",
   "metadata": {},
   "source": [
    "# Day 11"
   ]
  },
  {
   "cell_type": "code",
   "execution_count": 76,
   "metadata": {},
   "outputs": [],
   "source": [
    "puzzle = Puzzle(2022, 11)"
   ]
  },
  {
   "cell_type": "code",
   "execution_count": 77,
   "metadata": {},
   "outputs": [],
   "source": [
    "data = puzzle.input_data"
   ]
  },
  {
   "cell_type": "code",
   "execution_count": 67,
   "metadata": {},
   "outputs": [],
   "source": [
    "data = \"\"\"Monkey 0:\n",
    "  Starting items: 79, 98\n",
    "  Operation: new = old * 19\n",
    "  Test: divisible by 23\n",
    "    If true: throw to monkey 2\n",
    "    If false: throw to monkey 3\n",
    "\n",
    "Monkey 1:\n",
    "  Starting items: 54, 65, 75, 74\n",
    "  Operation: new = old + 6\n",
    "  Test: divisible by 19\n",
    "    If true: throw to monkey 2\n",
    "    If false: throw to monkey 0\n",
    "\n",
    "Monkey 2:\n",
    "  Starting items: 79, 60, 97\n",
    "  Operation: new = old * old\n",
    "  Test: divisible by 13\n",
    "    If true: throw to monkey 1\n",
    "    If false: throw to monkey 3\n",
    "\n",
    "Monkey 3:\n",
    "  Starting items: 74\n",
    "  Operation: new = old + 3\n",
    "  Test: divisible by 17\n",
    "    If true: throw to monkey 0\n",
    "    If false: throw to monkey 1\"\"\""
   ]
  },
  {
   "cell_type": "code",
   "execution_count": 101,
   "metadata": {},
   "outputs": [],
   "source": [
    "class Monkey:\n",
    "    def __init__(self, name,items, operation, test_val, monkey_true, monkey_false):\n",
    "        self.item_inspected = 0\n",
    "        self.name = name,\n",
    "        self.items = items\n",
    "        self.operation = operation\n",
    "        self.test_val = test_val\n",
    "        self.monkey_true = monkey_true\n",
    "        self.monkey_false = monkey_false\n",
    "    \n",
    "    def inspect(self, old, p1=True):\n",
    "        self.item_inspected += 1\n",
    "        item = eval(self.operation)\n",
    "        if p1:\n",
    "            item = item // 3\n",
    "        return item\n",
    "        \n",
    "    def test(self, item):\n",
    "        monkey_dest = self.monkey_true if item % self.test_val == 0 else self.monkey_false\n",
    "        return monkey_dest, item\n",
    "    \n",
    "    def add_item(self, item):\n",
    "        self.items.append(item)\n",
    "    \n",
    "    def do_round(self, p1=True):\n",
    "        for item in self.items:\n",
    "            item = self.inspect(item, p1=p1)\n",
    "            yield self.test(item)\n",
    "        self.items = []"
   ]
  },
  {
   "cell_type": "code",
   "execution_count": 131,
   "metadata": {},
   "outputs": [],
   "source": [
    "class MonkeyManager:\n",
    "    def __init__(self, data):\n",
    "        # Create monkey\n",
    "        self.monkeys = []\n",
    "        self.test_total = 1\n",
    "        self.data = data\n",
    "        \n",
    "        self.create()\n",
    "    \n",
    "    def create(self):\n",
    "\n",
    "        for monkey_data in self.data.split(\"\\n\\n\"):\n",
    "            name,  items, operation, test, m_true, m_false = monkey_data.split(\"\\n\")\n",
    "            name,  items, operation, test, m_true, m_false = monkey_data.split(\"\\n\")\n",
    "            name = name.strip()\n",
    "            items = list(map(int, number_pattern.findall(items)))\n",
    "            operation = operation.split(\"= \")[1]\n",
    "            test = int(number_pattern.search(test).group())\n",
    "            self.test_total *= test\n",
    "            m_true = int(number_pattern.search(m_true).group())\n",
    "            m_false = int(number_pattern.search(m_false).group())\n",
    "            new_monkey = Monkey(name, items, operation, test, m_true, m_false)\n",
    "            self.monkeys.append(new_monkey)\n",
    "            \n",
    "    def do_round(self, p1=True):\n",
    "        \n",
    "        for monkey in self.monkeys:\n",
    "            for monkey_dest, item in monkey.do_round(p1):\n",
    "                self.monkeys[monkey_dest].add_item(item % self.test_total)\n",
    "                \n",
    "    def answer_a(self):\n",
    "        self.reset()\n",
    "        for i in range(20):\n",
    "            self.do_round(p1=True)\n",
    "        \n",
    "        return self.monkey_inspections(2)\n",
    "    \n",
    "    \n",
    "    def answer_b(self):\n",
    "        self.reset()\n",
    "        for i in tqdm.tqdm(range(10000)):\n",
    "            self.do_round(p1=False)\n",
    "        \n",
    "        return self.monkey_inspections(2)\n",
    "    \n",
    "    \n",
    "    def monkey_inspections(self, n):\n",
    "        m_i = [monkey.item_inspected for monkey in self.monkeys]\n",
    "        m_i = heapq.nlargest(2, m_i)\n",
    "        return functools.reduce(operator.mul, m_i, 1)\n",
    "        \n",
    "    def reset(self):\n",
    "        self.monkeys = []\n",
    "        self.test_total = 1       \n",
    "        self.create()"
   ]
  },
  {
   "cell_type": "code",
   "execution_count": 132,
   "metadata": {},
   "outputs": [],
   "source": [
    "mm = MonkeyManager(data)"
   ]
  },
  {
   "cell_type": "markdown",
   "metadata": {},
   "source": [
    "## Part 1 "
   ]
  },
  {
   "cell_type": "code",
   "execution_count": 133,
   "metadata": {},
   "outputs": [
    {
     "data": {
      "text/plain": [
       "66802"
      ]
     },
     "execution_count": 133,
     "metadata": {},
     "output_type": "execute_result"
    }
   ],
   "source": [
    "answer_a = mm.answer_a()\n",
    "answer_a"
   ]
  },
  {
   "cell_type": "code",
   "execution_count": 113,
   "metadata": {},
   "outputs": [],
   "source": [
    "puzzle.answer_a = answer_a"
   ]
  },
  {
   "cell_type": "markdown",
   "metadata": {},
   "source": [
    "## Part 2"
   ]
  },
  {
   "cell_type": "code",
   "execution_count": 134,
   "metadata": {},
   "outputs": [
    {
     "name": "stderr",
     "output_type": "stream",
     "text": [
      "100%|███████████████████████████████████| 10000/10000 [00:04<00:00, 2329.57it/s]\n"
     ]
    },
    {
     "data": {
      "text/plain": [
       "21800916620"
      ]
     },
     "execution_count": 134,
     "metadata": {},
     "output_type": "execute_result"
    }
   ],
   "source": [
    "answer_b = mm.answer_b()\n",
    "answer_b"
   ]
  },
  {
   "cell_type": "code",
   "execution_count": 135,
   "metadata": {},
   "outputs": [],
   "source": [
    "puzzle.answer_b = answer_b"
   ]
  },
  {
   "cell_type": "markdown",
   "metadata": {},
   "source": [
    "# Day 12"
   ]
  },
  {
   "cell_type": "code",
   "execution_count": 2,
   "metadata": {},
   "outputs": [],
   "source": [
    "puzzle = Puzzle(2022, 12)"
   ]
  },
  {
   "cell_type": "code",
   "execution_count": 46,
   "metadata": {},
   "outputs": [],
   "source": [
    "data = puzzle.input_data"
   ]
  },
  {
   "cell_type": "code",
   "execution_count": 3,
   "metadata": {},
   "outputs": [],
   "source": [
    "data = \"\"\"Sabqponm\n",
    "abcryxxl\n",
    "accszExk\n",
    "acctuvwj\n",
    "abdefghi\"\"\""
   ]
  },
  {
   "cell_type": "code",
   "execution_count": 47,
   "metadata": {},
   "outputs": [],
   "source": [
    "def adjs(position, nodes):\n",
    "    x, y = position\n",
    "    adjs = [(x+1, y), (x-1, y), (x, y+1), (x, y-1)]\n",
    "    return [adj for adj in adjs if adj in nodes]"
   ]
  },
  {
   "cell_type": "code",
   "execution_count": 48,
   "metadata": {},
   "outputs": [],
   "source": [
    "def distance(pos1, pos2, nodes_weight):\n",
    "    return nodes_weight[pos2] - nodes_weight[pos1]"
   ]
  },
  {
   "cell_type": "code",
   "execution_count": 49,
   "metadata": {},
   "outputs": [],
   "source": [
    "base_nodes = np.array([[letter for letter in line] for line in data.split(\"\\n\")])\n",
    "nodes_weight = np.array([[ord(letter) - ord(\"a\") for letter in line] for line in data.split(\"\\n\")])"
   ]
  },
  {
   "cell_type": "code",
   "execution_count": 50,
   "metadata": {},
   "outputs": [],
   "source": [
    "start = np.where(nodes_weight == ord(\"S\") - ord(\"a\"))\n",
    "start = next(zip(start[0], start[1]))\n",
    "nodes_weight[start] = 0"
   ]
  },
  {
   "cell_type": "code",
   "execution_count": 51,
   "metadata": {},
   "outputs": [],
   "source": [
    "end = np.where(nodes_weight == ord(\"E\") - ord(\"a\"))\n",
    "end = next(zip(end[0], end[1]))\n",
    "nodes_weight[end] = ord(\"z\") - ord(\"a\")"
   ]
  },
  {
   "cell_type": "code",
   "execution_count": 52,
   "metadata": {},
   "outputs": [],
   "source": [
    "nodes = list(np.ndindex(*nodes_weight.shape))"
   ]
  },
  {
   "cell_type": "code",
   "execution_count": 53,
   "metadata": {},
   "outputs": [],
   "source": [
    "distances = {\n",
    "    node: {adj: 1 for adj in adjs(node, nodes) if distance(node, adj, nodes_weight) <= 1} for node in nodes\n",
    "}"
   ]
  },
  {
   "cell_type": "code",
   "execution_count": 55,
   "metadata": {},
   "outputs": [],
   "source": [
    "G = nx.DiGraph()"
   ]
  },
  {
   "cell_type": "code",
   "execution_count": 27,
   "metadata": {},
   "outputs": [],
   "source": [
    "G.add_nodes_from(nodes)"
   ]
  },
  {
   "cell_type": "code",
   "execution_count": 56,
   "metadata": {},
   "outputs": [],
   "source": [
    "for node, adjs in distances.items():\n",
    "    for adj, dist in adjs.items():\n",
    "        G.add_edge(node, adj, weight=dist)"
   ]
  },
  {
   "cell_type": "markdown",
   "metadata": {},
   "source": [
    "## Part 1 "
   ]
  },
  {
   "cell_type": "code",
   "execution_count": 57,
   "metadata": {},
   "outputs": [
    {
     "data": {
      "text/plain": [
       "425"
      ]
     },
     "execution_count": 57,
     "metadata": {},
     "output_type": "execute_result"
    }
   ],
   "source": [
    "answer_a = nx.shortest_path_length(G, start, end)\n",
    "answer_a"
   ]
  },
  {
   "cell_type": "code",
   "execution_count": 58,
   "metadata": {},
   "outputs": [],
   "source": [
    "puzzle.answer_a = answer_a"
   ]
  },
  {
   "cell_type": "markdown",
   "metadata": {},
   "source": [
    "## Part 2"
   ]
  },
  {
   "cell_type": "code",
   "execution_count": 59,
   "metadata": {},
   "outputs": [
    {
     "data": {
      "text/plain": [
       "(array([ 0,  0,  0, ..., 40, 40, 40]),\n",
       " array([  0,  18,  19, ..., 111, 112, 113]))"
      ]
     },
     "execution_count": 59,
     "metadata": {},
     "output_type": "execute_result"
    }
   ],
   "source": [
    "starts = np.where(nodes_weight == 0)\n",
    "starts"
   ]
  },
  {
   "cell_type": "code",
   "execution_count": 60,
   "metadata": {},
   "outputs": [
    {
     "data": {
      "text/plain": [
       "418"
      ]
     },
     "execution_count": 60,
     "metadata": {},
     "output_type": "execute_result"
    }
   ],
   "source": [
    "dists = []\n",
    "for start in zip(starts[0], starts[1]):\n",
    "    try:\n",
    "        dist = nx.shortest_path_length(G, start, end)\n",
    "        dists.append(dist)\n",
    "    except nx.NetworkXNoPath:\n",
    "        continue\n",
    "        \n",
    "answer_b = min(dists)\n",
    "answer_b\n"
   ]
  },
  {
   "cell_type": "code",
   "execution_count": 42,
   "metadata": {},
   "outputs": [
    {
     "name": "stdout",
     "output_type": "stream",
     "text": [
      "\u001b[32mThat's the right answer!  You are one gold star closer to collecting enough star fruit.You have completed Day 12! You can [Shareon\n",
      "  Twitter\n",
      "Mastodon] this victory or [Return to Your Advent Calendar].\u001b[0m\n"
     ]
    }
   ],
   "source": [
    "puzzle.answer_b = answer_b"
   ]
  },
  {
   "cell_type": "markdown",
   "metadata": {},
   "source": [
    "# Day 13"
   ]
  },
  {
   "cell_type": "code",
   "execution_count": 9,
   "metadata": {},
   "outputs": [],
   "source": [
    "puzzle = Puzzle(2022, 13)"
   ]
  },
  {
   "cell_type": "code",
   "execution_count": 10,
   "metadata": {},
   "outputs": [],
   "source": [
    "signals_pairs = [tuple(map(eval, line.split(\"\\n\"))) for line in puzzle.input_data.split(\"\\n\\n\")]"
   ]
  },
  {
   "cell_type": "markdown",
   "metadata": {},
   "source": [
    "## Part 1 "
   ]
  },
  {
   "cell_type": "code",
   "execution_count": 28,
   "metadata": {},
   "outputs": [],
   "source": [
    "def parse_pair(p1, p2):\n",
    "    \"\"\" -1 --> a > b\n",
    "    0 --> a == b\n",
    "    1 --> a < b\n",
    "    \n",
    "    \"\"\"\n",
    "    if isinstance(p1, int) and isinstance(p2, int):\n",
    "        return np.sign(p2 - p1)\n",
    "\n",
    "    for e1, e2 in zip(p1, p2):\n",
    "        match e1, e2:\n",
    "            case int(), list():\n",
    "                e1 = [e1]\n",
    "            case list(), int():\n",
    "                e2 = [e2]\n",
    "            \n",
    "        if (res := parse_pair(e1, e2)) != 0:\n",
    "            return res\n",
    "    \n",
    "    return np.sign(len(p2) - len(p1))"
   ]
  },
  {
   "cell_type": "code",
   "execution_count": 29,
   "metadata": {},
   "outputs": [],
   "source": [
    "res = sum(idx + 1 for idx, pair in enumerate(signals_pairs) if parse_pair(*pair) != -1)"
   ]
  },
  {
   "cell_type": "code",
   "execution_count": 30,
   "metadata": {},
   "outputs": [
    {
     "data": {
      "text/plain": [
       "5852"
      ]
     },
     "execution_count": 30,
     "metadata": {},
     "output_type": "execute_result"
    }
   ],
   "source": [
    "res"
   ]
  },
  {
   "cell_type": "code",
   "execution_count": 62,
   "metadata": {},
   "outputs": [
    {
     "name": "stdout",
     "output_type": "stream",
     "text": [
      "\u001b[32mThat's the right answer!  You are one gold star closer to collecting enough star fruit. [Continue to Part Two]\u001b[0m\n"
     ]
    }
   ],
   "source": [
    "puzzle.answer_a = res"
   ]
  },
  {
   "cell_type": "markdown",
   "metadata": {},
   "source": [
    "## Part 2"
   ]
  },
  {
   "cell_type": "code",
   "execution_count": 14,
   "metadata": {},
   "outputs": [],
   "source": [
    "signals = [eval(line) for line in puzzle.input_data.split(\"\\n\") if line]"
   ]
  },
  {
   "cell_type": "code",
   "execution_count": 15,
   "metadata": {},
   "outputs": [],
   "source": [
    "s1 = [[2]]\n",
    "signals.append(s1)\n",
    "s2 = [[6]]\n",
    "signals.append(s2)"
   ]
  },
  {
   "cell_type": "code",
   "execution_count": 16,
   "metadata": {},
   "outputs": [],
   "source": [
    "def compare(l1, l2):\n",
    "    res = parse_pair(l1, l2)\n",
    "    return -1 if res != -1 else 1"
   ]
  },
  {
   "cell_type": "code",
   "execution_count": 17,
   "metadata": {},
   "outputs": [],
   "source": [
    "signals = sorted(signals, key=functools.cmp_to_key(compare))"
   ]
  },
  {
   "cell_type": "code",
   "execution_count": 23,
   "metadata": {},
   "outputs": [],
   "source": [
    "filter_signals = [idx + 1 for idx, signal in enumerate(signals) if signal == s1 or signal == s2]\n",
    "tot = functools.reduce(operator.mul, filter_signals, 1)"
   ]
  },
  {
   "cell_type": "code",
   "execution_count": 24,
   "metadata": {},
   "outputs": [
    {
     "data": {
      "text/plain": [
       "24190"
      ]
     },
     "execution_count": 24,
     "metadata": {},
     "output_type": "execute_result"
    }
   ],
   "source": [
    "tot"
   ]
  },
  {
   "cell_type": "code",
   "execution_count": 132,
   "metadata": {},
   "outputs": [
    {
     "name": "stdout",
     "output_type": "stream",
     "text": [
      "\u001b[32mThat's the right answer!  You are one gold star closer to collecting enough star fruit.You have completed Day 13! You can [Shareon\n",
      "  Twitter\n",
      "Mastodon] this victory or [Return to Your Advent Calendar].\u001b[0m\n"
     ]
    }
   ],
   "source": [
    "puzzle.answer_b = tot"
   ]
  },
  {
   "cell_type": "markdown",
   "metadata": {},
   "source": [
    "# Day 14"
   ]
  },
  {
   "cell_type": "code",
   "execution_count": 100,
   "metadata": {},
   "outputs": [],
   "source": [
    "puzzle = Puzzle(2022, 14)"
   ]
  },
  {
   "cell_type": "code",
   "execution_count": 158,
   "metadata": {},
   "outputs": [],
   "source": [
    "data = puzzle.input_data"
   ]
  },
  {
   "cell_type": "code",
   "execution_count": 180,
   "metadata": {},
   "outputs": [],
   "source": [
    "data_test = \"\"\"498,4 -> 498,6 -> 496,6\n",
    "503,4 -> 502,4 -> 502,9 -> 494,9\"\"\""
   ]
  },
  {
   "cell_type": "code",
   "execution_count": null,
   "metadata": {},
   "outputs": [],
   "source": [
    "sand_entry_x, send_entry_y = sand_entry = (500, 0)"
   ]
  },
  {
   "cell_type": "code",
   "execution_count": 188,
   "metadata": {},
   "outputs": [],
   "source": [
    "def get_cave_extremity(cave, p1=True):\n",
    "    y_min = send_entry_y\n",
    "    y_max = max(map(lambda t: t[1], cave)) + (0 if p1 else 2)\n",
    "    x_min = min(map(lambda t: t[0], cave))\n",
    "    x_max = max(map(lambda t: t[0], cave))\n",
    "    \n",
    "    return (x_min, x_max), (y_min, y_max)"
   ]
  },
  {
   "cell_type": "code",
   "execution_count": 241,
   "metadata": {},
   "outputs": [],
   "source": [
    "def init_cave(data, p1=True):\n",
    "    coords = [[tuple(map(int, coord.split(\",\"))) for coord in line.split(\" -> \")] for line in data.split(\"\\n\")]\n",
    "    cave = collections.defaultdict(str)\n",
    "\n",
    "    def get_numbers_inside(n1, n2):\n",
    "        return range(min(n1, n2), max(n1, n2) + 1)\n",
    "\n",
    "    for coord in coords:\n",
    "\n",
    "        for (x1, y1), (x2, y2) in itertools.pairwise(coord):\n",
    "            if x1 == x2:\n",
    "                for yi in get_numbers_inside(y1, y2):\n",
    "                    cave[(x1, yi)] = \"#\"\n",
    "            # y1 == y2\n",
    "            else:\n",
    "                for xi in get_numbers_inside(x1, x2):\n",
    "                    cave[(xi, y1)] = \"#\"\n",
    "                    \n",
    "    if not p1:\n",
    "        (x_min, x_max), (y_min, y_max) = get_cave_extremity(cave, p1=p1)\n",
    "        boottom_half_lenght = y_max - y_min\n",
    "        \n",
    "        for xi in range(- boottom_half_lenght, boottom_half_lenght + 1):\n",
    "            cave[(xi + sand_entry_x, y_max)] = \"#\"\n",
    "        \n",
    "    return cave\n",
    "\n"
   ]
  },
  {
   "cell_type": "code",
   "execution_count": 242,
   "metadata": {},
   "outputs": [],
   "source": [
    "np.set_printoptions(linewidth=150)\n",
    "def print_cave(cave, p1=True):\n",
    "    cave = dict(cave)\n",
    "    (x_min, x_max), (y_min, y_max) = get_cave_extremity(cave, p1=p1)\n",
    "    representation = np.chararray((x_max - x_min + 1, y_max - y_min + 1), unicode=True)\n",
    "    representation[:, :] = \".\"\n",
    "    for (x, y), value in cave.items():\n",
    "        representation[x - x_min, y] = value\n",
    "    representation[sand_entry_x - x_min, y_min] = \"x\"\n",
    "    print(representation.T)"
   ]
  },
  {
   "cell_type": "code",
   "execution_count": 243,
   "metadata": {},
   "outputs": [
    {
     "name": "stdout",
     "output_type": "stream",
     "text": [
      "[['.' '.' '.' '.' '.' '.' '.' '.' '.' '.' '.' 'x' '.' '.' '.' '.' '.' '.' '.' '.' '.' '.' '.']\n",
      " ['.' '.' '.' '.' '.' '.' '.' '.' '.' '.' '.' '.' '.' '.' '.' '.' '.' '.' '.' '.' '.' '.' '.']\n",
      " ['.' '.' '.' '.' '.' '.' '.' '.' '.' '.' '.' '.' '.' '.' '.' '.' '.' '.' '.' '.' '.' '.' '.']\n",
      " ['.' '.' '.' '.' '.' '.' '.' '.' '.' '.' '.' '.' '.' '.' '.' '.' '.' '.' '.' '.' '.' '.' '.']\n",
      " ['.' '.' '.' '.' '.' '.' '.' '.' '.' '#' '.' '.' '.' '#' '#' '.' '.' '.' '.' '.' '.' '.' '.']\n",
      " ['.' '.' '.' '.' '.' '.' '.' '.' '.' '#' '.' '.' '.' '#' '.' '.' '.' '.' '.' '.' '.' '.' '.']\n",
      " ['.' '.' '.' '.' '.' '.' '.' '#' '#' '#' '.' '.' '.' '#' '.' '.' '.' '.' '.' '.' '.' '.' '.']\n",
      " ['.' '.' '.' '.' '.' '.' '.' '.' '.' '.' '.' '.' '.' '#' '.' '.' '.' '.' '.' '.' '.' '.' '.']\n",
      " ['.' '.' '.' '.' '.' '.' '.' '.' '.' '.' '.' '.' '.' '#' '.' '.' '.' '.' '.' '.' '.' '.' '.']\n",
      " ['.' '.' '.' '.' '.' '#' '#' '#' '#' '#' '#' '#' '#' '#' '.' '.' '.' '.' '.' '.' '.' '.' '.']\n",
      " ['.' '.' '.' '.' '.' '.' '.' '.' '.' '.' '.' '.' '.' '.' '.' '.' '.' '.' '.' '.' '.' '.' '.']\n",
      " ['#' '#' '#' '#' '#' '#' '#' '#' '#' '#' '#' '#' '#' '#' '#' '#' '#' '#' '#' '#' '#' '#' '#']]\n"
     ]
    }
   ],
   "source": [
    "cave_test = init_cave(data_test, p1=False)\n",
    "print_cave(cave_test)"
   ]
  },
  {
   "cell_type": "markdown",
   "metadata": {},
   "source": [
    "## Part 1"
   ]
  },
  {
   "cell_type": "code",
   "execution_count": 257,
   "metadata": {},
   "outputs": [],
   "source": [
    "def compute(data, p1=True):\n",
    "    cave = init_cave(data, p1=p1)\n",
    "    time = -1\n",
    "    (x_min, x_max), (y_min, y_max) = get_cave_extremity(cave, p1=p1)\n",
    "    while True:\n",
    "        time += 1\n",
    "        sand_pos_x, sand_pos_y = sand_entry\n",
    "        \n",
    "        if cave[sand_entry] == \"o\":\n",
    "            return cave, time - 1\n",
    "        \n",
    "        while True:\n",
    "            under = (sand_pos_x, sand_pos_y + 1)\n",
    "\n",
    "            match cave[under]:\n",
    "                case \"#\" | \"o\":\n",
    "                    under_left  = (sand_pos_x - 1, sand_pos_y + 1)\n",
    "                    under_right = (sand_pos_x + 1, sand_pos_y + 1)\n",
    "\n",
    "                    if cave[under_left] == \"\":\n",
    "                        sand_pos_x, sand_pos_y = under_left\n",
    "                    elif cave[under_right] == \"\":\n",
    "                        sand_pos_x, sand_pos_y = under_right\n",
    "                    else:\n",
    "                        cave[(sand_pos_x, sand_pos_y)] = \"o\"\n",
    "                        break\n",
    "                case \"\":\n",
    "                    sand_pos_x, sand_pos_y = under\n",
    "\n",
    "            if sand_pos_y == y_max:\n",
    "                return cave, time"
   ]
  },
  {
   "cell_type": "code",
   "execution_count": 258,
   "metadata": {},
   "outputs": [
    {
     "name": "stdout",
     "output_type": "stream",
     "text": [
      "time=24\n",
      "[['.' '.' '.' '.' '.' '.' '.' 'x' '.' '.' '.']\n",
      " ['.' '.' '.' '.' '.' '.' '.' '' '.' '.' '.']\n",
      " ['.' '.' '.' '.' '.' '.' '' 'o' '.' '.' '.']\n",
      " ['.' '.' '.' '.' '.' '' 'o' 'o' 'o' '.' '.']\n",
      " ['.' '.' '.' '.' '' '#' 'o' 'o' 'o' '#' '#']\n",
      " ['.' '.' '.' '' 'o' '#' 'o' 'o' 'o' '#' '.']\n",
      " ['.' '.' '' '#' '#' '#' 'o' 'o' 'o' '#' '.']\n",
      " ['.' '.' '' '.' '.' 'o' 'o' 'o' 'o' '#' '.']\n",
      " ['.' '' 'o' '.' 'o' 'o' 'o' 'o' 'o' '#' '.']\n",
      " ['' '#' '#' '#' '#' '#' '#' '#' '#' '#' '.']]\n"
     ]
    }
   ],
   "source": [
    "cave, time = compute(data_test)\n",
    "print(f\"{time=}\")\n",
    "print_cave(cave)"
   ]
  },
  {
   "cell_type": "code",
   "execution_count": 246,
   "metadata": {
    "scrolled": true
   },
   "outputs": [
    {
     "data": {
      "text/plain": [
       "774"
      ]
     },
     "execution_count": 246,
     "metadata": {},
     "output_type": "execute_result"
    }
   ],
   "source": [
    "_, answer_a = compute(data)\n",
    "answer_a"
   ]
  },
  {
   "cell_type": "code",
   "execution_count": 252,
   "metadata": {},
   "outputs": [],
   "source": [
    "puzzle.answer_a = answer_a"
   ]
  },
  {
   "cell_type": "markdown",
   "metadata": {},
   "source": [
    "## Part 2"
   ]
  },
  {
   "cell_type": "code",
   "execution_count": 69,
   "metadata": {},
   "outputs": [
    {
     "ename": "NameError",
     "evalue": "name 'data_test' is not defined",
     "output_type": "error",
     "traceback": [
      "\u001b[0;31m---------------------------------------------------------------------------\u001b[0m",
      "\u001b[0;31mNameError\u001b[0m                                 Traceback (most recent call last)",
      "Cell \u001b[0;32mIn[69], line 1\u001b[0m\n\u001b[0;32m----> 1\u001b[0m cave, time \u001b[38;5;241m=\u001b[39m compute(\u001b[43mdata_test\u001b[49m, p1\u001b[38;5;241m=\u001b[39m\u001b[38;5;28;01mFalse\u001b[39;00m)\n\u001b[1;32m      2\u001b[0m \u001b[38;5;28mprint\u001b[39m(\u001b[38;5;124mf\u001b[39m\u001b[38;5;124m\"\u001b[39m\u001b[38;5;132;01m{\u001b[39;00mtime\u001b[38;5;132;01m=}\u001b[39;00m\u001b[38;5;124m\"\u001b[39m)\n\u001b[1;32m      3\u001b[0m print_cave(cave, p1\u001b[38;5;241m=\u001b[39m\u001b[38;5;28;01mFalse\u001b[39;00m)\n",
      "\u001b[0;31mNameError\u001b[0m: name 'data_test' is not defined"
     ]
    }
   ],
   "source": [
    "cave, time = compute(data_test, p1=False)\n",
    "print(f\"{time=}\")\n",
    "print_cave(cave, p1=False)"
   ]
  },
  {
   "cell_type": "code",
   "execution_count": 250,
   "metadata": {
    "scrolled": true
   },
   "outputs": [
    {
     "data": {
      "text/plain": [
       "22499"
      ]
     },
     "execution_count": 250,
     "metadata": {},
     "output_type": "execute_result"
    }
   ],
   "source": [
    "_, answer_b = compute(data, p1=False)\n",
    "answer_b"
   ]
  },
  {
   "cell_type": "code",
   "execution_count": 253,
   "metadata": {},
   "outputs": [],
   "source": [
    "puzzle.answer_b = answer_b"
   ]
  },
  {
   "cell_type": "markdown",
   "metadata": {},
   "source": [
    "# Day 15"
   ]
  },
  {
   "cell_type": "code",
   "execution_count": 2,
   "metadata": {},
   "outputs": [],
   "source": [
    "puzzle = Puzzle(2022, 15)"
   ]
  },
  {
   "cell_type": "code",
   "execution_count": 3,
   "metadata": {},
   "outputs": [],
   "source": [
    "data = puzzle.input_data"
   ]
  },
  {
   "cell_type": "code",
   "execution_count": 4,
   "metadata": {},
   "outputs": [],
   "source": [
    "data_test = \"\"\"Sensor at x=2, y=18: closest beacon is at x=-2, y=15\n",
    "Sensor at x=9, y=16: closest beacon is at x=10, y=16\n",
    "Sensor at x=13, y=2: closest beacon is at x=15, y=3\n",
    "Sensor at x=12, y=14: closest beacon is at x=10, y=16\n",
    "Sensor at x=10, y=20: closest beacon is at x=10, y=16\n",
    "Sensor at x=14, y=17: closest beacon is at x=10, y=16\n",
    "Sensor at x=8, y=7: closest beacon is at x=2, y=10\n",
    "Sensor at x=2, y=0: closest beacon is at x=2, y=10\n",
    "Sensor at x=0, y=11: closest beacon is at x=2, y=10\n",
    "Sensor at x=20, y=14: closest beacon is at x=25, y=17\n",
    "Sensor at x=17, y=20: closest beacon is at x=21, y=22\n",
    "Sensor at x=16, y=7: closest beacon is at x=15, y=3\n",
    "Sensor at x=14, y=3: closest beacon is at x=15, y=3\n",
    "Sensor at x=20, y=1: closest beacon is at x=15, y=3\"\"\""
   ]
  },
  {
   "cell_type": "code",
   "execution_count": 5,
   "metadata": {},
   "outputs": [],
   "source": [
    "class Point:\n",
    "    def __init__(self, x, y):\n",
    "        self.x = x\n",
    "        self.y = y\n",
    "        \n",
    "    @property\n",
    "    def as_tuple(self):\n",
    "        return self.x, self.y\n",
    "    \n",
    "    @classmethod\n",
    "    def from_tuple(cls, coord):\n",
    "        return Point(*coord)\n",
    "      \n",
    "    def manathan_distance(self, other_point):\n",
    "        return abs(self.x - other_point.x) + abs(self.y - other_point.y)\n",
    "    \n",
    "    def det(self, point):\n",
    "        return self.x * point.y - self.y * point.x\n",
    "    \n",
    "    def __sub__(self, other_point):\n",
    "        return Point(self.x - other_point.x, self.y - other_point.y)\n",
    "    \n",
    "    def __isub__(self, other_point):\n",
    "        return self - other_point\n",
    "    \n",
    "    def __neg__(self):\n",
    "        return Point(-self.x, -self.y)\n",
    "    \n",
    "    def __add__(self, other):\n",
    "        return Point(self.x + other.x, self.y + other.y)\n",
    "    \n",
    "    def __iadd__(self, other_point):\n",
    "        return self + other_point\n",
    "    \n",
    "    def __str__(self):\n",
    "        return f\"({self.x}, {self.y})\"\n",
    "    \n",
    "    def __repr__(self):\n",
    "        return f\"Point{self}\"\n",
    "    \n",
    "class Line:\n",
    "    def __init__(self, p1, p2):\n",
    "        self.p1 = p1\n",
    "        self.p2 = p2\n",
    "        \n",
    "    def det(self):\n",
    "        return self.p1.det(self.p2)\n",
    "    \n",
    "    def intersection(self, line):\n",
    "        xdiff = Point(self.p1.x - self.p2.x, line.p1.x - line.p2.x)\n",
    "        ydiff = Point(self.p1.y - self.p2.y, line.p1.y - line.p2.y)\n",
    "        \n",
    "        div = xdiff.det(ydiff)\n",
    "        if div == 0:\n",
    "            return False\n",
    "        \n",
    "        d = Point(self.det(), line.det())\n",
    "        x = d.det(xdiff) // div\n",
    "        y = d.det(ydiff) // div\n",
    "        \n",
    "        return Point(x, y)\n",
    "\n",
    "class Sensor:\n",
    "    def __init__(self, sensor, beacon):\n",
    "        self.sensor = sensor\n",
    "        self.beacon = beacon\n",
    "        self.distance = sensor.manathan_distance(beacon)\n",
    "        self.outer_distance = self.distance + 1\n",
    "        self.lines = self.possible_outer_lines()\n",
    "\n",
    "        \n",
    "    def possible_outer_points(self):\n",
    "        x, y = self.sensor.as_tuple\n",
    "        return [\n",
    "            Point(x - self.outer_distance, y),\n",
    "            Point(x, y - self.outer_distance),\n",
    "            Point(x + self.outer_distance, y),\n",
    "            Point(x, y + self.outer_distance)\n",
    "        ]\n",
    "    \n",
    "    def possible_outer_lines(self):\n",
    "        points_i = self.possible_outer_points()\n",
    "        points_j = points_i[1:] + [points_i[0]]\n",
    "        \n",
    "        return [Line(pi, pj) for (pi, pj) in zip(points_i, points_j)]\n",
    "            \n",
    "    def point_possible(self, point):\n",
    "        return self.sensor.manathan_distance(point) > self.distance\n",
    "    \n",
    "    def outer_intersections_sensor(self, other_sensor, start, end):\n",
    "        for line_i in self.lines:\n",
    "            for line_j in other_sensor.lines:\n",
    "                if (intersection := line_i.intersection(line_j)):\n",
    "                    if start <= intersection.x <= end and start <= intersection.y <= end:\n",
    "                        yield intersection       "
   ]
  },
  {
   "cell_type": "code",
   "execution_count": 6,
   "metadata": {},
   "outputs": [],
   "source": [
    "number_pattern = re.compile(\"-?\\d+\")\n",
    "def parse_data(data):\n",
    "    sensors_beacons = []\n",
    "    for line in data.split(\"\\n\"):\n",
    "        s_x, s_y, b_x, b_y = map(lambda match: int(match.group()), number_pattern.finditer(line))\n",
    "        sensor, beacon = Point(s_x, s_y), Point(b_x, b_y)\n",
    "        sensors_beacons.append((sensor, beacon, sensor.manathan_distance(beacon)))\n",
    "        \n",
    "    return sensors_beacons"
   ]
  },
  {
   "cell_type": "code",
   "execution_count": 7,
   "metadata": {},
   "outputs": [],
   "source": [
    "number_pattern = re.compile(\"-?\\d+\")\n",
    "def parse_data2(data):\n",
    "    sensors = []\n",
    "    for line in data.split(\"\\n\"):\n",
    "        s_x, s_y, b_x, b_y = map(lambda match: int(match.group()), number_pattern.finditer(line))\n",
    "        sensor, beacon = Point(s_x, s_y), Point(b_x, b_y)\n",
    "        sensors.append(Sensor(sensor, beacon))\n",
    "    return sensors"
   ]
  },
  {
   "cell_type": "markdown",
   "metadata": {},
   "source": [
    "## Part 1"
   ]
  },
  {
   "cell_type": "code",
   "execution_count": 120,
   "metadata": {},
   "outputs": [],
   "source": [
    "def span(sensor, beacon, m_s_b, y):\n",
    "    \"\"\"\n",
    "    find x\n",
    "    sensor.manathan(x, y) = sensor.manathan(beacon)\n",
    "    abs(sx - x) + abs(sy - y) = sensor.manathan(beacon)\n",
    "    abs(sx - x) = sensor.manathan(beacon) - abs(sy - y) = z avec z < 0\n",
    "    sx - x = z AND sx - x = -z\n",
    "    x = sx -z and x = sx + z\n",
    "    \"\"\"\n",
    "    z = m_s_b - abs(sensor.y - y)\n",
    "    if z < 0:\n",
    "        return range(0)\n",
    "    \n",
    "    x1, x2 = sensor.x - z, sensor.x + z \n",
    "    \n",
    "    return range(min(x1, x2), max(x1, x2) + 1)\n",
    "\n",
    "def span_2(sensor, beacon, m_s_b, y):\n",
    "    \"\"\"\n",
    "    find x\n",
    "    sensor.manathan(x, y) = sensor.manathan(beacon)\n",
    "    abs(sx - x) + abs(sy - y) = sensor.manathan(beacon)\n",
    "    abs(sx - x) = sensor.manathan(beacon) - abs(sy - y) = z avec z < 0\n",
    "    sx - x = z AND sx - x = -z\n",
    "    x = sx -z and x = sx + z\n",
    "    \"\"\"\n",
    "    z = m_s_b - abs(sensor.y - y)\n",
    "    if z < 0:\n",
    "        return False\n",
    "    \n",
    "    x1, x2 = sensor.x - z, sensor.x + z \n",
    "    \n",
    "    return [min(x1, x2), max(x1, x2)]"
   ]
  },
  {
   "cell_type": "code",
   "execution_count": 151,
   "metadata": {},
   "outputs": [],
   "source": [
    "def part_1_2(data, y):\n",
    "    line_y = []\n",
    "    b_s = set()\n",
    "    for sensor, beacon, m_s_b in parse_data(data):\n",
    "        if sensor.y == y:\n",
    "            b_s.add(sensor.x)\n",
    "        if beacon.y == y:\n",
    "            b_s.add(beacon.x)\n",
    "        if (r := span_2(sensor, beacon, m_s_b, y)):\n",
    "            line_y.append(r)\n",
    "            \n",
    "    \n",
    "    line_y.sort(key=lambda interval: interval[0])\n",
    "    merged = [line_y[0]]\n",
    "    for current in line_y:\n",
    "        previous = merged[-1]\n",
    "        if current[0] <= previous[1]:\n",
    "            previous[1] = max(previous[1], current[1])\n",
    "        else:\n",
    "            merged.append(current)\n",
    "            \n",
    "    return sum(r_e - r_s + 1 for r_s, r_e in merged) - sum(r_s <= s <= r_e for r_s, r_e in merged for s in b_s)\n"
   ]
  },
  {
   "cell_type": "code",
   "execution_count": 142,
   "metadata": {},
   "outputs": [],
   "source": [
    "def part_1_1(data, y):\n",
    "    line_y = set()\n",
    "    b_s = set()\n",
    "    for sensor, beacon, m_s_b in parse_data(data):\n",
    "        if sensor.y == y:\n",
    "            b_s.add(sensor.x)\n",
    "        if beacon.y == y:\n",
    "            b_s.add(beacon.x)\n",
    "        line_y |= set(span(sensor, beacon, m_s_b, y))\n",
    "    line_y -= b_s\n",
    "    return len(line_y)"
   ]
  },
  {
   "cell_type": "code",
   "execution_count": 143,
   "metadata": {},
   "outputs": [
    {
     "name": "stdout",
     "output_type": "stream",
     "text": [
      "26\n"
     ]
    },
    {
     "data": {
      "text/plain": [
       "26"
      ]
     },
     "execution_count": 143,
     "metadata": {},
     "output_type": "execute_result"
    }
   ],
   "source": [
    "part_1_2(data_test, 10)"
   ]
  },
  {
   "cell_type": "code",
   "execution_count": 154,
   "metadata": {},
   "outputs": [
    {
     "data": {
      "text/plain": [
       "26"
      ]
     },
     "execution_count": 154,
     "metadata": {},
     "output_type": "execute_result"
    }
   ],
   "source": [
    "part_1_1(data_test, 10)"
   ]
  },
  {
   "cell_type": "code",
   "execution_count": 145,
   "metadata": {},
   "outputs": [
    {
     "name": "stdout",
     "output_type": "stream",
     "text": [
      "4724228\n"
     ]
    },
    {
     "data": {
      "text/plain": [
       "True"
      ]
     },
     "execution_count": 145,
     "metadata": {},
     "output_type": "execute_result"
    }
   ],
   "source": [
    "part_1_1(data, 2000000) == part_1_2(data, 2000000)"
   ]
  },
  {
   "cell_type": "code",
   "execution_count": 146,
   "metadata": {},
   "outputs": [
    {
     "name": "stdout",
     "output_type": "stream",
     "text": [
      "1.28 s ± 114 ms per loop (mean ± std. dev. of 7 runs, 1 loop each)\n"
     ]
    }
   ],
   "source": [
    "%%timeit\n",
    "part_1_1(data, 2000000)"
   ]
  },
  {
   "cell_type": "code",
   "execution_count": 152,
   "metadata": {},
   "outputs": [
    {
     "name": "stdout",
     "output_type": "stream",
     "text": [
      "135 µs ± 7.79 µs per loop (mean ± std. dev. of 7 runs, 10,000 loops each)\n"
     ]
    }
   ],
   "source": [
    "%%timeit\n",
    "part_1_2(data, 2000000)"
   ]
  },
  {
   "cell_type": "code",
   "execution_count": 156,
   "metadata": {},
   "outputs": [],
   "source": [
    "answer_a = part_1_2(data, 2000000)\n",
    "puzzle.answer_a = answer_a"
   ]
  },
  {
   "cell_type": "markdown",
   "metadata": {},
   "source": [
    "## Part 2"
   ]
  },
  {
   "cell_type": "code",
   "execution_count": 14,
   "metadata": {},
   "outputs": [],
   "source": [
    "def find_outer_points(sensor, m_s_b):\n",
    "    outer_distance = m_s_b + 1\n",
    "    sx, sy = sensor.as_tuple\n",
    "    outers = []\n",
    "    for i in range(outer_distance):\n",
    "        yield Point(sx - outer_distance + i, sy + i)\n",
    "        yield Point(sx - outer_distance + i, sy - i)\n",
    "        yield Point(sx + i, sy + outer_distance - i)\n",
    "        yield Point(sx - i, sy + outer_distance - i)"
   ]
  },
  {
   "cell_type": "code",
   "execution_count": 15,
   "metadata": {},
   "outputs": [],
   "source": [
    "def all_possible_point(sensors_beacons, start, end):\n",
    "    for sensor, _, m_s_b in sensors_beacons:\n",
    "        for point in find_outer_points(sensor, m_s_b):\n",
    "            if start <= point.x <= end and start <= point.y <= end:\n",
    "                yield point\n",
    "                \n",
    "def compute(data, start=0, end=20):\n",
    "    sensors_beacons = parse_data(data)\n",
    "    \n",
    "    for point in tqdm.tqdm(all_possible_point(sensors_beacons, start, end)):\n",
    "        for sensor, _, m_s_b in sensors_beacons:\n",
    "            if sensor.manathan_distance(point) <= m_s_b:\n",
    "                break\n",
    "        else:\n",
    "            print(point)\n",
    "            return point"
   ]
  },
  {
   "cell_type": "code",
   "execution_count": null,
   "metadata": {},
   "outputs": [],
   "source": [
    "compute(data_test, 0, 20)"
   ]
  },
  {
   "cell_type": "code",
   "execution_count": 17,
   "metadata": {},
   "outputs": [
    {
     "name": "stderr",
     "output_type": "stream",
     "text": [
      "41489065it [02:34, 268691.78it/s]"
     ]
    },
    {
     "name": "stdout",
     "output_type": "stream",
     "text": [
      "(3405562, 3246513)\n"
     ]
    },
    {
     "name": "stderr",
     "output_type": "stream",
     "text": [
      "\n"
     ]
    }
   ],
   "source": [
    "res = compute(data, 0, 4000000)"
   ]
  },
  {
   "cell_type": "code",
   "execution_count": 19,
   "metadata": {},
   "outputs": [
    {
     "data": {
      "text/plain": [
       "13622251246513"
      ]
     },
     "execution_count": 19,
     "metadata": {},
     "output_type": "execute_result"
    }
   ],
   "source": [
    "answer_b = res.x*4000000 + res.y\n",
    "answer_b"
   ]
  },
  {
   "cell_type": "code",
   "execution_count": 52,
   "metadata": {},
   "outputs": [
    {
     "name": "stdout",
     "output_type": "stream",
     "text": [
      "\u001b[32mThat's the right answer!  You are one gold star closer to collecting enough star fruit.You have completed Day 15! You can [Shareon\n",
      "  Twitter\n",
      "Mastodon] this victory or [Return to Your Advent Calendar].\u001b[0m\n"
     ]
    }
   ],
   "source": [
    "puzzle.answer_b = answer_b"
   ]
  },
  {
   "cell_type": "code",
   "execution_count": null,
   "metadata": {},
   "outputs": [],
   "source": [
    "def all_possible_point_with_line(sensors, start, end):\n",
    "    for si, sj in itertools.combinations(sensors, 2):\n",
    "        yield from si.outer_intersections_sensor(sj, start, end)"
   ]
  },
  {
   "cell_type": "code",
   "execution_count": 22,
   "metadata": {},
   "outputs": [],
   "source": [
    "def compute2(data, start=0, end=4000000):\n",
    "    sensors = parse_data2(data)\n",
    "    for point in all_possible_point_with_line(sensors, start, end):\n",
    "        for sensor in sensors:\n",
    "            if not sensor.point_possible(point):\n",
    "                break\n",
    "        else:\n",
    "            return point"
   ]
  },
  {
   "cell_type": "code",
   "execution_count": 23,
   "metadata": {},
   "outputs": [
    {
     "data": {
      "text/plain": [
       "Point(14, 11)"
      ]
     },
     "execution_count": 23,
     "metadata": {},
     "output_type": "execute_result"
    }
   ],
   "source": [
    "compute2(data_test, 0, 20)"
   ]
  },
  {
   "cell_type": "code",
   "execution_count": 24,
   "metadata": {},
   "outputs": [
    {
     "name": "stdout",
     "output_type": "stream",
     "text": [
      "10.5 ms ± 156 µs per loop (mean ± std. dev. of 7 runs, 100 loops each)\n"
     ]
    }
   ],
   "source": [
    "%%timeit\n",
    "res2 = compute2(data, 0, 4000000)"
   ]
  },
  {
   "cell_type": "code",
   "execution_count": 25,
   "metadata": {},
   "outputs": [],
   "source": [
    "res2 = compute2(data, 0, 4000000)\n",
    "answer_b_2 = res2.x*4000000 + res2.y"
   ]
  },
  {
   "cell_type": "code",
   "execution_count": 26,
   "metadata": {},
   "outputs": [
    {
     "data": {
      "text/plain": [
       "True"
      ]
     },
     "execution_count": 26,
     "metadata": {},
     "output_type": "execute_result"
    }
   ],
   "source": [
    "answer_b_2 == answer_b"
   ]
  },
  {
   "cell_type": "code",
   "execution_count": null,
   "metadata": {},
   "outputs": [],
   "source": []
  }
 ],
 "metadata": {
  "kernelspec": {
   "display_name": "Python 3 (ipykernel)",
   "language": "python",
   "name": "python3"
  },
  "language_info": {
   "codemirror_mode": {
    "name": "ipython",
    "version": 3
   },
   "file_extension": ".py",
   "mimetype": "text/x-python",
   "name": "python",
   "nbconvert_exporter": "python",
   "pygments_lexer": "ipython3",
   "version": "3.10.12"
  }
 },
 "nbformat": 4,
 "nbformat_minor": 4
}
