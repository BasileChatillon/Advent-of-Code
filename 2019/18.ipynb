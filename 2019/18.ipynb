{
 "cells": [
  {
   "cell_type": "code",
   "execution_count": null,
   "metadata": {},
   "outputs": [],
   "source": [
    "import numpy as np\n",
    "import copy\n",
    "np.set_printoptions(linewidth =np.inf,threshold=np.inf)\n",
    "import networkx as nx\n",
    "\n",
    "class FortBoyard:\n",
    "    def __init__(self):\n",
    "        self.canevas = {}\n",
    "        self.G = nx.Graph()\n",
    "\n",
    "    def _map(self):\n",
    "        min_x = min(self.canevas, key=lambda k: k[0])[0]\n",
    "        max_x = max(self.canevas, key=lambda k: k[0])[0]\n",
    "        min_y = min(self.canevas, key=lambda k: k[1])[1]\n",
    "        max_y = max(self.canevas, key=lambda k: k[1])[1]\n",
    "\n",
    "        offset = (abs(min_x), abs(min_y))\n",
    "        canevas = np.empty((max_x - min_x + 1, max_y - min_y + 1), dtype=str)\n",
    "\n",
    "        for index, char in self.canevas.items():\n",
    "            canevas[tuple([sum(x) for x in zip(offset, index)])] = char\n",
    "                 \n",
    "        print(canevas)\n",
    "    \n",
    "    def _get_file(self, file):\n",
    "        with open(file, \"r\") as f:\n",
    "            return f\n",
    "    \n",
    "    def parse_map(self, path):\n",
    "        with open(path, \"r\") as f:\n",
    "            i = 0\n",
    "            for line in f:\n",
    "                if line != \"\":\n",
    "                    for j, char in enumerate(line.strip()):\n",
    "                        self.canevas[(i, j)] = char\n",
    "                        if char.isalpha():\n",
    "                            if char.islower():\n",
    "                                self.G.add_node((i, j), t=\"K\")\n",
    "                            else:\n",
    "                                self.G.add_node((i, j), t=\"D\")\n",
    "                        else:\n",
    "                            self.G.add_node((i, j))\n",
    "                        \n",
    "                        if char != \"#\":\n",
    "                            if self.canevas.get((i-1, j), \"#\") != \"#\":\n",
    "                                self.G.add_edge((i-1, j), (i, j))\n",
    "                            if self.canevas.get((i, j-1), \"#\") != \"#\":\n",
    "                                self.G.add_edge((i, j-1), (i, j))\n",
    "                    i += 1\n",
    "\n",
    "                        \n",
    "                \n",
    "        \n",
    "    def part_1(self, path):\n",
    "        self.parse_map(path)\n",
    "        self._map()"
   ]
  },
  {
   "cell_type": "code",
   "execution_count": null,
   "metadata": {},
   "outputs": [],
   "source": [
    "fb = FortBoyard()\n"
   ]
  },
  {
   "cell_type": "code",
   "execution_count": null,
   "metadata": {},
   "outputs": [],
   "source": [
    "fb.part_1(\"/home/bchatillon/Documents/Advent-of-Code/2019/18_data_test3.txt\")"
   ]
  },
  {
   "cell_type": "code",
   "execution_count": null,
   "metadata": {},
   "outputs": [],
   "source": [
    "fb.G.nodes[(2, 1)]\n"
   ]
  }
 ],
 "metadata": {
  "language_info": {
   "name": "python",
   "pygments_lexer": "ipython3"
  }
 },
 "nbformat": 4,
 "nbformat_minor": 2
}
