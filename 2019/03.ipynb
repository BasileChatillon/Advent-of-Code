{
 "cells": [
  {
   "cell_type": "code",
   "execution_count": null,
   "metadata": {},
   "outputs": [],
   "source": [
    "import numpy as np\n",
    "from collections import defaultdict\n",
    "from operator import itemgetter"
   ]
  },
  {
   "cell_type": "code",
   "execution_count": null,
   "metadata": {},
   "outputs": [],
   "source": [
    "def read_file(file, sep=\",\"):\n",
    "    res = []\n",
    "    for line in file:\n",
    "        res.append(line.strip().split(sep))\n",
    "    \n",
    "    return res\n",
    "        "
   ]
  },
  {
   "cell_type": "code",
   "execution_count": null,
   "metadata": {},
   "outputs": [],
   "source": [
    "class Grid:\n",
    "    def __init__(self):\n",
    "        self.grid = defaultdict(dict)\n",
    "        self.intersections = set()\n",
    "        self.start = (0, 0)\n",
    "        self.cable_count = 0\n",
    "    \n",
    "    def add_wires(self, paths):\n",
    "        for path in paths:\n",
    "            self.add_wire(path)\n",
    "    \n",
    "    def add_wire(self, path):\n",
    "        last = self.start\n",
    "        step = 1\n",
    "        for elem in path:\n",
    "            for i in range(int(elem[1:])):\n",
    "                if elem[0] == 'R':\n",
    "                    last = last[0] + 1, last[1]\n",
    "                if elem[0] == 'L':\n",
    "                    last = last[0] - 1, last[1]\n",
    "                if elem[0] == 'U':\n",
    "                    last = last[0], last[1] + 1\n",
    "                if elem[0] == 'D':\n",
    "                    last = last[0], last[1] - 1\n",
    "                self._add_elem(last, self.cable_count, step)\n",
    "                step += 1\n",
    "                \n",
    "        self.cable_count += 1\n",
    "        \n",
    "    def _add_elem(self, elem, cable, step):\n",
    "        if elem in self.grid and cable not in self.grid[elem]:\n",
    "            self.intersections.add(elem)\n",
    "        \n",
    "        self.grid[elem][cable] = step\n",
    "\n",
    "    def _manathan_distance(self, t):\n",
    "        return sum([abs(b-a) for a, b in zip(self.start, t)])\n",
    "    \n",
    "    def closest_intersection(self):\n",
    "        return min(map(self._manathan_distance, self.intersections))   \n",
    "    \n",
    "    def most_optimized_intesection(self):\n",
    "        intersections = filter(lambda value: len(value) > 1, self.grid.values())\n",
    "        return min(map(lambda intersection: sum(intersection.values()), intersections))"
   ]
  },
  {
   "cell_type": "code",
   "execution_count": null,
   "metadata": {},
   "outputs": [],
   "source": [
    "grid_test1 = Grid()\n",
    "with open(\"/home/bchatillon/Documents/Advent-of-Code/2019/03_data_test1.txt\", \"r\") as f:\n",
    "    test_paths = read_file(f)\n",
    "grid_test1.add_wires(test_paths)\n",
    "print(grid_test1.closest_intersection())\n",
    "print(grid_test1.most_optimized_intesection())"
   ]
  },
  {
   "cell_type": "code",
   "execution_count": null,
   "metadata": {},
   "outputs": [],
   "source": [
    "grid_test2 = Grid()\n",
    "with open(\"/home/bchatillon/Documents/Advent-of-Code/2019/03_data_test2.txt\", \"r\") as f:\n",
    "    test_paths = read_file(f)\n",
    "grid_test2.add_wires(test_paths)\n",
    "print(grid_test2.closest_intersection())\n",
    "print(grid_test2.most_optimized_intesection())"
   ]
  },
  {
   "cell_type": "code",
   "execution_count": null,
   "metadata": {},
   "outputs": [],
   "source": [
    "grid_test = Grid()\n",
    "test_path = [[\"R8\",\"U5\",\"L5\",\"D3\", \"R0\"], [\"U7\",\"R6\",\"D4\",\"L4\"]]\n",
    "grid_test.add_wires(test_path)\n",
    "grid_test.closest_intersection()"
   ]
  },
  {
   "cell_type": "code",
   "execution_count": null,
   "metadata": {},
   "outputs": [],
   "source": [
    "import numpy as np\n",
    "paths = np.loadtxt(\"/home/bchatillon/Documents/Advent-of-Code/2019/03_data.txt\", delimiter=\",\", dtype=str).tolist()"
   ]
  },
  {
   "cell_type": "code",
   "execution_count": null,
   "metadata": {},
   "outputs": [],
   "source": [
    "grid = Grid()\n",
    "paths = np.loadtxt(\"/home/bchatillon/Documents/Advent-of-Code/2019/03_data.txt\", delimiter=\",\", dtype=str).tolist()\n",
    "grid.add_wires(paths)"
   ]
  },
  {
   "cell_type": "code",
   "execution_count": null,
   "metadata": {},
   "outputs": [],
   "source": [
    "grid.closest_intersection()"
   ]
  },
  {
   "cell_type": "code",
   "execution_count": null,
   "metadata": {},
   "outputs": [],
   "source": [
    "grid.most_optimized_intesection()"
   ]
  },
  {
   "cell_type": "code",
   "execution_count": null,
   "metadata": {},
   "outputs": [],
   "source": [
    "\" \".strip()"
   ]
  }
 ],
 "metadata": {
  "language_info": {
   "name": "python",
   "pygments_lexer": "ipython3"
  }
 },
 "nbformat": 4,
 "nbformat_minor": 2
}
