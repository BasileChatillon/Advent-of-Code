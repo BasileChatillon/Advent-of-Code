{
 "cells": [
  {
   "cell_type": "code",
   "execution_count": null,
   "metadata": {},
   "outputs": [],
   "source": [
    "from collections import Counter"
   ]
  },
  {
   "cell_type": "code",
   "execution_count": null,
   "metadata": {},
   "outputs": [],
   "source": [
    "def check_multiple_number(code):\n",
    "    return len(set(map(int, str(code)))) <= 5"
   ]
  },
  {
   "cell_type": "code",
   "execution_count": null,
   "metadata": {},
   "outputs": [],
   "source": [
    "def check_number_increase(code):\n",
    "    every_number = list(map(int, str(code)))\n",
    "    return not any(x > y for x, y in zip(every_number, every_number[1:]))\n"
   ]
  },
  {
   "cell_type": "code",
   "execution_count": null,
   "metadata": {},
   "outputs": [],
   "source": [
    "def check_at_least_one_double(code):\n",
    "    every_number = list(map(int, str(code)))\n",
    "    counter = Counter(every_number)\n",
    "    return any(nb_instance == 2 for nb_instance in counter.values())"
   ]
  },
  {
   "cell_type": "code",
   "execution_count": null,
   "metadata": {},
   "outputs": [],
   "source": [
    "check_at_least_one_double(1111122)"
   ]
  },
  {
   "cell_type": "code",
   "execution_count": null,
   "metadata": {},
   "outputs": [],
   "source": [
    "sol = []\n",
    "start = 271973\n",
    "end = 785961\n",
    "\n",
    "for code in range(start + 1, end):\n",
    "    if check_multiple_number(code) and check_number_increase(code) and check_at_least_one_double(code):\n",
    "        sol.append(code)\n",
    "\n",
    "print(len(sol))"
   ]
  }
 ],
 "metadata": {
  "language_info": {
   "name": "python",
   "pygments_lexer": "ipython3"
  }
 },
 "nbformat": 4,
 "nbformat_minor": 2
}
