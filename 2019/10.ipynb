{
 "cells": [
  {
   "cell_type": "code",
   "execution_count": null,
   "metadata": {},
   "outputs": [],
   "source": [
    "import numpy as np\n",
    "import math\n",
    "import copy\n",
    "from pprint import pprint\n",
    "from collections import defaultdict"
   ]
  },
  {
   "cell_type": "code",
   "execution_count": null,
   "metadata": {},
   "outputs": [],
   "source": [
    "class MonitoringStation:\n",
    "    def __init__(self):\n",
    "        self.x = 0  # distance from left edge\n",
    "        self.y = 0  # distance from top edge\n",
    "        self.map = None\n",
    "    \n",
    "    def open_file(self, path_file):\n",
    "        self.map = []\n",
    "        with open(path_file, \"r\") as f:\n",
    "            for line in f:\n",
    "                self.map.append(list(line.strip()))\n",
    "    \n",
    "    @property\n",
    "    def value_map(self):\n",
    "        value_map = copy.deepcopy(self.map)\n",
    "        for key, val in self.compute_value_map().items():\n",
    "            value_map[key[0]][key[1]] = str(len(val))\n",
    "        \n",
    "        pprint(value_map)\n",
    "    \n",
    "    def get_coord(self):\n",
    "        coord_x, coord_y = np.where(np.asarray(self.map) == '#')\n",
    "        return list(zip(coord_x, coord_y))\n",
    "    \n",
    "    @staticmethod\n",
    "    def vec(ast1, ast2):\n",
    "        return (ast2[0] - ast1[0], ast2[1] - ast1[1])\n",
    "    \n",
    "    @staticmethod\n",
    "    def unit_vector(vector):\n",
    "            return vector / np.linalg.norm(vector)\n",
    "    \n",
    "    def angle(self, v1, v2):\n",
    "        v1_u = self.unit_vector(v1)\n",
    "        v2_u = self.unit_vector(v2)\n",
    "        return np.arccos(np.clip(np.dot(v1_u, v2_u), -1.0, 1.0))\n",
    "    \n",
    "    def compute_value_map(self):\n",
    "        asteroid_map = self.get_coord()\n",
    "        asteroid_mapping = defaultdict(set)\n",
    "        \n",
    "        for ast_base in asteroid_map:\n",
    "            for ast_new in asteroid_map:\n",
    "                if ast_base != ast_new:\n",
    "                    v = tuple(np.round(self.unit_vector(self.vec(ast_base, ast_new)), decimals=10))\n",
    "                    asteroid_mapping[ast_base].add(v)\n",
    "\n",
    "        return asteroid_mapping\n",
    "    \n",
    "    def part_1(self):\n",
    "        d = self.compute_value_map()\n",
    "        key = max(d, key=lambda k: len(d[k]))\n",
    "        return key, len(d[key])\n",
    "    \n",
    "    def part_2(self, ast_base):\n",
    "        v_up = self.vec(ast_base, (19, 31))\n",
    "        \n",
    "        asteroid_map = self.get_coord()\n",
    "        asteroid_mapping = defaultdict(list)\n",
    "        \n",
    "        for ast in asteroid_map:\n",
    "            if ast != ast_base:\n",
    "                v_ast = self.vec(ast_base, ast)\n",
    "                angle = self.angle(v_up, v_ast)\n",
    "                if ast_base[1] > ast[1]:\n",
    "                    angle = 2*math.pi - angle\n",
    "                asteroid_mapping[angle].append(ast)\n",
    "            \n",
    "        for l in asteroid_mapping.values():\n",
    "            l.sort(key=lambda ast: np.linalg.norm(self.vec(ast_base, ast)))\n",
    "                \n",
    "        nb_boom = 0\n",
    "        while(nb_boom < 200):\n",
    "            for angle in sorted(asteroid_mapping.keys()):\n",
    "                if asteroid_mapping[angle]:\n",
    "                    ast = asteroid_mapping[angle].pop(0)\n",
    "                    nb_boom +=1\n",
    "                    if nb_boom == 200:\n",
    "                        return ast\n",
    "            else:\n",
    "                if all(val == [] for val in asteroid_mapping.values()):\n",
    "                    break\n",
    "                \n"
   ]
  },
  {
   "cell_type": "code",
   "execution_count": null,
   "metadata": {},
   "outputs": [],
   "source": [
    "ms = MonitoringStation()\n",
    "ms.open_file(\"/home/bchatillon/Documents/Advent-of-Code/2019/10_data.txt\")"
   ]
  },
  {
   "cell_type": "code",
   "execution_count": null,
   "metadata": {},
   "outputs": [],
   "source": [
    "ms.map"
   ]
  },
  {
   "cell_type": "code",
   "execution_count": null,
   "metadata": {},
   "outputs": [],
   "source": [
    "ms.value_map"
   ]
  },
  {
   "cell_type": "code",
   "execution_count": null,
   "metadata": {},
   "outputs": [],
   "source": [
    "ast_base, dist = ms.part_1()\n",
    "dist"
   ]
  },
  {
   "cell_type": "code",
   "execution_count": null,
   "metadata": {},
   "outputs": [],
   "source": [
    "y, x = ms.part_2(ast_base)\n",
    "print((x*100 + y))"
   ]
  }
 ],
 "metadata": {
  "language_info": {
   "name": "python",
   "pygments_lexer": "ipython3"
  }
 },
 "nbformat": 4,
 "nbformat_minor": 2
}
