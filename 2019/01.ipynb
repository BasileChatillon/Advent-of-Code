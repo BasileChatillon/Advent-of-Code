{
 "cells": [
  {
   "cell_type": "code",
   "execution_count": null,
   "metadata": {},
   "outputs": [],
   "source": [
    "import math \n",
    "def cons_fuel(mass):\n",
    "    return math.floor(mass/3)-2"
   ]
  },
  {
   "cell_type": "code",
   "execution_count": null,
   "metadata": {},
   "outputs": [],
   "source": [
    "cons_fuel(100756)"
   ]
  },
  {
   "cell_type": "code",
   "execution_count": null,
   "metadata": {},
   "outputs": [],
   "source": [
    "data = []\n",
    "with open(\"C:\\\\Users\\\\basilechatillon\\\\Documents\\\\Untitled Folder\\\\01_data.txt\") as f:\n",
    "    for line in f:\n",
    "        data.append(int(line))"
   ]
  },
  {
   "cell_type": "code",
   "execution_count": null,
   "metadata": {},
   "outputs": [],
   "source": [
    "data"
   ]
  },
  {
   "cell_type": "code",
   "execution_count": null,
   "metadata": {},
   "outputs": [],
   "source": [
    "sum(map(cons_fuel, data))"
   ]
  },
  {
   "cell_type": "code",
   "execution_count": null,
   "metadata": {},
   "outputs": [],
   "source": [
    "import math \n",
    "\n",
    "def recursive_conso_fuel(mass):\n",
    "    def conso_fuel(mass):\n",
    "        return math.floor(mass/3)-2\n",
    "    \n",
    "    fuel = conso_fuel(mass)\n",
    "    \n",
    "    if fuel <=0:\n",
    "        return 0\n",
    "    else:\n",
    "        return fuel + recursive_conso_fuel(fuel)        \n"
   ]
  },
  {
   "cell_type": "code",
   "execution_count": null,
   "metadata": {},
   "outputs": [],
   "source": [
    " a = recursive_conso_fuel(100756)"
   ]
  },
  {
   "cell_type": "code",
   "execution_count": null,
   "metadata": {},
   "outputs": [],
   "source": [
    "a"
   ]
  },
  {
   "cell_type": "code",
   "execution_count": null,
   "metadata": {},
   "outputs": [],
   "source": [
    "sum(map(recursive_conso_fuel, data))"
   ]
  }
 ],
 "metadata": {
  "language_info": {
   "name": "python",
   "pygments_lexer": "ipython3"
  }
 },
 "nbformat": 4,
 "nbformat_minor": 2
}
