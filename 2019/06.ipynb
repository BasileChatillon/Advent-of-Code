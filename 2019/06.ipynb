{
 "cells": [
  {
   "cell_type": "code",
   "execution_count": null,
   "metadata": {},
   "outputs": [],
   "source": [
    "class TreeGraph:\n",
    "    def __init__(self):\n",
    "        self.edges = {}  # something (oribit - key) orbit around something (center - value)\n",
    "    \n",
    "    def _add_edge(self, orbit, center):\n",
    "        self.edges[orbit] = center\n",
    "    \n",
    "    def parse_code(self, code):\n",
    "        self.parse_codes([code])\n",
    "    \n",
    "    def parse_codes(self, codes):\n",
    "        for code in codes:\n",
    "            elem = code.split(\")\")\n",
    "            self._add_edge(elem[-1], elem[0])\n",
    "    \n",
    "    def get_jump_between_orbits(self, orbit1, orbit2):\n",
    "        diff = set(self._get_orbit_list(orbit1)) ^ set(self._get_orbit_list(orbit2))\n",
    "        \n",
    "        return max(len(diff) - 2, 0)\n",
    "    \n",
    "    def _get_orbit_list(self, orbit, stop=None):\n",
    "        \"\"\"recursive function to get the number of indirect and direct orbit of something (orbit)\"\"\"\n",
    "        if orbit not in self.edges or orbit == stop:\n",
    "            return [orbit]\n",
    "        else:\n",
    "            orbits = self._get_orbit_list(self.edges[orbit], stop)\n",
    "            orbits.append(orbit)\n",
    "            return orbits\n",
    "        \n",
    "    def get_nb_orbits(self, orbit, stop=None):\n",
    "        return len(self._get_orbit_list(orbit, stop)) - 1\n",
    "    \n",
    "    def get_all_level(self):\n",
    "        return sum(self.get_nb_orbits(orbit) for orbit in self.edges)"
   ]
  },
  {
   "cell_type": "code",
   "execution_count": null,
   "metadata": {},
   "outputs": [],
   "source": [
    "test_tg = TreeGraph()\n",
    "test_data = [\"COM)B\", \"B)C\", \"C)D\", \"D)E\", \"E)F\", \"B)G\", \"G)H\", \"D)I\", \"E)J\", \"J)K\", \"K)L\"]\n",
    "test_tg.parse_codes(test_data)\n",
    "test_tg.get_all_level()"
   ]
  },
  {
   "cell_type": "code",
   "execution_count": null,
   "metadata": {},
   "outputs": [],
   "source": [
    "test_tg = TreeGraph()\n",
    "test_data = [\"COM)B\", \"B)C\", \"C)D\", \"D)E\", \"E)F\", \"B)G\", \"G)H\", \"D)I\", \"E)J\", \"J)K\", \"K)L\", \"K)YOU\", \"I)SAN\"]\n",
    "test_tg.parse_codes(test_data)\n",
    "test_tg.get_jump_between_orbits(\"YOU\", \"SAN\")"
   ]
  },
  {
   "cell_type": "code",
   "execution_count": null,
   "metadata": {},
   "outputs": [],
   "source": [
    "data = []\n",
    "with open(\"/home/bchatillon/Documents/Advent-of-Code/2019/06_data.txt\", \"r\") as data_file:\n",
    "    for line in data_file:\n",
    "        line = line.strip()\n",
    "        if line != '':\n",
    "            data.append(line)\n",
    "\n",
    "tg = TreeGraph()\n",
    "tg.parse_codes(data)"
   ]
  },
  {
   "cell_type": "code",
   "execution_count": null,
   "metadata": {},
   "outputs": [],
   "source": [
    "tg.get_all_level()"
   ]
  },
  {
   "cell_type": "code",
   "execution_count": null,
   "metadata": {},
   "outputs": [],
   "source": [
    "tg.get_jump_between_orbits(\"YOU\", \"SAN\")"
   ]
  }
 ],
 "metadata": {
  "language_info": {
   "name": "python",
   "pygments_lexer": "ipython3"
  }
 },
 "nbformat": 4,
 "nbformat_minor": 2
}
