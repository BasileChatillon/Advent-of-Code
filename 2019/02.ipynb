{
 "cells": [
  {
   "cell_type": "code",
   "execution_count": 13,
   "metadata": {},
   "outputs": [],
   "source": [
    "import numpy as np"
   ]
  },
  {
   "cell_type": "code",
   "execution_count": 53,
   "metadata": {},
   "outputs": [],
   "source": [
    "seq = np.loadtxt(\"C:\\\\Users\\\\basilechatillon\\\\Documents\\\\Untitled Folder\\\\02_data.txt\", delimiter=\",\", dtype=int).tolist()"
   ]
  },
  {
   "cell_type": "code",
   "execution_count": 54,
   "metadata": {},
   "outputs": [
    {
     "data": {
      "text/plain": [
       "[1,\n",
       " 0,\n",
       " 0,\n",
       " 3,\n",
       " 1,\n",
       " 1,\n",
       " 2,\n",
       " 3,\n",
       " 1,\n",
       " 3,\n",
       " 4,\n",
       " 3,\n",
       " 1,\n",
       " 5,\n",
       " 0,\n",
       " 3,\n",
       " 2,\n",
       " 1,\n",
       " 6,\n",
       " 19,\n",
       " 1,\n",
       " 19,\n",
       " 5,\n",
       " 23,\n",
       " 2,\n",
       " 13,\n",
       " 23,\n",
       " 27,\n",
       " 1,\n",
       " 10,\n",
       " 27,\n",
       " 31,\n",
       " 2,\n",
       " 6,\n",
       " 31,\n",
       " 35,\n",
       " 1,\n",
       " 9,\n",
       " 35,\n",
       " 39,\n",
       " 2,\n",
       " 10,\n",
       " 39,\n",
       " 43,\n",
       " 1,\n",
       " 43,\n",
       " 9,\n",
       " 47,\n",
       " 1,\n",
       " 47,\n",
       " 9,\n",
       " 51,\n",
       " 2,\n",
       " 10,\n",
       " 51,\n",
       " 55,\n",
       " 1,\n",
       " 55,\n",
       " 9,\n",
       " 59,\n",
       " 1,\n",
       " 59,\n",
       " 5,\n",
       " 63,\n",
       " 1,\n",
       " 63,\n",
       " 6,\n",
       " 67,\n",
       " 2,\n",
       " 6,\n",
       " 67,\n",
       " 71,\n",
       " 2,\n",
       " 10,\n",
       " 71,\n",
       " 75,\n",
       " 1,\n",
       " 75,\n",
       " 5,\n",
       " 79,\n",
       " 1,\n",
       " 9,\n",
       " 79,\n",
       " 83,\n",
       " 2,\n",
       " 83,\n",
       " 10,\n",
       " 87,\n",
       " 1,\n",
       " 87,\n",
       " 6,\n",
       " 91,\n",
       " 1,\n",
       " 13,\n",
       " 91,\n",
       " 95,\n",
       " 2,\n",
       " 10,\n",
       " 95,\n",
       " 99,\n",
       " 1,\n",
       " 99,\n",
       " 6,\n",
       " 103,\n",
       " 2,\n",
       " 13,\n",
       " 103,\n",
       " 107,\n",
       " 1,\n",
       " 107,\n",
       " 2,\n",
       " 111,\n",
       " 1,\n",
       " 111,\n",
       " 9,\n",
       " 0,\n",
       " 99,\n",
       " 2,\n",
       " 14,\n",
       " 0,\n",
       " 0]"
      ]
     },
     "execution_count": 54,
     "metadata": {},
     "output_type": "execute_result"
    }
   ],
   "source": [
    "seq"
   ]
  },
  {
   "cell_type": "code",
   "execution_count": 55,
   "metadata": {},
   "outputs": [],
   "source": [
    "def f(seq):\n",
    "    seq = seq.copy()\n",
    "    go = True\n",
    "    index = 0\n",
    "    while(go):\n",
    "        val = seq[index]\n",
    "        if val in [1, 2]:\n",
    "            op1 = seq[seq[index+1]]\n",
    "            op2 = seq[seq[index+2]]\n",
    "            if val == 1:\n",
    "                res = op1+op2\n",
    "            else:\n",
    "                res = op1*op2\n",
    "                \n",
    "            seq[seq[index+3]] = res\n",
    "            \n",
    "        elif val == 99:\n",
    "            go = False\n",
    "            continue\n",
    "        else:\n",
    "            raise(\"valueError, should not happen\")\n",
    "        \n",
    "        index += 4\n",
    "    return seq[0]"
   ]
  },
  {
   "cell_type": "code",
   "execution_count": 56,
   "metadata": {},
   "outputs": [
    {
     "name": "stdout",
     "output_type": "stream",
     "text": [
      "3500\n",
      "[1, 9, 10, 3, 2, 3, 11, 0, 99, 30, 40, 50]\n"
     ]
    }
   ],
   "source": [
    "test = [1,9,10,3,2,3,11,0,99,30,40,50]\n",
    "print(f(test))\n",
    "print(test)"
   ]
  },
  {
   "cell_type": "code",
   "execution_count": 57,
   "metadata": {},
   "outputs": [
    {
     "data": {
      "text/plain": [
       "2692315"
      ]
     },
     "execution_count": 57,
     "metadata": {},
     "output_type": "execute_result"
    }
   ],
   "source": [
    "seq[1] = 12\n",
    "seq[2] = 2\n",
    "f(seq)"
   ]
  },
  {
   "cell_type": "code",
   "execution_count": 58,
   "metadata": {},
   "outputs": [],
   "source": [
    "def greedy_search(start, end):\n",
    "    for i in range(start, end):\n",
    "        for j in range(start, end):\n",
    "            seq[1] = i\n",
    "            seq[2] = j\n",
    "            if f(seq) == 19690720:\n",
    "               return i, j"
   ]
  },
  {
   "cell_type": "code",
   "execution_count": 51,
   "metadata": {},
   "outputs": [
    {
     "data": {
      "text/plain": [
       "(95, 7)"
      ]
     },
     "execution_count": 51,
     "metadata": {},
     "output_type": "execute_result"
    }
   ],
   "source": [
    "greedy_search(1, 100)"
   ]
  },
  {
   "cell_type": "code",
   "execution_count": 59,
   "metadata": {},
   "outputs": [],
   "source": [
    "def g(noun, verb):\n",
    "    return 100*noun + verb"
   ]
  },
  {
   "cell_type": "code",
   "execution_count": 60,
   "metadata": {},
   "outputs": [
    {
     "data": {
      "text/plain": [
       "9507"
      ]
     },
     "execution_count": 60,
     "metadata": {},
     "output_type": "execute_result"
    }
   ],
   "source": [
    "g(*greedy_search(1, 100))"
   ]
  },
  {
   "cell_type": "code",
   "execution_count": null,
   "metadata": {},
   "outputs": [],
   "source": []
  }
 ],
 "metadata": {
  "kernelspec": {
   "display_name": "Python 3",
   "language": "python",
   "name": "python3"
  },
  "language_info": {
   "codemirror_mode": {
    "name": "ipython",
    "version": 3
   },
   "file_extension": ".py",
   "mimetype": "text/x-python",
   "name": "python",
   "nbconvert_exporter": "python",
   "pygments_lexer": "ipython3",
   "version": "3.7.0"
  }
 },
 "nbformat": 4,
 "nbformat_minor": 2
}
