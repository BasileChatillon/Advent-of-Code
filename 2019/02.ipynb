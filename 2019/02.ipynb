{
 "cells": [
  {
   "cell_type": "code",
   "execution_count": null,
   "metadata": {},
   "outputs": [],
   "source": [
    "import numpy as np"
   ]
  },
  {
   "cell_type": "code",
   "execution_count": null,
   "metadata": {},
   "outputs": [],
   "source": [
    "seq = np.loadtxt(\"C:\\\\Users\\\\basilechatillon\\\\Documents\\\\Untitled Folder\\\\02_data.txt\", delimiter=\",\", dtype=int).tolist()"
   ]
  },
  {
   "cell_type": "code",
   "execution_count": null,
   "metadata": {},
   "outputs": [],
   "source": [
    "seq"
   ]
  },
  {
   "cell_type": "code",
   "execution_count": null,
   "metadata": {},
   "outputs": [],
   "source": [
    "def f(seq):\n",
    "    seq = seq.copy()\n",
    "    go = True\n",
    "    index = 0\n",
    "    while(go):\n",
    "        val = seq[index]\n",
    "        if val in [1, 2]:\n",
    "            op1 = seq[seq[index+1]]\n",
    "            op2 = seq[seq[index+2]]\n",
    "            if val == 1:\n",
    "                res = op1+op2\n",
    "            else:\n",
    "                res = op1*op2\n",
    "                \n",
    "            seq[seq[index+3]] = res\n",
    "            \n",
    "        elif val == 99:\n",
    "            go = False\n",
    "            continue\n",
    "        else:\n",
    "            raise(\"valueError, should not happen\")\n",
    "        \n",
    "        index += 4\n",
    "    return seq[0]"
   ]
  },
  {
   "cell_type": "code",
   "execution_count": null,
   "metadata": {},
   "outputs": [],
   "source": [
    "test = [1,9,10,3,2,3,11,0,99,30,40,50]\n",
    "print(f(test))\n",
    "print(test)"
   ]
  },
  {
   "cell_type": "code",
   "execution_count": null,
   "metadata": {},
   "outputs": [],
   "source": [
    "seq[1] = 12\n",
    "seq[2] = 2\n",
    "f(seq)"
   ]
  },
  {
   "cell_type": "code",
   "execution_count": null,
   "metadata": {},
   "outputs": [],
   "source": [
    "def greedy_search(start, end):\n",
    "    for i in range(start, end):\n",
    "        for j in range(start, end):\n",
    "            seq[1] = i\n",
    "            seq[2] = j\n",
    "            if f(seq) == 19690720:\n",
    "               return i, j"
   ]
  },
  {
   "cell_type": "code",
   "execution_count": null,
   "metadata": {},
   "outputs": [],
   "source": [
    "greedy_search(1, 100)"
   ]
  },
  {
   "cell_type": "code",
   "execution_count": null,
   "metadata": {},
   "outputs": [],
   "source": [
    "def g(noun, verb):\n",
    "    return 100*noun + verb"
   ]
  },
  {
   "cell_type": "code",
   "execution_count": null,
   "metadata": {},
   "outputs": [],
   "source": [
    "g(*greedy_search(1, 100))"
   ]
  }
 ],
 "metadata": {
  "language_info": {
   "name": "python",
   "pygments_lexer": "ipython3"
  }
 },
 "nbformat": 4,
 "nbformat_minor": 2
}
