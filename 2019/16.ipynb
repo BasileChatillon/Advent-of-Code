{
 "cells": [
  {
   "cell_type": "code",
   "execution_count": null,
   "metadata": {},
   "outputs": [],
   "source": [
    "import numpy as np\n",
    "import math\n",
    "\n",
    "class FFT:\n",
    "    def __init__(self, phase):\n",
    "        self.phase = self.nb_to_array(phase)\n",
    "        self.pattern = [0, 1, 0, -1]\n",
    "    \n",
    "    def iteration(self):\n",
    "        new_phase = []\n",
    "        for i in range(len(self.phase)):\n",
    "            pa = self.get_pattern(i)\n",
    "            resul = np.sum(np.multiply(pa, self.phase))\n",
    "            value = int(str(resul)[-1])\n",
    "            new_phase.append(value)\n",
    "        \n",
    "        self.phase = new_phase\n",
    "    \n",
    "    def get_pattern(self, offset):\n",
    "        base = np.repeat(self.pattern, offset + 1)\n",
    "        value = int(math.ceil((len(self.phase) + 1) / (len(self.pattern) *(offset + 1))))\n",
    "        \n",
    "        return np.tile(base, value)[1: len(self.phase) + 1]\n",
    "    \n",
    "    def part_1(self, iteration=100):\n",
    "        for i in range(iteration):\n",
    "            self.iteration()\n",
    "            \n",
    "        return self.phase[:8]\n",
    "    \n",
    "    \n",
    "    def part_2(self, iteration=100):\n",
    "        input_place = self.array_to_int(self.phase[:7])\n",
    "        print(input_place)\n",
    "        self.phase = np.tile(self.phase, 10000)\n",
    "        for i in range(iteration):\n",
    "            print(i)\n",
    "            self.iteration()\n",
    "            \n",
    "        return self.phase[input_place:input_place+8]\n",
    "    \n",
    "    @staticmethod\n",
    "    def array_to_int(array):\n",
    "        return int(\"\".join(map(str, array.copy())))\n",
    "    \n",
    "    @staticmethod\n",
    "    def rotate(array, index):\n",
    "        return array[index:] + array[:index]\n",
    "    \n",
    "    @staticmethod\n",
    "    def nb_to_array(number):\n",
    "        return list(map(int, str(number)))\n",
    "    \n",
    "        "
   ]
  },
  {
   "cell_type": "code",
   "execution_count": null,
   "metadata": {},
   "outputs": [],
   "source": [
    "fft = FFT(\"59701570675760924481468012067902478812377492613954566256863227624090726538076719031827110112218902371664052147572491882858008242937287936208269895771400070570886260309124375604950837194732536769939795802273457678297869571088110112173204448277260003249726055332223066278888042125728226850149451127485319630564652511440121971260468295567189053611247498748385879836383604705613231419155730182489686270150648290445732753180836698378460890488307204523285294726263982377557287840630275524509386476100231552157293345748976554661695889479304833182708265881051804444659263862174484931386853109358406272868928125418931982642538301207634051202072657901464169114\")"
   ]
  },
  {
   "cell_type": "code",
   "execution_count": null,
   "metadata": {},
   "outputs": [],
   "source": [
    "fft.part_2(100)"
   ]
  },
  {
   "cell_type": "code",
   "execution_count": null,
   "metadata": {},
   "outputs": [],
   "source": [
    "int(\"\".join(map(str, [6, 1, 1, 4, 9, 2, 0, 9])))"
   ]
  },
  {
   "cell_type": "code",
   "execution_count": null,
   "metadata": {},
   "outputs": [],
   "source": [
    "np.tile([0, 1, 2], 2)"
   ]
  }
 ],
 "metadata": {
  "language_info": {
   "name": "python",
   "pygments_lexer": "ipython3"
  }
 },
 "nbformat": 4,
 "nbformat_minor": 2
}
